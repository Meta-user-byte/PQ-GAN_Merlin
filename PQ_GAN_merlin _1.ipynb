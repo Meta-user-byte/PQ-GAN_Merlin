{
  "cells": [
    {
      "cell_type": "code",
      "execution_count": 5,
      "metadata": {
        "colab": {
          "base_uri": "https://localhost:8080/"
        },
        "collapsed": true,
        "id": "rh2Esi1qu_7W",
        "outputId": "e109b3db-fee7-416e-d93b-fb52d5cc6eb7"
      },
      "outputs": [
        {
          "name": "stdout",
          "output_type": "stream",
          "text": [
            "Requirement already satisfied: perceval-quandela in c:\\users\\asus\\appdata\\local\\packages\\pythonsoftwarefoundation.python.3.11_qbz5n2kfra8p0\\localcache\\local-packages\\python311\\site-packages (0.13.2)\n",
            "Requirement already satisfied: merlinquantum in c:\\users\\asus\\appdata\\local\\packages\\pythonsoftwarefoundation.python.3.11_qbz5n2kfra8p0\\localcache\\local-packages\\python311\\site-packages (0.1.2)\n",
            "Requirement already satisfied: sympy~=1.12 in c:\\users\\asus\\appdata\\local\\packages\\pythonsoftwarefoundation.python.3.11_qbz5n2kfra8p0\\localcache\\local-packages\\python311\\site-packages (from perceval-quandela) (1.14.0)\n",
            "Requirement already satisfied: numpy<3,>=1.26 in c:\\users\\asus\\appdata\\local\\packages\\pythonsoftwarefoundation.python.3.11_qbz5n2kfra8p0\\localcache\\local-packages\\python311\\site-packages (from perceval-quandela) (2.3.1)\n",
            "Requirement already satisfied: scipy~=1.13 in c:\\users\\asus\\appdata\\local\\packages\\pythonsoftwarefoundation.python.3.11_qbz5n2kfra8p0\\localcache\\local-packages\\python311\\site-packages (from perceval-quandela) (1.15.2)\n",
            "Requirement already satisfied: tabulate~=0.9 in c:\\users\\asus\\appdata\\local\\packages\\pythonsoftwarefoundation.python.3.11_qbz5n2kfra8p0\\localcache\\local-packages\\python311\\site-packages (from perceval-quandela) (0.9.0)\n",
            "Requirement already satisfied: matplotlib<4 in c:\\users\\asus\\appdata\\local\\packages\\pythonsoftwarefoundation.python.3.11_qbz5n2kfra8p0\\localcache\\local-packages\\python311\\site-packages (from perceval-quandela) (3.9.2)\n",
            "Requirement already satisfied: exqalibur~=0.7.1 in c:\\users\\asus\\appdata\\local\\packages\\pythonsoftwarefoundation.python.3.11_qbz5n2kfra8p0\\localcache\\local-packages\\python311\\site-packages (from perceval-quandela) (0.7.1)\n",
            "Requirement already satisfied: multipledispatch<2 in c:\\users\\asus\\appdata\\local\\packages\\pythonsoftwarefoundation.python.3.11_qbz5n2kfra8p0\\localcache\\local-packages\\python311\\site-packages (from perceval-quandela) (1.0.0)\n",
            "Requirement already satisfied: protobuf>=3.20.3 in c:\\users\\asus\\appdata\\local\\packages\\pythonsoftwarefoundation.python.3.11_qbz5n2kfra8p0\\localcache\\local-packages\\python311\\site-packages (from perceval-quandela) (4.25.6)\n",
            "Requirement already satisfied: drawsvg>=2.0 in c:\\users\\asus\\appdata\\local\\packages\\pythonsoftwarefoundation.python.3.11_qbz5n2kfra8p0\\localcache\\local-packages\\python311\\site-packages (from perceval-quandela) (2.4.0)\n",
            "Requirement already satisfied: requests<3 in c:\\users\\asus\\appdata\\local\\packages\\pythonsoftwarefoundation.python.3.11_qbz5n2kfra8p0\\localcache\\local-packages\\python311\\site-packages (from perceval-quandela) (2.32.3)\n",
            "Requirement already satisfied: networkx~=3.1 in c:\\users\\asus\\appdata\\local\\packages\\pythonsoftwarefoundation.python.3.11_qbz5n2kfra8p0\\localcache\\local-packages\\python311\\site-packages (from perceval-quandela) (3.4.2)\n",
            "Requirement already satisfied: latexcodec<4 in c:\\users\\asus\\appdata\\local\\packages\\pythonsoftwarefoundation.python.3.11_qbz5n2kfra8p0\\localcache\\local-packages\\python311\\site-packages (from perceval-quandela) (3.0.0)\n",
            "Requirement already satisfied: platformdirs<5 in c:\\users\\asus\\appdata\\local\\packages\\pythonsoftwarefoundation.python.3.11_qbz5n2kfra8p0\\localcache\\local-packages\\python311\\site-packages (from perceval-quandela) (4.3.6)\n",
            "Requirement already satisfied: tqdm in c:\\users\\asus\\appdata\\local\\packages\\pythonsoftwarefoundation.python.3.11_qbz5n2kfra8p0\\localcache\\local-packages\\python311\\site-packages (from perceval-quandela) (4.67.1)\n",
            "Requirement already satisfied: torch>=2.0.0 in c:\\users\\asus\\appdata\\local\\packages\\pythonsoftwarefoundation.python.3.11_qbz5n2kfra8p0\\localcache\\local-packages\\python311\\site-packages (from merlinquantum) (2.7.1)\n",
            "Requirement already satisfied: pandas in c:\\users\\asus\\appdata\\local\\packages\\pythonsoftwarefoundation.python.3.11_qbz5n2kfra8p0\\localcache\\local-packages\\python311\\site-packages (from merlinquantum) (2.2.3)\n",
            "Requirement already satisfied: contourpy>=1.0.1 in c:\\users\\asus\\appdata\\local\\packages\\pythonsoftwarefoundation.python.3.11_qbz5n2kfra8p0\\localcache\\local-packages\\python311\\site-packages (from matplotlib<4->perceval-quandela) (1.3.0)\n",
            "Requirement already satisfied: cycler>=0.10 in c:\\users\\asus\\appdata\\local\\packages\\pythonsoftwarefoundation.python.3.11_qbz5n2kfra8p0\\localcache\\local-packages\\python311\\site-packages (from matplotlib<4->perceval-quandela) (0.12.1)\n",
            "Requirement already satisfied: fonttools>=4.22.0 in c:\\users\\asus\\appdata\\local\\packages\\pythonsoftwarefoundation.python.3.11_qbz5n2kfra8p0\\localcache\\local-packages\\python311\\site-packages (from matplotlib<4->perceval-quandela) (4.53.1)\n",
            "Requirement already satisfied: kiwisolver>=1.3.1 in c:\\users\\asus\\appdata\\local\\packages\\pythonsoftwarefoundation.python.3.11_qbz5n2kfra8p0\\localcache\\local-packages\\python311\\site-packages (from matplotlib<4->perceval-quandela) (1.4.7)\n",
            "Requirement already satisfied: packaging>=20.0 in c:\\users\\asus\\appdata\\local\\packages\\pythonsoftwarefoundation.python.3.11_qbz5n2kfra8p0\\localcache\\local-packages\\python311\\site-packages (from matplotlib<4->perceval-quandela) (24.2)\n",
            "Requirement already satisfied: pillow>=8 in c:\\users\\asus\\appdata\\local\\packages\\pythonsoftwarefoundation.python.3.11_qbz5n2kfra8p0\\localcache\\local-packages\\python311\\site-packages (from matplotlib<4->perceval-quandela) (10.4.0)\n",
            "Requirement already satisfied: pyparsing>=2.3.1 in c:\\users\\asus\\appdata\\local\\packages\\pythonsoftwarefoundation.python.3.11_qbz5n2kfra8p0\\localcache\\local-packages\\python311\\site-packages (from matplotlib<4->perceval-quandela) (3.1.4)\n",
            "Requirement already satisfied: python-dateutil>=2.7 in c:\\users\\asus\\appdata\\local\\packages\\pythonsoftwarefoundation.python.3.11_qbz5n2kfra8p0\\localcache\\local-packages\\python311\\site-packages (from matplotlib<4->perceval-quandela) (2.9.0.post0)\n",
            "Requirement already satisfied: charset-normalizer<4,>=2 in c:\\users\\asus\\appdata\\local\\packages\\pythonsoftwarefoundation.python.3.11_qbz5n2kfra8p0\\localcache\\local-packages\\python311\\site-packages (from requests<3->perceval-quandela) (3.4.1)\n",
            "Requirement already satisfied: idna<4,>=2.5 in c:\\users\\asus\\appdata\\local\\packages\\pythonsoftwarefoundation.python.3.11_qbz5n2kfra8p0\\localcache\\local-packages\\python311\\site-packages (from requests<3->perceval-quandela) (3.10)\n",
            "Requirement already satisfied: urllib3<3,>=1.21.1 in c:\\users\\asus\\appdata\\local\\packages\\pythonsoftwarefoundation.python.3.11_qbz5n2kfra8p0\\localcache\\local-packages\\python311\\site-packages (from requests<3->perceval-quandela) (2.3.0)\n",
            "Requirement already satisfied: certifi>=2017.4.17 in c:\\users\\asus\\appdata\\local\\packages\\pythonsoftwarefoundation.python.3.11_qbz5n2kfra8p0\\localcache\\local-packages\\python311\\site-packages (from requests<3->perceval-quandela) (2025.1.31)\n",
            "Requirement already satisfied: mpmath<1.4,>=1.1.0 in c:\\users\\asus\\appdata\\local\\packages\\pythonsoftwarefoundation.python.3.11_qbz5n2kfra8p0\\localcache\\local-packages\\python311\\site-packages (from sympy~=1.12->perceval-quandela) (1.3.0)\n",
            "Requirement already satisfied: filelock in c:\\users\\asus\\appdata\\local\\packages\\pythonsoftwarefoundation.python.3.11_qbz5n2kfra8p0\\localcache\\local-packages\\python311\\site-packages (from torch>=2.0.0->merlinquantum) (3.18.0)\n",
            "Requirement already satisfied: typing-extensions>=4.10.0 in c:\\users\\asus\\appdata\\local\\packages\\pythonsoftwarefoundation.python.3.11_qbz5n2kfra8p0\\localcache\\local-packages\\python311\\site-packages (from torch>=2.0.0->merlinquantum) (4.13.1)\n",
            "Requirement already satisfied: jinja2 in c:\\users\\asus\\appdata\\local\\packages\\pythonsoftwarefoundation.python.3.11_qbz5n2kfra8p0\\localcache\\local-packages\\python311\\site-packages (from torch>=2.0.0->merlinquantum) (3.1.6)\n",
            "Requirement already satisfied: fsspec in c:\\users\\asus\\appdata\\local\\packages\\pythonsoftwarefoundation.python.3.11_qbz5n2kfra8p0\\localcache\\local-packages\\python311\\site-packages (from torch>=2.0.0->merlinquantum) (2025.3.0)\n",
            "Requirement already satisfied: pytz>=2020.1 in c:\\users\\asus\\appdata\\local\\packages\\pythonsoftwarefoundation.python.3.11_qbz5n2kfra8p0\\localcache\\local-packages\\python311\\site-packages (from pandas->merlinquantum) (2024.2)\n",
            "Requirement already satisfied: tzdata>=2022.7 in c:\\users\\asus\\appdata\\local\\packages\\pythonsoftwarefoundation.python.3.11_qbz5n2kfra8p0\\localcache\\local-packages\\python311\\site-packages (from pandas->merlinquantum) (2024.1)\n",
            "Requirement already satisfied: colorama in c:\\users\\asus\\appdata\\local\\packages\\pythonsoftwarefoundation.python.3.11_qbz5n2kfra8p0\\localcache\\local-packages\\python311\\site-packages (from tqdm->perceval-quandela) (0.4.6)\n",
            "Requirement already satisfied: six>=1.5 in c:\\users\\asus\\appdata\\local\\packages\\pythonsoftwarefoundation.python.3.11_qbz5n2kfra8p0\\localcache\\local-packages\\python311\\site-packages (from python-dateutil>=2.7->matplotlib<4->perceval-quandela) (1.17.0)\n",
            "Requirement already satisfied: MarkupSafe>=2.0 in c:\\users\\asus\\appdata\\local\\packages\\pythonsoftwarefoundation.python.3.11_qbz5n2kfra8p0\\localcache\\local-packages\\python311\\site-packages (from jinja2->torch>=2.0.0->merlinquantum) (3.0.2)\n"
          ]
        },
        {
          "name": "stderr",
          "output_type": "stream",
          "text": [
            "\n",
            "[notice] A new release of pip is available: 25.0.1 -> 25.2\n",
            "[notice] To update, run: C:\\Users\\Asus\\AppData\\Local\\Microsoft\\WindowsApps\\PythonSoftwareFoundation.Python.3.11_qbz5n2kfra8p0\\python.exe -m pip install --upgrade pip\n"
          ]
        }
      ],
      "source": [
        "!pip install perceval-quandela merlinquantum"
      ]
    },
    {
      "cell_type": "code",
      "execution_count": 6,
      "metadata": {
        "id": "gYmGLQJaYKUC"
      },
      "outputs": [],
      "source": [
        "import torch, torch.nn as nn\n",
        "import merlin as ML\n",
        "import shutil\n",
        "import json\n",
        "import os\n",
        "import sys\n",
        "import numpy as np\n",
        "import torch\n",
        "import torch.nn as nn\n",
        "import torch.nn.functional as F\n",
        "import torchvision.transforms as transforms\n",
        "from torch.utils.data import RandomSampler, DataLoader\n",
        "from tqdm import tqdm\n",
        "import perceval as pcvl\n",
        "import sys; sys.path.insert(0, '..')\n",
        "import pandas as pd\n",
        "from models.qgan import QGAN\n",
        "from helpers.digits import DigitsDataset\n",
        "#from torch.utils.data import Dataset\n",
        "from pathlib import Path\n",
        "import re\n",
        "import matplotlib.pyplot as plt\n",
        "from PIL import Image, ImageEnhance\n",
        "from helpers.pqc import ParametrizedQuantumCircuit\n",
        "import math"
      ]
    },
    {
      "cell_type": "code",
      "execution_count": 126,
      "metadata": {
        "id": "usqv_brnYO9a"
      },
      "outputs": [],
      "source": [
        "EPS = 1e-6\n",
        "\n",
        "class MerlinPatchGenerator(nn.Module):\n",
        "    def __init__(\n",
        "        self,\n",
        "        image_size,\n",
        "        gen_count,\n",
        "        gen_arch,\n",
        "        input_state,\n",
        "        noise_dim,\n",
        "        pnr,\n",
        "        lossy,\n",
        "        shots=3000,\n",
        "        use_clements=False,\n",
        "    ):\n",
        "        super().__init__()\n",
        "        self.image_size  = int(image_size)\n",
        "        self.gen_count   = int(gen_count)\n",
        "        self.noise_dim   = int(noise_dim)\n",
        "        assert (self.image_size * self.image_size) % self.gen_count == 0, \\\n",
        "            \"image_size^2 must be divisible by gen_count\"\n",
        "        self.pixels_per_patch = (self.image_size * self.image_size) // self.gen_count\n",
        "\n",
        "        # Perceval state\n",
        "        self.input_state = pcvl.BasicState(input_state) if not hasattr(input_state, \"m\") else input_state\n",
        "\n",
        "        # circuit template from pqc.py architecture\n",
        "        n_modes  = self.input_state.m if hasattr(self.input_state, \"m\") else len(self.input_state)\n",
        "        template = ParametrizedQuantumCircuit(n_modes, gen_arch, use_clements).circuit\n",
        "\n",
        "        # number of enc[...] params must equal noise_dim (per patch)\n",
        "        enc_params = [p for p in template.get_parameters() if \"enc\" in getattr(p, \"name\", \"\")]\n",
        "        if len(enc_params) != self.noise_dim:\n",
        "            raise ValueError(\n",
        "                f\"noise_dim ({self.noise_dim}) must equal number of enc[...] params in circuit ({len(enc_params)}).\"\n",
        "            )\n",
        "\n",
        "        # Merlin sampling\n",
        "        layer_shots = 0 if not lossy else shots\n",
        "\n",
        "        class _ClampQL(nn.Module):\n",
        "            #Clamp QuantumLayer inputs to (EPS, 1-EPS)\n",
        "            def __init__(self, ql):\n",
        "                super().__init__()\n",
        "                self.ql = ql\n",
        "            def forward(self, x):\n",
        "                x = torch.nan_to_num(x, nan=0.0, posinf=1.0, neginf=0.0)\n",
        "                x = torch.clamp(x, EPS, 1.0 - EPS)\n",
        "                return self.ql(x)\n",
        "\n",
        "        class _TrainableQL(nn.Module):\n",
        "            \n",
        "            #Trainable wrapper that *pushes the actual tensor* of angles into the quantum layer.\n",
        "            #Falls back to float mapping if the backend doesn't accept tensors (prints once).\n",
        "            \n",
        "            def __init__(self, circuit_template, input_state, noise_dim, shots, no_bunching):\n",
        "                super().__init__()\n",
        "                self.circuit = circuit_template.copy()\n",
        "                self.ql = ML.QuantumLayer(\n",
        "                    input_size=noise_dim,\n",
        "                    circuit=self.circuit,\n",
        "                    input_state=input_state,\n",
        "                    trainable_parameters=[\"phi\", \"psi\", \"theta\"],\n",
        "                    input_parameters=[\"enc\"],\n",
        "                    output_mapping_strategy=ML.OutputMappingStrategy.NONE,\n",
        "                    shots=shots,\n",
        "                    no_bunching=no_bunching,\n",
        "                )\n",
        "\n",
        "                # Collect trainable parameter names and initial values\n",
        "                names, vals = [], []\n",
        "                for p in self.circuit.get_parameters():\n",
        "                    pname = getattr(p, \"name\", \"\")\n",
        "                    if any(k in pname for k in (\"phi\", \"psi\", \"theta\")):\n",
        "                        names.append(pname)\n",
        "                        try:\n",
        "                            vals.append(float(getattr(p, \"value\", 0.0)))\n",
        "                        except Exception:\n",
        "                            vals.append(0.0)\n",
        "                if len(names) == 0:\n",
        "                    names = [\"theta_dummy\"]\n",
        "                    vals  = [0.0]\n",
        "\n",
        "                self.param_names = names\n",
        "                self.theta = nn.Parameter(torch.tensor(vals, dtype=torch.float32))\n",
        "\n",
        "                self.clamped_ql = _ClampQL(self.ql)\n",
        "                self._warned_detach = False\n",
        "\n",
        "            def _apply_params_tensor_first(self, theta_tensor: torch.Tensor):\n",
        "                \n",
        "                if hasattr(self.ql, \"set_params_tensor\"):\n",
        "                    self.ql.set_params_tensor(theta_tensor, names=self.param_names)\n",
        "                    return True\n",
        "                if hasattr(self.ql, \"set_parameter_tensors\"):\n",
        "                    self.ql.set_parameter_tensors({n: t for n, t in zip(self.param_names, theta_tensor)})\n",
        "                    return True\n",
        "                # Dict of tensors (some versions accept torch tensors in set_parameter_values)\n",
        "                try:\n",
        "                    self.ql.set_parameter_values({n: t for n, t in zip(self.param_names, theta_tensor)})\n",
        "                    return True\n",
        "                except Exception:\n",
        "                    pass\n",
        "                try:\n",
        "                    self.circuit.set_parameters({n: t for n, t in zip(self.param_names, theta_tensor)})\n",
        "                    return True\n",
        "                except Exception:\n",
        "                    pass\n",
        "                if hasattr(self.ql, \"ansatz\"):\n",
        "                    try:\n",
        "                        self.ql.ansatz.set_parameters({n: t for n, t in zip(self.param_names, theta_tensor)})\n",
        "                        return True\n",
        "                    except Exception:\n",
        "                        pass\n",
        "                return False\n",
        "\n",
        "            def _push(self):\n",
        "\n",
        "\n",
        "\n",
        "                \"\"\"\n",
        "                Push the trainable vector into the quantum layer.\n",
        "                Tries tensor path first; if unsupported, falls back to floats (no grad through circuit).\n",
        "                \"\"\"\n",
        "\n",
        "\n",
        "                theta = self.theta  # keep as tensor (no detach, no no_grad)\n",
        "                ok = self._apply_params_tensor_first(theta)\n",
        "                if ok:\n",
        "                    return\n",
        "                # Fallback: convert to float (non-differentiable through circuit params)\n",
        "                mapping_float = {n: float(v.item()) for n, v in zip(self.param_names, theta)}\n",
        "                pushed = False\n",
        "                for fn in (\"set_parameter_values\",):\n",
        "                    if hasattr(self.ql, fn):\n",
        "                        try:\n",
        "                            getattr(self.ql, fn)(mapping_float)\n",
        "                            pushed = True\n",
        "                            break\n",
        "                        except Exception:\n",
        "                            pass\n",
        "                if not pushed:\n",
        "                    try:\n",
        "                        self.circuit.set_parameters(mapping_float)\n",
        "                        pushed = True\n",
        "                    except Exception:\n",
        "                        pass\n",
        "                if not pushed and hasattr(self.ql, \"ansatz\"):\n",
        "                    try:\n",
        "                        self.ql.ansatz.set_parameters(mapping_float)\n",
        "                        pushed = True\n",
        "                    except Exception:\n",
        "                        pass\n",
        "                if pushed and not self._warned_detach:\n",
        "                    print(\"[Note] QuantumLayer did not accept tensors; fell back to float mapping. \"\n",
        "                          \"Autograd will NOT flow through circuit parameters.\")\n",
        "                    self._warned_detach = True\n",
        "\n",
        "            def forward(self, x):\n",
        "                self._push()\n",
        "                return self.clamped_ql(x)\n",
        "\n",
        "        self.layers = nn.ModuleList([\n",
        "            _TrainableQL(\n",
        "                circuit_template=template,\n",
        "                input_state=self.input_state,\n",
        "                noise_dim=self.noise_dim,\n",
        "                shots=layer_shots,\n",
        "                no_bunching=(not pnr),\n",
        "            )\n",
        "            for _ in range(self.gen_count)\n",
        "        ])\n",
        "\n",
        "        # One head per patch; LazyLinear autosizes to [q_out || latent]\n",
        "        self.heads = nn.ModuleList([\n",
        "            nn.Sequential(\n",
        "                nn.LazyLinear(2 * self.pixels_per_patch),\n",
        "                nn.GELU(),\n",
        "                nn.Linear(2 * self.pixels_per_patch, self.pixels_per_patch),\n",
        "            )\n",
        "            for _ in range(self.gen_count)\n",
        "        ])\n",
        "\n",
        "    def forward(self, z):\n",
        "        # sanitize & map latent into (0,1) strictly\n",
        "        if not torch.is_tensor(z):\n",
        "            z = torch.as_tensor(z)\n",
        "        z = torch.nan_to_num(z, nan=0.0, posinf=6.0, neginf=-6.0)\n",
        "        z01 = torch.sigmoid(z)                 # (0,1)\n",
        "        z01 = z01.mul_(1 - 2*EPS).add_(EPS)    # (EPS, 1-EPS)\n",
        "\n",
        "        B, L = z01.shape\n",
        "        expected = self.noise_dim * self.gen_count\n",
        "        if L != expected:\n",
        "            raise ValueError(\n",
        "                f\"latent dim {L} != noise_dim*gen_count ({expected}). \"\n",
        "                f\"Sample z with shape (B, {expected}).\"\n",
        "            )\n",
        "\n",
        "        # exact split into gen_count parts of size noise_dim\n",
        "        parts = z01.view(B, self.gen_count, self.noise_dim).unbind(dim=1)  # list[(B, noise_dim)]\n",
        "\n",
        "        patches = []\n",
        "        for layer, head, zi in zip(self.layers, self.heads, parts):\n",
        "            zi = torch.clamp(torch.nan_to_num(zi, nan=0.0, posinf=1.0, neginf=0.0), EPS, 1.0 - EPS)\n",
        "            q_out = layer(zi)                        # (B, q_dim)\n",
        "            h     = torch.cat([q_out, zi], dim=1)    # latent skip\n",
        "            patches.append(head(h))                  # (B, pixels_per_patch)\n",
        "\n",
        "        img_flat = torch.cat(patches, dim=1)        # (B, H*W)\n",
        "        x = torch.sigmoid(img_flat)                  # soft squash (0,1)\n",
        "\n",
        "        # Per-image min–max normalization (robust, avoids black/flat)\n",
        "        x_min = x.amin(dim=1, keepdim=True)\n",
        "        x_max = x.amax(dim=1, keepdim=True)\n",
        "        span  = (x_max - x_min)\n",
        "\n",
        "        x_norm = (x - x_min) / span.clamp_min(EPS)\n",
        "\n",
        "        tol = 1e-3\n",
        "        is_flat = (span < tol)\n",
        "        if is_flat.any():\n",
        "            x_center = x - x.mean(dim=1, keepdim=True)\n",
        "            std = x_center.std(dim=1, keepdim=True).clamp_min(EPS)\n",
        "            x_boost = (x_center / std) * 0.15 + 0.5\n",
        "            x_boost = x_boost.clamp(0.0, 1.0)\n",
        "            out = torch.where(is_flat, x_boost, x_norm)\n",
        "        else:\n",
        "            out = x_norm\n",
        "            out = out.clamp(0.0, 1.0)\n",
        "            out = 2.0*out - 1.0  # to (-1, 1)\n",
        "\n",
        "        return out\n",
        "\n",
        "    def generate(self, noise):\n",
        "        with torch.no_grad():\n",
        "            return self.forward(noise)"
      ]
    },
    {
      "cell_type": "code",
      "execution_count": 127,
      "metadata": {},
      "outputs": [],
      "source": [
        "class MerlinDiscriminator(nn.Module):\n",
        "    def __init__(self, image_size):\n",
        "        super().__init__()\n",
        "        self.net = nn.Sequential(\n",
        "            nn.Linear(64, 64), nn.LeakyReLU(0.2, inplace=True), nn.Dropout(0.1),\n",
        "            nn.Linear(64, 32), nn.LeakyReLU(0.2, inplace=True), nn.Dropout(0.1),\n",
        "            nn.Linear(32, 1) \n",
        "        )\n",
        "\n",
        "    def forward(self, x):\n",
        "        if x.dim() == 4:  # (B,1,8,8)\n",
        "            x = x.view(x.size(0), -1)\n",
        "        return self.net(x).view(-1)  # logits"
      ]
    },
    {
      "cell_type": "code",
      "execution_count": 128,
      "metadata": {
        "id": "iTrIzWd6c-fP"
      },
      "outputs": [],
      "source": [
        "class QGAN:\n",
        "    def __init__(self, image_size, gen_count, gen_arch, input_state, noise_dim, batch_size, pnr, lossy):\n",
        "        self.image_size = image_size\n",
        "        self.gen_count = gen_count\n",
        "        self.noise_dim = max(1, int(noise_dim))\n",
        "        self.latent_dim = self.noise_dim * max(1, int(gen_count))\n",
        "        self.batch_size = int(batch_size)\n",
        "\n",
        "        # Generator & Discriminator\n",
        "        self.G = MerlinPatchGenerator(\n",
        "            image_size=image_size,\n",
        "            gen_count=gen_count,\n",
        "            gen_arch=gen_arch,\n",
        "            input_state=pcvl.BasicState(input_state) if not hasattr(input_state, \"m\") else input_state,\n",
        "            noise_dim=noise_dim,\n",
        "            pnr=pnr,\n",
        "            lossy=lossy,\n",
        "            shots=3000,\n",
        "            use_clements=False,\n",
        "        )\n",
        "        self.D = MerlinDiscriminator(image_size=image_size)  # logits\n",
        "\n",
        "        # Opts (set during fit)\n",
        "        self.optG = None\n",
        "        self.optD = None\n",
        "\n",
        "        # Device\n",
        "        self.device = torch.device(\"cuda\" if torch.cuda.is_available() else \"cpu\")\n",
        "        self.G.to(self.device)\n",
        "        self.D.to(self.device)\n",
        "\n",
        "        # Warm-up once to initialize any Lazy* params BEFORE counting\n",
        "        with torch.no_grad():\n",
        "            _ = self.G(torch.zeros(1, self.latent_dim, device=self.device))\n",
        "            _ = self.D(torch.zeros(1, self.image_size * self.image_size, device=self.device))\n",
        "\n",
        "        # Safe parameter count\n",
        "        def _count_params(m):\n",
        "            total = 0\n",
        "            for p in m.parameters():\n",
        "                if not getattr(p, \"requires_grad\", False):\n",
        "                    continue\n",
        "                try:\n",
        "                    total += p.numel()\n",
        "                except Exception:\n",
        "                    continue\n",
        "            return total\n",
        "\n",
        "        print(f\"Generator trainable params: {_count_params(self.G)}\")\n",
        "        print(f\"Discriminator trainable params: {_count_params(self.D)}\")\n",
        "\n",
        "    # always return a non-empty trainable vector for logging\n",
        "    def _get_trainable_vector(self):\n",
        "        vecs = []\n",
        "        if hasattr(self.G, \"layers\"):\n",
        "            for layer in self.G.layers:\n",
        "                t = getattr(layer, \"theta\", None)\n",
        "                if isinstance(t, torch.Tensor):\n",
        "                    vecs.append(t.view(-1))\n",
        "        if vecs:\n",
        "            return torch.cat(vecs)\n",
        "\n",
        "        params = [p.view(-1) for p in self.G.parameters() if isinstance(p, torch.Tensor) and p.requires_grad]\n",
        "        if params:\n",
        "            return torch.cat(params)\n",
        "\n",
        "        return torch.zeros(1, device=self.device)\n",
        "\n",
        "    def fit(self, dataloader, lrD, opt_params, silent=False):\n",
        "\n",
        "        def _save_grid(batch_flat: torch.Tensor, step: int, outdir: str = \"samples\"):\n",
        "            N = batch_flat.shape[0]\n",
        "            H = W = self.image_size\n",
        "            imgs01 = ((batch_flat.clamp(-1, 1) + 1.0) / 2.0).detach().cpu().view(N, H, W).numpy()\n",
        "\n",
        "            ncols = min(8, N)\n",
        "            nrows = math.ceil(N / ncols)\n",
        "            fig, axes = plt.subplots(nrows, ncols, figsize=(ncols * 1.2, nrows * 1.2))\n",
        "            axes = np.atleast_1d(axes).ravel()\n",
        "            for i in range(nrows * ncols):\n",
        "                ax = axes[i]\n",
        "                ax.axis(\"off\")\n",
        "                if i < N:\n",
        "                    ax.imshow((imgs01[i] * 255).astype(np.uint8), cmap=\"gray\", vmin=0, vmax=255)\n",
        "            os.makedirs(outdir, exist_ok=True)\n",
        "            fig.savefig(os.path.join(outdir, f\"step_{step:04d}.png\"), dpi=150, bbox_inches=\"tight\", pad_inches=0)\n",
        "            plt.close(fig)\n",
        "\n",
        "        # Sanity: latent size must match\n",
        "        expected = self.noise_dim * self.gen_count\n",
        "        assert self.latent_dim == expected, f\"[Sanity] latent_dim mismatch: {self.latent_dim} vs {expected}\"\n",
        "\n",
        "        # TTUR tweak\n",
        "        self.optD = torch.optim.Adam(self.D.parameters(), lr=lrD * 0.08, betas=(0.5, 0.999))\n",
        "        self.optG = torch.optim.Adam(self.G.parameters(), lr=lrD * 1.00, betas=(0.5, 0.999))\n",
        "\n",
        "        # Make Merlin deterministic\n",
        "        try:\n",
        "            self.G.sample_count = 1\n",
        "            if hasattr(self.G, \"sampler\"):\n",
        "                self.G.sampler._iterator = []\n",
        "        except Exception:\n",
        "            pass\n",
        "\n",
        "        total_steps = int(opt_params.get(\"opt_iter_num\", 1500))\n",
        "        steps_done = 0\n",
        "\n",
        "        D_loss_progress, G_loss_progress, G_params_progress, fake_data_progress = [], [], [], []\n",
        "\n",
        "        pbar = dataloader if silent else tqdm(\n",
        "            dataloader, total=total_steps, desc=\"Merlin-QGAN training\", leave=False\n",
        "        )\n",
        "\n",
        "        last_loss_G, last_gen_for_log = None, None\n",
        "        grad_nonzero_steps = 0\n",
        "\n",
        "        # Fixed probe and fixed snapshot noise\n",
        "        z_probe = torch.randn(self.batch_size, self.latent_dim, device=self.device)\n",
        "        with torch.no_grad():\n",
        "            probe_out_prev = self.G(z_probe).detach()\n",
        "\n",
        "        # >>> FIXED LATENT NOISE VECTOR FOR SNAPSHOTS <<<\n",
        "        z_fixed = torch.randn(16, self.latent_dim, device=self.device)\n",
        "\n",
        "        first_logged = False\n",
        "        r1_gamma = 3e-3\n",
        "\n",
        "        for batch in pbar:\n",
        "            #Prepare real data\n",
        "            real_imgs = batch[0] if isinstance(batch, (list, tuple)) else batch\n",
        "            if real_imgs.dim() == 3:\n",
        "                real_imgs = real_imgs.unsqueeze(1)\n",
        "            real_imgs = real_imgs.to(self.device).float()\n",
        "\n",
        "            with torch.no_grad():\n",
        "                if real_imgs.max() > 1.0:\n",
        "                    real_imgs.div_(255.0)\n",
        "\n",
        "            real_flat = real_imgs.mul_(2.0).add_(-1.0)  # to (-1, 1)\n",
        "            real_flat = real_imgs.view(real_imgs.size(0), -1)\n",
        "            B = real_flat.size(0)\n",
        "\n",
        "            # Instance noise\n",
        "            real_noisy = real_flat + 0.05 * torch.randn_like(real_flat)\n",
        "\n",
        "            # Log initial D scores\n",
        "            if not first_logged:\n",
        "                with torch.no_grad():\n",
        "                    z0 = torch.randn(B, self.latent_dim, device=self.device)\n",
        "                    f0 = self.G(z0)\n",
        "                    d_real0 = self.D(real_flat).mean().item()\n",
        "                    d_fake0 = self.D(f0).mean().item()\n",
        "                    print(f\"[Sanity] D logits at start: real={d_real0:.3f}, fake={d_fake0:.3f}\")\n",
        "                first_logged = True\n",
        "\n",
        "            # === Train D ===\n",
        "            self.optD.zero_grad()\n",
        "            real_noisy.requires_grad_(True)\n",
        "            real_logits = self.D(real_noisy)\n",
        "            if real_logits.dim() == 1:\n",
        "                real_logits = real_logits.unsqueeze(1)\n",
        "\n",
        "            z = torch.randn(B, self.latent_dim, device=self.device)\n",
        "            fake_flat = self.G(z).detach()\n",
        "            if not torch.isfinite(fake_flat).all():\n",
        "                print(\"[Warning] Non-finite values in fake data; clamping.\")\n",
        "                fake_flat = torch.nan_to_num(fake_flat, nan=0.0, posinf=1.0, neginf=-1.0).clamp(-1.0, 1.0)\n",
        "\n",
        "            fake_logits = self.D(fake_flat)\n",
        "            if fake_logits.dim() == 1:\n",
        "                fake_logits = fake_logits.unsqueeze(1)\n",
        "\n",
        "            loss_D_main = F.softplus(-real_logits).mean() + F.softplus(fake_logits).mean()\n",
        "            grad_real = torch.autograd.grad(\n",
        "                outputs=real_logits.sum(), inputs=real_noisy,\n",
        "                create_graph=True, retain_graph=True, only_inputs=True\n",
        "            )[0]\n",
        "            r1_penalty = (grad_real.pow(2).sum(dim=1).mean()) * (r1_gamma * 0.5)\n",
        "\n",
        "            loss_D = loss_D_main + r1_penalty\n",
        "            loss_D.backward()\n",
        "            self.optD.step()\n",
        "\n",
        "            # === Train G ===\n",
        "            self.optG.zero_grad()\n",
        "            z = torch.randn(B, self.latent_dim, device=self.device)\n",
        "            gen_flat = self.G(z)\n",
        "\n",
        "            if not torch.isfinite(gen_flat).all():\n",
        "                print(\"[Sanity] Non-finite in generator output (G step); clamping.\")\n",
        "                gen_flat = torch.nan_to_num(gen_flat, nan=0.0, posinf=1.0, neginf=-1.0).clamp(-1.0, 1.0)\n",
        "\n",
        "            gen_logits = self.D(gen_flat)\n",
        "            if gen_logits.dim() == 1:\n",
        "                gen_logits = gen_logits.unsqueeze(1)\n",
        "\n",
        "            loss_G = F.softplus(-gen_logits).mean()\n",
        "            loss_G.backward()\n",
        "\n",
        "            nz = sum((p.grad.detach().abs().sum().item() if (p.requires_grad and p.grad is not None) else 0)\n",
        "                     for p in self.G.parameters())\n",
        "            if nz > 0:\n",
        "                grad_nonzero_steps += 1\n",
        "\n",
        "            torch.nn.utils.clip_grad_norm_(self.G.parameters(), 1.0)\n",
        "            self.optG.step()\n",
        "            last_loss_G = float(loss_G.detach().item())\n",
        "            last_gen_for_log = gen_flat.detach()\n",
        "\n",
        "            # Log probe drift\n",
        "            if (steps_done % 5) == 0:\n",
        "                with torch.no_grad():\n",
        "                    g_mean, g_std = last_gen_for_log.mean().item(), last_gen_for_log.std().item()\n",
        "                    probe_now = self.G(z_probe).detach()\n",
        "                    drift = (probe_now - probe_out_prev).pow(2).mean().sqrt().item()\n",
        "                print(f\"[Sanity] step {steps_done}: gen mean={g_mean:.4f}, std={g_std:.4f}, probe_RMSE={drift:.6f}\")\n",
        "                probe_out_prev = probe_now\n",
        "\n",
        "            # Logging\n",
        "            D_loss_progress.append(loss_D.item())\n",
        "            G_loss_progress.append(last_loss_G)\n",
        "            with torch.no_grad():\n",
        "                g_vec = self._get_trainable_vector().detach().float().cpu().numpy()\n",
        "            G_params_progress.append(g_vec)\n",
        "            fake_data_progress.append(last_gen_for_log.mean(0).detach().cpu().numpy())\n",
        "\n",
        "            \n",
        "            steps_done += 1\n",
        "            if steps_done % 300 == 0:\n",
        "                with torch.no_grad():\n",
        "                    self.G.eval()\n",
        "                    grid = self.G(z_fixed)\n",
        "                    _save_grid(grid, steps_done, outdir=\"samples\")\n",
        "                    self.G.train()\n",
        "\n",
        "            #if steps_done >= total_steps:\n",
        "                #break\n",
        "\n",
        "        print(f\"[Sanity] Steps with non-zero G gradients: {grad_nonzero_steps}/{steps_done}\")\n",
        "        return D_loss_progress, G_loss_progress, G_params_progress, np.vstack(fake_data_progress)\n"
      ]
    },
    {
      "cell_type": "code",
      "execution_count": 130,
      "metadata": {
        "id": "TwGXGkFUd4LG"
      },
      "outputs": [],
      "source": [
        "# definitions and constants\n",
        "image_size = 8\n",
        "batch_size = 4\n",
        "lossy = False\n",
        "write_to_disk = True\n",
        "\n",
        "# optimization params\n",
        "spsa_iter_num = 10500\n",
        "opt_iter_num = 1500\n",
        "lrD = 0.002\n",
        "opt_params = {\"spsa_iter_num\": spsa_iter_num, \"opt_iter_num\": opt_iter_num}\n",
        "\n",
        "# define desired run configurations (kept for parity; not used by Merlin QGAN)\n",
        "arch_grid_45modes = [\n",
        "    {\"noise_dim\": 1, \"arch\": [\"var\", \"enc[2]\", \"var\"]},\n",
        "    {\"noise_dim\": 1, \"arch\": [\"var\", \"var\", \"enc[2]\", \"var\", \"var\"]},\n",
        "    {\"noise_dim\": 2, \"arch\": [\"var\", \"enc[1]\", \"var\", \"enc[3]\", \"var\"]},\n",
        "    {\"noise_dim\": 2, \"arch\": [\"var\", \"var\", \"enc[1]\", \"var\", \"var\", \"enc[3]\", \"var\", \"var\"]},\n",
        "]\n",
        "\n",
        "input_grid_4modes = [\n",
        "    {\"input_state\": [1, 1, 1, 1], \"gen_count\": 2, \"pnr\": True},\n",
        "    {\"input_state\": [1, 1, 1, 1], \"gen_count\": 4, \"pnr\": False},\n",
        "    {\"input_state\": [1, 0, 1, 1], \"gen_count\": 4, \"pnr\": True},\n",
        "]\n",
        "\n",
        "arch_grid_5modes = [{\"noise_dim\": 3, \"arch\": [\"var\", \"enc[0]\", \"var\", \"enc[2]\", \"var\", \"enc[4]\", \"var\"]}]\n",
        "\n",
        "input_grid_5modes = [\n",
        "    {\"input_state\": [0, 1, 0, 1, 0], \"gen_count\": 4, \"pnr\": False},\n",
        "    {\"input_state\": [1, 0, 1, 0, 1], \"gen_count\": 2, \"pnr\": True},\n",
        "]\n",
        "\n",
        "arch_grid_8modes = [\n",
        "    {\"noise_dim\": 1, \"arch\": [\"var\", \"enc[4]\", \"var\"]},\n",
        "    {\"noise_dim\": 1, \"arch\": [\"var\", \"var\", \"enc[4]\", \"var\", \"var\"]},\n",
        "    {\"noise_dim\": 2, \"arch\": [\"var\", \"enc[2]\", \"var\", \"enc[5]\", \"var\"]},\n",
        "    {\"noise_dim\": 2, \"arch\": [\"var\", \"var\", \"enc[2]\", \"var\", \"var\", \"enc[5]\", \"var\", \"var\"]},\n",
        "    {\"noise_dim\": 3, \"arch\": [\"var\", \"enc[1]\", \"var\", \"enc[4]\", \"var\", \"enc[6]\", \"var\"]},\n",
        "    {\"noise_dim\": 4, \"arch\": [\"var\", \"enc[1]\", \"var\", \"enc[3]\", \"var\", \"enc[5]\", \"var\", \"enc[7]\", \"var\"]},\n",
        "]\n",
        "\n",
        "input_grid_8modes = [{\"input_state\": [0, 0, 1, 0, 0, 1, 0, 0], \"gen_count\": 2, \"pnr\": False}]\n",
        "\n",
        "config_grid = []\n",
        "for inp in input_grid_5modes:\n",
        "    for arch in (arch_grid_45modes + arch_grid_5modes):\n",
        "        config = inp.copy()\n",
        "        config.update(arch)\n",
        "        config_grid.append(config)\n",
        "\n",
        "for inp in input_grid_4modes:\n",
        "    for arch in arch_grid_45modes:\n",
        "        config = inp.copy()\n",
        "        config.update(arch)\n",
        "        config_grid.append(config)\n",
        "\n",
        "for inp in input_grid_8modes:\n",
        "    for arch in arch_grid_8modes:\n",
        "        config = inp.copy()\n",
        "        config.update(arch)\n",
        "        config_grid.append(config)\n",
        "\n",
        "\n",
        "        config_grid = config_grid[:3]\n",
        "\n",
        "# number of runs for each config combination\n",
        "runs = 1"
      ]
    },
    {
      "cell_type": "code",
      "execution_count": 131,
      "metadata": {
        "id": "IzywvKHld5OO"
      },
      "outputs": [],
      "source": [
        "csv_path = \"optdigits_csv (1).csv\"\n",
        "dataset = DigitsDataset(csv_file=csv_path)\n",
        "sampler = RandomSampler(dataset, replacement=True, num_samples=batch_size * opt_iter_num)\n",
        "dataloader = DataLoader(dataset, batch_size=batch_size, drop_last=True, sampler=sampler)"
      ]
    },
    {
      "cell_type": "code",
      "execution_count": 132,
      "metadata": {
        "colab": {
          "background_save": true,
          "base_uri": "https://localhost:8080/"
        },
        "id": "N6h3wDiheJ0Q",
        "outputId": "ffa650ca-d77d-429b-9184-5f74de725cdb"
      },
      "outputs": [
        {
          "name": "stderr",
          "output_type": "stream",
          "text": [
            "config:   0%|          | 0/3 [00:00<?, ?it/s]"
          ]
        },
        {
          "name": "stdout",
          "output_type": "stream",
          "text": [
            "Generator trainable params: 3856\n",
            "Discriminator trainable params: 6273\n"
          ]
        },
        {
          "name": "stderr",
          "output_type": "stream",
          "text": [
            "\n",
            "\u001b[A\n",
            "\n"
          ]
        },
        {
          "name": "stdout",
          "output_type": "stream",
          "text": [
            "[Sanity] D logits at start: real=-0.279, fake=-0.196\n",
            "[Sanity] step 0: gen mean=-0.0105, std=0.4161, probe_RMSE=0.036768\n"
          ]
        },
        {
          "name": "stderr",
          "output_type": "stream",
          "text": [
            "iter:   0%|          | 1/1500 [00:00<03:46,  6.63it/s]\u001b[A\u001b[A\n",
            "\u001b[A\n",
            "\u001b[A\n",
            "\u001b[A\n",
            "\u001b[A"
          ]
        },
        {
          "name": "stdout",
          "output_type": "stream",
          "text": [
            "[Sanity] step 5: gen mean=0.0100, std=0.4662, probe_RMSE=0.167702\n"
          ]
        },
        {
          "name": "stderr",
          "output_type": "stream",
          "text": [
            "\n",
            "\u001b[A\n",
            "\u001b[A"
          ]
        },
        {
          "name": "stdout",
          "output_type": "stream",
          "text": [
            "[Sanity] step 10: gen mean=-0.0130, std=0.5486, probe_RMSE=0.189089\n"
          ]
        },
        {
          "name": "stderr",
          "output_type": "stream",
          "text": [
            "\n",
            "\u001b[A\n",
            "\u001b[A\n",
            "\u001b[A"
          ]
        },
        {
          "name": "stdout",
          "output_type": "stream",
          "text": [
            "[Sanity] step 15: gen mean=-0.0734, std=0.6024, probe_RMSE=0.194211\n"
          ]
        },
        {
          "name": "stderr",
          "output_type": "stream",
          "text": [
            "\n",
            "\u001b[A\n",
            "\u001b[A"
          ]
        },
        {
          "name": "stdout",
          "output_type": "stream",
          "text": [
            "[Sanity] step 20: gen mean=-0.0955, std=0.6447, probe_RMSE=0.181061\n"
          ]
        },
        {
          "name": "stderr",
          "output_type": "stream",
          "text": [
            "\n",
            "\u001b[A\n",
            "\u001b[A\n",
            "\u001b[A"
          ]
        },
        {
          "name": "stdout",
          "output_type": "stream",
          "text": [
            "[Sanity] step 25: gen mean=-0.1557, std=0.6926, probe_RMSE=0.180070\n"
          ]
        },
        {
          "name": "stderr",
          "output_type": "stream",
          "text": [
            "\n",
            "\u001b[A\n",
            "\u001b[A"
          ]
        },
        {
          "name": "stdout",
          "output_type": "stream",
          "text": [
            "[Sanity] step 30: gen mean=-0.1100, std=0.6930, probe_RMSE=0.132902\n"
          ]
        },
        {
          "name": "stderr",
          "output_type": "stream",
          "text": [
            "\n",
            "\u001b[A\n",
            "\u001b[A\n",
            "\u001b[A"
          ]
        },
        {
          "name": "stdout",
          "output_type": "stream",
          "text": [
            "[Sanity] step 35: gen mean=-0.1277, std=0.7146, probe_RMSE=0.107867\n"
          ]
        },
        {
          "name": "stderr",
          "output_type": "stream",
          "text": [
            "\n",
            "\u001b[A\n",
            "\u001b[A"
          ]
        },
        {
          "name": "stdout",
          "output_type": "stream",
          "text": [
            "[Sanity] step 40: gen mean=-0.1256, std=0.7079, probe_RMSE=0.102911\n"
          ]
        },
        {
          "name": "stderr",
          "output_type": "stream",
          "text": [
            "\n",
            "\u001b[A\n",
            "\u001b[A\n",
            "\u001b[A"
          ]
        },
        {
          "name": "stdout",
          "output_type": "stream",
          "text": [
            "[Sanity] step 45: gen mean=-0.1523, std=0.7116, probe_RMSE=0.093563\n"
          ]
        },
        {
          "name": "stderr",
          "output_type": "stream",
          "text": [
            "\n",
            "\u001b[A\n",
            "\u001b[A"
          ]
        },
        {
          "name": "stdout",
          "output_type": "stream",
          "text": [
            "[Sanity] step 50: gen mean=-0.1875, std=0.7313, probe_RMSE=0.099052\n"
          ]
        },
        {
          "name": "stderr",
          "output_type": "stream",
          "text": [
            "\n",
            "\u001b[A\n",
            "\u001b[A\n",
            "\u001b[A"
          ]
        },
        {
          "name": "stdout",
          "output_type": "stream",
          "text": [
            "[Sanity] step 55: gen mean=-0.1682, std=0.7376, probe_RMSE=0.085551\n"
          ]
        },
        {
          "name": "stderr",
          "output_type": "stream",
          "text": [
            "\n",
            "\u001b[A\n",
            "\u001b[A\n",
            "\n"
          ]
        },
        {
          "name": "stdout",
          "output_type": "stream",
          "text": [
            "[Sanity] step 60: gen mean=-0.1938, std=0.7269, probe_RMSE=0.126619\n"
          ]
        },
        {
          "name": "stderr",
          "output_type": "stream",
          "text": [
            "iter:   4%|▍         | 65/1500 [00:03<01:19, 18.07it/s]\u001b[A\u001b[A\n",
            "\u001b[A\n",
            "\n"
          ]
        },
        {
          "name": "stdout",
          "output_type": "stream",
          "text": [
            "[Sanity] step 65: gen mean=-0.3241, std=0.6414, probe_RMSE=0.179135\n"
          ]
        },
        {
          "name": "stderr",
          "output_type": "stream",
          "text": [
            "iter:   5%|▍         | 70/1500 [00:04<01:17, 18.40it/s]\u001b[A\u001b[A\n",
            "\u001b[A\n",
            "\u001b[A"
          ]
        },
        {
          "name": "stdout",
          "output_type": "stream",
          "text": [
            "[Sanity] step 70: gen mean=-0.3822, std=0.5717, probe_RMSE=0.136683\n"
          ]
        },
        {
          "name": "stderr",
          "output_type": "stream",
          "text": [
            "\n",
            "\u001b[A\n",
            "\u001b[A"
          ]
        },
        {
          "name": "stdout",
          "output_type": "stream",
          "text": [
            "[Sanity] step 75: gen mean=-0.3803, std=0.5567, probe_RMSE=0.096377\n"
          ]
        },
        {
          "name": "stderr",
          "output_type": "stream",
          "text": [
            "\n",
            "\u001b[A\n",
            "\u001b[A\n",
            "\n"
          ]
        },
        {
          "name": "stdout",
          "output_type": "stream",
          "text": [
            "[Sanity] step 80: gen mean=-0.3547, std=0.5637, probe_RMSE=0.101779\n"
          ]
        },
        {
          "name": "stderr",
          "output_type": "stream",
          "text": [
            "iter:   6%|▌         | 85/1500 [00:04<01:14, 19.01it/s]\u001b[A\u001b[A\n",
            "\u001b[A\n",
            "\u001b[A"
          ]
        },
        {
          "name": "stdout",
          "output_type": "stream",
          "text": [
            "[Sanity] step 85: gen mean=-0.3244, std=0.5690, probe_RMSE=0.100031\n"
          ]
        },
        {
          "name": "stderr",
          "output_type": "stream",
          "text": [
            "\n",
            "\u001b[A\n",
            "\u001b[A"
          ]
        },
        {
          "name": "stdout",
          "output_type": "stream",
          "text": [
            "[Sanity] step 90: gen mean=-0.2616, std=0.5997, probe_RMSE=0.148364\n"
          ]
        },
        {
          "name": "stderr",
          "output_type": "stream",
          "text": [
            "\n",
            "\u001b[A\n",
            "\u001b[A\n",
            "\u001b[A"
          ]
        },
        {
          "name": "stdout",
          "output_type": "stream",
          "text": [
            "[Sanity] step 95: gen mean=-0.2485, std=0.6394, probe_RMSE=0.141527\n"
          ]
        },
        {
          "name": "stderr",
          "output_type": "stream",
          "text": [
            "\n",
            "\u001b[A\n",
            "\u001b[A"
          ]
        },
        {
          "name": "stdout",
          "output_type": "stream",
          "text": [
            "[Sanity] step 100: gen mean=-0.2289, std=0.6799, probe_RMSE=0.145023\n"
          ]
        },
        {
          "name": "stderr",
          "output_type": "stream",
          "text": [
            "\n",
            "\u001b[A\n",
            "\u001b[A\n",
            "\u001b[A"
          ]
        },
        {
          "name": "stdout",
          "output_type": "stream",
          "text": [
            "[Sanity] step 105: gen mean=-0.1734, std=0.7089, probe_RMSE=0.128806\n"
          ]
        },
        {
          "name": "stderr",
          "output_type": "stream",
          "text": [
            "\n",
            "\u001b[A\n",
            "\u001b[A\n",
            "\n"
          ]
        },
        {
          "name": "stdout",
          "output_type": "stream",
          "text": [
            "[Sanity] step 110: gen mean=-0.1725, std=0.7229, probe_RMSE=0.108866\n"
          ]
        },
        {
          "name": "stderr",
          "output_type": "stream",
          "text": [
            "iter:   8%|▊         | 115/1500 [00:06<01:13, 18.83it/s]\u001b[A\u001b[A\n",
            "\u001b[A\n",
            "\n"
          ]
        },
        {
          "name": "stdout",
          "output_type": "stream",
          "text": [
            "[Sanity] step 115: gen mean=-0.1990, std=0.7403, probe_RMSE=0.094303\n"
          ]
        },
        {
          "name": "stderr",
          "output_type": "stream",
          "text": [
            "iter:   8%|▊         | 120/1500 [00:06<01:11, 19.19it/s]\u001b[A\u001b[A\n",
            "\u001b[A\n",
            "\u001b[A"
          ]
        },
        {
          "name": "stdout",
          "output_type": "stream",
          "text": [
            "[Sanity] step 120: gen mean=-0.1999, std=0.7479, probe_RMSE=0.094997\n"
          ]
        },
        {
          "name": "stderr",
          "output_type": "stream",
          "text": [
            "\n",
            "\u001b[A\n",
            "\u001b[A\n",
            "\n"
          ]
        },
        {
          "name": "stdout",
          "output_type": "stream",
          "text": [
            "[Sanity] step 125: gen mean=-0.2214, std=0.7424, probe_RMSE=0.082720\n"
          ]
        },
        {
          "name": "stderr",
          "output_type": "stream",
          "text": [
            "iter:   9%|▊         | 130/1500 [00:07<01:15, 18.11it/s]\u001b[A\u001b[A\n",
            "\u001b[A\n",
            "\n"
          ]
        },
        {
          "name": "stdout",
          "output_type": "stream",
          "text": [
            "[Sanity] step 130: gen mean=-0.2451, std=0.7546, probe_RMSE=0.080146\n"
          ]
        },
        {
          "name": "stderr",
          "output_type": "stream",
          "text": [
            "iter:   9%|▉         | 135/1500 [00:07<01:13, 18.46it/s]\u001b[A\u001b[A\n",
            "\u001b[A\n",
            "\u001b[A"
          ]
        },
        {
          "name": "stdout",
          "output_type": "stream",
          "text": [
            "[Sanity] step 135: gen mean=-0.2506, std=0.7575, probe_RMSE=0.083590\n"
          ]
        },
        {
          "name": "stderr",
          "output_type": "stream",
          "text": [
            "\n",
            "\u001b[A\n",
            "\u001b[A"
          ]
        },
        {
          "name": "stdout",
          "output_type": "stream",
          "text": [
            "[Sanity] step 140: gen mean=-0.2677, std=0.7144, probe_RMSE=0.094992\n"
          ]
        },
        {
          "name": "stderr",
          "output_type": "stream",
          "text": [
            "\n",
            "\u001b[A\n",
            "\u001b[A\n",
            "\u001b[A"
          ]
        },
        {
          "name": "stdout",
          "output_type": "stream",
          "text": [
            "[Sanity] step 145: gen mean=-0.3018, std=0.6966, probe_RMSE=0.087263\n"
          ]
        },
        {
          "name": "stderr",
          "output_type": "stream",
          "text": [
            "\n",
            "\u001b[A\n",
            "\u001b[A"
          ]
        },
        {
          "name": "stdout",
          "output_type": "stream",
          "text": [
            "[Sanity] step 150: gen mean=-0.3587, std=0.6763, probe_RMSE=0.077801\n"
          ]
        },
        {
          "name": "stderr",
          "output_type": "stream",
          "text": [
            "\n",
            "\u001b[A\n",
            "\u001b[A\n",
            "\u001b[A"
          ]
        },
        {
          "name": "stdout",
          "output_type": "stream",
          "text": [
            "[Sanity] step 155: gen mean=-0.3638, std=0.6618, probe_RMSE=0.062759\n"
          ]
        },
        {
          "name": "stderr",
          "output_type": "stream",
          "text": [
            "\n",
            "\u001b[A\n",
            "\u001b[A"
          ]
        },
        {
          "name": "stdout",
          "output_type": "stream",
          "text": [
            "[Sanity] step 160: gen mean=-0.3621, std=0.6709, probe_RMSE=0.056072\n"
          ]
        },
        {
          "name": "stderr",
          "output_type": "stream",
          "text": [
            "\n",
            "\u001b[A\n",
            "\u001b[A\n",
            "\u001b[A"
          ]
        },
        {
          "name": "stdout",
          "output_type": "stream",
          "text": [
            "[Sanity] step 165: gen mean=-0.3622, std=0.6883, probe_RMSE=0.056772\n"
          ]
        },
        {
          "name": "stderr",
          "output_type": "stream",
          "text": [
            "\n",
            "\u001b[A\n",
            "\u001b[A"
          ]
        },
        {
          "name": "stdout",
          "output_type": "stream",
          "text": [
            "[Sanity] step 170: gen mean=-0.3554, std=0.6945, probe_RMSE=0.059692\n"
          ]
        },
        {
          "name": "stderr",
          "output_type": "stream",
          "text": [
            "\n",
            "\u001b[A\n",
            "\u001b[A\n",
            "\n"
          ]
        },
        {
          "name": "stdout",
          "output_type": "stream",
          "text": [
            "[Sanity] step 175: gen mean=-0.3621, std=0.6919, probe_RMSE=0.058911\n"
          ]
        },
        {
          "name": "stderr",
          "output_type": "stream",
          "text": [
            "iter:  12%|█▏        | 180/1500 [00:10<01:10, 18.60it/s]\u001b[A\u001b[A\n",
            "\u001b[A\n",
            "\u001b[A"
          ]
        },
        {
          "name": "stdout",
          "output_type": "stream",
          "text": [
            "[Sanity] step 180: gen mean=-0.3587, std=0.7157, probe_RMSE=0.058291\n"
          ]
        },
        {
          "name": "stderr",
          "output_type": "stream",
          "text": [
            "\n",
            "\u001b[A\n",
            "\u001b[A"
          ]
        },
        {
          "name": "stdout",
          "output_type": "stream",
          "text": [
            "[Sanity] step 185: gen mean=-0.3526, std=0.7147, probe_RMSE=0.059167\n"
          ]
        },
        {
          "name": "stderr",
          "output_type": "stream",
          "text": [
            "\n",
            "\u001b[A\n",
            "\u001b[A\n",
            "\u001b[A"
          ]
        },
        {
          "name": "stdout",
          "output_type": "stream",
          "text": [
            "[Sanity] step 190: gen mean=-0.3512, std=0.7244, probe_RMSE=0.053782\n"
          ]
        },
        {
          "name": "stderr",
          "output_type": "stream",
          "text": [
            "\n",
            "\u001b[A\n",
            "\u001b[A\n",
            "\n"
          ]
        },
        {
          "name": "stdout",
          "output_type": "stream",
          "text": [
            "[Sanity] step 195: gen mean=-0.3728, std=0.7165, probe_RMSE=0.054384\n"
          ]
        },
        {
          "name": "stderr",
          "output_type": "stream",
          "text": [
            "iter:  13%|█▎        | 200/1500 [00:11<01:12, 17.95it/s]\u001b[A\u001b[A\n",
            "\u001b[A\n",
            "\n"
          ]
        },
        {
          "name": "stdout",
          "output_type": "stream",
          "text": [
            "[Sanity] step 200: gen mean=-0.3739, std=0.7257, probe_RMSE=0.056694\n"
          ]
        },
        {
          "name": "stderr",
          "output_type": "stream",
          "text": [
            "iter:  14%|█▎        | 205/1500 [00:11<01:07, 19.15it/s]\u001b[A\u001b[A\n",
            "\u001b[A"
          ]
        },
        {
          "name": "stdout",
          "output_type": "stream",
          "text": [
            "[Sanity] step 205: gen mean=-0.3833, std=0.7294, probe_RMSE=0.052541\n"
          ]
        },
        {
          "name": "stderr",
          "output_type": "stream",
          "text": [
            "\n",
            "\u001b[A\n",
            "\u001b[A\n",
            "\u001b[A"
          ]
        },
        {
          "name": "stdout",
          "output_type": "stream",
          "text": [
            "[Sanity] step 210: gen mean=-0.3724, std=0.7407, probe_RMSE=0.051990\n"
          ]
        },
        {
          "name": "stderr",
          "output_type": "stream",
          "text": [
            "\n",
            "\u001b[A\n",
            "\u001b[A\n",
            "\n"
          ]
        },
        {
          "name": "stdout",
          "output_type": "stream",
          "text": [
            "[Sanity] step 215: gen mean=-0.3678, std=0.7214, probe_RMSE=0.042740\n"
          ]
        },
        {
          "name": "stderr",
          "output_type": "stream",
          "text": [
            "iter:  15%|█▍        | 220/1500 [00:12<01:08, 18.69it/s]\u001b[A\u001b[A\n",
            "\u001b[A\n",
            "\n"
          ]
        },
        {
          "name": "stdout",
          "output_type": "stream",
          "text": [
            "[Sanity] step 220: gen mean=-0.3821, std=0.7076, probe_RMSE=0.062609\n"
          ]
        },
        {
          "name": "stderr",
          "output_type": "stream",
          "text": [
            "iter:  15%|█▌        | 225/1500 [00:12<01:05, 19.32it/s]\u001b[A\u001b[A\n",
            "\u001b[A\n",
            "\u001b[A"
          ]
        },
        {
          "name": "stdout",
          "output_type": "stream",
          "text": [
            "[Sanity] step 225: gen mean=-0.4257, std=0.6546, probe_RMSE=0.065360\n"
          ]
        },
        {
          "name": "stderr",
          "output_type": "stream",
          "text": [
            "\n",
            "\u001b[A\n",
            "\u001b[A"
          ]
        },
        {
          "name": "stdout",
          "output_type": "stream",
          "text": [
            "[Sanity] step 230: gen mean=-0.4367, std=0.6197, probe_RMSE=0.062994\n"
          ]
        },
        {
          "name": "stderr",
          "output_type": "stream",
          "text": [
            "\n",
            "\u001b[A\n",
            "\u001b[A\n",
            "\u001b[A"
          ]
        },
        {
          "name": "stdout",
          "output_type": "stream",
          "text": [
            "[Sanity] step 235: gen mean=-0.4919, std=0.5758, probe_RMSE=0.056826\n"
          ]
        },
        {
          "name": "stderr",
          "output_type": "stream",
          "text": [
            "\n",
            "\u001b[A\n",
            "\u001b[A\n",
            "\n"
          ]
        },
        {
          "name": "stdout",
          "output_type": "stream",
          "text": [
            "[Sanity] step 240: gen mean=-0.4890, std=0.5716, probe_RMSE=0.037193\n"
          ]
        },
        {
          "name": "stderr",
          "output_type": "stream",
          "text": [
            "iter:  16%|█▋        | 245/1500 [00:15<02:14,  9.35it/s]\u001b[A\u001b[A\n",
            "\u001b[A"
          ]
        },
        {
          "name": "stdout",
          "output_type": "stream",
          "text": [
            "[Sanity] step 245: gen mean=-0.4742, std=0.5887, probe_RMSE=0.038917\n"
          ]
        },
        {
          "name": "stderr",
          "output_type": "stream",
          "text": [
            "\n",
            "\u001b[A\n",
            "\u001b[A"
          ]
        },
        {
          "name": "stdout",
          "output_type": "stream",
          "text": [
            "[Sanity] step 250: gen mean=-0.4590, std=0.6133, probe_RMSE=0.037122\n"
          ]
        },
        {
          "name": "stderr",
          "output_type": "stream",
          "text": [
            "\n",
            "\u001b[A\n",
            "\u001b[A\n",
            "\u001b[A\n",
            "\u001b[A"
          ]
        },
        {
          "name": "stdout",
          "output_type": "stream",
          "text": [
            "[Sanity] step 255: gen mean=-0.4247, std=0.6428, probe_RMSE=0.057118\n"
          ]
        },
        {
          "name": "stderr",
          "output_type": "stream",
          "text": [
            "\n",
            "\u001b[A\n",
            "\u001b[A\n",
            "\u001b[A\n",
            "\u001b[A\n",
            "\u001b[A\n",
            "\n"
          ]
        },
        {
          "name": "stdout",
          "output_type": "stream",
          "text": [
            "[Sanity] step 260: gen mean=-0.3912, std=0.6682, probe_RMSE=0.067848\n"
          ]
        },
        {
          "name": "stderr",
          "output_type": "stream",
          "text": [
            "iter:  17%|█▋        | 262/1500 [00:19<04:27,  4.63it/s]\u001b[A\u001b[A\n",
            "\u001b[A\n",
            "\u001b[A\n",
            "\u001b[A\n",
            "\u001b[A\n",
            "\n"
          ]
        },
        {
          "name": "stdout",
          "output_type": "stream",
          "text": [
            "[Sanity] step 265: gen mean=-0.3712, std=0.6718, probe_RMSE=0.070330\n"
          ]
        },
        {
          "name": "stderr",
          "output_type": "stream",
          "text": [
            "iter:  18%|█▊        | 267/1500 [00:20<04:22,  4.70it/s]\u001b[A\u001b[A\n",
            "\u001b[A\n",
            "\u001b[A\n",
            "\u001b[A\n",
            "\u001b[A"
          ]
        },
        {
          "name": "stdout",
          "output_type": "stream",
          "text": [
            "[Sanity] step 270: gen mean=-0.3362, std=0.7060, probe_RMSE=0.057703\n"
          ]
        },
        {
          "name": "stderr",
          "output_type": "stream",
          "text": [
            "\n",
            "\u001b[A\n",
            "\u001b[A\n",
            "\u001b[A\n",
            "\u001b[A\n",
            "\u001b[A"
          ]
        },
        {
          "name": "stdout",
          "output_type": "stream",
          "text": [
            "[Sanity] step 275: gen mean=-0.3205, std=0.7292, probe_RMSE=0.057611\n"
          ]
        },
        {
          "name": "stderr",
          "output_type": "stream",
          "text": [
            "\n",
            "\u001b[A\n",
            "\u001b[A\n",
            "\u001b[A\n",
            "\u001b[A\n",
            "\u001b[A"
          ]
        },
        {
          "name": "stdout",
          "output_type": "stream",
          "text": [
            "[Sanity] step 280: gen mean=-0.3112, std=0.7267, probe_RMSE=0.045227\n"
          ]
        },
        {
          "name": "stderr",
          "output_type": "stream",
          "text": [
            "\n",
            "\u001b[A\n",
            "\u001b[A\n",
            "\u001b[A\n",
            "\u001b[A\n",
            "\u001b[A"
          ]
        },
        {
          "name": "stdout",
          "output_type": "stream",
          "text": [
            "[Sanity] step 285: gen mean=-0.3158, std=0.7284, probe_RMSE=0.047307\n"
          ]
        },
        {
          "name": "stderr",
          "output_type": "stream",
          "text": [
            "\n",
            "\u001b[A\n",
            "\u001b[A\n",
            "\u001b[A\n",
            "\u001b[A\n",
            "\u001b[A"
          ]
        },
        {
          "name": "stdout",
          "output_type": "stream",
          "text": [
            "[Sanity] step 290: gen mean=-0.3325, std=0.7029, probe_RMSE=0.061672\n"
          ]
        },
        {
          "name": "stderr",
          "output_type": "stream",
          "text": [
            "\n",
            "\u001b[A\n",
            "\u001b[A\n",
            "\u001b[A\n",
            "\u001b[A\n",
            "\u001b[A"
          ]
        },
        {
          "name": "stdout",
          "output_type": "stream",
          "text": [
            "[Sanity] step 295: gen mean=-0.3731, std=0.6611, probe_RMSE=0.068176\n"
          ]
        },
        {
          "name": "stderr",
          "output_type": "stream",
          "text": [
            "\n",
            "\u001b[A\n",
            "\u001b[A\n",
            "\u001b[A\n",
            "\u001b[A\n",
            "\u001b[A"
          ]
        },
        {
          "name": "stdout",
          "output_type": "stream",
          "text": [
            "[Sanity] step 300: gen mean=-0.3821, std=0.6453, probe_RMSE=0.043642\n"
          ]
        },
        {
          "name": "stderr",
          "output_type": "stream",
          "text": [
            "\n",
            "\u001b[A\n",
            "\u001b[A\n",
            "\u001b[A\n",
            "\u001b[A\n",
            "\u001b[A"
          ]
        },
        {
          "name": "stdout",
          "output_type": "stream",
          "text": [
            "[Sanity] step 305: gen mean=-0.4037, std=0.6305, probe_RMSE=0.048152\n"
          ]
        },
        {
          "name": "stderr",
          "output_type": "stream",
          "text": [
            "\n",
            "\u001b[A\n",
            "\u001b[A\n",
            "\u001b[A\n",
            "\u001b[A\n",
            "\u001b[A"
          ]
        },
        {
          "name": "stdout",
          "output_type": "stream",
          "text": [
            "[Sanity] step 310: gen mean=-0.3933, std=0.6272, probe_RMSE=0.042714\n"
          ]
        },
        {
          "name": "stderr",
          "output_type": "stream",
          "text": [
            "\n",
            "\u001b[A\n",
            "\u001b[A\n",
            "\u001b[A\n",
            "\u001b[A\n",
            "\u001b[A"
          ]
        },
        {
          "name": "stdout",
          "output_type": "stream",
          "text": [
            "[Sanity] step 315: gen mean=-0.3761, std=0.6420, probe_RMSE=0.053466\n"
          ]
        },
        {
          "name": "stderr",
          "output_type": "stream",
          "text": [
            "\n",
            "\u001b[A\n",
            "\u001b[A\n",
            "\u001b[A\n",
            "\u001b[A\n",
            "\u001b[A"
          ]
        },
        {
          "name": "stdout",
          "output_type": "stream",
          "text": [
            "[Sanity] step 320: gen mean=-0.3503, std=0.6539, probe_RMSE=0.053605\n"
          ]
        },
        {
          "name": "stderr",
          "output_type": "stream",
          "text": [
            "\n",
            "\u001b[A\n",
            "\u001b[A\n",
            "\u001b[A\n",
            "\u001b[A\n",
            "\u001b[A"
          ]
        },
        {
          "name": "stdout",
          "output_type": "stream",
          "text": [
            "[Sanity] step 325: gen mean=-0.3258, std=0.6723, probe_RMSE=0.048659\n"
          ]
        },
        {
          "name": "stderr",
          "output_type": "stream",
          "text": [
            "\n",
            "\u001b[A\n",
            "\u001b[A\n",
            "\u001b[A\n",
            "\u001b[A\n",
            "\u001b[A\n",
            "\n"
          ]
        },
        {
          "name": "stdout",
          "output_type": "stream",
          "text": [
            "[Sanity] step 330: gen mean=-0.3277, std=0.6837, probe_RMSE=0.040432\n"
          ]
        },
        {
          "name": "stderr",
          "output_type": "stream",
          "text": [
            "iter:  22%|██▏       | 332/1500 [00:35<04:16,  4.55it/s]\u001b[A\u001b[A\n",
            "\u001b[A\n",
            "\u001b[A\n",
            "\u001b[A\n",
            "\u001b[A"
          ]
        },
        {
          "name": "stdout",
          "output_type": "stream",
          "text": [
            "[Sanity] step 335: gen mean=-0.3032, std=0.6954, probe_RMSE=0.053757\n"
          ]
        },
        {
          "name": "stderr",
          "output_type": "stream",
          "text": [
            "\n",
            "\u001b[A\n",
            "\u001b[A\n",
            "\u001b[A\n",
            "\u001b[A\n",
            "\u001b[A\n",
            "\n"
          ]
        },
        {
          "name": "stdout",
          "output_type": "stream",
          "text": [
            "[Sanity] step 340: gen mean=-0.2985, std=0.6941, probe_RMSE=0.050102\n"
          ]
        },
        {
          "name": "stderr",
          "output_type": "stream",
          "text": [
            "iter:  23%|██▎       | 342/1500 [00:37<04:10,  4.63it/s]\u001b[A\u001b[A\n",
            "\u001b[A\n",
            "\u001b[A\n",
            "\u001b[A\n",
            "\u001b[A"
          ]
        },
        {
          "name": "stdout",
          "output_type": "stream",
          "text": [
            "[Sanity] step 345: gen mean=-0.2992, std=0.6940, probe_RMSE=0.051796\n"
          ]
        },
        {
          "name": "stderr",
          "output_type": "stream",
          "text": [
            "\n",
            "\u001b[A\n",
            "\u001b[A\n",
            "\u001b[A\n",
            "\u001b[A\n",
            "\u001b[A\n",
            "\n"
          ]
        },
        {
          "name": "stdout",
          "output_type": "stream",
          "text": [
            "[Sanity] step 350: gen mean=-0.2994, std=0.6938, probe_RMSE=0.052847\n"
          ]
        },
        {
          "name": "stderr",
          "output_type": "stream",
          "text": [
            "iter:  23%|██▎       | 352/1500 [00:40<04:37,  4.14it/s]\u001b[A\u001b[A\n",
            "\u001b[A\n",
            "\u001b[A\n",
            "\u001b[A\n",
            "\u001b[A"
          ]
        },
        {
          "name": "stdout",
          "output_type": "stream",
          "text": [
            "[Sanity] step 355: gen mean=-0.2915, std=0.6921, probe_RMSE=0.053996\n"
          ]
        },
        {
          "name": "stderr",
          "output_type": "stream",
          "text": [
            "\n",
            "\u001b[A\n",
            "\u001b[A\n",
            "\u001b[A\n",
            "\u001b[A\n",
            "\u001b[A"
          ]
        },
        {
          "name": "stdout",
          "output_type": "stream",
          "text": [
            "[Sanity] step 360: gen mean=-0.2872, std=0.7097, probe_RMSE=0.052904\n"
          ]
        },
        {
          "name": "stderr",
          "output_type": "stream",
          "text": [
            "\n",
            "\u001b[A\n",
            "\u001b[A\n",
            "\u001b[A\n",
            "\u001b[A\n",
            "\u001b[A"
          ]
        },
        {
          "name": "stdout",
          "output_type": "stream",
          "text": [
            "[Sanity] step 365: gen mean=-0.2706, std=0.7009, probe_RMSE=0.061712\n"
          ]
        },
        {
          "name": "stderr",
          "output_type": "stream",
          "text": [
            "\n",
            "\u001b[A\n",
            "\u001b[A\n",
            "\u001b[A\n",
            "\u001b[A\n",
            "\u001b[A"
          ]
        },
        {
          "name": "stdout",
          "output_type": "stream",
          "text": [
            "[Sanity] step 370: gen mean=-0.2916, std=0.6833, probe_RMSE=0.059047\n"
          ]
        },
        {
          "name": "stderr",
          "output_type": "stream",
          "text": [
            "\n",
            "\u001b[A\n",
            "\u001b[A\n",
            "\u001b[A\n",
            "\u001b[A\n",
            "\u001b[A"
          ]
        },
        {
          "name": "stdout",
          "output_type": "stream",
          "text": [
            "[Sanity] step 375: gen mean=-0.2912, std=0.6829, probe_RMSE=0.057039\n"
          ]
        },
        {
          "name": "stderr",
          "output_type": "stream",
          "text": [
            "\n",
            "\u001b[A\n",
            "\u001b[A\n",
            "\u001b[A\n",
            "\u001b[A\n",
            "\u001b[A"
          ]
        },
        {
          "name": "stdout",
          "output_type": "stream",
          "text": [
            "[Sanity] step 380: gen mean=-0.3047, std=0.6699, probe_RMSE=0.051473\n"
          ]
        },
        {
          "name": "stderr",
          "output_type": "stream",
          "text": [
            "\n",
            "\u001b[A\n",
            "\u001b[A\n",
            "\u001b[A\n",
            "\u001b[A\n",
            "\u001b[A"
          ]
        },
        {
          "name": "stdout",
          "output_type": "stream",
          "text": [
            "[Sanity] step 385: gen mean=-0.3271, std=0.6626, probe_RMSE=0.052433\n"
          ]
        },
        {
          "name": "stderr",
          "output_type": "stream",
          "text": [
            "\n",
            "\u001b[A\n",
            "\u001b[A\n",
            "\u001b[A\n",
            "\u001b[A\n",
            "\u001b[A"
          ]
        },
        {
          "name": "stdout",
          "output_type": "stream",
          "text": [
            "[Sanity] step 390: gen mean=-0.3036, std=0.6838, probe_RMSE=0.050074\n"
          ]
        },
        {
          "name": "stderr",
          "output_type": "stream",
          "text": [
            "\n",
            "\u001b[A\n",
            "\u001b[A\n",
            "\u001b[A\n",
            "\u001b[A\n",
            "\u001b[A"
          ]
        },
        {
          "name": "stdout",
          "output_type": "stream",
          "text": [
            "[Sanity] step 395: gen mean=-0.3529, std=0.6710, probe_RMSE=0.060052\n"
          ]
        },
        {
          "name": "stderr",
          "output_type": "stream",
          "text": [
            "\n",
            "\u001b[A\n",
            "\u001b[A\n",
            "\u001b[A\n",
            "\u001b[A\n",
            "\u001b[A"
          ]
        },
        {
          "name": "stdout",
          "output_type": "stream",
          "text": [
            "[Sanity] step 400: gen mean=-0.3596, std=0.6727, probe_RMSE=0.041572\n"
          ]
        },
        {
          "name": "stderr",
          "output_type": "stream",
          "text": [
            "\n",
            "\u001b[A\n",
            "\u001b[A\n",
            "\u001b[A\n",
            "\u001b[A\n",
            "\u001b[A"
          ]
        },
        {
          "name": "stdout",
          "output_type": "stream",
          "text": [
            "[Sanity] step 405: gen mean=-0.3652, std=0.6643, probe_RMSE=0.047950\n"
          ]
        },
        {
          "name": "stderr",
          "output_type": "stream",
          "text": [
            "\n",
            "\u001b[A\n",
            "\u001b[A\n",
            "\u001b[A\n",
            "\u001b[A\n",
            "\u001b[A"
          ]
        },
        {
          "name": "stdout",
          "output_type": "stream",
          "text": [
            "[Sanity] step 410: gen mean=-0.3710, std=0.6484, probe_RMSE=0.041995\n"
          ]
        },
        {
          "name": "stderr",
          "output_type": "stream",
          "text": [
            "\n",
            "\u001b[A\n",
            "\u001b[A\n",
            "\u001b[A\n",
            "\u001b[A\n",
            "\u001b[A"
          ]
        },
        {
          "name": "stdout",
          "output_type": "stream",
          "text": [
            "[Sanity] step 415: gen mean=-0.3649, std=0.6523, probe_RMSE=0.048088\n"
          ]
        },
        {
          "name": "stderr",
          "output_type": "stream",
          "text": [
            "\n",
            "\u001b[A\n",
            "\u001b[A\n",
            "\u001b[A\n",
            "\u001b[A\n",
            "\u001b[A"
          ]
        },
        {
          "name": "stdout",
          "output_type": "stream",
          "text": [
            "[Sanity] step 420: gen mean=-0.3667, std=0.6683, probe_RMSE=0.047736\n"
          ]
        },
        {
          "name": "stderr",
          "output_type": "stream",
          "text": [
            "\n",
            "\u001b[A\n",
            "\u001b[A\n",
            "\u001b[A\n",
            "\u001b[A\n",
            "\u001b[A"
          ]
        },
        {
          "name": "stdout",
          "output_type": "stream",
          "text": [
            "[Sanity] step 425: gen mean=-0.3596, std=0.6828, probe_RMSE=0.051495\n"
          ]
        },
        {
          "name": "stderr",
          "output_type": "stream",
          "text": [
            "\n",
            "\u001b[A\n",
            "\u001b[A\n",
            "\u001b[A\n",
            "\u001b[A\n",
            "\u001b[A\n",
            "\n"
          ]
        },
        {
          "name": "stdout",
          "output_type": "stream",
          "text": [
            "[Sanity] step 430: gen mean=-0.3353, std=0.6973, probe_RMSE=0.044353\n"
          ]
        },
        {
          "name": "stderr",
          "output_type": "stream",
          "text": [
            "iter:  29%|██▉       | 432/1500 [01:00<04:05,  4.35it/s]\u001b[A\u001b[A\n",
            "\u001b[A\n",
            "\u001b[A\n",
            "\u001b[A\n",
            "\u001b[A"
          ]
        },
        {
          "name": "stdout",
          "output_type": "stream",
          "text": [
            "[Sanity] step 435: gen mean=-0.3584, std=0.6826, probe_RMSE=0.044733\n"
          ]
        },
        {
          "name": "stderr",
          "output_type": "stream",
          "text": [
            "\n",
            "\u001b[A\n",
            "\u001b[A\n",
            "\u001b[A\n",
            "\u001b[A\n",
            "\u001b[A"
          ]
        },
        {
          "name": "stdout",
          "output_type": "stream",
          "text": [
            "[Sanity] step 440: gen mean=-0.3825, std=0.6589, probe_RMSE=0.066441\n"
          ]
        },
        {
          "name": "stderr",
          "output_type": "stream",
          "text": [
            "\n",
            "\u001b[A\n",
            "\u001b[A\n",
            "\u001b[A\n",
            "\u001b[A\n",
            "\u001b[A"
          ]
        },
        {
          "name": "stdout",
          "output_type": "stream",
          "text": [
            "[Sanity] step 445: gen mean=-0.4034, std=0.6166, probe_RMSE=0.060540\n"
          ]
        },
        {
          "name": "stderr",
          "output_type": "stream",
          "text": [
            "\n",
            "\u001b[A\n",
            "\u001b[A\n",
            "\u001b[A\n",
            "\u001b[A\n",
            "\u001b[A\n",
            "\n"
          ]
        },
        {
          "name": "stdout",
          "output_type": "stream",
          "text": [
            "[Sanity] step 450: gen mean=-0.4032, std=0.6199, probe_RMSE=0.052565\n"
          ]
        },
        {
          "name": "stderr",
          "output_type": "stream",
          "text": [
            "iter:  30%|███       | 452/1500 [01:04<04:07,  4.23it/s]\u001b[A\u001b[A\n",
            "\u001b[A\n",
            "\u001b[A\n",
            "\u001b[A\n",
            "\u001b[A"
          ]
        },
        {
          "name": "stdout",
          "output_type": "stream",
          "text": [
            "[Sanity] step 455: gen mean=-0.4103, std=0.6203, probe_RMSE=0.043508\n"
          ]
        },
        {
          "name": "stderr",
          "output_type": "stream",
          "text": [
            "\n",
            "\u001b[A\n",
            "\u001b[A\n",
            "\u001b[A\n",
            "\u001b[A\n",
            "\u001b[A"
          ]
        },
        {
          "name": "stdout",
          "output_type": "stream",
          "text": [
            "[Sanity] step 460: gen mean=-0.4130, std=0.6191, probe_RMSE=0.043752\n"
          ]
        },
        {
          "name": "stderr",
          "output_type": "stream",
          "text": [
            "\n",
            "\u001b[A\n",
            "\u001b[A\n",
            "\u001b[A\n",
            "\u001b[A\n",
            "\u001b[A"
          ]
        },
        {
          "name": "stdout",
          "output_type": "stream",
          "text": [
            "[Sanity] step 465: gen mean=-0.4295, std=0.6124, probe_RMSE=0.041952\n"
          ]
        },
        {
          "name": "stderr",
          "output_type": "stream",
          "text": [
            "\n",
            "\u001b[A\n",
            "\u001b[A\n",
            "\u001b[A\n",
            "\u001b[A\n",
            "\u001b[A"
          ]
        },
        {
          "name": "stdout",
          "output_type": "stream",
          "text": [
            "[Sanity] step 470: gen mean=-0.4241, std=0.6198, probe_RMSE=0.041975\n"
          ]
        },
        {
          "name": "stderr",
          "output_type": "stream",
          "text": [
            "\n",
            "\u001b[A\n",
            "\u001b[A\n",
            "\u001b[A\n",
            "\u001b[A\n",
            "\u001b[A"
          ]
        },
        {
          "name": "stdout",
          "output_type": "stream",
          "text": [
            "[Sanity] step 475: gen mean=-0.4049, std=0.6287, probe_RMSE=0.047128\n"
          ]
        },
        {
          "name": "stderr",
          "output_type": "stream",
          "text": [
            "\n",
            "\u001b[A\n",
            "\u001b[A\n",
            "\u001b[A\n",
            "\u001b[A\n",
            "\u001b[A\n",
            "\n"
          ]
        },
        {
          "name": "stdout",
          "output_type": "stream",
          "text": [
            "[Sanity] step 480: gen mean=-0.4012, std=0.6433, probe_RMSE=0.045560\n"
          ]
        },
        {
          "name": "stderr",
          "output_type": "stream",
          "text": [
            "iter:  32%|███▏      | 482/1500 [01:11<03:50,  4.41it/s]\u001b[A\u001b[A\n",
            "\u001b[A\n",
            "\u001b[A\n",
            "\u001b[A\n",
            "\u001b[A\n",
            "\n"
          ]
        },
        {
          "name": "stdout",
          "output_type": "stream",
          "text": [
            "[Sanity] step 485: gen mean=-0.4003, std=0.6535, probe_RMSE=0.040599\n"
          ]
        },
        {
          "name": "stderr",
          "output_type": "stream",
          "text": [
            "iter:  32%|███▏      | 487/1500 [01:13<03:49,  4.41it/s]\u001b[A\u001b[A\n",
            "\u001b[A\n",
            "\u001b[A\n",
            "\u001b[A\n",
            "\u001b[A\n",
            "\n"
          ]
        },
        {
          "name": "stdout",
          "output_type": "stream",
          "text": [
            "[Sanity] step 490: gen mean=-0.3813, std=0.6633, probe_RMSE=0.055547\n"
          ]
        },
        {
          "name": "stderr",
          "output_type": "stream",
          "text": [
            "iter:  33%|███▎      | 492/1500 [01:14<03:50,  4.36it/s]\u001b[A\u001b[A\n",
            "\u001b[A\n",
            "\u001b[A\n",
            "\u001b[A\n",
            "\u001b[A"
          ]
        },
        {
          "name": "stdout",
          "output_type": "stream",
          "text": [
            "[Sanity] step 495: gen mean=-0.3778, std=0.6718, probe_RMSE=0.036735\n"
          ]
        },
        {
          "name": "stderr",
          "output_type": "stream",
          "text": [
            "\n",
            "\u001b[A\n",
            "\u001b[A\n",
            "\u001b[A\n",
            "\u001b[A\n",
            "\u001b[A"
          ]
        },
        {
          "name": "stdout",
          "output_type": "stream",
          "text": [
            "[Sanity] step 500: gen mean=-0.3565, std=0.6925, probe_RMSE=0.045103\n"
          ]
        },
        {
          "name": "stderr",
          "output_type": "stream",
          "text": [
            "\n",
            "\u001b[A\n",
            "\u001b[A\n",
            "\u001b[A\n",
            "\u001b[A\n",
            "\u001b[A"
          ]
        },
        {
          "name": "stdout",
          "output_type": "stream",
          "text": [
            "[Sanity] step 505: gen mean=-0.3500, std=0.6964, probe_RMSE=0.040820\n"
          ]
        },
        {
          "name": "stderr",
          "output_type": "stream",
          "text": [
            "\n",
            "\u001b[A\n",
            "\u001b[A\n",
            "\u001b[A\n",
            "\u001b[A\n",
            "\u001b[A\n",
            "\n"
          ]
        },
        {
          "name": "stdout",
          "output_type": "stream",
          "text": [
            "[Sanity] step 510: gen mean=-0.3471, std=0.6987, probe_RMSE=0.036929\n"
          ]
        },
        {
          "name": "stderr",
          "output_type": "stream",
          "text": [
            "iter:  34%|███▍      | 512/1500 [01:18<03:50,  4.28it/s]\u001b[A\u001b[A\n",
            "\u001b[A\n",
            "\u001b[A\n",
            "\u001b[A\n",
            "\u001b[A"
          ]
        },
        {
          "name": "stdout",
          "output_type": "stream",
          "text": [
            "[Sanity] step 515: gen mean=-0.3410, std=0.7033, probe_RMSE=0.043170\n"
          ]
        },
        {
          "name": "stderr",
          "output_type": "stream",
          "text": [
            "\n",
            "\u001b[A\n",
            "\u001b[A\n",
            "\u001b[A\n",
            "\u001b[A\n",
            "\u001b[A\n",
            "\n"
          ]
        },
        {
          "name": "stdout",
          "output_type": "stream",
          "text": [
            "[Sanity] step 520: gen mean=-0.3382, std=0.7101, probe_RMSE=0.041212\n"
          ]
        },
        {
          "name": "stderr",
          "output_type": "stream",
          "text": [
            "iter:  35%|███▍      | 522/1500 [01:20<03:28,  4.68it/s]\u001b[A\u001b[A\n",
            "\u001b[A\n",
            "\u001b[A\n",
            "\u001b[A\n",
            "\u001b[A"
          ]
        },
        {
          "name": "stdout",
          "output_type": "stream",
          "text": [
            "[Sanity] step 525: gen mean=-0.3597, std=0.6825, probe_RMSE=0.063752\n"
          ]
        },
        {
          "name": "stderr",
          "output_type": "stream",
          "text": [
            "\n",
            "\u001b[A\n",
            "\u001b[A\n",
            "\u001b[A\n",
            "\u001b[A\n",
            "\u001b[A"
          ]
        },
        {
          "name": "stdout",
          "output_type": "stream",
          "text": [
            "[Sanity] step 530: gen mean=-0.3614, std=0.6795, probe_RMSE=0.042920\n"
          ]
        },
        {
          "name": "stderr",
          "output_type": "stream",
          "text": [
            "\n",
            "\u001b[A\n",
            "\u001b[A\n",
            "\u001b[A\n",
            "\u001b[A\n",
            "\u001b[A\n",
            "\n"
          ]
        },
        {
          "name": "stdout",
          "output_type": "stream",
          "text": [
            "[Sanity] step 535: gen mean=-0.3313, std=0.6814, probe_RMSE=0.049322\n"
          ]
        },
        {
          "name": "stderr",
          "output_type": "stream",
          "text": [
            "iter:  36%|███▌      | 537/1500 [01:24<03:33,  4.51it/s]\u001b[A\u001b[A\n",
            "\u001b[A\n",
            "\u001b[A\n",
            "\u001b[A\n",
            "\u001b[A\n",
            "\n"
          ]
        },
        {
          "name": "stdout",
          "output_type": "stream",
          "text": [
            "[Sanity] step 540: gen mean=-0.3525, std=0.6756, probe_RMSE=0.051932\n"
          ]
        },
        {
          "name": "stderr",
          "output_type": "stream",
          "text": [
            "iter:  36%|███▌      | 542/1500 [01:25<03:17,  4.84it/s]\u001b[A\u001b[A\n",
            "\u001b[A\n",
            "\u001b[A\n",
            "\u001b[A\n",
            "\u001b[A"
          ]
        },
        {
          "name": "stdout",
          "output_type": "stream",
          "text": [
            "[Sanity] step 545: gen mean=-0.3705, std=0.6551, probe_RMSE=0.057621\n"
          ]
        },
        {
          "name": "stderr",
          "output_type": "stream",
          "text": [
            "\n",
            "\u001b[A\n",
            "\u001b[A\n",
            "\u001b[A\n",
            "\u001b[A\n",
            "\u001b[A\n",
            "\u001b[A"
          ]
        },
        {
          "name": "stdout",
          "output_type": "stream",
          "text": [
            "[Sanity] step 550: gen mean=-0.3804, std=0.6376, probe_RMSE=0.043518\n"
          ]
        },
        {
          "name": "stderr",
          "output_type": "stream",
          "text": [
            "\n",
            "\u001b[A\n",
            "\u001b[A\n",
            "\u001b[A\n",
            "\u001b[A\n",
            "\n"
          ]
        },
        {
          "name": "stdout",
          "output_type": "stream",
          "text": [
            "[Sanity] step 555: gen mean=-0.4065, std=0.6254, probe_RMSE=0.044258\n"
          ]
        },
        {
          "name": "stderr",
          "output_type": "stream",
          "text": [
            "iter:  37%|███▋      | 557/1500 [01:28<03:19,  4.73it/s]\u001b[A\u001b[A\n",
            "\u001b[A\n",
            "\u001b[A\n",
            "\u001b[A\n",
            "\u001b[A\n",
            "\n"
          ]
        },
        {
          "name": "stdout",
          "output_type": "stream",
          "text": [
            "[Sanity] step 560: gen mean=-0.4041, std=0.6358, probe_RMSE=0.036800\n"
          ]
        },
        {
          "name": "stderr",
          "output_type": "stream",
          "text": [
            "iter:  37%|███▋      | 562/1500 [01:29<03:16,  4.77it/s]\u001b[A\u001b[A\n",
            "\u001b[A\n",
            "\u001b[A\n",
            "\u001b[A\n",
            "\u001b[A"
          ]
        },
        {
          "name": "stdout",
          "output_type": "stream",
          "text": [
            "[Sanity] step 565: gen mean=-0.3921, std=0.6375, probe_RMSE=0.038192\n"
          ]
        },
        {
          "name": "stderr",
          "output_type": "stream",
          "text": [
            "\n",
            "\u001b[A\n",
            "\u001b[A\n",
            "\u001b[A\n",
            "\u001b[A\n",
            "\u001b[A\n",
            "\n"
          ]
        },
        {
          "name": "stdout",
          "output_type": "stream",
          "text": [
            "[Sanity] step 570: gen mean=-0.3965, std=0.6326, probe_RMSE=0.030836\n"
          ]
        },
        {
          "name": "stderr",
          "output_type": "stream",
          "text": [
            "iter:  38%|███▊      | 572/1500 [01:31<03:29,  4.42it/s]\u001b[A\u001b[A\n",
            "\u001b[A\n",
            "\u001b[A\n",
            "\u001b[A\n",
            "\u001b[A\n",
            "\n"
          ]
        },
        {
          "name": "stdout",
          "output_type": "stream",
          "text": [
            "[Sanity] step 575: gen mean=-0.3725, std=0.6483, probe_RMSE=0.047015\n"
          ]
        },
        {
          "name": "stderr",
          "output_type": "stream",
          "text": [
            "iter:  38%|███▊      | 577/1500 [01:32<03:12,  4.79it/s]\u001b[A\u001b[A\n",
            "\u001b[A\n",
            "\u001b[A\n",
            "\u001b[A\n",
            "\u001b[A"
          ]
        },
        {
          "name": "stdout",
          "output_type": "stream",
          "text": [
            "[Sanity] step 580: gen mean=-0.3635, std=0.6555, probe_RMSE=0.038986\n"
          ]
        },
        {
          "name": "stderr",
          "output_type": "stream",
          "text": [
            "\n",
            "\u001b[A\n",
            "\u001b[A\n",
            "\u001b[A\n",
            "\u001b[A\n",
            "\u001b[A\n",
            "\n"
          ]
        },
        {
          "name": "stdout",
          "output_type": "stream",
          "text": [
            "[Sanity] step 585: gen mean=-0.3439, std=0.6673, probe_RMSE=0.042281\n"
          ]
        },
        {
          "name": "stderr",
          "output_type": "stream",
          "text": [
            "iter:  39%|███▉      | 587/1500 [01:35<03:17,  4.63it/s]\u001b[A\u001b[A\n",
            "\u001b[A\n",
            "\u001b[A\n",
            "\u001b[A\n",
            "\u001b[A\n",
            "\n"
          ]
        },
        {
          "name": "stdout",
          "output_type": "stream",
          "text": [
            "[Sanity] step 590: gen mean=-0.3292, std=0.6792, probe_RMSE=0.043066\n"
          ]
        },
        {
          "name": "stderr",
          "output_type": "stream",
          "text": [
            "iter:  39%|███▉      | 592/1500 [01:36<03:21,  4.51it/s]\u001b[A\u001b[A\n",
            "\u001b[A\n",
            "\u001b[A\n",
            "\u001b[A\n",
            "\u001b[A\n",
            "\n"
          ]
        },
        {
          "name": "stdout",
          "output_type": "stream",
          "text": [
            "[Sanity] step 595: gen mean=-0.3175, std=0.6832, probe_RMSE=0.037630\n"
          ]
        },
        {
          "name": "stderr",
          "output_type": "stream",
          "text": [
            "iter:  40%|███▉      | 597/1500 [01:37<03:11,  4.71it/s]\u001b[A\u001b[A\n",
            "\u001b[A\n",
            "\u001b[A\n",
            "\u001b[A\n",
            "\u001b[A\n",
            "\n"
          ]
        },
        {
          "name": "stdout",
          "output_type": "stream",
          "text": [
            "[Sanity] step 600: gen mean=-0.3168, std=0.6846, probe_RMSE=0.042472\n"
          ]
        },
        {
          "name": "stderr",
          "output_type": "stream",
          "text": [
            "iter:  40%|████      | 602/1500 [01:38<04:07,  3.62it/s]\u001b[A\u001b[A\n",
            "\u001b[A\n",
            "\u001b[A\n",
            "\u001b[A\n",
            "\u001b[A\n",
            "\n"
          ]
        },
        {
          "name": "stdout",
          "output_type": "stream",
          "text": [
            "[Sanity] step 605: gen mean=-0.3122, std=0.6902, probe_RMSE=0.047087\n"
          ]
        },
        {
          "name": "stderr",
          "output_type": "stream",
          "text": [
            "iter:  40%|████      | 607/1500 [01:39<03:19,  4.47it/s]\u001b[A\u001b[A\n",
            "\u001b[A\n",
            "\u001b[A\n",
            "\u001b[A\n",
            "\u001b[A"
          ]
        },
        {
          "name": "stdout",
          "output_type": "stream",
          "text": [
            "[Sanity] step 610: gen mean=-0.3235, std=0.6837, probe_RMSE=0.050744\n"
          ]
        },
        {
          "name": "stderr",
          "output_type": "stream",
          "text": [
            "\n",
            "\u001b[A\n",
            "\u001b[A\n",
            "\u001b[A\n",
            "\u001b[A\n",
            "\u001b[A\n",
            "\n"
          ]
        },
        {
          "name": "stdout",
          "output_type": "stream",
          "text": [
            "[Sanity] step 615: gen mean=-0.3293, std=0.6686, probe_RMSE=0.049624\n"
          ]
        },
        {
          "name": "stderr",
          "output_type": "stream",
          "text": [
            "iter:  41%|████      | 617/1500 [01:42<03:04,  4.79it/s]\u001b[A\u001b[A\n",
            "\u001b[A\n",
            "\u001b[A\n",
            "\u001b[A\n",
            "\u001b[A\n",
            "\n"
          ]
        },
        {
          "name": "stdout",
          "output_type": "stream",
          "text": [
            "[Sanity] step 620: gen mean=-0.3583, std=0.6522, probe_RMSE=0.050085\n"
          ]
        },
        {
          "name": "stderr",
          "output_type": "stream",
          "text": [
            "iter:  41%|████▏     | 622/1500 [01:43<03:01,  4.83it/s]\u001b[A\u001b[A\n",
            "\u001b[A\n",
            "\u001b[A\n",
            "\u001b[A\n",
            "\u001b[A"
          ]
        },
        {
          "name": "stdout",
          "output_type": "stream",
          "text": [
            "[Sanity] step 625: gen mean=-0.3659, std=0.6482, probe_RMSE=0.036299\n"
          ]
        },
        {
          "name": "stderr",
          "output_type": "stream",
          "text": [
            "\n",
            "\u001b[A\n",
            "\u001b[A\n",
            "\u001b[A\n",
            "\u001b[A\n",
            "\u001b[A"
          ]
        },
        {
          "name": "stdout",
          "output_type": "stream",
          "text": [
            "[Sanity] step 630: gen mean=-0.3545, std=0.6481, probe_RMSE=0.050826\n"
          ]
        },
        {
          "name": "stderr",
          "output_type": "stream",
          "text": [
            "\n",
            "\u001b[A\n",
            "\u001b[A\n",
            "\u001b[A\n",
            "\u001b[A\n",
            "\u001b[A\n",
            "\n"
          ]
        },
        {
          "name": "stdout",
          "output_type": "stream",
          "text": [
            "[Sanity] step 635: gen mean=-0.3741, std=0.6268, probe_RMSE=0.038739\n"
          ]
        },
        {
          "name": "stderr",
          "output_type": "stream",
          "text": [
            "iter:  42%|████▏     | 637/1500 [01:46<03:19,  4.33it/s]\u001b[A\u001b[A\n",
            "\u001b[A\n",
            "\u001b[A\n",
            "\u001b[A\n",
            "\u001b[A"
          ]
        },
        {
          "name": "stdout",
          "output_type": "stream",
          "text": [
            "[Sanity] step 640: gen mean=-0.3912, std=0.6218, probe_RMSE=0.037346\n"
          ]
        },
        {
          "name": "stderr",
          "output_type": "stream",
          "text": [
            "\n",
            "\u001b[A\n",
            "\u001b[A\n",
            "\u001b[A\n",
            "\u001b[A\n",
            "\u001b[A\n",
            "\n"
          ]
        },
        {
          "name": "stdout",
          "output_type": "stream",
          "text": [
            "[Sanity] step 645: gen mean=-0.3983, std=0.6089, probe_RMSE=0.032182\n"
          ]
        },
        {
          "name": "stderr",
          "output_type": "stream",
          "text": [
            "iter:  43%|████▎     | 647/1500 [01:48<02:59,  4.74it/s]\u001b[A\u001b[A\n",
            "\u001b[A\n",
            "\u001b[A\n",
            "\u001b[A\n",
            "\u001b[A"
          ]
        },
        {
          "name": "stdout",
          "output_type": "stream",
          "text": [
            "[Sanity] step 650: gen mean=-0.3964, std=0.6201, probe_RMSE=0.037554\n"
          ]
        },
        {
          "name": "stderr",
          "output_type": "stream",
          "text": [
            "\n",
            "\u001b[A\n",
            "\u001b[A\n",
            "\u001b[A\n",
            "\u001b[A\n",
            "\u001b[A\n",
            "\n"
          ]
        },
        {
          "name": "stdout",
          "output_type": "stream",
          "text": [
            "[Sanity] step 655: gen mean=-0.3892, std=0.6204, probe_RMSE=0.036930\n"
          ]
        },
        {
          "name": "stderr",
          "output_type": "stream",
          "text": [
            "iter:  44%|████▍     | 657/1500 [01:51<03:17,  4.27it/s]\u001b[A\u001b[A\n",
            "\u001b[A\n",
            "\u001b[A\n",
            "\u001b[A\n",
            "\u001b[A\n",
            "\n"
          ]
        },
        {
          "name": "stdout",
          "output_type": "stream",
          "text": [
            "[Sanity] step 660: gen mean=-0.3927, std=0.6325, probe_RMSE=0.038598\n"
          ]
        },
        {
          "name": "stderr",
          "output_type": "stream",
          "text": [
            "iter:  44%|████▍     | 662/1500 [01:52<02:56,  4.76it/s]\u001b[A\u001b[A\n",
            "\u001b[A\n",
            "\u001b[A\n",
            "\u001b[A\n",
            "\u001b[A\n",
            "\n"
          ]
        },
        {
          "name": "stdout",
          "output_type": "stream",
          "text": [
            "[Sanity] step 665: gen mean=-0.3875, std=0.6401, probe_RMSE=0.036765\n"
          ]
        },
        {
          "name": "stderr",
          "output_type": "stream",
          "text": [
            "iter:  44%|████▍     | 667/1500 [01:53<02:55,  4.74it/s]\u001b[A\u001b[A\n",
            "\u001b[A\n",
            "\u001b[A\n",
            "\u001b[A\n",
            "\u001b[A"
          ]
        },
        {
          "name": "stdout",
          "output_type": "stream",
          "text": [
            "[Sanity] step 670: gen mean=-0.3737, std=0.6585, probe_RMSE=0.045235\n"
          ]
        },
        {
          "name": "stderr",
          "output_type": "stream",
          "text": [
            "\n",
            "\u001b[A\n",
            "\u001b[A\n",
            "\u001b[A\n",
            "\u001b[A\n",
            "\u001b[A\n",
            "\n"
          ]
        },
        {
          "name": "stdout",
          "output_type": "stream",
          "text": [
            "[Sanity] step 675: gen mean=-0.3523, std=0.6785, probe_RMSE=0.050875\n"
          ]
        },
        {
          "name": "stderr",
          "output_type": "stream",
          "text": [
            "iter:  45%|████▌     | 677/1500 [01:55<02:51,  4.79it/s]\u001b[A\u001b[A\n",
            "\u001b[A\n",
            "\u001b[A\n",
            "\u001b[A\n",
            "\u001b[A\n",
            "\n"
          ]
        },
        {
          "name": "stdout",
          "output_type": "stream",
          "text": [
            "[Sanity] step 680: gen mean=-0.3377, std=0.6906, probe_RMSE=0.049766\n"
          ]
        },
        {
          "name": "stderr",
          "output_type": "stream",
          "text": [
            "iter:  45%|████▌     | 682/1500 [01:56<02:46,  4.90it/s]\u001b[A\u001b[A\n",
            "\u001b[A\n",
            "\u001b[A\n",
            "\u001b[A\n",
            "\u001b[A\n",
            "\n"
          ]
        },
        {
          "name": "stdout",
          "output_type": "stream",
          "text": [
            "[Sanity] step 685: gen mean=-0.3226, std=0.7108, probe_RMSE=0.048969\n"
          ]
        },
        {
          "name": "stderr",
          "output_type": "stream",
          "text": [
            "iter:  46%|████▌     | 687/1500 [01:57<02:47,  4.86it/s]\u001b[A\u001b[A\n",
            "\u001b[A\n",
            "\u001b[A\n",
            "\u001b[A\n",
            "\u001b[A"
          ]
        },
        {
          "name": "stdout",
          "output_type": "stream",
          "text": [
            "[Sanity] step 690: gen mean=-0.3022, std=0.7320, probe_RMSE=0.059341\n"
          ]
        },
        {
          "name": "stderr",
          "output_type": "stream",
          "text": [
            "\n",
            "\u001b[A\n",
            "\u001b[A\n",
            "\u001b[A\n",
            "\u001b[A\n",
            "\u001b[A"
          ]
        },
        {
          "name": "stdout",
          "output_type": "stream",
          "text": [
            "[Sanity] step 695: gen mean=-0.2943, std=0.7406, probe_RMSE=0.052856\n"
          ]
        },
        {
          "name": "stderr",
          "output_type": "stream",
          "text": [
            "\n",
            "\u001b[A\n",
            "\u001b[A\n",
            "\u001b[A\n",
            "\u001b[A\n",
            "\u001b[A\n",
            "\n"
          ]
        },
        {
          "name": "stdout",
          "output_type": "stream",
          "text": [
            "[Sanity] step 700: gen mean=-0.3254, std=0.7275, probe_RMSE=0.066742\n"
          ]
        },
        {
          "name": "stderr",
          "output_type": "stream",
          "text": [
            "iter:  47%|████▋     | 702/1500 [02:00<02:50,  4.67it/s]\u001b[A\u001b[A\n",
            "\u001b[A\n",
            "\u001b[A\n",
            "\u001b[A\n",
            "\u001b[A\n",
            "\n"
          ]
        },
        {
          "name": "stdout",
          "output_type": "stream",
          "text": [
            "[Sanity] step 705: gen mean=-0.3625, std=0.6842, probe_RMSE=0.075410\n"
          ]
        },
        {
          "name": "stderr",
          "output_type": "stream",
          "text": [
            "iter:  47%|████▋     | 707/1500 [02:01<02:53,  4.58it/s]\u001b[A\u001b[A\n",
            "\u001b[A\n",
            "\u001b[A\n",
            "\u001b[A\n",
            "\u001b[A"
          ]
        },
        {
          "name": "stdout",
          "output_type": "stream",
          "text": [
            "[Sanity] step 710: gen mean=-0.3910, std=0.6456, probe_RMSE=0.080130\n"
          ]
        },
        {
          "name": "stderr",
          "output_type": "stream",
          "text": [
            "\n",
            "\u001b[A\n",
            "\u001b[A\n",
            "\u001b[A\n",
            "\u001b[A\n",
            "\u001b[A"
          ]
        },
        {
          "name": "stdout",
          "output_type": "stream",
          "text": [
            "[Sanity] step 715: gen mean=-0.4136, std=0.6227, probe_RMSE=0.065344\n"
          ]
        },
        {
          "name": "stderr",
          "output_type": "stream",
          "text": [
            "\n",
            "\u001b[A\n",
            "\u001b[A\n",
            "\u001b[A\n",
            "\u001b[A\n",
            "\u001b[A"
          ]
        },
        {
          "name": "stdout",
          "output_type": "stream",
          "text": [
            "[Sanity] step 720: gen mean=-0.4206, std=0.6104, probe_RMSE=0.054117\n"
          ]
        },
        {
          "name": "stderr",
          "output_type": "stream",
          "text": [
            "\n",
            "\u001b[A\n",
            "\u001b[A\n",
            "\u001b[A\n",
            "\u001b[A\n",
            "\u001b[A\n",
            "\n"
          ]
        },
        {
          "name": "stdout",
          "output_type": "stream",
          "text": [
            "[Sanity] step 725: gen mean=-0.4228, std=0.6060, probe_RMSE=0.050637\n"
          ]
        },
        {
          "name": "stderr",
          "output_type": "stream",
          "text": [
            "iter:  48%|████▊     | 727/1500 [02:06<02:50,  4.54it/s]\u001b[A\u001b[A\n",
            "\u001b[A\n",
            "\u001b[A\n",
            "\u001b[A\n",
            "\u001b[A\n",
            "\n"
          ]
        },
        {
          "name": "stdout",
          "output_type": "stream",
          "text": [
            "[Sanity] step 730: gen mean=-0.4069, std=0.6194, probe_RMSE=0.051849\n"
          ]
        },
        {
          "name": "stderr",
          "output_type": "stream",
          "text": [
            "iter:  49%|████▉     | 732/1500 [02:07<02:38,  4.85it/s]\u001b[A\u001b[A\n",
            "\u001b[A\n",
            "\u001b[A\n",
            "\u001b[A\n",
            "\u001b[A"
          ]
        },
        {
          "name": "stdout",
          "output_type": "stream",
          "text": [
            "[Sanity] step 735: gen mean=-0.3858, std=0.6359, probe_RMSE=0.059115\n"
          ]
        },
        {
          "name": "stderr",
          "output_type": "stream",
          "text": [
            "\n",
            "\u001b[A\n",
            "\u001b[A\n",
            "\u001b[A\n",
            "\u001b[A\n",
            "\u001b[A"
          ]
        },
        {
          "name": "stdout",
          "output_type": "stream",
          "text": [
            "[Sanity] step 740: gen mean=-0.3578, std=0.6515, probe_RMSE=0.053048\n"
          ]
        },
        {
          "name": "stderr",
          "output_type": "stream",
          "text": [
            "\n",
            "\u001b[A\n",
            "\u001b[A\n",
            "\u001b[A\n",
            "\u001b[A\n",
            "\u001b[A"
          ]
        },
        {
          "name": "stdout",
          "output_type": "stream",
          "text": [
            "[Sanity] step 745: gen mean=-0.3158, std=0.6853, probe_RMSE=0.067053\n"
          ]
        },
        {
          "name": "stderr",
          "output_type": "stream",
          "text": [
            "\n",
            "\u001b[A\n",
            "\u001b[A\n",
            "\u001b[A\n",
            "\u001b[A\n",
            "\u001b[A"
          ]
        },
        {
          "name": "stdout",
          "output_type": "stream",
          "text": [
            "[Sanity] step 750: gen mean=-0.3052, std=0.6921, probe_RMSE=0.045318\n"
          ]
        },
        {
          "name": "stderr",
          "output_type": "stream",
          "text": [
            "\n",
            "\u001b[A\n",
            "\u001b[A\n",
            "\u001b[A\n",
            "\u001b[A\n",
            "\u001b[A"
          ]
        },
        {
          "name": "stdout",
          "output_type": "stream",
          "text": [
            "[Sanity] step 755: gen mean=-0.3087, std=0.6880, probe_RMSE=0.049214\n"
          ]
        },
        {
          "name": "stderr",
          "output_type": "stream",
          "text": [
            "\n",
            "\u001b[A\n",
            "\u001b[A\n",
            "\u001b[A\n",
            "\u001b[A\n",
            "\u001b[A"
          ]
        },
        {
          "name": "stdout",
          "output_type": "stream",
          "text": [
            "[Sanity] step 760: gen mean=-0.3118, std=0.6726, probe_RMSE=0.057984\n"
          ]
        },
        {
          "name": "stderr",
          "output_type": "stream",
          "text": [
            "\n",
            "\u001b[A\n",
            "\u001b[A\n",
            "\u001b[A\n",
            "\u001b[A\n",
            "\u001b[A"
          ]
        },
        {
          "name": "stdout",
          "output_type": "stream",
          "text": [
            "[Sanity] step 765: gen mean=-0.3396, std=0.6517, probe_RMSE=0.049787\n"
          ]
        },
        {
          "name": "stderr",
          "output_type": "stream",
          "text": [
            "\n",
            "\u001b[A\n",
            "\u001b[A\n",
            "\u001b[A\n",
            "\u001b[A\n",
            "\u001b[A\n",
            "\n"
          ]
        },
        {
          "name": "stdout",
          "output_type": "stream",
          "text": [
            "[Sanity] step 770: gen mean=-0.3581, std=0.6369, probe_RMSE=0.061762\n"
          ]
        },
        {
          "name": "stderr",
          "output_type": "stream",
          "text": [
            "iter:  51%|█████▏    | 772/1500 [02:16<02:43,  4.45it/s]\u001b[A\u001b[A\n",
            "\u001b[A\n",
            "\u001b[A\n",
            "\u001b[A\n",
            "\u001b[A"
          ]
        },
        {
          "name": "stdout",
          "output_type": "stream",
          "text": [
            "[Sanity] step 775: gen mean=-0.3644, std=0.6230, probe_RMSE=0.057808\n"
          ]
        },
        {
          "name": "stderr",
          "output_type": "stream",
          "text": [
            "\n",
            "\u001b[A\n",
            "\u001b[A\n",
            "\u001b[A\n",
            "\u001b[A\n",
            "\u001b[A"
          ]
        },
        {
          "name": "stdout",
          "output_type": "stream",
          "text": [
            "[Sanity] step 780: gen mean=-0.3814, std=0.6245, probe_RMSE=0.056273\n"
          ]
        },
        {
          "name": "stderr",
          "output_type": "stream",
          "text": [
            "\n",
            "\u001b[A\n",
            "\u001b[A\n",
            "\u001b[A\n",
            "\u001b[A\n",
            "\u001b[A"
          ]
        },
        {
          "name": "stdout",
          "output_type": "stream",
          "text": [
            "[Sanity] step 785: gen mean=-0.3777, std=0.6390, probe_RMSE=0.057630\n"
          ]
        },
        {
          "name": "stderr",
          "output_type": "stream",
          "text": [
            "\n",
            "\u001b[A\n",
            "\u001b[A\n",
            "\u001b[A\n",
            "\u001b[A\n",
            "\u001b[A"
          ]
        },
        {
          "name": "stdout",
          "output_type": "stream",
          "text": [
            "[Sanity] step 790: gen mean=-0.3634, std=0.6519, probe_RMSE=0.054654\n"
          ]
        },
        {
          "name": "stderr",
          "output_type": "stream",
          "text": [
            "\n",
            "\u001b[A\n",
            "\u001b[A\n",
            "\u001b[A\n",
            "\u001b[A\n",
            "\u001b[A\n",
            "\n"
          ]
        },
        {
          "name": "stdout",
          "output_type": "stream",
          "text": [
            "[Sanity] step 795: gen mean=-0.3549, std=0.6743, probe_RMSE=0.054102\n"
          ]
        },
        {
          "name": "stderr",
          "output_type": "stream",
          "text": [
            "iter:  53%|█████▎    | 797/1500 [02:22<02:46,  4.23it/s]\u001b[A\u001b[A\n",
            "\u001b[A\n",
            "\u001b[A\n",
            "\u001b[A\n",
            "\u001b[A"
          ]
        },
        {
          "name": "stdout",
          "output_type": "stream",
          "text": [
            "[Sanity] step 800: gen mean=-0.3460, std=0.6887, probe_RMSE=0.058807\n"
          ]
        },
        {
          "name": "stderr",
          "output_type": "stream",
          "text": [
            "\n",
            "\u001b[A\n",
            "\u001b[A\n",
            "\u001b[A\n",
            "\u001b[A\n",
            "\u001b[A"
          ]
        },
        {
          "name": "stdout",
          "output_type": "stream",
          "text": [
            "[Sanity] step 805: gen mean=-0.3519, std=0.6778, probe_RMSE=0.045280\n"
          ]
        },
        {
          "name": "stderr",
          "output_type": "stream",
          "text": [
            "\n",
            "\u001b[A\n",
            "\u001b[A\n",
            "\u001b[A\n",
            "\u001b[A\n",
            "\u001b[A"
          ]
        },
        {
          "name": "stdout",
          "output_type": "stream",
          "text": [
            "[Sanity] step 810: gen mean=-0.3620, std=0.6701, probe_RMSE=0.050828\n"
          ]
        },
        {
          "name": "stderr",
          "output_type": "stream",
          "text": [
            "\n",
            "\u001b[A\n",
            "\u001b[A\n",
            "\u001b[A\n",
            "\u001b[A\n",
            "\u001b[A"
          ]
        },
        {
          "name": "stdout",
          "output_type": "stream",
          "text": [
            "[Sanity] step 815: gen mean=-0.3702, std=0.6716, probe_RMSE=0.046698\n"
          ]
        },
        {
          "name": "stderr",
          "output_type": "stream",
          "text": [
            "\n",
            "\u001b[A\n",
            "\u001b[A\n",
            "\u001b[A\n",
            "\u001b[A\n",
            "\u001b[A"
          ]
        },
        {
          "name": "stdout",
          "output_type": "stream",
          "text": [
            "[Sanity] step 820: gen mean=-0.3608, std=0.6817, probe_RMSE=0.045618\n"
          ]
        },
        {
          "name": "stderr",
          "output_type": "stream",
          "text": [
            "\n",
            "\u001b[A\n",
            "\u001b[A\n",
            "\u001b[A\n",
            "\u001b[A\n",
            "\u001b[A\n",
            "\n"
          ]
        },
        {
          "name": "stdout",
          "output_type": "stream",
          "text": [
            "[Sanity] step 825: gen mean=-0.3516, std=0.7007, probe_RMSE=0.049463\n"
          ]
        },
        {
          "name": "stderr",
          "output_type": "stream",
          "text": [
            "iter:  55%|█████▌    | 827/1500 [02:29<02:36,  4.30it/s]\u001b[A\u001b[A\n",
            "\u001b[A\n",
            "\u001b[A\n",
            "\u001b[A\n",
            "\u001b[A\n",
            "\n"
          ]
        },
        {
          "name": "stdout",
          "output_type": "stream",
          "text": [
            "[Sanity] step 830: gen mean=-0.3475, std=0.7113, probe_RMSE=0.043818\n"
          ]
        },
        {
          "name": "stderr",
          "output_type": "stream",
          "text": [
            "iter:  55%|█████▌    | 832/1500 [02:30<02:31,  4.40it/s]\u001b[A\u001b[A\n",
            "\u001b[A\n",
            "\u001b[A\n",
            "\u001b[A\n",
            "\u001b[A"
          ]
        },
        {
          "name": "stdout",
          "output_type": "stream",
          "text": [
            "[Sanity] step 835: gen mean=-0.3552, std=0.7058, probe_RMSE=0.040287\n"
          ]
        },
        {
          "name": "stderr",
          "output_type": "stream",
          "text": [
            "\n",
            "\u001b[A\n",
            "\u001b[A\n",
            "\u001b[A\n",
            "\u001b[A\n",
            "\u001b[A"
          ]
        },
        {
          "name": "stdout",
          "output_type": "stream",
          "text": [
            "[Sanity] step 840: gen mean=-0.3550, std=0.7122, probe_RMSE=0.044388\n"
          ]
        },
        {
          "name": "stderr",
          "output_type": "stream",
          "text": [
            "\n",
            "\u001b[A\n",
            "\u001b[A\n",
            "\u001b[A\n",
            "\u001b[A\n",
            "\u001b[A\n",
            "\n"
          ]
        },
        {
          "name": "stdout",
          "output_type": "stream",
          "text": [
            "[Sanity] step 845: gen mean=-0.3507, std=0.7233, probe_RMSE=0.043529\n"
          ]
        },
        {
          "name": "stderr",
          "output_type": "stream",
          "text": [
            "iter:  56%|█████▋    | 847/1500 [02:34<02:24,  4.53it/s]\u001b[A\u001b[A\n",
            "\u001b[A\n",
            "\u001b[A\n",
            "\u001b[A\n",
            "\u001b[A"
          ]
        },
        {
          "name": "stdout",
          "output_type": "stream",
          "text": [
            "[Sanity] step 850: gen mean=-0.3533, std=0.7172, probe_RMSE=0.044423\n"
          ]
        },
        {
          "name": "stderr",
          "output_type": "stream",
          "text": [
            "\n",
            "\u001b[A\n",
            "\u001b[A\n",
            "\u001b[A\n",
            "\u001b[A\n",
            "\u001b[A"
          ]
        },
        {
          "name": "stdout",
          "output_type": "stream",
          "text": [
            "[Sanity] step 855: gen mean=-0.3501, std=0.7235, probe_RMSE=0.048008\n"
          ]
        },
        {
          "name": "stderr",
          "output_type": "stream",
          "text": [
            "\n",
            "\u001b[A\n",
            "\u001b[A\n",
            "\u001b[A\n",
            "\u001b[A\n",
            "\u001b[A\n",
            "\n"
          ]
        },
        {
          "name": "stdout",
          "output_type": "stream",
          "text": [
            "[Sanity] step 860: gen mean=-0.3387, std=0.7332, probe_RMSE=0.048207\n"
          ]
        },
        {
          "name": "stderr",
          "output_type": "stream",
          "text": [
            "iter:  57%|█████▋    | 862/1500 [02:37<02:34,  4.13it/s]\u001b[A\u001b[A\n",
            "\u001b[A\n",
            "\u001b[A\n",
            "\u001b[A\n",
            "\u001b[A"
          ]
        },
        {
          "name": "stdout",
          "output_type": "stream",
          "text": [
            "[Sanity] step 865: gen mean=-0.3306, std=0.7376, probe_RMSE=0.048552\n"
          ]
        },
        {
          "name": "stderr",
          "output_type": "stream",
          "text": [
            "\n",
            "\u001b[A\n",
            "\u001b[A\n",
            "\u001b[A\n",
            "\u001b[A\n",
            "\u001b[A\n",
            "\n"
          ]
        },
        {
          "name": "stdout",
          "output_type": "stream",
          "text": [
            "[Sanity] step 870: gen mean=-0.3359, std=0.7291, probe_RMSE=0.044285\n"
          ]
        },
        {
          "name": "stderr",
          "output_type": "stream",
          "text": [
            "iter:  58%|█████▊    | 872/1500 [02:40<02:15,  4.64it/s]\u001b[A\u001b[A\n",
            "\u001b[A\n",
            "\u001b[A\n",
            "\u001b[A\n",
            "\u001b[A"
          ]
        },
        {
          "name": "stdout",
          "output_type": "stream",
          "text": [
            "[Sanity] step 875: gen mean=-0.3500, std=0.7171, probe_RMSE=0.050237\n"
          ]
        },
        {
          "name": "stderr",
          "output_type": "stream",
          "text": [
            "\n",
            "\u001b[A\n",
            "\u001b[A\n",
            "\u001b[A\n",
            "\u001b[A\n",
            "\u001b[A\n",
            "\n"
          ]
        },
        {
          "name": "stdout",
          "output_type": "stream",
          "text": [
            "[Sanity] step 880: gen mean=-0.3480, std=0.7194, probe_RMSE=0.041336\n"
          ]
        },
        {
          "name": "stderr",
          "output_type": "stream",
          "text": [
            "iter:  59%|█████▉    | 882/1500 [02:42<02:16,  4.52it/s]\u001b[A\u001b[A\n",
            "\u001b[A\n",
            "\u001b[A\n",
            "\u001b[A\n",
            "\u001b[A"
          ]
        },
        {
          "name": "stdout",
          "output_type": "stream",
          "text": [
            "[Sanity] step 885: gen mean=-0.3549, std=0.7155, probe_RMSE=0.057047\n"
          ]
        },
        {
          "name": "stderr",
          "output_type": "stream",
          "text": [
            "\n",
            "\u001b[A\n",
            "\u001b[A\n",
            "\u001b[A\n",
            "\u001b[A\n",
            "\u001b[A"
          ]
        },
        {
          "name": "stdout",
          "output_type": "stream",
          "text": [
            "[Sanity] step 890: gen mean=-0.3631, std=0.7144, probe_RMSE=0.040026\n"
          ]
        },
        {
          "name": "stderr",
          "output_type": "stream",
          "text": [
            "\n",
            "\u001b[A\n",
            "\u001b[A\n",
            "\u001b[A\n",
            "\u001b[A\n",
            "\u001b[A\n",
            "\n"
          ]
        },
        {
          "name": "stdout",
          "output_type": "stream",
          "text": [
            "[Sanity] step 895: gen mean=-0.3798, std=0.7020, probe_RMSE=0.042606\n"
          ]
        },
        {
          "name": "stderr",
          "output_type": "stream",
          "text": [
            "iter:  60%|█████▉    | 897/1500 [02:45<02:13,  4.52it/s]\u001b[A\u001b[A\n",
            "\u001b[A\n",
            "\u001b[A\n",
            "\u001b[A\n",
            "\u001b[A\n",
            "\n"
          ]
        },
        {
          "name": "stdout",
          "output_type": "stream",
          "text": [
            "[Sanity] step 900: gen mean=-0.3877, std=0.6871, probe_RMSE=0.029325\n"
          ]
        },
        {
          "name": "stderr",
          "output_type": "stream",
          "text": [
            "iter:  60%|██████    | 902/1500 [02:47<02:43,  3.67it/s]\u001b[A\u001b[A\n",
            "\u001b[A\n",
            "\u001b[A\n",
            "\u001b[A\n",
            "\u001b[A"
          ]
        },
        {
          "name": "stdout",
          "output_type": "stream",
          "text": [
            "[Sanity] step 905: gen mean=-0.4117, std=0.6864, probe_RMSE=0.033166\n"
          ]
        },
        {
          "name": "stderr",
          "output_type": "stream",
          "text": [
            "\n",
            "\u001b[A\n",
            "\u001b[A\n",
            "\u001b[A\n",
            "\u001b[A\n",
            "\u001b[A"
          ]
        },
        {
          "name": "stdout",
          "output_type": "stream",
          "text": [
            "[Sanity] step 910: gen mean=-0.4139, std=0.6838, probe_RMSE=0.025495\n"
          ]
        },
        {
          "name": "stderr",
          "output_type": "stream",
          "text": [
            "\n",
            "\u001b[A\n",
            "\u001b[A\n",
            "\u001b[A\n",
            "\u001b[A\n",
            "\u001b[A\n",
            "\n"
          ]
        },
        {
          "name": "stdout",
          "output_type": "stream",
          "text": [
            "[Sanity] step 915: gen mean=-0.4093, std=0.6882, probe_RMSE=0.026379\n"
          ]
        },
        {
          "name": "stderr",
          "output_type": "stream",
          "text": [
            "iter:  61%|██████    | 917/1500 [02:50<02:08,  4.54it/s]\u001b[A\u001b[A\n",
            "\u001b[A\n",
            "\u001b[A\n",
            "\u001b[A\n",
            "\n"
          ]
        },
        {
          "name": "stdout",
          "output_type": "stream",
          "text": [
            "[Sanity] step 920: gen mean=-0.4039, std=0.6974, probe_RMSE=0.024741\n"
          ]
        },
        {
          "name": "stderr",
          "output_type": "stream",
          "text": [
            "iter:  62%|██████▏   | 925/1500 [02:51<00:47, 12.09it/s]\u001b[A\u001b[A\n",
            "\u001b[A\n",
            "\u001b[A"
          ]
        },
        {
          "name": "stdout",
          "output_type": "stream",
          "text": [
            "[Sanity] step 925: gen mean=-0.4130, std=0.6942, probe_RMSE=0.022278\n"
          ]
        },
        {
          "name": "stderr",
          "output_type": "stream",
          "text": [
            "\n",
            "\u001b[A\n",
            "\u001b[A"
          ]
        },
        {
          "name": "stdout",
          "output_type": "stream",
          "text": [
            "[Sanity] step 930: gen mean=-0.4127, std=0.6900, probe_RMSE=0.027121\n"
          ]
        },
        {
          "name": "stderr",
          "output_type": "stream",
          "text": [
            "\n",
            "\u001b[A\n",
            "\u001b[A\n",
            "\u001b[A"
          ]
        },
        {
          "name": "stdout",
          "output_type": "stream",
          "text": [
            "[Sanity] step 935: gen mean=-0.4092, std=0.6902, probe_RMSE=0.025522\n"
          ]
        },
        {
          "name": "stderr",
          "output_type": "stream",
          "text": [
            "\n",
            "\u001b[A\n",
            "\u001b[A"
          ]
        },
        {
          "name": "stdout",
          "output_type": "stream",
          "text": [
            "[Sanity] step 940: gen mean=-0.3906, std=0.7005, probe_RMSE=0.026086\n"
          ]
        },
        {
          "name": "stderr",
          "output_type": "stream",
          "text": [
            "\n",
            "\u001b[A\n",
            "\u001b[A\n",
            "\u001b[A"
          ]
        },
        {
          "name": "stdout",
          "output_type": "stream",
          "text": [
            "[Sanity] step 945: gen mean=-0.3954, std=0.6990, probe_RMSE=0.024281\n"
          ]
        },
        {
          "name": "stderr",
          "output_type": "stream",
          "text": [
            "\n",
            "\u001b[A\n",
            "\u001b[A"
          ]
        },
        {
          "name": "stdout",
          "output_type": "stream",
          "text": [
            "[Sanity] step 950: gen mean=-0.3933, std=0.7028, probe_RMSE=0.029636\n"
          ]
        },
        {
          "name": "stderr",
          "output_type": "stream",
          "text": [
            "\n",
            "\u001b[A\n",
            "\u001b[A\n",
            "\u001b[A"
          ]
        },
        {
          "name": "stdout",
          "output_type": "stream",
          "text": [
            "[Sanity] step 955: gen mean=-0.3954, std=0.7048, probe_RMSE=0.020170\n"
          ]
        },
        {
          "name": "stderr",
          "output_type": "stream",
          "text": [
            "\n",
            "\u001b[A\n",
            "\u001b[A"
          ]
        },
        {
          "name": "stdout",
          "output_type": "stream",
          "text": [
            "[Sanity] step 960: gen mean=-0.3871, std=0.7071, probe_RMSE=0.030933\n"
          ]
        },
        {
          "name": "stderr",
          "output_type": "stream",
          "text": [
            "\n",
            "\u001b[A\n",
            "\u001b[A\n",
            "\u001b[A"
          ]
        },
        {
          "name": "stdout",
          "output_type": "stream",
          "text": [
            "[Sanity] step 965: gen mean=-0.3721, std=0.6999, probe_RMSE=0.030919\n"
          ]
        },
        {
          "name": "stderr",
          "output_type": "stream",
          "text": [
            "\n",
            "\u001b[A\n",
            "\u001b[A"
          ]
        },
        {
          "name": "stdout",
          "output_type": "stream",
          "text": [
            "[Sanity] step 970: gen mean=-0.3796, std=0.6907, probe_RMSE=0.027442\n"
          ]
        },
        {
          "name": "stderr",
          "output_type": "stream",
          "text": [
            "\n",
            "\u001b[A\n",
            "\u001b[A\n",
            "\u001b[A"
          ]
        },
        {
          "name": "stdout",
          "output_type": "stream",
          "text": [
            "[Sanity] step 975: gen mean=-0.3923, std=0.6784, probe_RMSE=0.029206\n"
          ]
        },
        {
          "name": "stderr",
          "output_type": "stream",
          "text": [
            "\n",
            "\u001b[A\n",
            "\u001b[A"
          ]
        },
        {
          "name": "stdout",
          "output_type": "stream",
          "text": [
            "[Sanity] step 980: gen mean=-0.3863, std=0.6840, probe_RMSE=0.029117\n"
          ]
        },
        {
          "name": "stderr",
          "output_type": "stream",
          "text": [
            "\n",
            "\u001b[A\n",
            "\u001b[A\n",
            "\u001b[A"
          ]
        },
        {
          "name": "stdout",
          "output_type": "stream",
          "text": [
            "[Sanity] step 985: gen mean=-0.3965, std=0.6729, probe_RMSE=0.031137\n"
          ]
        },
        {
          "name": "stderr",
          "output_type": "stream",
          "text": [
            "\n",
            "\u001b[A\n",
            "\u001b[A"
          ]
        },
        {
          "name": "stdout",
          "output_type": "stream",
          "text": [
            "[Sanity] step 990: gen mean=-0.3972, std=0.6667, probe_RMSE=0.030862\n"
          ]
        },
        {
          "name": "stderr",
          "output_type": "stream",
          "text": [
            "\n",
            "\u001b[A\n",
            "\u001b[A"
          ]
        },
        {
          "name": "stdout",
          "output_type": "stream",
          "text": [
            "[Sanity] step 995: gen mean=-0.4017, std=0.6570, probe_RMSE=0.028389\n"
          ]
        },
        {
          "name": "stderr",
          "output_type": "stream",
          "text": [
            "\n",
            "\u001b[A\n",
            "\u001b[A\n",
            "\u001b[A"
          ]
        },
        {
          "name": "stdout",
          "output_type": "stream",
          "text": [
            "[Sanity] step 1000: gen mean=-0.3957, std=0.6578, probe_RMSE=0.033937\n"
          ]
        },
        {
          "name": "stderr",
          "output_type": "stream",
          "text": [
            "\n",
            "\u001b[A\n",
            "\u001b[A\n",
            "\n"
          ]
        },
        {
          "name": "stdout",
          "output_type": "stream",
          "text": [
            "[Sanity] step 1005: gen mean=-0.3871, std=0.6660, probe_RMSE=0.032887\n"
          ]
        },
        {
          "name": "stderr",
          "output_type": "stream",
          "text": [
            "iter:  67%|██████▋   | 1010/1500 [02:56<00:27, 17.93it/s]\u001b[A\u001b[A\n",
            "\u001b[A\n",
            "\u001b[A"
          ]
        },
        {
          "name": "stdout",
          "output_type": "stream",
          "text": [
            "[Sanity] step 1010: gen mean=-0.3987, std=0.6508, probe_RMSE=0.049916\n"
          ]
        },
        {
          "name": "stderr",
          "output_type": "stream",
          "text": [
            "\n",
            "\u001b[A\n",
            "\u001b[A"
          ]
        },
        {
          "name": "stdout",
          "output_type": "stream",
          "text": [
            "[Sanity] step 1015: gen mean=-0.4190, std=0.6250, probe_RMSE=0.042301\n"
          ]
        },
        {
          "name": "stderr",
          "output_type": "stream",
          "text": [
            "\n",
            "\u001b[A\n",
            "\u001b[A\n",
            "\u001b[A"
          ]
        },
        {
          "name": "stdout",
          "output_type": "stream",
          "text": [
            "[Sanity] step 1020: gen mean=-0.4203, std=0.6211, probe_RMSE=0.031490\n"
          ]
        },
        {
          "name": "stderr",
          "output_type": "stream",
          "text": [
            "\n",
            "\u001b[A\n",
            "\u001b[A\n",
            "\n"
          ]
        },
        {
          "name": "stdout",
          "output_type": "stream",
          "text": [
            "[Sanity] step 1025: gen mean=-0.4173, std=0.6205, probe_RMSE=0.030421\n"
          ]
        },
        {
          "name": "stderr",
          "output_type": "stream",
          "text": [
            "iter:  69%|██████▊   | 1030/1500 [02:57<00:26, 17.46it/s]\u001b[A\u001b[A\n",
            "\u001b[A\n",
            "\u001b[A"
          ]
        },
        {
          "name": "stdout",
          "output_type": "stream",
          "text": [
            "[Sanity] step 1030: gen mean=-0.4128, std=0.6237, probe_RMSE=0.031955\n"
          ]
        },
        {
          "name": "stderr",
          "output_type": "stream",
          "text": [
            "\n",
            "\u001b[A\n",
            "\u001b[A\n",
            "\n"
          ]
        },
        {
          "name": "stdout",
          "output_type": "stream",
          "text": [
            "[Sanity] step 1035: gen mean=-0.3912, std=0.6494, probe_RMSE=0.060733\n"
          ]
        },
        {
          "name": "stderr",
          "output_type": "stream",
          "text": [
            "iter:  69%|██████▉   | 1040/1500 [02:57<00:25, 17.94it/s]\u001b[A\u001b[A\n",
            "\u001b[A\n",
            "\u001b[A"
          ]
        },
        {
          "name": "stdout",
          "output_type": "stream",
          "text": [
            "[Sanity] step 1040: gen mean=-0.3601, std=0.6799, probe_RMSE=0.045676\n"
          ]
        },
        {
          "name": "stderr",
          "output_type": "stream",
          "text": [
            "\n",
            "\u001b[A\n",
            "\u001b[A"
          ]
        },
        {
          "name": "stdout",
          "output_type": "stream",
          "text": [
            "[Sanity] step 1045: gen mean=-0.3303, std=0.7034, probe_RMSE=0.058700\n"
          ]
        },
        {
          "name": "stderr",
          "output_type": "stream",
          "text": [
            "\n",
            "\u001b[A\n",
            "\u001b[A\n",
            "\u001b[A"
          ]
        },
        {
          "name": "stdout",
          "output_type": "stream",
          "text": [
            "[Sanity] step 1050: gen mean=-0.3073, std=0.7154, probe_RMSE=0.036001\n"
          ]
        },
        {
          "name": "stderr",
          "output_type": "stream",
          "text": [
            "\n",
            "\u001b[A\n",
            "\u001b[A"
          ]
        },
        {
          "name": "stdout",
          "output_type": "stream",
          "text": [
            "[Sanity] step 1055: gen mean=-0.3072, std=0.7100, probe_RMSE=0.033628\n"
          ]
        },
        {
          "name": "stderr",
          "output_type": "stream",
          "text": [
            "\n",
            "\u001b[A\n",
            "\u001b[A\n",
            "\u001b[A"
          ]
        },
        {
          "name": "stdout",
          "output_type": "stream",
          "text": [
            "[Sanity] step 1060: gen mean=-0.2996, std=0.7144, probe_RMSE=0.039116\n"
          ]
        },
        {
          "name": "stderr",
          "output_type": "stream",
          "text": [
            "\n",
            "\u001b[A\n",
            "\u001b[A"
          ]
        },
        {
          "name": "stdout",
          "output_type": "stream",
          "text": [
            "[Sanity] step 1065: gen mean=-0.3077, std=0.7026, probe_RMSE=0.047506\n"
          ]
        },
        {
          "name": "stderr",
          "output_type": "stream",
          "text": [
            "\n",
            "\u001b[A\n",
            "\u001b[A\n",
            "\u001b[A"
          ]
        },
        {
          "name": "stdout",
          "output_type": "stream",
          "text": [
            "[Sanity] step 1070: gen mean=-0.3123, std=0.6960, probe_RMSE=0.045440\n"
          ]
        },
        {
          "name": "stderr",
          "output_type": "stream",
          "text": [
            "\n",
            "\u001b[A\n",
            "\u001b[A"
          ]
        },
        {
          "name": "stdout",
          "output_type": "stream",
          "text": [
            "[Sanity] step 1075: gen mean=-0.3277, std=0.6852, probe_RMSE=0.058011\n"
          ]
        },
        {
          "name": "stderr",
          "output_type": "stream",
          "text": [
            "\n",
            "\u001b[A\n",
            "\u001b[A\n",
            "\u001b[A"
          ]
        },
        {
          "name": "stdout",
          "output_type": "stream",
          "text": [
            "[Sanity] step 1080: gen mean=-0.3466, std=0.6663, probe_RMSE=0.059362\n"
          ]
        },
        {
          "name": "stderr",
          "output_type": "stream",
          "text": [
            "\n",
            "\u001b[A\n",
            "\u001b[A"
          ]
        },
        {
          "name": "stdout",
          "output_type": "stream",
          "text": [
            "[Sanity] step 1085: gen mean=-0.3584, std=0.6550, probe_RMSE=0.052074\n"
          ]
        },
        {
          "name": "stderr",
          "output_type": "stream",
          "text": [
            "\n",
            "\u001b[A\n",
            "\u001b[A\n",
            "\u001b[A"
          ]
        },
        {
          "name": "stdout",
          "output_type": "stream",
          "text": [
            "[Sanity] step 1090: gen mean=-0.3732, std=0.6421, probe_RMSE=0.047648\n"
          ]
        },
        {
          "name": "stderr",
          "output_type": "stream",
          "text": [
            "\n",
            "\u001b[A\n",
            "\u001b[A"
          ]
        },
        {
          "name": "stdout",
          "output_type": "stream",
          "text": [
            "[Sanity] step 1095: gen mean=-0.3841, std=0.6403, probe_RMSE=0.038669\n"
          ]
        },
        {
          "name": "stderr",
          "output_type": "stream",
          "text": [
            "\n",
            "\u001b[A\n",
            "\u001b[A\n",
            "\u001b[A"
          ]
        },
        {
          "name": "stdout",
          "output_type": "stream",
          "text": [
            "[Sanity] step 1100: gen mean=-0.3872, std=0.6383, probe_RMSE=0.027872\n"
          ]
        },
        {
          "name": "stderr",
          "output_type": "stream",
          "text": [
            "\n",
            "\u001b[A\n",
            "\u001b[A"
          ]
        },
        {
          "name": "stdout",
          "output_type": "stream",
          "text": [
            "[Sanity] step 1105: gen mean=-0.3962, std=0.6360, probe_RMSE=0.025930\n"
          ]
        },
        {
          "name": "stderr",
          "output_type": "stream",
          "text": [
            "\n",
            "\u001b[A\n",
            "\u001b[A\n",
            "\u001b[A"
          ]
        },
        {
          "name": "stdout",
          "output_type": "stream",
          "text": [
            "[Sanity] step 1110: gen mean=-0.4056, std=0.6324, probe_RMSE=0.024182\n"
          ]
        },
        {
          "name": "stderr",
          "output_type": "stream",
          "text": [
            "\n",
            "\u001b[A\n",
            "\u001b[A"
          ]
        },
        {
          "name": "stdout",
          "output_type": "stream",
          "text": [
            "[Sanity] step 1115: gen mean=-0.4086, std=0.6297, probe_RMSE=0.028081\n"
          ]
        },
        {
          "name": "stderr",
          "output_type": "stream",
          "text": [
            "\n",
            "\u001b[A\n",
            "\u001b[A\n",
            "\u001b[A"
          ]
        },
        {
          "name": "stdout",
          "output_type": "stream",
          "text": [
            "[Sanity] step 1120: gen mean=-0.4165, std=0.6108, probe_RMSE=0.032921\n"
          ]
        },
        {
          "name": "stderr",
          "output_type": "stream",
          "text": [
            "\n",
            "\u001b[A\n",
            "\u001b[A"
          ]
        },
        {
          "name": "stdout",
          "output_type": "stream",
          "text": [
            "[Sanity] step 1125: gen mean=-0.4162, std=0.6032, probe_RMSE=0.031654\n"
          ]
        },
        {
          "name": "stderr",
          "output_type": "stream",
          "text": [
            "\n",
            "\u001b[A\n",
            "\u001b[A\n",
            "\u001b[A"
          ]
        },
        {
          "name": "stdout",
          "output_type": "stream",
          "text": [
            "[Sanity] step 1130: gen mean=-0.4212, std=0.6038, probe_RMSE=0.032419\n"
          ]
        },
        {
          "name": "stderr",
          "output_type": "stream",
          "text": [
            "\n",
            "\u001b[A\n",
            "\u001b[A"
          ]
        },
        {
          "name": "stdout",
          "output_type": "stream",
          "text": [
            "[Sanity] step 1135: gen mean=-0.4129, std=0.6012, probe_RMSE=0.031819\n"
          ]
        },
        {
          "name": "stderr",
          "output_type": "stream",
          "text": [
            "\n",
            "\u001b[A\n",
            "\u001b[A\n",
            "\u001b[A"
          ]
        },
        {
          "name": "stdout",
          "output_type": "stream",
          "text": [
            "[Sanity] step 1140: gen mean=-0.4107, std=0.5959, probe_RMSE=0.035448\n"
          ]
        },
        {
          "name": "stderr",
          "output_type": "stream",
          "text": [
            "\n",
            "\u001b[A\n",
            "\u001b[A"
          ]
        },
        {
          "name": "stdout",
          "output_type": "stream",
          "text": [
            "[Sanity] step 1145: gen mean=-0.4030, std=0.6047, probe_RMSE=0.039447\n"
          ]
        },
        {
          "name": "stderr",
          "output_type": "stream",
          "text": [
            "\n",
            "\u001b[A\n",
            "\u001b[A\n",
            "\u001b[A"
          ]
        },
        {
          "name": "stdout",
          "output_type": "stream",
          "text": [
            "[Sanity] step 1150: gen mean=-0.3671, std=0.6339, probe_RMSE=0.069205\n"
          ]
        },
        {
          "name": "stderr",
          "output_type": "stream",
          "text": [
            "\n",
            "\u001b[A\n",
            "\u001b[A"
          ]
        },
        {
          "name": "stdout",
          "output_type": "stream",
          "text": [
            "[Sanity] step 1155: gen mean=-0.3173, std=0.6759, probe_RMSE=0.073698\n"
          ]
        },
        {
          "name": "stderr",
          "output_type": "stream",
          "text": [
            "\n",
            "\u001b[A\n",
            "\u001b[A\n",
            "\u001b[A"
          ]
        },
        {
          "name": "stdout",
          "output_type": "stream",
          "text": [
            "[Sanity] step 1160: gen mean=-0.2865, std=0.7071, probe_RMSE=0.072134\n"
          ]
        },
        {
          "name": "stderr",
          "output_type": "stream",
          "text": [
            "\n",
            "\u001b[A\n",
            "\u001b[A"
          ]
        },
        {
          "name": "stdout",
          "output_type": "stream",
          "text": [
            "[Sanity] step 1165: gen mean=-0.2619, std=0.7172, probe_RMSE=0.054464\n"
          ]
        },
        {
          "name": "stderr",
          "output_type": "stream",
          "text": [
            "\n",
            "\u001b[A\n",
            "\u001b[A\n",
            "\u001b[A"
          ]
        },
        {
          "name": "stdout",
          "output_type": "stream",
          "text": [
            "[Sanity] step 1170: gen mean=-0.2517, std=0.7337, probe_RMSE=0.049460\n"
          ]
        },
        {
          "name": "stderr",
          "output_type": "stream",
          "text": [
            "\n",
            "\u001b[A\n",
            "\u001b[A"
          ]
        },
        {
          "name": "stdout",
          "output_type": "stream",
          "text": [
            "[Sanity] step 1175: gen mean=-0.2466, std=0.7303, probe_RMSE=0.053571\n"
          ]
        },
        {
          "name": "stderr",
          "output_type": "stream",
          "text": [
            "\n",
            "\u001b[A\n",
            "\u001b[A\n",
            "\u001b[A"
          ]
        },
        {
          "name": "stdout",
          "output_type": "stream",
          "text": [
            "[Sanity] step 1180: gen mean=-0.2545, std=0.7185, probe_RMSE=0.048774\n"
          ]
        },
        {
          "name": "stderr",
          "output_type": "stream",
          "text": [
            "\n",
            "\u001b[A\n",
            "\u001b[A"
          ]
        },
        {
          "name": "stdout",
          "output_type": "stream",
          "text": [
            "[Sanity] step 1185: gen mean=-0.2611, std=0.7025, probe_RMSE=0.056301\n"
          ]
        },
        {
          "name": "stderr",
          "output_type": "stream",
          "text": [
            "\n",
            "\u001b[A\n",
            "\u001b[A\n",
            "\u001b[A"
          ]
        },
        {
          "name": "stdout",
          "output_type": "stream",
          "text": [
            "[Sanity] step 1190: gen mean=-0.2932, std=0.6835, probe_RMSE=0.049218\n"
          ]
        },
        {
          "name": "stderr",
          "output_type": "stream",
          "text": [
            "\n",
            "\u001b[A\n",
            "\u001b[A"
          ]
        },
        {
          "name": "stdout",
          "output_type": "stream",
          "text": [
            "[Sanity] step 1195: gen mean=-0.3242, std=0.6546, probe_RMSE=0.060670\n"
          ]
        },
        {
          "name": "stderr",
          "output_type": "stream",
          "text": [
            "\n",
            "\u001b[A\n",
            "\u001b[A\n",
            "\u001b[A"
          ]
        },
        {
          "name": "stdout",
          "output_type": "stream",
          "text": [
            "[Sanity] step 1200: gen mean=-0.3369, std=0.6517, probe_RMSE=0.051344\n"
          ]
        },
        {
          "name": "stderr",
          "output_type": "stream",
          "text": [
            "\n",
            "\u001b[A\n",
            "\u001b[A"
          ]
        },
        {
          "name": "stdout",
          "output_type": "stream",
          "text": [
            "[Sanity] step 1205: gen mean=-0.3659, std=0.6405, probe_RMSE=0.057807\n"
          ]
        },
        {
          "name": "stderr",
          "output_type": "stream",
          "text": [
            "\n",
            "\u001b[A\n",
            "\u001b[A\n",
            "\u001b[A"
          ]
        },
        {
          "name": "stdout",
          "output_type": "stream",
          "text": [
            "[Sanity] step 1210: gen mean=-0.3750, std=0.6353, probe_RMSE=0.046011\n"
          ]
        },
        {
          "name": "stderr",
          "output_type": "stream",
          "text": [
            "\n",
            "\u001b[A\n",
            "\u001b[A"
          ]
        },
        {
          "name": "stdout",
          "output_type": "stream",
          "text": [
            "[Sanity] step 1215: gen mean=-0.3637, std=0.6476, probe_RMSE=0.051722\n"
          ]
        },
        {
          "name": "stderr",
          "output_type": "stream",
          "text": [
            "\n",
            "\u001b[A\n",
            "\u001b[A\n",
            "\u001b[A"
          ]
        },
        {
          "name": "stdout",
          "output_type": "stream",
          "text": [
            "[Sanity] step 1220: gen mean=-0.3674, std=0.6573, probe_RMSE=0.052301\n"
          ]
        },
        {
          "name": "stderr",
          "output_type": "stream",
          "text": [
            "\n",
            "\u001b[A\n",
            "\u001b[A"
          ]
        },
        {
          "name": "stdout",
          "output_type": "stream",
          "text": [
            "[Sanity] step 1225: gen mean=-0.3784, std=0.6565, probe_RMSE=0.051720\n"
          ]
        },
        {
          "name": "stderr",
          "output_type": "stream",
          "text": [
            "\n",
            "\u001b[A\n",
            "\u001b[A\n",
            "\u001b[A"
          ]
        },
        {
          "name": "stdout",
          "output_type": "stream",
          "text": [
            "[Sanity] step 1230: gen mean=-0.3709, std=0.6632, probe_RMSE=0.048593\n"
          ]
        },
        {
          "name": "stderr",
          "output_type": "stream",
          "text": [
            "\n",
            "\u001b[A\n",
            "\u001b[A"
          ]
        },
        {
          "name": "stdout",
          "output_type": "stream",
          "text": [
            "[Sanity] step 1235: gen mean=-0.3799, std=0.6666, probe_RMSE=0.053831\n"
          ]
        },
        {
          "name": "stderr",
          "output_type": "stream",
          "text": [
            "\n",
            "\u001b[A\n",
            "\u001b[A\n",
            "\u001b[A"
          ]
        },
        {
          "name": "stdout",
          "output_type": "stream",
          "text": [
            "[Sanity] step 1240: gen mean=-0.3997, std=0.6536, probe_RMSE=0.053573\n"
          ]
        },
        {
          "name": "stderr",
          "output_type": "stream",
          "text": [
            "\n",
            "\u001b[A\n",
            "\u001b[A"
          ]
        },
        {
          "name": "stdout",
          "output_type": "stream",
          "text": [
            "[Sanity] step 1245: gen mean=-0.4084, std=0.6513, probe_RMSE=0.047201\n"
          ]
        },
        {
          "name": "stderr",
          "output_type": "stream",
          "text": [
            "\n",
            "\u001b[A\n",
            "\u001b[A\n",
            "\u001b[A"
          ]
        },
        {
          "name": "stdout",
          "output_type": "stream",
          "text": [
            "[Sanity] step 1250: gen mean=-0.4251, std=0.6623, probe_RMSE=0.044015\n"
          ]
        },
        {
          "name": "stderr",
          "output_type": "stream",
          "text": [
            "\n",
            "\u001b[A\n",
            "\u001b[A"
          ]
        },
        {
          "name": "stdout",
          "output_type": "stream",
          "text": [
            "[Sanity] step 1255: gen mean=-0.4190, std=0.6700, probe_RMSE=0.038922\n"
          ]
        },
        {
          "name": "stderr",
          "output_type": "stream",
          "text": [
            "\n",
            "\u001b[A\n",
            "\u001b[A\n",
            "\u001b[A"
          ]
        },
        {
          "name": "stdout",
          "output_type": "stream",
          "text": [
            "[Sanity] step 1260: gen mean=-0.4084, std=0.6774, probe_RMSE=0.045526\n"
          ]
        },
        {
          "name": "stderr",
          "output_type": "stream",
          "text": [
            "\n",
            "\u001b[A\n",
            "\u001b[A"
          ]
        },
        {
          "name": "stdout",
          "output_type": "stream",
          "text": [
            "[Sanity] step 1265: gen mean=-0.3895, std=0.6979, probe_RMSE=0.052607\n"
          ]
        },
        {
          "name": "stderr",
          "output_type": "stream",
          "text": [
            "\n",
            "\u001b[A\n",
            "\u001b[A\n",
            "\n"
          ]
        },
        {
          "name": "stdout",
          "output_type": "stream",
          "text": [
            "[Sanity] step 1270: gen mean=-0.3518, std=0.7256, probe_RMSE=0.067060\n"
          ]
        },
        {
          "name": "stderr",
          "output_type": "stream",
          "text": [
            "iter:  85%|████████▍ | 1274/1500 [03:11<00:13, 17.18it/s]\u001b[A\u001b[A\n",
            "\u001b[A\n",
            "\u001b[A"
          ]
        },
        {
          "name": "stdout",
          "output_type": "stream",
          "text": [
            "[Sanity] step 1275: gen mean=-0.3206, std=0.7454, probe_RMSE=0.057828\n"
          ]
        },
        {
          "name": "stderr",
          "output_type": "stream",
          "text": [
            "\n",
            "\u001b[A\n",
            "\u001b[A\n",
            "\u001b[A"
          ]
        },
        {
          "name": "stdout",
          "output_type": "stream",
          "text": [
            "[Sanity] step 1280: gen mean=-0.3140, std=0.7390, probe_RMSE=0.055886\n"
          ]
        },
        {
          "name": "stderr",
          "output_type": "stream",
          "text": [
            "\n",
            "\u001b[A\n",
            "\u001b[A"
          ]
        },
        {
          "name": "stdout",
          "output_type": "stream",
          "text": [
            "[Sanity] step 1285: gen mean=-0.3221, std=0.7109, probe_RMSE=0.052735\n"
          ]
        },
        {
          "name": "stderr",
          "output_type": "stream",
          "text": [
            "\n",
            "\u001b[A\n",
            "\u001b[A"
          ]
        },
        {
          "name": "stdout",
          "output_type": "stream",
          "text": [
            "[Sanity] step 1290: gen mean=-0.3154, std=0.7162, probe_RMSE=0.055629\n"
          ]
        },
        {
          "name": "stderr",
          "output_type": "stream",
          "text": [
            "\n",
            "\u001b[A\n",
            "\u001b[A\n",
            "\u001b[A"
          ]
        },
        {
          "name": "stdout",
          "output_type": "stream",
          "text": [
            "[Sanity] step 1295: gen mean=-0.3226, std=0.6932, probe_RMSE=0.055341\n"
          ]
        },
        {
          "name": "stderr",
          "output_type": "stream",
          "text": [
            "\n",
            "\u001b[A\n",
            "\u001b[A"
          ]
        },
        {
          "name": "stdout",
          "output_type": "stream",
          "text": [
            "[Sanity] step 1300: gen mean=-0.3100, std=0.6900, probe_RMSE=0.053280\n"
          ]
        },
        {
          "name": "stderr",
          "output_type": "stream",
          "text": [
            "\n",
            "\u001b[A\n",
            "\u001b[A\n",
            "\n"
          ]
        },
        {
          "name": "stdout",
          "output_type": "stream",
          "text": [
            "[Sanity] step 1305: gen mean=-0.3308, std=0.6676, probe_RMSE=0.048858\n"
          ]
        },
        {
          "name": "stderr",
          "output_type": "stream",
          "text": [
            "iter:  87%|████████▋ | 1309/1500 [03:13<00:10, 17.43it/s]\u001b[A\u001b[A\n",
            "\u001b[A\n",
            "\u001b[A"
          ]
        },
        {
          "name": "stdout",
          "output_type": "stream",
          "text": [
            "[Sanity] step 1310: gen mean=-0.3418, std=0.6752, probe_RMSE=0.045143\n"
          ]
        },
        {
          "name": "stderr",
          "output_type": "stream",
          "text": [
            "\n",
            "\u001b[A\n",
            "\u001b[A\n",
            "\u001b[A"
          ]
        },
        {
          "name": "stdout",
          "output_type": "stream",
          "text": [
            "[Sanity] step 1315: gen mean=-0.3181, std=0.6946, probe_RMSE=0.050669\n"
          ]
        },
        {
          "name": "stderr",
          "output_type": "stream",
          "text": [
            "\n",
            "\u001b[A\n",
            "\u001b[A"
          ]
        },
        {
          "name": "stdout",
          "output_type": "stream",
          "text": [
            "[Sanity] step 1320: gen mean=-0.3249, std=0.6771, probe_RMSE=0.054944\n"
          ]
        },
        {
          "name": "stderr",
          "output_type": "stream",
          "text": [
            "\n",
            "\u001b[A\n",
            "\u001b[A\n",
            "\u001b[A"
          ]
        },
        {
          "name": "stdout",
          "output_type": "stream",
          "text": [
            "[Sanity] step 1325: gen mean=-0.3444, std=0.6753, probe_RMSE=0.056711\n"
          ]
        },
        {
          "name": "stderr",
          "output_type": "stream",
          "text": [
            "\n",
            "\u001b[A\n",
            "\u001b[A"
          ]
        },
        {
          "name": "stdout",
          "output_type": "stream",
          "text": [
            "[Sanity] step 1330: gen mean=-0.3591, std=0.6520, probe_RMSE=0.071895\n"
          ]
        },
        {
          "name": "stderr",
          "output_type": "stream",
          "text": [
            "\n",
            "\u001b[A\n",
            "\u001b[A\n",
            "\u001b[A"
          ]
        },
        {
          "name": "stdout",
          "output_type": "stream",
          "text": [
            "[Sanity] step 1335: gen mean=-0.3609, std=0.6605, probe_RMSE=0.070829\n"
          ]
        },
        {
          "name": "stderr",
          "output_type": "stream",
          "text": [
            "\n",
            "\u001b[A\n",
            "\u001b[A"
          ]
        },
        {
          "name": "stdout",
          "output_type": "stream",
          "text": [
            "[Sanity] step 1340: gen mean=-0.3569, std=0.6717, probe_RMSE=0.066404\n"
          ]
        },
        {
          "name": "stderr",
          "output_type": "stream",
          "text": [
            "\n",
            "\u001b[A\n",
            "\u001b[A\n",
            "\u001b[A"
          ]
        },
        {
          "name": "stdout",
          "output_type": "stream",
          "text": [
            "[Sanity] step 1345: gen mean=-0.3626, std=0.6767, probe_RMSE=0.058510\n"
          ]
        },
        {
          "name": "stderr",
          "output_type": "stream",
          "text": [
            "\n",
            "\u001b[A\n",
            "\u001b[A"
          ]
        },
        {
          "name": "stdout",
          "output_type": "stream",
          "text": [
            "[Sanity] step 1350: gen mean=-0.3391, std=0.7078, probe_RMSE=0.066453\n"
          ]
        },
        {
          "name": "stderr",
          "output_type": "stream",
          "text": [
            "\n",
            "\u001b[A\n",
            "\u001b[A\n",
            "\u001b[A"
          ]
        },
        {
          "name": "stdout",
          "output_type": "stream",
          "text": [
            "[Sanity] step 1355: gen mean=-0.3424, std=0.6985, probe_RMSE=0.060695\n"
          ]
        },
        {
          "name": "stderr",
          "output_type": "stream",
          "text": [
            "\n",
            "\u001b[A\n",
            "\u001b[A"
          ]
        },
        {
          "name": "stdout",
          "output_type": "stream",
          "text": [
            "[Sanity] step 1360: gen mean=-0.3662, std=0.6706, probe_RMSE=0.069403\n"
          ]
        },
        {
          "name": "stderr",
          "output_type": "stream",
          "text": [
            "\n",
            "\u001b[A\n",
            "\u001b[A\n",
            "\u001b[A"
          ]
        },
        {
          "name": "stdout",
          "output_type": "stream",
          "text": [
            "[Sanity] step 1365: gen mean=-0.3851, std=0.6491, probe_RMSE=0.064343\n"
          ]
        },
        {
          "name": "stderr",
          "output_type": "stream",
          "text": [
            "\n",
            "\u001b[A\n",
            "\u001b[A"
          ]
        },
        {
          "name": "stdout",
          "output_type": "stream",
          "text": [
            "[Sanity] step 1370: gen mean=-0.3933, std=0.6322, probe_RMSE=0.058197\n"
          ]
        },
        {
          "name": "stderr",
          "output_type": "stream",
          "text": [
            "\n",
            "\u001b[A\n",
            "\u001b[A\n",
            "\n"
          ]
        },
        {
          "name": "stdout",
          "output_type": "stream",
          "text": [
            "[Sanity] step 1375: gen mean=-0.3954, std=0.6318, probe_RMSE=0.054513\n"
          ]
        },
        {
          "name": "stderr",
          "output_type": "stream",
          "text": [
            "iter:  92%|█████████▏| 1380/1500 [03:17<00:06, 18.07it/s]\u001b[A\u001b[A\n",
            "\u001b[A\n",
            "\u001b[A"
          ]
        },
        {
          "name": "stdout",
          "output_type": "stream",
          "text": [
            "[Sanity] step 1380: gen mean=-0.4019, std=0.6213, probe_RMSE=0.058273\n"
          ]
        },
        {
          "name": "stderr",
          "output_type": "stream",
          "text": [
            "\n",
            "\u001b[A\n",
            "\u001b[A"
          ]
        },
        {
          "name": "stdout",
          "output_type": "stream",
          "text": [
            "[Sanity] step 1385: gen mean=-0.4188, std=0.6019, probe_RMSE=0.054922\n"
          ]
        },
        {
          "name": "stderr",
          "output_type": "stream",
          "text": [
            "\n",
            "\u001b[A\n",
            "\u001b[A\n",
            "\u001b[A"
          ]
        },
        {
          "name": "stdout",
          "output_type": "stream",
          "text": [
            "[Sanity] step 1390: gen mean=-0.4048, std=0.6102, probe_RMSE=0.053742\n"
          ]
        },
        {
          "name": "stderr",
          "output_type": "stream",
          "text": [
            "\n",
            "\u001b[A\n",
            "\u001b[A\n",
            "\n"
          ]
        },
        {
          "name": "stdout",
          "output_type": "stream",
          "text": [
            "[Sanity] step 1395: gen mean=-0.4000, std=0.6184, probe_RMSE=0.048603\n"
          ]
        },
        {
          "name": "stderr",
          "output_type": "stream",
          "text": [
            "iter:  93%|█████████▎| 1400/1500 [03:18<00:05, 18.05it/s]\u001b[A\u001b[A\n",
            "\u001b[A\n",
            "\u001b[A"
          ]
        },
        {
          "name": "stdout",
          "output_type": "stream",
          "text": [
            "[Sanity] step 1400: gen mean=-0.3992, std=0.6209, probe_RMSE=0.043672\n"
          ]
        },
        {
          "name": "stderr",
          "output_type": "stream",
          "text": [
            "\n",
            "\u001b[A\n",
            "\u001b[A"
          ]
        },
        {
          "name": "stdout",
          "output_type": "stream",
          "text": [
            "[Sanity] step 1405: gen mean=-0.3861, std=0.6324, probe_RMSE=0.043980\n"
          ]
        },
        {
          "name": "stderr",
          "output_type": "stream",
          "text": [
            "\n",
            "\u001b[A\n",
            "\u001b[A\n",
            "\u001b[A"
          ]
        },
        {
          "name": "stdout",
          "output_type": "stream",
          "text": [
            "[Sanity] step 1410: gen mean=-0.3785, std=0.6315, probe_RMSE=0.050909\n"
          ]
        },
        {
          "name": "stderr",
          "output_type": "stream",
          "text": [
            "\n",
            "\u001b[A\n",
            "\u001b[A"
          ]
        },
        {
          "name": "stdout",
          "output_type": "stream",
          "text": [
            "[Sanity] step 1415: gen mean=-0.3672, std=0.6369, probe_RMSE=0.058304\n"
          ]
        },
        {
          "name": "stderr",
          "output_type": "stream",
          "text": [
            "\n",
            "\u001b[A\n",
            "\u001b[A\n",
            "\u001b[A"
          ]
        },
        {
          "name": "stdout",
          "output_type": "stream",
          "text": [
            "[Sanity] step 1420: gen mean=-0.3502, std=0.6527, probe_RMSE=0.068069\n"
          ]
        },
        {
          "name": "stderr",
          "output_type": "stream",
          "text": [
            "\n",
            "\u001b[A\n",
            "\u001b[A"
          ]
        },
        {
          "name": "stdout",
          "output_type": "stream",
          "text": [
            "[Sanity] step 1425: gen mean=-0.3384, std=0.6683, probe_RMSE=0.066265\n"
          ]
        },
        {
          "name": "stderr",
          "output_type": "stream",
          "text": [
            "\n",
            "\u001b[A\n",
            "\u001b[A\n",
            "\u001b[A"
          ]
        },
        {
          "name": "stdout",
          "output_type": "stream",
          "text": [
            "[Sanity] step 1430: gen mean=-0.3335, std=0.6752, probe_RMSE=0.065201\n"
          ]
        },
        {
          "name": "stderr",
          "output_type": "stream",
          "text": [
            "\n",
            "\u001b[A\n",
            "\u001b[A"
          ]
        },
        {
          "name": "stdout",
          "output_type": "stream",
          "text": [
            "[Sanity] step 1435: gen mean=-0.3372, std=0.6848, probe_RMSE=0.065121\n"
          ]
        },
        {
          "name": "stderr",
          "output_type": "stream",
          "text": [
            "\n",
            "\u001b[A\n",
            "\u001b[A"
          ]
        },
        {
          "name": "stdout",
          "output_type": "stream",
          "text": [
            "[Sanity] step 1440: gen mean=-0.3299, std=0.6895, probe_RMSE=0.070974\n"
          ]
        },
        {
          "name": "stderr",
          "output_type": "stream",
          "text": [
            "\n",
            "\u001b[A\n",
            "\u001b[A\n",
            "\u001b[A"
          ]
        },
        {
          "name": "stdout",
          "output_type": "stream",
          "text": [
            "[Sanity] step 1445: gen mean=-0.3202, std=0.7204, probe_RMSE=0.076689\n"
          ]
        },
        {
          "name": "stderr",
          "output_type": "stream",
          "text": [
            "\n",
            "\u001b[A\n",
            "\u001b[A"
          ]
        },
        {
          "name": "stdout",
          "output_type": "stream",
          "text": [
            "[Sanity] step 1450: gen mean=-0.3274, std=0.7291, probe_RMSE=0.068556\n"
          ]
        },
        {
          "name": "stderr",
          "output_type": "stream",
          "text": [
            "\n",
            "\u001b[A\n",
            "\u001b[A\n",
            "\u001b[A"
          ]
        },
        {
          "name": "stdout",
          "output_type": "stream",
          "text": [
            "[Sanity] step 1455: gen mean=-0.3283, std=0.7383, probe_RMSE=0.060731\n"
          ]
        },
        {
          "name": "stderr",
          "output_type": "stream",
          "text": [
            "\n",
            "\u001b[A\n",
            "\u001b[A"
          ]
        },
        {
          "name": "stdout",
          "output_type": "stream",
          "text": [
            "[Sanity] step 1460: gen mean=-0.3253, std=0.7408, probe_RMSE=0.059806\n"
          ]
        },
        {
          "name": "stderr",
          "output_type": "stream",
          "text": [
            "\n",
            "\u001b[A\n",
            "\u001b[A\n",
            "\u001b[A"
          ]
        },
        {
          "name": "stdout",
          "output_type": "stream",
          "text": [
            "[Sanity] step 1465: gen mean=-0.3460, std=0.7386, probe_RMSE=0.058485\n"
          ]
        },
        {
          "name": "stderr",
          "output_type": "stream",
          "text": [
            "\n",
            "\u001b[A\n",
            "\u001b[A"
          ]
        },
        {
          "name": "stdout",
          "output_type": "stream",
          "text": [
            "[Sanity] step 1470: gen mean=-0.3544, std=0.7288, probe_RMSE=0.059817\n"
          ]
        },
        {
          "name": "stderr",
          "output_type": "stream",
          "text": [
            "\n",
            "\u001b[A\n",
            "\u001b[A\n",
            "\u001b[A"
          ]
        },
        {
          "name": "stdout",
          "output_type": "stream",
          "text": [
            "[Sanity] step 1475: gen mean=-0.3667, std=0.7292, probe_RMSE=0.052261\n"
          ]
        },
        {
          "name": "stderr",
          "output_type": "stream",
          "text": [
            "\n",
            "\u001b[A\n",
            "\u001b[A"
          ]
        },
        {
          "name": "stdout",
          "output_type": "stream",
          "text": [
            "[Sanity] step 1480: gen mean=-0.3748, std=0.7201, probe_RMSE=0.057944\n"
          ]
        },
        {
          "name": "stderr",
          "output_type": "stream",
          "text": [
            "\n",
            "\u001b[A\n",
            "\u001b[A\n",
            "\u001b[A"
          ]
        },
        {
          "name": "stdout",
          "output_type": "stream",
          "text": [
            "[Sanity] step 1485: gen mean=-0.3828, std=0.7201, probe_RMSE=0.061107\n"
          ]
        },
        {
          "name": "stderr",
          "output_type": "stream",
          "text": [
            "\n",
            "\u001b[A\n",
            "\u001b[A"
          ]
        },
        {
          "name": "stdout",
          "output_type": "stream",
          "text": [
            "[Sanity] step 1490: gen mean=-0.3903, std=0.7147, probe_RMSE=0.052698\n"
          ]
        },
        {
          "name": "stderr",
          "output_type": "stream",
          "text": [
            "\n",
            "\u001b[A\n",
            "\u001b[A\n",
            "\u001b[A"
          ]
        },
        {
          "name": "stdout",
          "output_type": "stream",
          "text": [
            "[Sanity] step 1495: gen mean=-0.3989, std=0.7222, probe_RMSE=0.055968\n"
          ]
        },
        {
          "name": "stderr",
          "output_type": "stream",
          "text": [
            "\n",
            "config:  33%|███▎      | 1/3 [03:24<06:49, 204.93s/it]"
          ]
        },
        {
          "name": "stdout",
          "output_type": "stream",
          "text": [
            "[Sanity] Steps with non-zero G gradients: 1500/1500\n"
          ]
        },
        {
          "name": "stderr",
          "output_type": "stream",
          "text": []
        },
        {
          "name": "stdout",
          "output_type": "stream",
          "text": [
            "Generator trainable params: 4064\n",
            "Discriminator trainable params: 6273\n"
          ]
        },
        {
          "name": "stderr",
          "output_type": "stream",
          "text": [
            "\n",
            "\u001b[A"
          ]
        },
        {
          "name": "stdout",
          "output_type": "stream",
          "text": [
            "[Sanity] D logits at start: real=-0.058, fake=-0.165\n"
          ]
        },
        {
          "name": "stderr",
          "output_type": "stream",
          "text": [
            "\n",
            "\u001b[A"
          ]
        },
        {
          "name": "stdout",
          "output_type": "stream",
          "text": [
            "[Sanity] step 0: gen mean=-0.0328, std=0.5021, probe_RMSE=0.060339\n"
          ]
        },
        {
          "name": "stderr",
          "output_type": "stream",
          "text": [
            "\n",
            "\u001b[A\n",
            "\u001b[A\n",
            "\u001b[A"
          ]
        },
        {
          "name": "stdout",
          "output_type": "stream",
          "text": [
            "[Sanity] step 5: gen mean=-0.1158, std=0.5298, probe_RMSE=0.257333\n"
          ]
        },
        {
          "name": "stderr",
          "output_type": "stream",
          "text": [
            "\n",
            "\u001b[A\n",
            "\u001b[A\n",
            "\u001b[A"
          ]
        },
        {
          "name": "stdout",
          "output_type": "stream",
          "text": [
            "[Sanity] step 10: gen mean=-0.2360, std=0.5274, probe_RMSE=0.168068\n"
          ]
        },
        {
          "name": "stderr",
          "output_type": "stream",
          "text": [
            "\n",
            "\u001b[A\n",
            "\u001b[A"
          ]
        },
        {
          "name": "stdout",
          "output_type": "stream",
          "text": [
            "[Sanity] step 15: gen mean=-0.2852, std=0.5152, probe_RMSE=0.175908\n"
          ]
        },
        {
          "name": "stderr",
          "output_type": "stream",
          "text": [
            "\n",
            "\u001b[A\n",
            "\u001b[A\n",
            "\u001b[A"
          ]
        },
        {
          "name": "stdout",
          "output_type": "stream",
          "text": [
            "[Sanity] step 20: gen mean=-0.2951, std=0.5642, probe_RMSE=0.156652\n"
          ]
        },
        {
          "name": "stderr",
          "output_type": "stream",
          "text": [
            "\n",
            "\u001b[A\n",
            "\u001b[A"
          ]
        },
        {
          "name": "stdout",
          "output_type": "stream",
          "text": [
            "[Sanity] step 25: gen mean=-0.3062, std=0.6274, probe_RMSE=0.173305\n"
          ]
        },
        {
          "name": "stderr",
          "output_type": "stream",
          "text": [
            "\n",
            "\u001b[A\n",
            "\u001b[A\n",
            "\u001b[A"
          ]
        },
        {
          "name": "stdout",
          "output_type": "stream",
          "text": [
            "[Sanity] step 30: gen mean=-0.2737, std=0.6642, probe_RMSE=0.158698\n"
          ]
        },
        {
          "name": "stderr",
          "output_type": "stream",
          "text": [
            "\n",
            "\u001b[A\n",
            "\u001b[A"
          ]
        },
        {
          "name": "stdout",
          "output_type": "stream",
          "text": [
            "[Sanity] step 35: gen mean=-0.2166, std=0.7000, probe_RMSE=0.145403\n"
          ]
        },
        {
          "name": "stderr",
          "output_type": "stream",
          "text": [
            "\n",
            "\u001b[A\n",
            "\u001b[A\n",
            "\u001b[A"
          ]
        },
        {
          "name": "stdout",
          "output_type": "stream",
          "text": [
            "[Sanity] step 40: gen mean=-0.2210, std=0.7236, probe_RMSE=0.114338\n"
          ]
        },
        {
          "name": "stderr",
          "output_type": "stream",
          "text": [
            "\n",
            "\u001b[A\n",
            "\u001b[A"
          ]
        },
        {
          "name": "stdout",
          "output_type": "stream",
          "text": [
            "[Sanity] step 45: gen mean=-0.1982, std=0.6931, probe_RMSE=0.109654\n"
          ]
        },
        {
          "name": "stderr",
          "output_type": "stream",
          "text": [
            "\n",
            "\u001b[A\n",
            "\u001b[A\n",
            "\u001b[A"
          ]
        },
        {
          "name": "stdout",
          "output_type": "stream",
          "text": [
            "[Sanity] step 50: gen mean=-0.2379, std=0.6960, probe_RMSE=0.100334\n"
          ]
        },
        {
          "name": "stderr",
          "output_type": "stream",
          "text": [
            "\n",
            "\u001b[A\n",
            "\u001b[A\n",
            "\u001b[A\n",
            "\u001b[A\n",
            "\u001b[A"
          ]
        },
        {
          "name": "stdout",
          "output_type": "stream",
          "text": [
            "[Sanity] step 55: gen mean=-0.2356, std=0.7086, probe_RMSE=0.107644\n"
          ]
        },
        {
          "name": "stderr",
          "output_type": "stream",
          "text": [
            "\n",
            "\u001b[A\n",
            "\u001b[A\n",
            "\u001b[A\n",
            "\u001b[A\n",
            "\u001b[A"
          ]
        },
        {
          "name": "stdout",
          "output_type": "stream",
          "text": [
            "[Sanity] step 60: gen mean=-0.2663, std=0.7248, probe_RMSE=0.121162\n"
          ]
        },
        {
          "name": "stderr",
          "output_type": "stream",
          "text": [
            "\n",
            "\u001b[A\n",
            "\u001b[A\n",
            "\u001b[A\n",
            "\u001b[A\n",
            "\u001b[A"
          ]
        },
        {
          "name": "stdout",
          "output_type": "stream",
          "text": [
            "[Sanity] step 65: gen mean=-0.3100, std=0.7141, probe_RMSE=0.108459\n"
          ]
        },
        {
          "name": "stderr",
          "output_type": "stream",
          "text": [
            "\n",
            "\u001b[A\n",
            "\u001b[A\n",
            "\u001b[A\n",
            "\u001b[A\n",
            "\u001b[A"
          ]
        },
        {
          "name": "stdout",
          "output_type": "stream",
          "text": [
            "[Sanity] step 70: gen mean=-0.3323, std=0.6887, probe_RMSE=0.121290\n"
          ]
        },
        {
          "name": "stderr",
          "output_type": "stream",
          "text": [
            "\n",
            "\u001b[A\n",
            "\u001b[A\n",
            "\u001b[A\n",
            "\u001b[A\n",
            "\u001b[A"
          ]
        },
        {
          "name": "stdout",
          "output_type": "stream",
          "text": [
            "[Sanity] step 75: gen mean=-0.3760, std=0.6996, probe_RMSE=0.098959\n"
          ]
        },
        {
          "name": "stderr",
          "output_type": "stream",
          "text": [
            "\n",
            "\u001b[A\n",
            "\u001b[A\n",
            "\u001b[A\n",
            "\u001b[A\n",
            "\u001b[A"
          ]
        },
        {
          "name": "stdout",
          "output_type": "stream",
          "text": [
            "[Sanity] step 80: gen mean=-0.3699, std=0.7003, probe_RMSE=0.098578\n"
          ]
        },
        {
          "name": "stderr",
          "output_type": "stream",
          "text": [
            "\n",
            "\u001b[A\n",
            "\u001b[A\n",
            "\u001b[A\n",
            "\u001b[A\n",
            "\u001b[A"
          ]
        },
        {
          "name": "stdout",
          "output_type": "stream",
          "text": [
            "[Sanity] step 85: gen mean=-0.3685, std=0.7020, probe_RMSE=0.094845\n"
          ]
        },
        {
          "name": "stderr",
          "output_type": "stream",
          "text": [
            "\n",
            "\u001b[A\n",
            "\u001b[A\n",
            "\u001b[A\n",
            "\u001b[A\n",
            "\u001b[A"
          ]
        },
        {
          "name": "stdout",
          "output_type": "stream",
          "text": [
            "[Sanity] step 90: gen mean=-0.3516, std=0.6933, probe_RMSE=0.096025\n"
          ]
        },
        {
          "name": "stderr",
          "output_type": "stream",
          "text": [
            "\n",
            "\u001b[A\n",
            "\u001b[A\n",
            "\u001b[A\n",
            "\u001b[A\n",
            "\u001b[A"
          ]
        },
        {
          "name": "stdout",
          "output_type": "stream",
          "text": [
            "[Sanity] step 95: gen mean=-0.3542, std=0.6913, probe_RMSE=0.102941\n"
          ]
        },
        {
          "name": "stderr",
          "output_type": "stream",
          "text": [
            "\n",
            "\u001b[A\n",
            "\u001b[A\n",
            "\u001b[A\n",
            "\u001b[A\n",
            "\u001b[A"
          ]
        },
        {
          "name": "stdout",
          "output_type": "stream",
          "text": [
            "[Sanity] step 100: gen mean=-0.3499, std=0.6658, probe_RMSE=0.093437\n"
          ]
        },
        {
          "name": "stderr",
          "output_type": "stream",
          "text": [
            "\n",
            "\u001b[A\n",
            "\u001b[A\n",
            "\u001b[A\n",
            "\u001b[A\n",
            "\u001b[A"
          ]
        },
        {
          "name": "stdout",
          "output_type": "stream",
          "text": [
            "[Sanity] step 105: gen mean=-0.3533, std=0.6560, probe_RMSE=0.092502\n"
          ]
        },
        {
          "name": "stderr",
          "output_type": "stream",
          "text": [
            "\n",
            "\u001b[A\n",
            "\u001b[A\n",
            "\u001b[A\n",
            "\u001b[A\n",
            "\u001b[A"
          ]
        },
        {
          "name": "stdout",
          "output_type": "stream",
          "text": [
            "[Sanity] step 110: gen mean=-0.3481, std=0.6594, probe_RMSE=0.090592\n"
          ]
        },
        {
          "name": "stderr",
          "output_type": "stream",
          "text": [
            "\n",
            "\u001b[A\n",
            "\u001b[A\n",
            "\u001b[A\n",
            "\u001b[A\n",
            "\u001b[A"
          ]
        },
        {
          "name": "stdout",
          "output_type": "stream",
          "text": [
            "[Sanity] step 115: gen mean=-0.3642, std=0.6656, probe_RMSE=0.085803\n"
          ]
        },
        {
          "name": "stderr",
          "output_type": "stream",
          "text": [
            "\n",
            "\u001b[A\n",
            "\u001b[A\n",
            "\u001b[A\n",
            "\u001b[A\n",
            "\u001b[A"
          ]
        },
        {
          "name": "stdout",
          "output_type": "stream",
          "text": [
            "[Sanity] step 120: gen mean=-0.3449, std=0.6559, probe_RMSE=0.074111\n"
          ]
        },
        {
          "name": "stderr",
          "output_type": "stream",
          "text": [
            "\n",
            "\u001b[A\n",
            "\u001b[A\n",
            "\u001b[A\n",
            "\u001b[A\n",
            "\u001b[A"
          ]
        },
        {
          "name": "stdout",
          "output_type": "stream",
          "text": [
            "[Sanity] step 125: gen mean=-0.3483, std=0.6722, probe_RMSE=0.081770\n"
          ]
        },
        {
          "name": "stderr",
          "output_type": "stream",
          "text": [
            "\n",
            "\u001b[A\n",
            "\u001b[A\n",
            "\u001b[A\n",
            "\u001b[A\n",
            "\u001b[A"
          ]
        },
        {
          "name": "stdout",
          "output_type": "stream",
          "text": [
            "[Sanity] step 130: gen mean=-0.3334, std=0.6877, probe_RMSE=0.081549\n"
          ]
        },
        {
          "name": "stderr",
          "output_type": "stream",
          "text": [
            "\n",
            "\u001b[A\n",
            "\u001b[A\n",
            "\u001b[A\n",
            "\u001b[A\n",
            "\u001b[A"
          ]
        },
        {
          "name": "stdout",
          "output_type": "stream",
          "text": [
            "[Sanity] step 135: gen mean=-0.3052, std=0.6846, probe_RMSE=0.082313\n"
          ]
        },
        {
          "name": "stderr",
          "output_type": "stream",
          "text": [
            "\n",
            "\u001b[A\n",
            "\u001b[A\n",
            "\u001b[A\n",
            "\u001b[A\n",
            "\u001b[A"
          ]
        },
        {
          "name": "stdout",
          "output_type": "stream",
          "text": [
            "[Sanity] step 140: gen mean=-0.3195, std=0.6938, probe_RMSE=0.069182\n"
          ]
        },
        {
          "name": "stderr",
          "output_type": "stream",
          "text": [
            "\n",
            "\u001b[A\n",
            "\u001b[A\n",
            "\u001b[A\n",
            "\u001b[A\n",
            "\u001b[A"
          ]
        },
        {
          "name": "stdout",
          "output_type": "stream",
          "text": [
            "[Sanity] step 145: gen mean=-0.3116, std=0.7141, probe_RMSE=0.065501\n"
          ]
        },
        {
          "name": "stderr",
          "output_type": "stream",
          "text": [
            "\n",
            "\u001b[A\n",
            "\u001b[A\n",
            "\u001b[A\n",
            "\u001b[A\n",
            "\u001b[A"
          ]
        },
        {
          "name": "stdout",
          "output_type": "stream",
          "text": [
            "[Sanity] step 150: gen mean=-0.2841, std=0.7120, probe_RMSE=0.074097\n"
          ]
        },
        {
          "name": "stderr",
          "output_type": "stream",
          "text": [
            "\n",
            "\u001b[A\n",
            "\u001b[A\n",
            "\u001b[A\n",
            "\u001b[A\n",
            "\u001b[A"
          ]
        },
        {
          "name": "stdout",
          "output_type": "stream",
          "text": [
            "[Sanity] step 155: gen mean=-0.2779, std=0.7163, probe_RMSE=0.066553\n"
          ]
        },
        {
          "name": "stderr",
          "output_type": "stream",
          "text": [
            "\n",
            "\u001b[A\n",
            "\u001b[A\n",
            "\u001b[A\n",
            "\u001b[A\n",
            "\u001b[A"
          ]
        },
        {
          "name": "stdout",
          "output_type": "stream",
          "text": [
            "[Sanity] step 160: gen mean=-0.2910, std=0.7212, probe_RMSE=0.069607\n"
          ]
        },
        {
          "name": "stderr",
          "output_type": "stream",
          "text": [
            "\n",
            "\u001b[A\n",
            "\u001b[A\n",
            "\u001b[A\n",
            "\u001b[A\n",
            "\u001b[A"
          ]
        },
        {
          "name": "stdout",
          "output_type": "stream",
          "text": [
            "[Sanity] step 165: gen mean=-0.2620, std=0.7192, probe_RMSE=0.082078\n"
          ]
        },
        {
          "name": "stderr",
          "output_type": "stream",
          "text": [
            "\n",
            "\u001b[A\n",
            "\u001b[A\n",
            "\u001b[A\n",
            "\u001b[A\n",
            "\u001b[A"
          ]
        },
        {
          "name": "stdout",
          "output_type": "stream",
          "text": [
            "[Sanity] step 170: gen mean=-0.2706, std=0.7232, probe_RMSE=0.083809\n"
          ]
        },
        {
          "name": "stderr",
          "output_type": "stream",
          "text": [
            "\n",
            "\u001b[A\n",
            "\u001b[A\n",
            "\u001b[A\n",
            "\u001b[A\n",
            "\u001b[A"
          ]
        },
        {
          "name": "stdout",
          "output_type": "stream",
          "text": [
            "[Sanity] step 175: gen mean=-0.2816, std=0.7183, probe_RMSE=0.081307\n"
          ]
        },
        {
          "name": "stderr",
          "output_type": "stream",
          "text": [
            "\n",
            "\u001b[A\n",
            "\u001b[A\n",
            "\u001b[A\n",
            "\u001b[A\n",
            "\u001b[A"
          ]
        },
        {
          "name": "stdout",
          "output_type": "stream",
          "text": [
            "[Sanity] step 180: gen mean=-0.2915, std=0.7060, probe_RMSE=0.072670\n"
          ]
        },
        {
          "name": "stderr",
          "output_type": "stream",
          "text": [
            "\n",
            "\u001b[A\n",
            "\u001b[A\n",
            "\u001b[A\n",
            "\u001b[A\n",
            "\u001b[A"
          ]
        },
        {
          "name": "stdout",
          "output_type": "stream",
          "text": [
            "[Sanity] step 185: gen mean=-0.2935, std=0.7141, probe_RMSE=0.069409\n"
          ]
        },
        {
          "name": "stderr",
          "output_type": "stream",
          "text": [
            "\n",
            "\u001b[A\n",
            "\u001b[A\n",
            "\u001b[A\n",
            "\u001b[A\n",
            "\u001b[A"
          ]
        },
        {
          "name": "stdout",
          "output_type": "stream",
          "text": [
            "[Sanity] step 190: gen mean=-0.3229, std=0.7233, probe_RMSE=0.068704\n"
          ]
        },
        {
          "name": "stderr",
          "output_type": "stream",
          "text": [
            "\n",
            "\u001b[A\n",
            "\u001b[A\n",
            "\u001b[A\n",
            "\u001b[A\n",
            "\u001b[A"
          ]
        },
        {
          "name": "stdout",
          "output_type": "stream",
          "text": [
            "[Sanity] step 195: gen mean=-0.3285, std=0.7164, probe_RMSE=0.064934\n"
          ]
        },
        {
          "name": "stderr",
          "output_type": "stream",
          "text": [
            "\n",
            "\u001b[A\n",
            "\u001b[A\n",
            "\u001b[A\n",
            "\u001b[A\n",
            "\u001b[A"
          ]
        },
        {
          "name": "stdout",
          "output_type": "stream",
          "text": [
            "[Sanity] step 200: gen mean=-0.3337, std=0.7161, probe_RMSE=0.064959\n"
          ]
        },
        {
          "name": "stderr",
          "output_type": "stream",
          "text": [
            "\n",
            "\u001b[A\n",
            "\u001b[A\n",
            "\u001b[A\n",
            "\u001b[A\n",
            "\u001b[A"
          ]
        },
        {
          "name": "stdout",
          "output_type": "stream",
          "text": [
            "[Sanity] step 205: gen mean=-0.3228, std=0.6981, probe_RMSE=0.058976\n"
          ]
        },
        {
          "name": "stderr",
          "output_type": "stream",
          "text": [
            "\n",
            "\u001b[A\n",
            "\u001b[A\n",
            "\u001b[A\n",
            "\u001b[A\n",
            "\u001b[A"
          ]
        },
        {
          "name": "stdout",
          "output_type": "stream",
          "text": [
            "[Sanity] step 210: gen mean=-0.3616, std=0.7014, probe_RMSE=0.053060\n"
          ]
        },
        {
          "name": "stderr",
          "output_type": "stream",
          "text": [
            "\n",
            "\u001b[A\n",
            "\u001b[A\n",
            "\u001b[A\n",
            "\u001b[A\n",
            "\u001b[A"
          ]
        },
        {
          "name": "stdout",
          "output_type": "stream",
          "text": [
            "[Sanity] step 215: gen mean=-0.3587, std=0.7001, probe_RMSE=0.054570\n"
          ]
        },
        {
          "name": "stderr",
          "output_type": "stream",
          "text": [
            "\n",
            "\u001b[A\n",
            "\u001b[A\n",
            "\u001b[A\n",
            "\u001b[A\n",
            "\u001b[A"
          ]
        },
        {
          "name": "stdout",
          "output_type": "stream",
          "text": [
            "[Sanity] step 220: gen mean=-0.3574, std=0.6979, probe_RMSE=0.051370\n"
          ]
        },
        {
          "name": "stderr",
          "output_type": "stream",
          "text": [
            "\n",
            "\u001b[A\n",
            "\u001b[A\n",
            "\u001b[A\n",
            "\u001b[A\n",
            "\u001b[A"
          ]
        },
        {
          "name": "stdout",
          "output_type": "stream",
          "text": [
            "[Sanity] step 225: gen mean=-0.3615, std=0.6742, probe_RMSE=0.061794\n"
          ]
        },
        {
          "name": "stderr",
          "output_type": "stream",
          "text": [
            "\n",
            "\u001b[A\n",
            "\u001b[A\n",
            "\u001b[A\n",
            "\u001b[A\n",
            "\u001b[A"
          ]
        },
        {
          "name": "stdout",
          "output_type": "stream",
          "text": [
            "[Sanity] step 230: gen mean=-0.3666, std=0.6730, probe_RMSE=0.045828\n"
          ]
        },
        {
          "name": "stderr",
          "output_type": "stream",
          "text": [
            "\n",
            "\u001b[A\n",
            "\u001b[A\n",
            "\u001b[A\n",
            "\u001b[A\n",
            "\u001b[A"
          ]
        },
        {
          "name": "stdout",
          "output_type": "stream",
          "text": [
            "[Sanity] step 235: gen mean=-0.3719, std=0.6749, probe_RMSE=0.047470\n"
          ]
        },
        {
          "name": "stderr",
          "output_type": "stream",
          "text": [
            "\n",
            "\u001b[A\n",
            "\u001b[A\n",
            "\u001b[A\n",
            "\u001b[A\n",
            "\u001b[A"
          ]
        },
        {
          "name": "stdout",
          "output_type": "stream",
          "text": [
            "[Sanity] step 240: gen mean=-0.3706, std=0.6694, probe_RMSE=0.050007\n"
          ]
        },
        {
          "name": "stderr",
          "output_type": "stream",
          "text": [
            "\n",
            "\u001b[A\n",
            "\u001b[A\n",
            "\u001b[A\n",
            "\u001b[A\n",
            "\u001b[A"
          ]
        },
        {
          "name": "stdout",
          "output_type": "stream",
          "text": [
            "[Sanity] step 245: gen mean=-0.3766, std=0.6519, probe_RMSE=0.052245\n"
          ]
        },
        {
          "name": "stderr",
          "output_type": "stream",
          "text": [
            "\n",
            "\u001b[A\n",
            "\u001b[A\n",
            "\u001b[A\n",
            "\u001b[A\n",
            "\u001b[A"
          ]
        },
        {
          "name": "stdout",
          "output_type": "stream",
          "text": [
            "[Sanity] step 250: gen mean=-0.3929, std=0.6469, probe_RMSE=0.055043\n"
          ]
        },
        {
          "name": "stderr",
          "output_type": "stream",
          "text": [
            "\n",
            "\u001b[A\n",
            "\u001b[A\n",
            "\u001b[A\n",
            "\u001b[A\n",
            "\u001b[A"
          ]
        },
        {
          "name": "stdout",
          "output_type": "stream",
          "text": [
            "[Sanity] step 255: gen mean=-0.3963, std=0.6345, probe_RMSE=0.054514\n"
          ]
        },
        {
          "name": "stderr",
          "output_type": "stream",
          "text": [
            "\n",
            "\u001b[A\n",
            "\u001b[A\n",
            "\u001b[A\n",
            "\u001b[A\n",
            "\u001b[A"
          ]
        },
        {
          "name": "stdout",
          "output_type": "stream",
          "text": [
            "[Sanity] step 260: gen mean=-0.3861, std=0.6373, probe_RMSE=0.049931\n"
          ]
        },
        {
          "name": "stderr",
          "output_type": "stream",
          "text": [
            "\n",
            "\u001b[A\n",
            "\u001b[A\n",
            "\u001b[A\n",
            "\u001b[A\n",
            "\u001b[A"
          ]
        },
        {
          "name": "stdout",
          "output_type": "stream",
          "text": [
            "[Sanity] step 265: gen mean=-0.3811, std=0.6383, probe_RMSE=0.054231\n"
          ]
        },
        {
          "name": "stderr",
          "output_type": "stream",
          "text": [
            "\n",
            "\u001b[A\n",
            "\u001b[A\n",
            "\u001b[A\n",
            "\u001b[A\n",
            "\u001b[A"
          ]
        },
        {
          "name": "stdout",
          "output_type": "stream",
          "text": [
            "[Sanity] step 270: gen mean=-0.3730, std=0.6533, probe_RMSE=0.056210\n"
          ]
        },
        {
          "name": "stderr",
          "output_type": "stream",
          "text": [
            "\n",
            "\u001b[A\n",
            "\u001b[A\n",
            "\u001b[A\n",
            "\u001b[A\n",
            "\u001b[A"
          ]
        },
        {
          "name": "stdout",
          "output_type": "stream",
          "text": [
            "[Sanity] step 275: gen mean=-0.3566, std=0.6739, probe_RMSE=0.061933\n"
          ]
        },
        {
          "name": "stderr",
          "output_type": "stream",
          "text": [
            "\n",
            "\u001b[A\n",
            "\u001b[A\n",
            "\u001b[A\n",
            "\u001b[A\n",
            "\u001b[A"
          ]
        },
        {
          "name": "stdout",
          "output_type": "stream",
          "text": [
            "[Sanity] step 280: gen mean=-0.3473, std=0.6984, probe_RMSE=0.056757\n"
          ]
        },
        {
          "name": "stderr",
          "output_type": "stream",
          "text": [
            "\n",
            "\u001b[A\n",
            "\u001b[A\n",
            "\u001b[A\n",
            "\u001b[A\n",
            "\u001b[A"
          ]
        },
        {
          "name": "stdout",
          "output_type": "stream",
          "text": [
            "[Sanity] step 285: gen mean=-0.3380, std=0.6967, probe_RMSE=0.050206\n"
          ]
        },
        {
          "name": "stderr",
          "output_type": "stream",
          "text": [
            "\n",
            "\u001b[A\n",
            "\u001b[A\n",
            "\u001b[A\n",
            "\u001b[A\n",
            "\u001b[A"
          ]
        },
        {
          "name": "stdout",
          "output_type": "stream",
          "text": [
            "[Sanity] step 290: gen mean=-0.3507, std=0.6828, probe_RMSE=0.054379\n"
          ]
        },
        {
          "name": "stderr",
          "output_type": "stream",
          "text": [
            "\n",
            "\u001b[A\n",
            "\u001b[A\n",
            "\u001b[A\n",
            "\u001b[A\n",
            "\u001b[A"
          ]
        },
        {
          "name": "stdout",
          "output_type": "stream",
          "text": [
            "[Sanity] step 295: gen mean=-0.3655, std=0.6580, probe_RMSE=0.070547\n"
          ]
        },
        {
          "name": "stderr",
          "output_type": "stream",
          "text": [
            "\n",
            "\u001b[A\n",
            "\u001b[A\n",
            "\u001b[A\n",
            "\u001b[A\n",
            "\u001b[A"
          ]
        },
        {
          "name": "stdout",
          "output_type": "stream",
          "text": [
            "[Sanity] step 300: gen mean=-0.4149, std=0.6218, probe_RMSE=0.068308\n"
          ]
        },
        {
          "name": "stderr",
          "output_type": "stream",
          "text": [
            "\n",
            "\u001b[A\n",
            "\u001b[A\n",
            "\u001b[A\n",
            "\u001b[A\n",
            "\u001b[A"
          ]
        },
        {
          "name": "stdout",
          "output_type": "stream",
          "text": [
            "[Sanity] step 305: gen mean=-0.4132, std=0.6240, probe_RMSE=0.047496\n"
          ]
        },
        {
          "name": "stderr",
          "output_type": "stream",
          "text": [
            "\n",
            "\u001b[A\n",
            "\u001b[A\n",
            "\u001b[A\n",
            "\u001b[A\n",
            "\u001b[A"
          ]
        },
        {
          "name": "stdout",
          "output_type": "stream",
          "text": [
            "[Sanity] step 310: gen mean=-0.4305, std=0.6286, probe_RMSE=0.046109\n"
          ]
        },
        {
          "name": "stderr",
          "output_type": "stream",
          "text": [
            "\n",
            "\u001b[A\n",
            "\u001b[A\n",
            "\u001b[A\n",
            "\u001b[A\n",
            "\u001b[A"
          ]
        },
        {
          "name": "stdout",
          "output_type": "stream",
          "text": [
            "[Sanity] step 315: gen mean=-0.4165, std=0.6470, probe_RMSE=0.057625\n"
          ]
        },
        {
          "name": "stderr",
          "output_type": "stream",
          "text": [
            "\n",
            "\u001b[A\n",
            "\u001b[A\n",
            "\u001b[A\n",
            "\u001b[A\n",
            "\u001b[A"
          ]
        },
        {
          "name": "stdout",
          "output_type": "stream",
          "text": [
            "[Sanity] step 320: gen mean=-0.3893, std=0.6698, probe_RMSE=0.053087\n"
          ]
        },
        {
          "name": "stderr",
          "output_type": "stream",
          "text": [
            "\n",
            "\u001b[A\n",
            "\u001b[A\n",
            "\u001b[A\n",
            "\u001b[A\n",
            "\u001b[A"
          ]
        },
        {
          "name": "stdout",
          "output_type": "stream",
          "text": [
            "[Sanity] step 325: gen mean=-0.3736, std=0.6923, probe_RMSE=0.063322\n"
          ]
        },
        {
          "name": "stderr",
          "output_type": "stream",
          "text": [
            "\n",
            "\u001b[A\n",
            "\u001b[A\n",
            "\u001b[A\n",
            "\u001b[A\n",
            "\u001b[A"
          ]
        },
        {
          "name": "stdout",
          "output_type": "stream",
          "text": [
            "[Sanity] step 330: gen mean=-0.3582, std=0.6967, probe_RMSE=0.059178\n"
          ]
        },
        {
          "name": "stderr",
          "output_type": "stream",
          "text": [
            "\n",
            "\u001b[A\n",
            "\u001b[A\n",
            "\u001b[A\n",
            "\u001b[A\n",
            "\u001b[A"
          ]
        },
        {
          "name": "stdout",
          "output_type": "stream",
          "text": [
            "[Sanity] step 335: gen mean=-0.3450, std=0.7038, probe_RMSE=0.068999\n"
          ]
        },
        {
          "name": "stderr",
          "output_type": "stream",
          "text": [
            "\n",
            "\u001b[A\n",
            "\u001b[A\n",
            "\u001b[A\n",
            "\u001b[A\n",
            "\u001b[A"
          ]
        },
        {
          "name": "stdout",
          "output_type": "stream",
          "text": [
            "[Sanity] step 340: gen mean=-0.3352, std=0.7032, probe_RMSE=0.066455\n"
          ]
        },
        {
          "name": "stderr",
          "output_type": "stream",
          "text": [
            "\n",
            "\u001b[A\n",
            "\u001b[A\n",
            "\u001b[A\n",
            "\u001b[A\n",
            "\u001b[A"
          ]
        },
        {
          "name": "stdout",
          "output_type": "stream",
          "text": [
            "[Sanity] step 345: gen mean=-0.3137, std=0.7026, probe_RMSE=0.066907\n"
          ]
        },
        {
          "name": "stderr",
          "output_type": "stream",
          "text": [
            "\n",
            "\u001b[A\n",
            "\u001b[A\n",
            "\u001b[A\n",
            "\u001b[A\n",
            "\u001b[A"
          ]
        },
        {
          "name": "stdout",
          "output_type": "stream",
          "text": [
            "[Sanity] step 350: gen mean=-0.3121, std=0.6888, probe_RMSE=0.053117\n"
          ]
        },
        {
          "name": "stderr",
          "output_type": "stream",
          "text": [
            "\n",
            "\u001b[A\n",
            "\u001b[A\n",
            "\u001b[A\n",
            "\u001b[A\n",
            "\u001b[A"
          ]
        },
        {
          "name": "stdout",
          "output_type": "stream",
          "text": [
            "[Sanity] step 355: gen mean=-0.3036, std=0.6973, probe_RMSE=0.055754\n"
          ]
        },
        {
          "name": "stderr",
          "output_type": "stream",
          "text": [
            "\n",
            "\u001b[A\n",
            "\u001b[A\n",
            "\u001b[A\n",
            "\u001b[A\n",
            "\u001b[A"
          ]
        },
        {
          "name": "stdout",
          "output_type": "stream",
          "text": [
            "[Sanity] step 360: gen mean=-0.2869, std=0.7003, probe_RMSE=0.065663\n"
          ]
        },
        {
          "name": "stderr",
          "output_type": "stream",
          "text": [
            "\n",
            "\u001b[A\n",
            "\u001b[A\n",
            "\u001b[A\n",
            "\u001b[A\n",
            "\u001b[A"
          ]
        },
        {
          "name": "stdout",
          "output_type": "stream",
          "text": [
            "[Sanity] step 365: gen mean=-0.3085, std=0.6823, probe_RMSE=0.055365\n"
          ]
        },
        {
          "name": "stderr",
          "output_type": "stream",
          "text": [
            "\n",
            "\u001b[A\n",
            "\u001b[A\n",
            "\u001b[A\n",
            "\u001b[A\n",
            "\u001b[A"
          ]
        },
        {
          "name": "stdout",
          "output_type": "stream",
          "text": [
            "[Sanity] step 370: gen mean=-0.3030, std=0.6882, probe_RMSE=0.053900\n"
          ]
        },
        {
          "name": "stderr",
          "output_type": "stream",
          "text": [
            "\n",
            "\u001b[A\n",
            "\u001b[A\n",
            "\u001b[A\n",
            "\u001b[A\n",
            "\u001b[A"
          ]
        },
        {
          "name": "stdout",
          "output_type": "stream",
          "text": [
            "[Sanity] step 375: gen mean=-0.3062, std=0.6819, probe_RMSE=0.057283\n"
          ]
        },
        {
          "name": "stderr",
          "output_type": "stream",
          "text": [
            "\n",
            "\u001b[A\n",
            "\u001b[A\n",
            "\u001b[A\n",
            "\u001b[A\n",
            "\u001b[A"
          ]
        },
        {
          "name": "stdout",
          "output_type": "stream",
          "text": [
            "[Sanity] step 380: gen mean=-0.3140, std=0.6759, probe_RMSE=0.049339\n"
          ]
        },
        {
          "name": "stderr",
          "output_type": "stream",
          "text": [
            "\n",
            "\u001b[A\n",
            "\u001b[A\n",
            "\u001b[A\n",
            "\u001b[A\n",
            "\u001b[A"
          ]
        },
        {
          "name": "stdout",
          "output_type": "stream",
          "text": [
            "[Sanity] step 385: gen mean=-0.3586, std=0.6445, probe_RMSE=0.078792\n"
          ]
        },
        {
          "name": "stderr",
          "output_type": "stream",
          "text": [
            "\n",
            "\u001b[A\n",
            "\u001b[A\n",
            "\u001b[A\n",
            "\u001b[A\n",
            "\u001b[A"
          ]
        },
        {
          "name": "stdout",
          "output_type": "stream",
          "text": [
            "[Sanity] step 390: gen mean=-0.3969, std=0.6052, probe_RMSE=0.073341\n"
          ]
        },
        {
          "name": "stderr",
          "output_type": "stream",
          "text": [
            "\n",
            "\u001b[A\n",
            "\u001b[A\n",
            "\u001b[A\n",
            "\u001b[A\n",
            "\u001b[A"
          ]
        },
        {
          "name": "stdout",
          "output_type": "stream",
          "text": [
            "[Sanity] step 395: gen mean=-0.4365, std=0.5775, probe_RMSE=0.060021\n"
          ]
        },
        {
          "name": "stderr",
          "output_type": "stream",
          "text": [
            "\n",
            "\u001b[A\n",
            "\u001b[A\n",
            "\u001b[A\n",
            "\u001b[A\n",
            "\u001b[A"
          ]
        },
        {
          "name": "stdout",
          "output_type": "stream",
          "text": [
            "[Sanity] step 400: gen mean=-0.4595, std=0.5672, probe_RMSE=0.041742\n"
          ]
        },
        {
          "name": "stderr",
          "output_type": "stream",
          "text": [
            "\n",
            "\u001b[A\n",
            "\u001b[A\n",
            "\u001b[A\n",
            "\u001b[A\n",
            "\u001b[A"
          ]
        },
        {
          "name": "stdout",
          "output_type": "stream",
          "text": [
            "[Sanity] step 405: gen mean=-0.4532, std=0.5880, probe_RMSE=0.051448\n"
          ]
        },
        {
          "name": "stderr",
          "output_type": "stream",
          "text": [
            "\n",
            "\u001b[A\n",
            "\u001b[A\n",
            "\u001b[A\n",
            "\u001b[A\n",
            "\u001b[A"
          ]
        },
        {
          "name": "stdout",
          "output_type": "stream",
          "text": [
            "[Sanity] step 410: gen mean=-0.3951, std=0.6393, probe_RMSE=0.094745\n"
          ]
        },
        {
          "name": "stderr",
          "output_type": "stream",
          "text": [
            "\n",
            "\u001b[A\n",
            "\u001b[A\n",
            "\u001b[A\n",
            "\u001b[A\n",
            "\u001b[A"
          ]
        },
        {
          "name": "stdout",
          "output_type": "stream",
          "text": [
            "[Sanity] step 415: gen mean=-0.3550, std=0.6730, probe_RMSE=0.078397\n"
          ]
        },
        {
          "name": "stderr",
          "output_type": "stream",
          "text": [
            "\n",
            "\u001b[A\n",
            "\u001b[A\n",
            "\u001b[A\n",
            "\u001b[A\n",
            "\u001b[A"
          ]
        },
        {
          "name": "stdout",
          "output_type": "stream",
          "text": [
            "[Sanity] step 420: gen mean=-0.3516, std=0.6959, probe_RMSE=0.050281\n"
          ]
        },
        {
          "name": "stderr",
          "output_type": "stream",
          "text": [
            "\n",
            "\u001b[A\n",
            "\u001b[A\n",
            "\u001b[A\n",
            "\u001b[A\n",
            "\u001b[A"
          ]
        },
        {
          "name": "stdout",
          "output_type": "stream",
          "text": [
            "[Sanity] step 425: gen mean=-0.3316, std=0.7088, probe_RMSE=0.051641\n"
          ]
        },
        {
          "name": "stderr",
          "output_type": "stream",
          "text": [
            "\n",
            "\u001b[A\n",
            "\u001b[A\n",
            "\u001b[A\n",
            "\u001b[A\n",
            "\u001b[A"
          ]
        },
        {
          "name": "stdout",
          "output_type": "stream",
          "text": [
            "[Sanity] step 430: gen mean=-0.3286, std=0.7060, probe_RMSE=0.055030\n"
          ]
        },
        {
          "name": "stderr",
          "output_type": "stream",
          "text": [
            "\n",
            "\u001b[A\n",
            "\u001b[A\n",
            "\u001b[A\n",
            "\u001b[A\n",
            "\u001b[A"
          ]
        },
        {
          "name": "stdout",
          "output_type": "stream",
          "text": [
            "[Sanity] step 435: gen mean=-0.3198, std=0.7088, probe_RMSE=0.057085\n"
          ]
        },
        {
          "name": "stderr",
          "output_type": "stream",
          "text": [
            "\n",
            "\u001b[A\n",
            "\u001b[A\n",
            "\u001b[A\n",
            "\u001b[A\n",
            "\u001b[A"
          ]
        },
        {
          "name": "stdout",
          "output_type": "stream",
          "text": [
            "[Sanity] step 440: gen mean=-0.3275, std=0.7097, probe_RMSE=0.050040\n"
          ]
        },
        {
          "name": "stderr",
          "output_type": "stream",
          "text": [
            "\n",
            "\u001b[A\n",
            "\u001b[A\n",
            "\u001b[A\n",
            "\u001b[A\n",
            "\u001b[A"
          ]
        },
        {
          "name": "stdout",
          "output_type": "stream",
          "text": [
            "[Sanity] step 445: gen mean=-0.3233, std=0.7159, probe_RMSE=0.044275\n"
          ]
        },
        {
          "name": "stderr",
          "output_type": "stream",
          "text": [
            "\n",
            "\u001b[A\n",
            "\u001b[A\n",
            "\u001b[A\n",
            "\u001b[A\n",
            "\u001b[A"
          ]
        },
        {
          "name": "stdout",
          "output_type": "stream",
          "text": [
            "[Sanity] step 450: gen mean=-0.3160, std=0.7259, probe_RMSE=0.041773\n"
          ]
        },
        {
          "name": "stderr",
          "output_type": "stream",
          "text": [
            "\n",
            "\u001b[A\n",
            "\u001b[A\n",
            "\u001b[A\n",
            "\u001b[A\n",
            "\u001b[A"
          ]
        },
        {
          "name": "stdout",
          "output_type": "stream",
          "text": [
            "[Sanity] step 455: gen mean=-0.3014, std=0.7372, probe_RMSE=0.048318\n"
          ]
        },
        {
          "name": "stderr",
          "output_type": "stream",
          "text": [
            "\n",
            "\u001b[A\n",
            "\u001b[A\n",
            "\u001b[A\n",
            "\u001b[A\n",
            "\u001b[A"
          ]
        },
        {
          "name": "stdout",
          "output_type": "stream",
          "text": [
            "[Sanity] step 460: gen mean=-0.2832, std=0.7379, probe_RMSE=0.046676\n"
          ]
        },
        {
          "name": "stderr",
          "output_type": "stream",
          "text": [
            "\n",
            "\u001b[A\n",
            "\u001b[A\n",
            "\u001b[A\n",
            "\u001b[A\n",
            "\u001b[A"
          ]
        },
        {
          "name": "stdout",
          "output_type": "stream",
          "text": [
            "[Sanity] step 465: gen mean=-0.2753, std=0.7461, probe_RMSE=0.050999\n"
          ]
        },
        {
          "name": "stderr",
          "output_type": "stream",
          "text": [
            "\n",
            "\u001b[A\n",
            "\u001b[A\n",
            "\u001b[A\n",
            "\u001b[A\n",
            "\u001b[A"
          ]
        },
        {
          "name": "stdout",
          "output_type": "stream",
          "text": [
            "[Sanity] step 470: gen mean=-0.2813, std=0.7536, probe_RMSE=0.052884\n"
          ]
        },
        {
          "name": "stderr",
          "output_type": "stream",
          "text": [
            "\n",
            "\u001b[A\n",
            "\u001b[A\n",
            "\u001b[A\n",
            "\u001b[A\n",
            "\u001b[A"
          ]
        },
        {
          "name": "stdout",
          "output_type": "stream",
          "text": [
            "[Sanity] step 475: gen mean=-0.2878, std=0.7322, probe_RMSE=0.059944\n"
          ]
        },
        {
          "name": "stderr",
          "output_type": "stream",
          "text": [
            "\n",
            "\u001b[A\n",
            "\u001b[A\n",
            "\u001b[A\n",
            "\u001b[A\n",
            "\u001b[A"
          ]
        },
        {
          "name": "stdout",
          "output_type": "stream",
          "text": [
            "[Sanity] step 480: gen mean=-0.2831, std=0.7297, probe_RMSE=0.053155\n"
          ]
        },
        {
          "name": "stderr",
          "output_type": "stream",
          "text": [
            "\n",
            "\u001b[A\n",
            "\u001b[A\n",
            "\u001b[A\n",
            "\u001b[A\n",
            "\u001b[A"
          ]
        },
        {
          "name": "stdout",
          "output_type": "stream",
          "text": [
            "[Sanity] step 485: gen mean=-0.3181, std=0.6871, probe_RMSE=0.083073\n"
          ]
        },
        {
          "name": "stderr",
          "output_type": "stream",
          "text": [
            "\n",
            "\u001b[A\n",
            "\u001b[A\n",
            "\u001b[A\n",
            "\u001b[A\n",
            "\u001b[A"
          ]
        },
        {
          "name": "stdout",
          "output_type": "stream",
          "text": [
            "[Sanity] step 490: gen mean=-0.3645, std=0.6356, probe_RMSE=0.079517\n"
          ]
        },
        {
          "name": "stderr",
          "output_type": "stream",
          "text": [
            "\n",
            "\u001b[A\n",
            "\u001b[A\n",
            "\u001b[A\n",
            "\u001b[A\n",
            "\u001b[A"
          ]
        },
        {
          "name": "stdout",
          "output_type": "stream",
          "text": [
            "[Sanity] step 495: gen mean=-0.4046, std=0.5906, probe_RMSE=0.072536\n"
          ]
        },
        {
          "name": "stderr",
          "output_type": "stream",
          "text": [
            "\n",
            "\u001b[A\n",
            "\u001b[A\n",
            "\u001b[A\n",
            "\u001b[A\n",
            "\u001b[A"
          ]
        },
        {
          "name": "stdout",
          "output_type": "stream",
          "text": [
            "[Sanity] step 500: gen mean=-0.4296, std=0.5653, probe_RMSE=0.055333\n"
          ]
        },
        {
          "name": "stderr",
          "output_type": "stream",
          "text": [
            "\n",
            "\u001b[A\n",
            "\u001b[A\n",
            "\u001b[A\n",
            "\u001b[A\n",
            "\u001b[A"
          ]
        },
        {
          "name": "stdout",
          "output_type": "stream",
          "text": [
            "[Sanity] step 505: gen mean=-0.4250, std=0.5679, probe_RMSE=0.036278\n"
          ]
        },
        {
          "name": "stderr",
          "output_type": "stream",
          "text": [
            "\n",
            "\u001b[A\n",
            "\u001b[A\n",
            "\u001b[A\n",
            "\u001b[A\n",
            "\u001b[A"
          ]
        },
        {
          "name": "stdout",
          "output_type": "stream",
          "text": [
            "[Sanity] step 510: gen mean=-0.4442, std=0.5560, probe_RMSE=0.031949\n"
          ]
        },
        {
          "name": "stderr",
          "output_type": "stream",
          "text": [
            "\n",
            "\u001b[A\n",
            "\u001b[A\n",
            "\u001b[A\n",
            "\u001b[A\n",
            "\u001b[A"
          ]
        },
        {
          "name": "stdout",
          "output_type": "stream",
          "text": [
            "[Sanity] step 515: gen mean=-0.4446, std=0.5579, probe_RMSE=0.030941\n"
          ]
        },
        {
          "name": "stderr",
          "output_type": "stream",
          "text": [
            "\n",
            "\u001b[A\n",
            "\u001b[A\n",
            "\u001b[A\n",
            "\u001b[A\n",
            "\u001b[A"
          ]
        },
        {
          "name": "stdout",
          "output_type": "stream",
          "text": [
            "[Sanity] step 520: gen mean=-0.4124, std=0.5909, probe_RMSE=0.061302\n"
          ]
        },
        {
          "name": "stderr",
          "output_type": "stream",
          "text": [
            "\n",
            "\u001b[A\n",
            "\u001b[A\n",
            "\u001b[A\n",
            "\u001b[A\n",
            "\u001b[A"
          ]
        },
        {
          "name": "stdout",
          "output_type": "stream",
          "text": [
            "[Sanity] step 525: gen mean=-0.3374, std=0.6561, probe_RMSE=0.125067\n"
          ]
        },
        {
          "name": "stderr",
          "output_type": "stream",
          "text": [
            "\n",
            "\u001b[A\n",
            "\u001b[A\n",
            "\u001b[A\n",
            "\u001b[A\n",
            "\u001b[A"
          ]
        },
        {
          "name": "stdout",
          "output_type": "stream",
          "text": [
            "[Sanity] step 530: gen mean=-0.2873, std=0.6934, probe_RMSE=0.074433\n"
          ]
        },
        {
          "name": "stderr",
          "output_type": "stream",
          "text": [
            "\n",
            "\u001b[A\n",
            "\u001b[A\n",
            "\u001b[A\n",
            "\u001b[A\n",
            "\u001b[A"
          ]
        },
        {
          "name": "stdout",
          "output_type": "stream",
          "text": [
            "[Sanity] step 535: gen mean=-0.2675, std=0.7201, probe_RMSE=0.082760\n"
          ]
        },
        {
          "name": "stderr",
          "output_type": "stream",
          "text": [
            "\n",
            "\u001b[A\n",
            "\u001b[A\n",
            "\u001b[A\n",
            "\u001b[A\n",
            "\u001b[A"
          ]
        },
        {
          "name": "stdout",
          "output_type": "stream",
          "text": [
            "[Sanity] step 540: gen mean=-0.2481, std=0.7474, probe_RMSE=0.061209\n"
          ]
        },
        {
          "name": "stderr",
          "output_type": "stream",
          "text": [
            "\n",
            "\u001b[A\n",
            "\u001b[A\n",
            "\u001b[A\n",
            "\u001b[A\n",
            "\u001b[A"
          ]
        },
        {
          "name": "stdout",
          "output_type": "stream",
          "text": [
            "[Sanity] step 545: gen mean=-0.2870, std=0.7101, probe_RMSE=0.093976\n"
          ]
        },
        {
          "name": "stderr",
          "output_type": "stream",
          "text": [
            "\n",
            "\u001b[A\n",
            "\u001b[A\n",
            "\u001b[A\n",
            "\u001b[A\n",
            "\u001b[A"
          ]
        },
        {
          "name": "stdout",
          "output_type": "stream",
          "text": [
            "[Sanity] step 550: gen mean=-0.3916, std=0.6251, probe_RMSE=0.156158\n"
          ]
        },
        {
          "name": "stderr",
          "output_type": "stream",
          "text": [
            "\n",
            "\u001b[A\n",
            "\u001b[A\n",
            "\u001b[A\n",
            "\u001b[A\n",
            "\u001b[A"
          ]
        },
        {
          "name": "stdout",
          "output_type": "stream",
          "text": [
            "[Sanity] step 555: gen mean=-0.4714, std=0.5567, probe_RMSE=0.114636\n"
          ]
        },
        {
          "name": "stderr",
          "output_type": "stream",
          "text": [
            "\n",
            "\u001b[A\n",
            "\u001b[A\n",
            "\u001b[A\n",
            "\u001b[A\n",
            "\u001b[A"
          ]
        },
        {
          "name": "stdout",
          "output_type": "stream",
          "text": [
            "[Sanity] step 560: gen mean=-0.5125, std=0.5246, probe_RMSE=0.052974\n"
          ]
        },
        {
          "name": "stderr",
          "output_type": "stream",
          "text": [
            "\n",
            "\u001b[A\n",
            "\u001b[A\n",
            "\u001b[A\n",
            "\u001b[A\n",
            "\u001b[A"
          ]
        },
        {
          "name": "stdout",
          "output_type": "stream",
          "text": [
            "[Sanity] step 565: gen mean=-0.5066, std=0.5284, probe_RMSE=0.035862\n"
          ]
        },
        {
          "name": "stderr",
          "output_type": "stream",
          "text": [
            "\n",
            "\u001b[A\n",
            "\u001b[A\n",
            "\u001b[A\n",
            "\u001b[A\n",
            "\u001b[A"
          ]
        },
        {
          "name": "stdout",
          "output_type": "stream",
          "text": [
            "[Sanity] step 570: gen mean=-0.4979, std=0.5506, probe_RMSE=0.055797\n"
          ]
        },
        {
          "name": "stderr",
          "output_type": "stream",
          "text": [
            "\n",
            "\u001b[A\n",
            "\u001b[A\n",
            "\u001b[A\n",
            "\u001b[A\n",
            "\u001b[A"
          ]
        },
        {
          "name": "stdout",
          "output_type": "stream",
          "text": [
            "[Sanity] step 575: gen mean=-0.4510, std=0.6115, probe_RMSE=0.096313\n"
          ]
        },
        {
          "name": "stderr",
          "output_type": "stream",
          "text": [
            "\n",
            "\u001b[A\n",
            "\u001b[A\n",
            "\u001b[A\n",
            "\u001b[A\n",
            "\u001b[A"
          ]
        },
        {
          "name": "stdout",
          "output_type": "stream",
          "text": [
            "[Sanity] step 580: gen mean=-0.4024, std=0.6585, probe_RMSE=0.068800\n"
          ]
        },
        {
          "name": "stderr",
          "output_type": "stream",
          "text": [
            "\n",
            "\u001b[A\n",
            "\u001b[A\n",
            "\u001b[A\n",
            "\u001b[A\n",
            "\u001b[A"
          ]
        },
        {
          "name": "stdout",
          "output_type": "stream",
          "text": [
            "[Sanity] step 585: gen mean=-0.3845, std=0.6765, probe_RMSE=0.062590\n"
          ]
        },
        {
          "name": "stderr",
          "output_type": "stream",
          "text": [
            "\n",
            "\u001b[A\n",
            "\u001b[A\n",
            "\u001b[A\n",
            "\u001b[A\n",
            "\u001b[A"
          ]
        },
        {
          "name": "stdout",
          "output_type": "stream",
          "text": [
            "[Sanity] step 590: gen mean=-0.3449, std=0.7181, probe_RMSE=0.076955\n"
          ]
        },
        {
          "name": "stderr",
          "output_type": "stream",
          "text": [
            "\n",
            "\u001b[A\n",
            "\u001b[A\n",
            "\u001b[A\n",
            "\u001b[A\n",
            "\u001b[A"
          ]
        },
        {
          "name": "stdout",
          "output_type": "stream",
          "text": [
            "[Sanity] step 595: gen mean=-0.3358, std=0.7304, probe_RMSE=0.069552\n"
          ]
        },
        {
          "name": "stderr",
          "output_type": "stream",
          "text": [
            "\n",
            "\u001b[A\n",
            "\u001b[A\n",
            "\u001b[A\n",
            "\u001b[A\n",
            "\u001b[A"
          ]
        },
        {
          "name": "stdout",
          "output_type": "stream",
          "text": [
            "[Sanity] step 600: gen mean=-0.3073, std=0.7441, probe_RMSE=0.082686\n"
          ]
        },
        {
          "name": "stderr",
          "output_type": "stream",
          "text": [
            "\n",
            "\u001b[A\n",
            "\u001b[A\n",
            "\u001b[A\n",
            "\u001b[A\n",
            "\u001b[A"
          ]
        },
        {
          "name": "stdout",
          "output_type": "stream",
          "text": [
            "[Sanity] step 605: gen mean=-0.3045, std=0.7120, probe_RMSE=0.082544\n"
          ]
        },
        {
          "name": "stderr",
          "output_type": "stream",
          "text": [
            "\n",
            "\u001b[A\n",
            "\u001b[A\n",
            "\u001b[A\n",
            "\u001b[A\n",
            "\u001b[A"
          ]
        },
        {
          "name": "stdout",
          "output_type": "stream",
          "text": [
            "[Sanity] step 610: gen mean=-0.3402, std=0.6869, probe_RMSE=0.067665\n"
          ]
        },
        {
          "name": "stderr",
          "output_type": "stream",
          "text": [
            "\n",
            "\u001b[A\n",
            "\u001b[A\n",
            "\u001b[A\n",
            "\u001b[A\n",
            "\u001b[A"
          ]
        },
        {
          "name": "stdout",
          "output_type": "stream",
          "text": [
            "[Sanity] step 615: gen mean=-0.3506, std=0.6767, probe_RMSE=0.054158\n"
          ]
        },
        {
          "name": "stderr",
          "output_type": "stream",
          "text": [
            "\n",
            "\u001b[A\n",
            "\u001b[A\n",
            "\u001b[A\n",
            "\u001b[A\n",
            "\u001b[A"
          ]
        },
        {
          "name": "stdout",
          "output_type": "stream",
          "text": [
            "[Sanity] step 620: gen mean=-0.3545, std=0.6746, probe_RMSE=0.048860\n"
          ]
        },
        {
          "name": "stderr",
          "output_type": "stream",
          "text": [
            "\n",
            "\u001b[A\n",
            "\u001b[A\n",
            "\u001b[A\n",
            "\u001b[A\n",
            "\u001b[A"
          ]
        },
        {
          "name": "stdout",
          "output_type": "stream",
          "text": [
            "[Sanity] step 625: gen mean=-0.3545, std=0.6690, probe_RMSE=0.047363\n"
          ]
        },
        {
          "name": "stderr",
          "output_type": "stream",
          "text": [
            "\n",
            "\u001b[A\n",
            "\u001b[A\n",
            "\u001b[A\n",
            "\u001b[A\n",
            "\u001b[A"
          ]
        },
        {
          "name": "stdout",
          "output_type": "stream",
          "text": [
            "[Sanity] step 630: gen mean=-0.3471, std=0.6746, probe_RMSE=0.049055\n"
          ]
        },
        {
          "name": "stderr",
          "output_type": "stream",
          "text": [
            "\n",
            "\u001b[A\n",
            "\u001b[A\n",
            "\u001b[A\n",
            "\u001b[A\n",
            "\u001b[A"
          ]
        },
        {
          "name": "stdout",
          "output_type": "stream",
          "text": [
            "[Sanity] step 635: gen mean=-0.3458, std=0.6776, probe_RMSE=0.048129\n"
          ]
        },
        {
          "name": "stderr",
          "output_type": "stream",
          "text": [
            "\n",
            "\u001b[A\n",
            "\u001b[A\n",
            "\u001b[A\n",
            "\u001b[A\n",
            "\u001b[A"
          ]
        },
        {
          "name": "stdout",
          "output_type": "stream",
          "text": [
            "[Sanity] step 640: gen mean=-0.3392, std=0.6802, probe_RMSE=0.047836\n"
          ]
        },
        {
          "name": "stderr",
          "output_type": "stream",
          "text": [
            "\n",
            "\u001b[A\n",
            "\u001b[A\n",
            "\u001b[A\n",
            "\u001b[A\n",
            "\u001b[A"
          ]
        },
        {
          "name": "stdout",
          "output_type": "stream",
          "text": [
            "[Sanity] step 645: gen mean=-0.3378, std=0.6838, probe_RMSE=0.046449\n"
          ]
        },
        {
          "name": "stderr",
          "output_type": "stream",
          "text": [
            "\n",
            "\u001b[A\n",
            "\u001b[A\n",
            "\u001b[A\n",
            "\u001b[A\n",
            "\u001b[A"
          ]
        },
        {
          "name": "stdout",
          "output_type": "stream",
          "text": [
            "[Sanity] step 650: gen mean=-0.3360, std=0.6771, probe_RMSE=0.043609\n"
          ]
        },
        {
          "name": "stderr",
          "output_type": "stream",
          "text": [
            "\n",
            "\u001b[A\n",
            "\u001b[A\n",
            "\u001b[A\n",
            "\u001b[A\n",
            "\u001b[A"
          ]
        },
        {
          "name": "stdout",
          "output_type": "stream",
          "text": [
            "[Sanity] step 655: gen mean=-0.3375, std=0.6802, probe_RMSE=0.041144\n"
          ]
        },
        {
          "name": "stderr",
          "output_type": "stream",
          "text": [
            "\n",
            "\u001b[A\n",
            "\u001b[A\n",
            "\u001b[A\n",
            "\u001b[A\n",
            "\u001b[A"
          ]
        },
        {
          "name": "stdout",
          "output_type": "stream",
          "text": [
            "[Sanity] step 660: gen mean=-0.3320, std=0.6878, probe_RMSE=0.043614\n"
          ]
        },
        {
          "name": "stderr",
          "output_type": "stream",
          "text": [
            "\n",
            "\u001b[A\n",
            "\u001b[A\n",
            "\u001b[A\n",
            "\u001b[A\n",
            "\u001b[A"
          ]
        },
        {
          "name": "stdout",
          "output_type": "stream",
          "text": [
            "[Sanity] step 665: gen mean=-0.3271, std=0.6858, probe_RMSE=0.040197\n"
          ]
        },
        {
          "name": "stderr",
          "output_type": "stream",
          "text": [
            "\n",
            "\u001b[A\n",
            "\u001b[A\n",
            "\u001b[A\n",
            "\u001b[A\n",
            "\u001b[A"
          ]
        },
        {
          "name": "stdout",
          "output_type": "stream",
          "text": [
            "[Sanity] step 670: gen mean=-0.3159, std=0.6913, probe_RMSE=0.042535\n"
          ]
        },
        {
          "name": "stderr",
          "output_type": "stream",
          "text": [
            "\n",
            "\u001b[A\n",
            "\u001b[A\n",
            "\u001b[A\n",
            "\u001b[A\n",
            "\u001b[A"
          ]
        },
        {
          "name": "stdout",
          "output_type": "stream",
          "text": [
            "[Sanity] step 675: gen mean=-0.3246, std=0.6866, probe_RMSE=0.042082\n"
          ]
        },
        {
          "name": "stderr",
          "output_type": "stream",
          "text": [
            "\n",
            "\u001b[A\n",
            "\u001b[A\n",
            "\u001b[A\n",
            "\u001b[A\n",
            "\u001b[A"
          ]
        },
        {
          "name": "stdout",
          "output_type": "stream",
          "text": [
            "[Sanity] step 680: gen mean=-0.3280, std=0.6797, probe_RMSE=0.048382\n"
          ]
        },
        {
          "name": "stderr",
          "output_type": "stream",
          "text": [
            "\n",
            "\u001b[A\n",
            "\u001b[A\n",
            "\u001b[A\n",
            "\u001b[A\n",
            "\u001b[A"
          ]
        },
        {
          "name": "stdout",
          "output_type": "stream",
          "text": [
            "[Sanity] step 685: gen mean=-0.3246, std=0.6866, probe_RMSE=0.049255\n"
          ]
        },
        {
          "name": "stderr",
          "output_type": "stream",
          "text": [
            "\n",
            "\u001b[A\n",
            "\u001b[A\n",
            "\u001b[A\n",
            "\u001b[A\n",
            "\u001b[A"
          ]
        },
        {
          "name": "stdout",
          "output_type": "stream",
          "text": [
            "[Sanity] step 690: gen mean=-0.3208, std=0.6867, probe_RMSE=0.048715\n"
          ]
        },
        {
          "name": "stderr",
          "output_type": "stream",
          "text": [
            "\n",
            "\u001b[A\n",
            "\u001b[A\n",
            "\u001b[A\n",
            "\u001b[A\n",
            "\u001b[A"
          ]
        },
        {
          "name": "stdout",
          "output_type": "stream",
          "text": [
            "[Sanity] step 695: gen mean=-0.3549, std=0.6653, probe_RMSE=0.079320\n"
          ]
        },
        {
          "name": "stderr",
          "output_type": "stream",
          "text": [
            "\n",
            "\u001b[A\n",
            "\u001b[A\n",
            "\u001b[A\n",
            "\u001b[A\n",
            "\u001b[A"
          ]
        },
        {
          "name": "stdout",
          "output_type": "stream",
          "text": [
            "[Sanity] step 700: gen mean=-0.4115, std=0.6191, probe_RMSE=0.087579\n"
          ]
        },
        {
          "name": "stderr",
          "output_type": "stream",
          "text": [
            "\n",
            "\u001b[A\n",
            "\u001b[A\n",
            "\u001b[A\n",
            "\u001b[A\n",
            "\u001b[A"
          ]
        },
        {
          "name": "stdout",
          "output_type": "stream",
          "text": [
            "[Sanity] step 705: gen mean=-0.4377, std=0.5865, probe_RMSE=0.068203\n"
          ]
        },
        {
          "name": "stderr",
          "output_type": "stream",
          "text": [
            "\n",
            "\u001b[A\n",
            "\u001b[A\n",
            "\u001b[A\n",
            "\u001b[A\n",
            "\u001b[A"
          ]
        },
        {
          "name": "stdout",
          "output_type": "stream",
          "text": [
            "[Sanity] step 710: gen mean=-0.4605, std=0.5764, probe_RMSE=0.054104\n"
          ]
        },
        {
          "name": "stderr",
          "output_type": "stream",
          "text": [
            "\n",
            "\u001b[A\n",
            "\u001b[A\n",
            "\u001b[A\n",
            "\u001b[A\n",
            "\u001b[A"
          ]
        },
        {
          "name": "stdout",
          "output_type": "stream",
          "text": [
            "[Sanity] step 715: gen mean=-0.4598, std=0.5869, probe_RMSE=0.046817\n"
          ]
        },
        {
          "name": "stderr",
          "output_type": "stream",
          "text": [
            "\n",
            "\u001b[A\n",
            "\u001b[A\n",
            "\u001b[A\n",
            "\u001b[A\n",
            "\u001b[A"
          ]
        },
        {
          "name": "stdout",
          "output_type": "stream",
          "text": [
            "[Sanity] step 720: gen mean=-0.4041, std=0.6436, probe_RMSE=0.100969\n"
          ]
        },
        {
          "name": "stderr",
          "output_type": "stream",
          "text": [
            "\n",
            "\u001b[A\n",
            "\u001b[A\n",
            "\u001b[A\n",
            "\u001b[A\n",
            "\u001b[A"
          ]
        },
        {
          "name": "stdout",
          "output_type": "stream",
          "text": [
            "[Sanity] step 725: gen mean=-0.3544, std=0.6837, probe_RMSE=0.075398\n"
          ]
        },
        {
          "name": "stderr",
          "output_type": "stream",
          "text": [
            "\n",
            "\u001b[A\n",
            "\u001b[A\n",
            "\u001b[A\n",
            "\u001b[A\n",
            "\u001b[A"
          ]
        },
        {
          "name": "stdout",
          "output_type": "stream",
          "text": [
            "[Sanity] step 730: gen mean=-0.3556, std=0.6957, probe_RMSE=0.057327\n"
          ]
        },
        {
          "name": "stderr",
          "output_type": "stream",
          "text": [
            "\n",
            "\u001b[A\n",
            "\u001b[A\n",
            "\u001b[A\n",
            "\u001b[A\n",
            "\u001b[A"
          ]
        },
        {
          "name": "stdout",
          "output_type": "stream",
          "text": [
            "[Sanity] step 735: gen mean=-0.3325, std=0.7053, probe_RMSE=0.055431\n"
          ]
        },
        {
          "name": "stderr",
          "output_type": "stream",
          "text": [
            "\n",
            "\u001b[A\n",
            "\u001b[A\n",
            "\u001b[A\n",
            "\u001b[A\n",
            "\u001b[A"
          ]
        },
        {
          "name": "stdout",
          "output_type": "stream",
          "text": [
            "[Sanity] step 740: gen mean=-0.3284, std=0.7127, probe_RMSE=0.049721\n"
          ]
        },
        {
          "name": "stderr",
          "output_type": "stream",
          "text": [
            "\n",
            "\u001b[A\n",
            "\u001b[A\n",
            "\u001b[A\n",
            "\u001b[A\n",
            "\u001b[A"
          ]
        },
        {
          "name": "stdout",
          "output_type": "stream",
          "text": [
            "[Sanity] step 745: gen mean=-0.3107, std=0.7205, probe_RMSE=0.052797\n"
          ]
        },
        {
          "name": "stderr",
          "output_type": "stream",
          "text": [
            "\n",
            "\u001b[A\n",
            "\u001b[A\n",
            "\u001b[A\n",
            "\u001b[A\n",
            "\u001b[A"
          ]
        },
        {
          "name": "stdout",
          "output_type": "stream",
          "text": [
            "[Sanity] step 750: gen mean=-0.3081, std=0.7221, probe_RMSE=0.047235\n"
          ]
        },
        {
          "name": "stderr",
          "output_type": "stream",
          "text": [
            "\n",
            "\u001b[A\n",
            "\u001b[A\n",
            "\u001b[A\n",
            "\u001b[A\n",
            "\u001b[A"
          ]
        },
        {
          "name": "stdout",
          "output_type": "stream",
          "text": [
            "[Sanity] step 755: gen mean=-0.3021, std=0.7322, probe_RMSE=0.055731\n"
          ]
        },
        {
          "name": "stderr",
          "output_type": "stream",
          "text": [
            "\n",
            "\u001b[A\n",
            "\u001b[A\n",
            "\u001b[A\n",
            "\u001b[A\n",
            "\u001b[A"
          ]
        },
        {
          "name": "stdout",
          "output_type": "stream",
          "text": [
            "[Sanity] step 760: gen mean=-0.2848, std=0.7244, probe_RMSE=0.055957\n"
          ]
        },
        {
          "name": "stderr",
          "output_type": "stream",
          "text": [
            "\n",
            "\u001b[A\n",
            "\u001b[A\n",
            "\u001b[A\n",
            "\u001b[A\n",
            "\u001b[A"
          ]
        },
        {
          "name": "stdout",
          "output_type": "stream",
          "text": [
            "[Sanity] step 765: gen mean=-0.2884, std=0.7215, probe_RMSE=0.052821\n"
          ]
        },
        {
          "name": "stderr",
          "output_type": "stream",
          "text": [
            "\n",
            "\u001b[A\n",
            "\u001b[A\n",
            "\u001b[A\n",
            "\u001b[A\n",
            "\u001b[A"
          ]
        },
        {
          "name": "stdout",
          "output_type": "stream",
          "text": [
            "[Sanity] step 770: gen mean=-0.2913, std=0.7223, probe_RMSE=0.055964\n"
          ]
        },
        {
          "name": "stderr",
          "output_type": "stream",
          "text": [
            "\n",
            "\u001b[A\n",
            "\u001b[A\n",
            "\u001b[A\n",
            "\u001b[A\n",
            "\u001b[A"
          ]
        },
        {
          "name": "stdout",
          "output_type": "stream",
          "text": [
            "[Sanity] step 775: gen mean=-0.2841, std=0.7266, probe_RMSE=0.054363\n"
          ]
        },
        {
          "name": "stderr",
          "output_type": "stream",
          "text": [
            "\n",
            "\u001b[A\n",
            "\u001b[A\n",
            "\u001b[A\n",
            "\u001b[A\n",
            "\u001b[A"
          ]
        },
        {
          "name": "stdout",
          "output_type": "stream",
          "text": [
            "[Sanity] step 780: gen mean=-0.2952, std=0.7108, probe_RMSE=0.055212\n"
          ]
        },
        {
          "name": "stderr",
          "output_type": "stream",
          "text": [
            "\n",
            "\u001b[A\n",
            "\u001b[A\n",
            "\u001b[A\n",
            "\u001b[A\n",
            "\u001b[A"
          ]
        },
        {
          "name": "stdout",
          "output_type": "stream",
          "text": [
            "[Sanity] step 785: gen mean=-0.3276, std=0.6936, probe_RMSE=0.059954\n"
          ]
        },
        {
          "name": "stderr",
          "output_type": "stream",
          "text": [
            "\n",
            "\u001b[A\n",
            "\u001b[A\n",
            "\u001b[A\n",
            "\u001b[A\n",
            "\u001b[A"
          ]
        },
        {
          "name": "stdout",
          "output_type": "stream",
          "text": [
            "[Sanity] step 790: gen mean=-0.3763, std=0.6428, probe_RMSE=0.090799\n"
          ]
        },
        {
          "name": "stderr",
          "output_type": "stream",
          "text": [
            "\n",
            "\u001b[A\n",
            "\u001b[A\n",
            "\u001b[A\n",
            "\u001b[A\n",
            "\u001b[A"
          ]
        },
        {
          "name": "stdout",
          "output_type": "stream",
          "text": [
            "[Sanity] step 795: gen mean=-0.4265, std=0.6001, probe_RMSE=0.076595\n"
          ]
        },
        {
          "name": "stderr",
          "output_type": "stream",
          "text": [
            "\n",
            "\u001b[A\n",
            "\u001b[A\n",
            "\u001b[A\n",
            "\u001b[A\n",
            "\u001b[A"
          ]
        },
        {
          "name": "stdout",
          "output_type": "stream",
          "text": [
            "[Sanity] step 800: gen mean=-0.4608, std=0.5657, probe_RMSE=0.051177\n"
          ]
        },
        {
          "name": "stderr",
          "output_type": "stream",
          "text": [
            "\n",
            "\u001b[A\n",
            "\u001b[A\n",
            "\u001b[A\n",
            "\u001b[A\n",
            "\u001b[A"
          ]
        },
        {
          "name": "stdout",
          "output_type": "stream",
          "text": [
            "[Sanity] step 805: gen mean=-0.4829, std=0.5431, probe_RMSE=0.043320\n"
          ]
        },
        {
          "name": "stderr",
          "output_type": "stream",
          "text": [
            "\n",
            "\u001b[A\n",
            "\u001b[A\n",
            "\u001b[A\n",
            "\u001b[A\n",
            "\u001b[A"
          ]
        },
        {
          "name": "stdout",
          "output_type": "stream",
          "text": [
            "[Sanity] step 810: gen mean=-0.4952, std=0.5388, probe_RMSE=0.032803\n"
          ]
        },
        {
          "name": "stderr",
          "output_type": "stream",
          "text": [
            "\n",
            "\u001b[A\n",
            "\u001b[A\n",
            "\u001b[A\n",
            "\u001b[A\n",
            "\u001b[A"
          ]
        },
        {
          "name": "stdout",
          "output_type": "stream",
          "text": [
            "[Sanity] step 815: gen mean=-0.4942, std=0.5405, probe_RMSE=0.029584\n"
          ]
        },
        {
          "name": "stderr",
          "output_type": "stream",
          "text": [
            "\n",
            "\u001b[A\n",
            "\u001b[A\n",
            "\u001b[A\n",
            "\u001b[A\n",
            "\u001b[A"
          ]
        },
        {
          "name": "stdout",
          "output_type": "stream",
          "text": [
            "[Sanity] step 820: gen mean=-0.4951, std=0.5516, probe_RMSE=0.031619\n"
          ]
        },
        {
          "name": "stderr",
          "output_type": "stream",
          "text": [
            "\n",
            "\u001b[A\n",
            "\u001b[A\n",
            "\u001b[A\n",
            "\u001b[A\n",
            "\u001b[A"
          ]
        },
        {
          "name": "stdout",
          "output_type": "stream",
          "text": [
            "[Sanity] step 825: gen mean=-0.4728, std=0.5725, probe_RMSE=0.063940\n"
          ]
        },
        {
          "name": "stderr",
          "output_type": "stream",
          "text": [
            "\n",
            "\u001b[A\n",
            "\u001b[A\n",
            "\u001b[A\n",
            "\u001b[A\n",
            "\u001b[A"
          ]
        },
        {
          "name": "stdout",
          "output_type": "stream",
          "text": [
            "[Sanity] step 830: gen mean=-0.4005, std=0.6374, probe_RMSE=0.118946\n"
          ]
        },
        {
          "name": "stderr",
          "output_type": "stream",
          "text": [
            "\n",
            "\u001b[A\n",
            "\u001b[A\n",
            "\u001b[A\n",
            "\u001b[A\n",
            "\u001b[A"
          ]
        },
        {
          "name": "stdout",
          "output_type": "stream",
          "text": [
            "[Sanity] step 835: gen mean=-0.3532, std=0.7010, probe_RMSE=0.091427\n"
          ]
        },
        {
          "name": "stderr",
          "output_type": "stream",
          "text": [
            "\n",
            "\u001b[A\n",
            "\u001b[A\n",
            "\u001b[A\n",
            "\u001b[A\n",
            "\u001b[A"
          ]
        },
        {
          "name": "stdout",
          "output_type": "stream",
          "text": [
            "[Sanity] step 840: gen mean=-0.3006, std=0.7472, probe_RMSE=0.100740\n"
          ]
        },
        {
          "name": "stderr",
          "output_type": "stream",
          "text": [
            "\n",
            "\u001b[A\n",
            "\u001b[A\n",
            "\u001b[A\n",
            "\u001b[A\n",
            "\u001b[A"
          ]
        },
        {
          "name": "stdout",
          "output_type": "stream",
          "text": [
            "[Sanity] step 845: gen mean=-0.2623, std=0.7824, probe_RMSE=0.076464\n"
          ]
        },
        {
          "name": "stderr",
          "output_type": "stream",
          "text": [
            "\n",
            "\u001b[A\n",
            "\u001b[A\n",
            "\u001b[A\n",
            "\u001b[A\n",
            "\u001b[A"
          ]
        },
        {
          "name": "stdout",
          "output_type": "stream",
          "text": [
            "[Sanity] step 850: gen mean=-0.2683, std=0.7775, probe_RMSE=0.052254\n"
          ]
        },
        {
          "name": "stderr",
          "output_type": "stream",
          "text": [
            "\n",
            "\u001b[A\n",
            "\u001b[A\n",
            "\u001b[A\n",
            "\u001b[A\n",
            "\u001b[A"
          ]
        },
        {
          "name": "stdout",
          "output_type": "stream",
          "text": [
            "[Sanity] step 855: gen mean=-0.2812, std=0.7702, probe_RMSE=0.043295\n"
          ]
        },
        {
          "name": "stderr",
          "output_type": "stream",
          "text": [
            "\n",
            "\u001b[A\n",
            "\u001b[A\n",
            "\u001b[A\n",
            "\u001b[A\n",
            "\u001b[A"
          ]
        },
        {
          "name": "stdout",
          "output_type": "stream",
          "text": [
            "[Sanity] step 860: gen mean=-0.2815, std=0.7728, probe_RMSE=0.048218\n"
          ]
        },
        {
          "name": "stderr",
          "output_type": "stream",
          "text": [
            "\n",
            "\u001b[A\n",
            "\u001b[A\n",
            "\u001b[A\n",
            "\u001b[A\n",
            "\u001b[A"
          ]
        },
        {
          "name": "stdout",
          "output_type": "stream",
          "text": [
            "[Sanity] step 865: gen mean=-0.2854, std=0.7662, probe_RMSE=0.045115\n"
          ]
        },
        {
          "name": "stderr",
          "output_type": "stream",
          "text": [
            "\n",
            "\u001b[A\n",
            "\u001b[A\n",
            "\u001b[A\n",
            "\u001b[A\n",
            "\u001b[A"
          ]
        },
        {
          "name": "stdout",
          "output_type": "stream",
          "text": [
            "[Sanity] step 870: gen mean=-0.3011, std=0.7542, probe_RMSE=0.044137\n"
          ]
        },
        {
          "name": "stderr",
          "output_type": "stream",
          "text": [
            "\n",
            "\u001b[A\n",
            "\u001b[A\n",
            "\u001b[A\n",
            "\u001b[A\n",
            "\u001b[A"
          ]
        },
        {
          "name": "stdout",
          "output_type": "stream",
          "text": [
            "[Sanity] step 875: gen mean=-0.3048, std=0.7502, probe_RMSE=0.045279\n"
          ]
        },
        {
          "name": "stderr",
          "output_type": "stream",
          "text": [
            "\n",
            "\u001b[A\n",
            "\u001b[A\n",
            "\u001b[A\n",
            "\u001b[A\n",
            "\u001b[A"
          ]
        },
        {
          "name": "stdout",
          "output_type": "stream",
          "text": [
            "[Sanity] step 880: gen mean=-0.3148, std=0.7304, probe_RMSE=0.043770\n"
          ]
        },
        {
          "name": "stderr",
          "output_type": "stream",
          "text": [
            "\n",
            "\u001b[A\n",
            "\u001b[A\n",
            "\u001b[A\n",
            "\u001b[A\n",
            "\u001b[A"
          ]
        },
        {
          "name": "stdout",
          "output_type": "stream",
          "text": [
            "[Sanity] step 885: gen mean=-0.3048, std=0.7162, probe_RMSE=0.044349\n"
          ]
        },
        {
          "name": "stderr",
          "output_type": "stream",
          "text": [
            "\n",
            "\u001b[A\n",
            "\u001b[A\n",
            "\u001b[A\n",
            "\u001b[A\n",
            "\u001b[A"
          ]
        },
        {
          "name": "stdout",
          "output_type": "stream",
          "text": [
            "[Sanity] step 890: gen mean=-0.3181, std=0.7037, probe_RMSE=0.050741\n"
          ]
        },
        {
          "name": "stderr",
          "output_type": "stream",
          "text": [
            "\n",
            "\u001b[A\n",
            "\u001b[A\n",
            "\u001b[A\n",
            "\u001b[A\n",
            "\u001b[A"
          ]
        },
        {
          "name": "stdout",
          "output_type": "stream",
          "text": [
            "[Sanity] step 895: gen mean=-0.3426, std=0.6884, probe_RMSE=0.047523\n"
          ]
        },
        {
          "name": "stderr",
          "output_type": "stream",
          "text": [
            "\n",
            "\u001b[A\n",
            "\u001b[A\n",
            "\u001b[A\n",
            "\u001b[A\n",
            "\u001b[A"
          ]
        },
        {
          "name": "stdout",
          "output_type": "stream",
          "text": [
            "[Sanity] step 900: gen mean=-0.3629, std=0.6669, probe_RMSE=0.045741\n"
          ]
        },
        {
          "name": "stderr",
          "output_type": "stream",
          "text": [
            "\n",
            "\u001b[A\n",
            "\u001b[A\n",
            "\u001b[A\n",
            "\u001b[A\n",
            "\u001b[A"
          ]
        },
        {
          "name": "stdout",
          "output_type": "stream",
          "text": [
            "[Sanity] step 905: gen mean=-0.3741, std=0.6575, probe_RMSE=0.043167\n"
          ]
        },
        {
          "name": "stderr",
          "output_type": "stream",
          "text": [
            "\n",
            "\u001b[A\n",
            "\u001b[A\n",
            "\u001b[A\n",
            "\u001b[A\n",
            "\u001b[A"
          ]
        },
        {
          "name": "stdout",
          "output_type": "stream",
          "text": [
            "[Sanity] step 910: gen mean=-0.3668, std=0.6709, probe_RMSE=0.046693\n"
          ]
        },
        {
          "name": "stderr",
          "output_type": "stream",
          "text": [
            "\n",
            "\u001b[A\n",
            "\u001b[A\n",
            "\u001b[A\n",
            "\u001b[A\n",
            "\u001b[A"
          ]
        },
        {
          "name": "stdout",
          "output_type": "stream",
          "text": [
            "[Sanity] step 915: gen mean=-0.3273, std=0.7092, probe_RMSE=0.077057\n"
          ]
        },
        {
          "name": "stderr",
          "output_type": "stream",
          "text": [
            "\n",
            "\u001b[A\n",
            "\u001b[A\n",
            "\u001b[A\n",
            "\u001b[A\n",
            "\u001b[A"
          ]
        },
        {
          "name": "stdout",
          "output_type": "stream",
          "text": [
            "[Sanity] step 920: gen mean=-0.3102, std=0.7310, probe_RMSE=0.056490\n"
          ]
        },
        {
          "name": "stderr",
          "output_type": "stream",
          "text": [
            "\n",
            "\u001b[A\n",
            "\u001b[A\n",
            "\u001b[A\n",
            "\u001b[A\n",
            "\u001b[A"
          ]
        },
        {
          "name": "stdout",
          "output_type": "stream",
          "text": [
            "[Sanity] step 925: gen mean=-0.3017, std=0.7454, probe_RMSE=0.050673\n"
          ]
        },
        {
          "name": "stderr",
          "output_type": "stream",
          "text": [
            "\n",
            "\u001b[A\n",
            "\u001b[A\n",
            "\u001b[A\n",
            "\u001b[A\n",
            "\u001b[A"
          ]
        },
        {
          "name": "stdout",
          "output_type": "stream",
          "text": [
            "[Sanity] step 930: gen mean=-0.2960, std=0.7428, probe_RMSE=0.055236\n"
          ]
        },
        {
          "name": "stderr",
          "output_type": "stream",
          "text": [
            "\n",
            "\u001b[A\n",
            "\u001b[A\n",
            "\u001b[A\n",
            "\u001b[A\n",
            "\u001b[A"
          ]
        },
        {
          "name": "stdout",
          "output_type": "stream",
          "text": [
            "[Sanity] step 935: gen mean=-0.3155, std=0.7289, probe_RMSE=0.069881\n"
          ]
        },
        {
          "name": "stderr",
          "output_type": "stream",
          "text": [
            "\n",
            "\u001b[A\n",
            "\u001b[A\n",
            "\u001b[A\n",
            "\u001b[A\n",
            "\u001b[A"
          ]
        },
        {
          "name": "stdout",
          "output_type": "stream",
          "text": [
            "[Sanity] step 940: gen mean=-0.3332, std=0.7082, probe_RMSE=0.060228\n"
          ]
        },
        {
          "name": "stderr",
          "output_type": "stream",
          "text": [
            "\n",
            "\u001b[A\n",
            "\u001b[A\n",
            "\u001b[A\n",
            "\u001b[A\n",
            "\u001b[A"
          ]
        },
        {
          "name": "stdout",
          "output_type": "stream",
          "text": [
            "[Sanity] step 945: gen mean=-0.3239, std=0.7212, probe_RMSE=0.060478\n"
          ]
        },
        {
          "name": "stderr",
          "output_type": "stream",
          "text": [
            "\n",
            "\u001b[A\n",
            "\u001b[A\n",
            "\u001b[A\n",
            "\u001b[A\n",
            "\u001b[A"
          ]
        },
        {
          "name": "stdout",
          "output_type": "stream",
          "text": [
            "[Sanity] step 950: gen mean=-0.3519, std=0.6968, probe_RMSE=0.067730\n"
          ]
        },
        {
          "name": "stderr",
          "output_type": "stream",
          "text": [
            "\n",
            "\u001b[A\n",
            "\u001b[A\n",
            "\u001b[A\n",
            "\u001b[A\n",
            "\u001b[A"
          ]
        },
        {
          "name": "stdout",
          "output_type": "stream",
          "text": [
            "[Sanity] step 955: gen mean=-0.3953, std=0.6633, probe_RMSE=0.072604\n"
          ]
        },
        {
          "name": "stderr",
          "output_type": "stream",
          "text": [
            "\n",
            "\u001b[A\n",
            "\u001b[A\n",
            "\u001b[A\n",
            "\u001b[A\n",
            "\u001b[A"
          ]
        },
        {
          "name": "stdout",
          "output_type": "stream",
          "text": [
            "[Sanity] step 960: gen mean=-0.4210, std=0.6432, probe_RMSE=0.052736\n"
          ]
        },
        {
          "name": "stderr",
          "output_type": "stream",
          "text": [
            "\n",
            "\u001b[A\n",
            "\u001b[A\n",
            "\u001b[A\n",
            "\u001b[A\n",
            "\u001b[A"
          ]
        },
        {
          "name": "stdout",
          "output_type": "stream",
          "text": [
            "[Sanity] step 965: gen mean=-0.4357, std=0.6373, probe_RMSE=0.048278\n"
          ]
        },
        {
          "name": "stderr",
          "output_type": "stream",
          "text": [
            "\n",
            "\u001b[A\n",
            "\u001b[A\n",
            "\u001b[A\n",
            "\u001b[A\n",
            "\u001b[A"
          ]
        },
        {
          "name": "stdout",
          "output_type": "stream",
          "text": [
            "[Sanity] step 970: gen mean=-0.4495, std=0.6287, probe_RMSE=0.040515\n"
          ]
        },
        {
          "name": "stderr",
          "output_type": "stream",
          "text": [
            "\n",
            "\u001b[A\n",
            "\u001b[A\n",
            "\u001b[A\n",
            "\u001b[A\n",
            "\u001b[A"
          ]
        },
        {
          "name": "stdout",
          "output_type": "stream",
          "text": [
            "[Sanity] step 975: gen mean=-0.4678, std=0.6260, probe_RMSE=0.047510\n"
          ]
        },
        {
          "name": "stderr",
          "output_type": "stream",
          "text": [
            "\n",
            "\u001b[A\n",
            "\u001b[A\n",
            "\u001b[A\n",
            "\u001b[A\n",
            "\u001b[A"
          ]
        },
        {
          "name": "stdout",
          "output_type": "stream",
          "text": [
            "[Sanity] step 980: gen mean=-0.4985, std=0.5849, probe_RMSE=0.068973\n"
          ]
        },
        {
          "name": "stderr",
          "output_type": "stream",
          "text": [
            "\n",
            "\u001b[A\n",
            "\u001b[A\n",
            "\u001b[A\n",
            "\u001b[A\n",
            "\u001b[A"
          ]
        },
        {
          "name": "stdout",
          "output_type": "stream",
          "text": [
            "[Sanity] step 985: gen mean=-0.5155, std=0.5524, probe_RMSE=0.055017\n"
          ]
        },
        {
          "name": "stderr",
          "output_type": "stream",
          "text": [
            "\n",
            "\u001b[A\n",
            "\u001b[A\n",
            "\u001b[A\n",
            "\u001b[A\n",
            "\u001b[A"
          ]
        },
        {
          "name": "stdout",
          "output_type": "stream",
          "text": [
            "[Sanity] step 990: gen mean=-0.5307, std=0.5365, probe_RMSE=0.046017\n"
          ]
        },
        {
          "name": "stderr",
          "output_type": "stream",
          "text": [
            "\n",
            "\u001b[A\n",
            "\u001b[A\n",
            "\u001b[A\n",
            "\u001b[A\n",
            "\u001b[A"
          ]
        },
        {
          "name": "stdout",
          "output_type": "stream",
          "text": [
            "[Sanity] step 995: gen mean=-0.5311, std=0.5448, probe_RMSE=0.043464\n"
          ]
        },
        {
          "name": "stderr",
          "output_type": "stream",
          "text": [
            "\n",
            "\u001b[A\n",
            "\u001b[A\n",
            "\u001b[A\n",
            "\u001b[A\n",
            "\u001b[A"
          ]
        },
        {
          "name": "stdout",
          "output_type": "stream",
          "text": [
            "[Sanity] step 1000: gen mean=-0.4912, std=0.5685, probe_RMSE=0.074063\n"
          ]
        },
        {
          "name": "stderr",
          "output_type": "stream",
          "text": [
            "\n",
            "\u001b[A\n",
            "\u001b[A\n",
            "\u001b[A\n",
            "\u001b[A\n",
            "\u001b[A"
          ]
        },
        {
          "name": "stdout",
          "output_type": "stream",
          "text": [
            "[Sanity] step 1005: gen mean=-0.4361, std=0.6233, probe_RMSE=0.107027\n"
          ]
        },
        {
          "name": "stderr",
          "output_type": "stream",
          "text": [
            "\n",
            "\u001b[A\n",
            "\u001b[A\n",
            "\u001b[A\n",
            "\u001b[A\n",
            "\u001b[A"
          ]
        },
        {
          "name": "stdout",
          "output_type": "stream",
          "text": [
            "[Sanity] step 1010: gen mean=-0.3461, std=0.7080, probe_RMSE=0.136170\n"
          ]
        },
        {
          "name": "stderr",
          "output_type": "stream",
          "text": [
            "\n",
            "\u001b[A\n",
            "\u001b[A\n",
            "\u001b[A\n",
            "\u001b[A\n",
            "\u001b[A"
          ]
        },
        {
          "name": "stdout",
          "output_type": "stream",
          "text": [
            "[Sanity] step 1015: gen mean=-0.3037, std=0.7404, probe_RMSE=0.089625\n"
          ]
        },
        {
          "name": "stderr",
          "output_type": "stream",
          "text": [
            "\n",
            "\u001b[A\n",
            "\u001b[A\n",
            "\u001b[A\n",
            "\u001b[A\n",
            "\u001b[A"
          ]
        },
        {
          "name": "stdout",
          "output_type": "stream",
          "text": [
            "[Sanity] step 1020: gen mean=-0.2742, std=0.7572, probe_RMSE=0.069674\n"
          ]
        },
        {
          "name": "stderr",
          "output_type": "stream",
          "text": [
            "\n",
            "\u001b[A\n",
            "\u001b[A\n",
            "\u001b[A\n",
            "\u001b[A\n",
            "\u001b[A"
          ]
        },
        {
          "name": "stdout",
          "output_type": "stream",
          "text": [
            "[Sanity] step 1025: gen mean=-0.2676, std=0.7655, probe_RMSE=0.059094\n"
          ]
        },
        {
          "name": "stderr",
          "output_type": "stream",
          "text": [
            "\n",
            "\u001b[A\n",
            "\u001b[A\n",
            "\u001b[A\n",
            "\u001b[A\n",
            "\u001b[A"
          ]
        },
        {
          "name": "stdout",
          "output_type": "stream",
          "text": [
            "[Sanity] step 1030: gen mean=-0.2594, std=0.7578, probe_RMSE=0.046984\n"
          ]
        },
        {
          "name": "stderr",
          "output_type": "stream",
          "text": [
            "\n",
            "\u001b[A\n",
            "\u001b[A\n",
            "\u001b[A\n",
            "\u001b[A\n",
            "\u001b[A"
          ]
        },
        {
          "name": "stdout",
          "output_type": "stream",
          "text": [
            "[Sanity] step 1035: gen mean=-0.2618, std=0.7433, probe_RMSE=0.057329\n"
          ]
        },
        {
          "name": "stderr",
          "output_type": "stream",
          "text": [
            "\n",
            "\u001b[A\n",
            "\u001b[A\n",
            "\u001b[A\n",
            "\u001b[A\n",
            "\u001b[A"
          ]
        },
        {
          "name": "stdout",
          "output_type": "stream",
          "text": [
            "[Sanity] step 1040: gen mean=-0.2756, std=0.7252, probe_RMSE=0.060619\n"
          ]
        },
        {
          "name": "stderr",
          "output_type": "stream",
          "text": [
            "\n",
            "\u001b[A\n",
            "\u001b[A\n",
            "\u001b[A\n",
            "\u001b[A\n",
            "\u001b[A"
          ]
        },
        {
          "name": "stdout",
          "output_type": "stream",
          "text": [
            "[Sanity] step 1045: gen mean=-0.2961, std=0.6993, probe_RMSE=0.066489\n"
          ]
        },
        {
          "name": "stderr",
          "output_type": "stream",
          "text": [
            "\n",
            "\u001b[A\n",
            "\u001b[A\n",
            "\u001b[A\n",
            "\u001b[A\n",
            "\u001b[A"
          ]
        },
        {
          "name": "stdout",
          "output_type": "stream",
          "text": [
            "[Sanity] step 1050: gen mean=-0.3116, std=0.6844, probe_RMSE=0.053876\n"
          ]
        },
        {
          "name": "stderr",
          "output_type": "stream",
          "text": [
            "\n",
            "\u001b[A\n",
            "\u001b[A\n",
            "\u001b[A\n",
            "\u001b[A\n",
            "\u001b[A\n",
            "\u001b[A\n",
            "\n"
          ]
        },
        {
          "name": "stdout",
          "output_type": "stream",
          "text": [
            "[Sanity] step 1055: gen mean=-0.3227, std=0.6690, probe_RMSE=0.050821\n"
          ]
        },
        {
          "name": "stderr",
          "output_type": "stream",
          "text": [
            "iter:  71%|███████   | 1058/1500 [06:20<01:31,  4.85it/s]\u001b[A\u001b[A\n",
            "\u001b[A\n",
            "\u001b[A\n",
            "\u001b[A\n",
            "\u001b[A"
          ]
        },
        {
          "name": "stdout",
          "output_type": "stream",
          "text": [
            "[Sanity] step 1060: gen mean=-0.3354, std=0.6594, probe_RMSE=0.050230\n"
          ]
        },
        {
          "name": "stderr",
          "output_type": "stream",
          "text": [
            "\n",
            "\u001b[A\n",
            "\u001b[A\n",
            "\u001b[A\n",
            "\u001b[A\n",
            "\u001b[A"
          ]
        },
        {
          "name": "stdout",
          "output_type": "stream",
          "text": [
            "[Sanity] step 1065: gen mean=-0.3539, std=0.6500, probe_RMSE=0.051465\n"
          ]
        },
        {
          "name": "stderr",
          "output_type": "stream",
          "text": [
            "\n",
            "\u001b[A\n",
            "\u001b[A\n",
            "\u001b[A\n",
            "\n"
          ]
        },
        {
          "name": "stdout",
          "output_type": "stream",
          "text": [
            "[Sanity] step 1070: gen mean=-0.3456, std=0.6519, probe_RMSE=0.045551\n"
          ]
        },
        {
          "name": "stderr",
          "output_type": "stream",
          "text": [
            "iter:  72%|███████▏  | 1073/1500 [06:21<00:43,  9.91it/s]\u001b[A\u001b[A\n",
            "\u001b[A\n",
            "\u001b[A\n",
            "\u001b[A"
          ]
        },
        {
          "name": "stdout",
          "output_type": "stream",
          "text": [
            "[Sanity] step 1075: gen mean=-0.3301, std=0.6583, probe_RMSE=0.053937\n"
          ]
        },
        {
          "name": "stderr",
          "output_type": "stream",
          "text": [
            "\n",
            "\u001b[A\n",
            "\u001b[A\n",
            "\u001b[A\n",
            "\u001b[A"
          ]
        },
        {
          "name": "stdout",
          "output_type": "stream",
          "text": [
            "[Sanity] step 1080: gen mean=-0.3230, std=0.6775, probe_RMSE=0.062600\n"
          ]
        },
        {
          "name": "stderr",
          "output_type": "stream",
          "text": [
            "\n",
            "\u001b[A\n",
            "\u001b[A"
          ]
        },
        {
          "name": "stdout",
          "output_type": "stream",
          "text": [
            "[Sanity] step 1085: gen mean=-0.3107, std=0.6906, probe_RMSE=0.062852\n"
          ]
        },
        {
          "name": "stderr",
          "output_type": "stream",
          "text": [
            "\n",
            "\u001b[A\n",
            "\u001b[A\n",
            "\u001b[A"
          ]
        },
        {
          "name": "stdout",
          "output_type": "stream",
          "text": [
            "[Sanity] step 1090: gen mean=-0.2850, std=0.7189, probe_RMSE=0.071461\n"
          ]
        },
        {
          "name": "stderr",
          "output_type": "stream",
          "text": [
            "\n",
            "\u001b[A\n",
            "\u001b[A"
          ]
        },
        {
          "name": "stdout",
          "output_type": "stream",
          "text": [
            "[Sanity] step 1095: gen mean=-0.2872, std=0.7404, probe_RMSE=0.064229\n"
          ]
        },
        {
          "name": "stderr",
          "output_type": "stream",
          "text": [
            "\n",
            "\u001b[A\n",
            "\u001b[A\n",
            "\n"
          ]
        },
        {
          "name": "stdout",
          "output_type": "stream",
          "text": [
            "[Sanity] step 1100: gen mean=-0.2824, std=0.7402, probe_RMSE=0.063396\n"
          ]
        },
        {
          "name": "stderr",
          "output_type": "stream",
          "text": [
            "iter:  74%|███████▎  | 1103/1500 [06:24<00:37, 10.51it/s]\u001b[A\u001b[A\n",
            "\u001b[A\n",
            "\u001b[A"
          ]
        },
        {
          "name": "stdout",
          "output_type": "stream",
          "text": [
            "[Sanity] step 1105: gen mean=-0.2897, std=0.7347, probe_RMSE=0.057378\n"
          ]
        },
        {
          "name": "stderr",
          "output_type": "stream",
          "text": [
            "\n",
            "\u001b[A\n",
            "\u001b[A\n",
            "\u001b[A"
          ]
        },
        {
          "name": "stdout",
          "output_type": "stream",
          "text": [
            "[Sanity] step 1110: gen mean=-0.3152, std=0.7277, probe_RMSE=0.060864\n"
          ]
        },
        {
          "name": "stderr",
          "output_type": "stream",
          "text": [
            "\n",
            "\u001b[A\n",
            "\u001b[A"
          ]
        },
        {
          "name": "stdout",
          "output_type": "stream",
          "text": [
            "[Sanity] step 1115: gen mean=-0.3482, std=0.7071, probe_RMSE=0.067642\n"
          ]
        },
        {
          "name": "stderr",
          "output_type": "stream",
          "text": [
            "\n",
            "\u001b[A\n",
            "\u001b[A\n",
            "\u001b[A"
          ]
        },
        {
          "name": "stdout",
          "output_type": "stream",
          "text": [
            "[Sanity] step 1120: gen mean=-0.3839, std=0.6826, probe_RMSE=0.071678\n"
          ]
        },
        {
          "name": "stderr",
          "output_type": "stream",
          "text": [
            "\n",
            "\u001b[A\n",
            "\u001b[A"
          ]
        },
        {
          "name": "stdout",
          "output_type": "stream",
          "text": [
            "[Sanity] step 1125: gen mean=-0.4110, std=0.6519, probe_RMSE=0.057440\n"
          ]
        },
        {
          "name": "stderr",
          "output_type": "stream",
          "text": [
            "\n",
            "\u001b[A\n",
            "\u001b[A\n",
            "\u001b[A"
          ]
        },
        {
          "name": "stdout",
          "output_type": "stream",
          "text": [
            "[Sanity] step 1130: gen mean=-0.4304, std=0.6276, probe_RMSE=0.060433\n"
          ]
        },
        {
          "name": "stderr",
          "output_type": "stream",
          "text": [
            "\n",
            "\u001b[A\n",
            "\u001b[A"
          ]
        },
        {
          "name": "stdout",
          "output_type": "stream",
          "text": [
            "[Sanity] step 1135: gen mean=-0.4381, std=0.6145, probe_RMSE=0.044011\n"
          ]
        },
        {
          "name": "stderr",
          "output_type": "stream",
          "text": [
            "\n",
            "\u001b[A\n",
            "\u001b[A\n",
            "\u001b[A"
          ]
        },
        {
          "name": "stdout",
          "output_type": "stream",
          "text": [
            "[Sanity] step 1140: gen mean=-0.4343, std=0.6365, probe_RMSE=0.050341\n"
          ]
        },
        {
          "name": "stderr",
          "output_type": "stream",
          "text": [
            "\n",
            "\u001b[A\n",
            "\u001b[A"
          ]
        },
        {
          "name": "stdout",
          "output_type": "stream",
          "text": [
            "[Sanity] step 1145: gen mean=-0.4450, std=0.6212, probe_RMSE=0.051578\n"
          ]
        },
        {
          "name": "stderr",
          "output_type": "stream",
          "text": [
            "\n",
            "\u001b[A\n",
            "\u001b[A\n",
            "\u001b[A"
          ]
        },
        {
          "name": "stdout",
          "output_type": "stream",
          "text": [
            "[Sanity] step 1150: gen mean=-0.4520, std=0.6199, probe_RMSE=0.044932\n"
          ]
        },
        {
          "name": "stderr",
          "output_type": "stream",
          "text": [
            "\n",
            "\u001b[A\n",
            "\u001b[A"
          ]
        },
        {
          "name": "stdout",
          "output_type": "stream",
          "text": [
            "[Sanity] step 1155: gen mean=-0.4422, std=0.6254, probe_RMSE=0.055296\n"
          ]
        },
        {
          "name": "stderr",
          "output_type": "stream",
          "text": [
            "\n",
            "\u001b[A\n",
            "\u001b[A\n",
            "\n"
          ]
        },
        {
          "name": "stdout",
          "output_type": "stream",
          "text": [
            "[Sanity] step 1160: gen mean=-0.4248, std=0.6539, probe_RMSE=0.055985\n"
          ]
        },
        {
          "name": "stderr",
          "output_type": "stream",
          "text": [
            "iter:  78%|███████▊  | 1163/1500 [06:30<00:33, 10.18it/s]\u001b[A\u001b[A\n",
            "\u001b[A\n",
            "\u001b[A"
          ]
        },
        {
          "name": "stdout",
          "output_type": "stream",
          "text": [
            "[Sanity] step 1165: gen mean=-0.4110, std=0.6765, probe_RMSE=0.062074\n"
          ]
        },
        {
          "name": "stderr",
          "output_type": "stream",
          "text": [
            "\n",
            "\u001b[A\n",
            "\u001b[A\n",
            "\u001b[A\n",
            "\n"
          ]
        },
        {
          "name": "stdout",
          "output_type": "stream",
          "text": [
            "[Sanity] step 1170: gen mean=-0.3973, std=0.6909, probe_RMSE=0.052016\n"
          ]
        },
        {
          "name": "stderr",
          "output_type": "stream",
          "text": [
            "iter:  78%|███████▊  | 1173/1500 [06:31<00:34,  9.35it/s]\u001b[A\u001b[A\n",
            "\u001b[A\n",
            "\u001b[A\n",
            "\u001b[A\n",
            "\u001b[A"
          ]
        },
        {
          "name": "stdout",
          "output_type": "stream",
          "text": [
            "[Sanity] step 1175: gen mean=-0.3924, std=0.6969, probe_RMSE=0.050718\n"
          ]
        },
        {
          "name": "stderr",
          "output_type": "stream",
          "text": [
            "\n",
            "\u001b[A\n",
            "\u001b[A\n",
            "\u001b[A\n",
            "\u001b[A\n",
            "\u001b[A"
          ]
        },
        {
          "name": "stdout",
          "output_type": "stream",
          "text": [
            "[Sanity] step 1180: gen mean=-0.3762, std=0.7010, probe_RMSE=0.038541\n"
          ]
        },
        {
          "name": "stderr",
          "output_type": "stream",
          "text": [
            "\n",
            "\u001b[A\n",
            "\u001b[A\n",
            "\u001b[A\n",
            "\u001b[A\n",
            "\u001b[A"
          ]
        },
        {
          "name": "stdout",
          "output_type": "stream",
          "text": [
            "[Sanity] step 1185: gen mean=-0.3643, std=0.7112, probe_RMSE=0.044852\n"
          ]
        },
        {
          "name": "stderr",
          "output_type": "stream",
          "text": [
            "\n",
            "\u001b[A\n",
            "\u001b[A\n",
            "\u001b[A\n",
            "\u001b[A"
          ]
        },
        {
          "name": "stdout",
          "output_type": "stream",
          "text": [
            "[Sanity] step 1190: gen mean=-0.3850, std=0.6864, probe_RMSE=0.043884\n"
          ]
        },
        {
          "name": "stderr",
          "output_type": "stream",
          "text": [
            "\n",
            "\u001b[A\n",
            "\u001b[A\n",
            "\u001b[A"
          ]
        },
        {
          "name": "stdout",
          "output_type": "stream",
          "text": [
            "[Sanity] step 1195: gen mean=-0.3698, std=0.6965, probe_RMSE=0.048672\n"
          ]
        },
        {
          "name": "stderr",
          "output_type": "stream",
          "text": [
            "\n",
            "\u001b[A\n",
            "\u001b[A\n",
            "\u001b[A\n",
            "\u001b[A\n",
            "\u001b[A"
          ]
        },
        {
          "name": "stdout",
          "output_type": "stream",
          "text": [
            "[Sanity] step 1200: gen mean=-0.3485, std=0.7151, probe_RMSE=0.048098\n"
          ]
        },
        {
          "name": "stderr",
          "output_type": "stream",
          "text": [
            "\n",
            "\u001b[A\n",
            "\u001b[A\n",
            "\u001b[A\n",
            "\u001b[A\n",
            "\u001b[A"
          ]
        },
        {
          "name": "stdout",
          "output_type": "stream",
          "text": [
            "[Sanity] step 1205: gen mean=-0.3236, std=0.7298, probe_RMSE=0.059789\n"
          ]
        },
        {
          "name": "stderr",
          "output_type": "stream",
          "text": [
            "\n",
            "\u001b[A\n",
            "\u001b[A\n",
            "\u001b[A\n",
            "\u001b[A\n",
            "\u001b[A"
          ]
        },
        {
          "name": "stdout",
          "output_type": "stream",
          "text": [
            "[Sanity] step 1210: gen mean=-0.3041, std=0.7263, probe_RMSE=0.062056\n"
          ]
        },
        {
          "name": "stderr",
          "output_type": "stream",
          "text": [
            "\n",
            "\u001b[A\n",
            "\u001b[A\n",
            "\u001b[A\n",
            "\n"
          ]
        },
        {
          "name": "stdout",
          "output_type": "stream",
          "text": [
            "[Sanity] step 1215: gen mean=-0.3184, std=0.7000, probe_RMSE=0.061984\n"
          ]
        },
        {
          "name": "stderr",
          "output_type": "stream",
          "text": [
            "iter:  81%|████████  | 1218/1500 [06:36<00:30,  9.38it/s]\u001b[A\u001b[A\n",
            "\u001b[A\n",
            "\u001b[A\n",
            "\u001b[A\n",
            "\u001b[A"
          ]
        },
        {
          "name": "stdout",
          "output_type": "stream",
          "text": [
            "[Sanity] step 1220: gen mean=-0.3319, std=0.6828, probe_RMSE=0.060784\n"
          ]
        },
        {
          "name": "stderr",
          "output_type": "stream",
          "text": [
            "\n",
            "\u001b[A\n",
            "\u001b[A\n",
            "\u001b[A"
          ]
        },
        {
          "name": "stdout",
          "output_type": "stream",
          "text": [
            "[Sanity] step 1225: gen mean=-0.3470, std=0.6698, probe_RMSE=0.053503\n"
          ]
        },
        {
          "name": "stderr",
          "output_type": "stream",
          "text": [
            "\n",
            "\u001b[A\n",
            "\u001b[A\n",
            "\u001b[A\n",
            "\u001b[A\n",
            "\u001b[A"
          ]
        },
        {
          "name": "stdout",
          "output_type": "stream",
          "text": [
            "[Sanity] step 1230: gen mean=-0.3508, std=0.6691, probe_RMSE=0.045637\n"
          ]
        },
        {
          "name": "stderr",
          "output_type": "stream",
          "text": [
            "\n",
            "\u001b[A\n",
            "\u001b[A\n",
            "\u001b[A\n",
            "\n"
          ]
        },
        {
          "name": "stdout",
          "output_type": "stream",
          "text": [
            "[Sanity] step 1235: gen mean=-0.3516, std=0.6673, probe_RMSE=0.036801\n"
          ]
        },
        {
          "name": "stderr",
          "output_type": "stream",
          "text": [
            "iter:  83%|████████▎ | 1238/1500 [06:38<00:27,  9.47it/s]\u001b[A\u001b[A\n",
            "\u001b[A\n",
            "\u001b[A\n",
            "\u001b[A"
          ]
        },
        {
          "name": "stdout",
          "output_type": "stream",
          "text": [
            "[Sanity] step 1240: gen mean=-0.3591, std=0.6689, probe_RMSE=0.034693\n"
          ]
        },
        {
          "name": "stderr",
          "output_type": "stream",
          "text": [
            "\n",
            "\u001b[A\n",
            "\u001b[A\n",
            "\u001b[A\n",
            "\u001b[A"
          ]
        },
        {
          "name": "stdout",
          "output_type": "stream",
          "text": [
            "[Sanity] step 1245: gen mean=-0.3627, std=0.6719, probe_RMSE=0.034331\n"
          ]
        },
        {
          "name": "stderr",
          "output_type": "stream",
          "text": [
            "\n",
            "\u001b[A\n",
            "\u001b[A\n",
            "\n"
          ]
        },
        {
          "name": "stdout",
          "output_type": "stream",
          "text": [
            "[Sanity] step 1250: gen mean=-0.3500, std=0.6712, probe_RMSE=0.034515\n"
          ]
        },
        {
          "name": "stderr",
          "output_type": "stream",
          "text": [
            "iter:  84%|████████▎ | 1253/1500 [06:40<00:24, 10.13it/s]\u001b[A\u001b[A\n",
            "\u001b[A\n",
            "\u001b[A"
          ]
        },
        {
          "name": "stdout",
          "output_type": "stream",
          "text": [
            "[Sanity] step 1255: gen mean=-0.3534, std=0.6722, probe_RMSE=0.035938\n"
          ]
        },
        {
          "name": "stderr",
          "output_type": "stream",
          "text": [
            "\n",
            "\u001b[A\n",
            "\u001b[A\n",
            "\n"
          ]
        },
        {
          "name": "stdout",
          "output_type": "stream",
          "text": [
            "[Sanity] step 1260: gen mean=-0.3641, std=0.6671, probe_RMSE=0.043787\n"
          ]
        },
        {
          "name": "stderr",
          "output_type": "stream",
          "text": [
            "iter:  84%|████████▍ | 1263/1500 [06:41<00:22, 10.32it/s]\u001b[A\u001b[A\n",
            "\u001b[A\n",
            "\u001b[A"
          ]
        },
        {
          "name": "stdout",
          "output_type": "stream",
          "text": [
            "[Sanity] step 1265: gen mean=-0.3849, std=0.6433, probe_RMSE=0.045804\n"
          ]
        },
        {
          "name": "stderr",
          "output_type": "stream",
          "text": [
            "\n",
            "\u001b[A\n",
            "\u001b[A\n",
            "\n"
          ]
        },
        {
          "name": "stdout",
          "output_type": "stream",
          "text": [
            "[Sanity] step 1270: gen mean=-0.3880, std=0.6403, probe_RMSE=0.041272\n"
          ]
        },
        {
          "name": "stderr",
          "output_type": "stream",
          "text": [
            "iter:  85%|████████▍ | 1273/1500 [06:42<00:22, 10.14it/s]\u001b[A\u001b[A\n",
            "\u001b[A\n",
            "\u001b[A"
          ]
        },
        {
          "name": "stdout",
          "output_type": "stream",
          "text": [
            "[Sanity] step 1275: gen mean=-0.3727, std=0.6478, probe_RMSE=0.048860\n"
          ]
        },
        {
          "name": "stderr",
          "output_type": "stream",
          "text": [
            "\n",
            "\u001b[A\n",
            "\u001b[A\n",
            "\n"
          ]
        },
        {
          "name": "stdout",
          "output_type": "stream",
          "text": [
            "[Sanity] step 1280: gen mean=-0.3683, std=0.6498, probe_RMSE=0.043954\n"
          ]
        },
        {
          "name": "stderr",
          "output_type": "stream",
          "text": [
            "iter:  86%|████████▌ | 1283/1500 [06:43<00:21, 10.09it/s]\u001b[A\u001b[A\n",
            "\u001b[A\n",
            "\u001b[A"
          ]
        },
        {
          "name": "stdout",
          "output_type": "stream",
          "text": [
            "[Sanity] step 1285: gen mean=-0.3679, std=0.6585, probe_RMSE=0.046789\n"
          ]
        },
        {
          "name": "stderr",
          "output_type": "stream",
          "text": [
            "\n",
            "\u001b[A\n",
            "\u001b[A"
          ]
        },
        {
          "name": "stdout",
          "output_type": "stream",
          "text": [
            "[Sanity] step 1290: gen mean=-0.3601, std=0.6699, probe_RMSE=0.053639\n"
          ]
        },
        {
          "name": "stderr",
          "output_type": "stream",
          "text": [
            "\n",
            "\u001b[A\n",
            "\u001b[A\n",
            "\u001b[A"
          ]
        },
        {
          "name": "stdout",
          "output_type": "stream",
          "text": [
            "[Sanity] step 1295: gen mean=-0.3429, std=0.6840, probe_RMSE=0.055396\n"
          ]
        },
        {
          "name": "stderr",
          "output_type": "stream",
          "text": [
            "\n",
            "\u001b[A\n",
            "\u001b[A\n",
            "\u001b[A\n",
            "\u001b[A"
          ]
        },
        {
          "name": "stdout",
          "output_type": "stream",
          "text": [
            "[Sanity] step 1300: gen mean=-0.3350, std=0.6926, probe_RMSE=0.058023\n"
          ]
        },
        {
          "name": "stderr",
          "output_type": "stream",
          "text": [
            "\n",
            "\u001b[A\n",
            "\u001b[A\n",
            "\u001b[A\n",
            "\u001b[A"
          ]
        },
        {
          "name": "stdout",
          "output_type": "stream",
          "text": [
            "[Sanity] step 1305: gen mean=-0.3348, std=0.6931, probe_RMSE=0.055450\n"
          ]
        },
        {
          "name": "stderr",
          "output_type": "stream",
          "text": [
            "\n",
            "\u001b[A\n",
            "\u001b[A\n",
            "\n"
          ]
        },
        {
          "name": "stdout",
          "output_type": "stream",
          "text": [
            "[Sanity] step 1310: gen mean=-0.3295, std=0.6946, probe_RMSE=0.062386\n"
          ]
        },
        {
          "name": "stderr",
          "output_type": "stream",
          "text": [
            "iter:  88%|████████▊ | 1313/1500 [06:46<00:18,  9.99it/s]\u001b[A\u001b[A\n",
            "\u001b[A\n",
            "\u001b[A"
          ]
        },
        {
          "name": "stdout",
          "output_type": "stream",
          "text": [
            "[Sanity] step 1315: gen mean=-0.3450, std=0.6877, probe_RMSE=0.051084\n"
          ]
        },
        {
          "name": "stderr",
          "output_type": "stream",
          "text": [
            "\n",
            "\u001b[A\n",
            "\u001b[A\n",
            "\n"
          ]
        },
        {
          "name": "stdout",
          "output_type": "stream",
          "text": [
            "[Sanity] step 1320: gen mean=-0.3497, std=0.6865, probe_RMSE=0.049702\n"
          ]
        },
        {
          "name": "stderr",
          "output_type": "stream",
          "text": [
            "iter:  88%|████████▊ | 1323/1500 [06:47<00:17, 10.24it/s]\u001b[A\u001b[A\n",
            "\u001b[A\n",
            "\u001b[A"
          ]
        },
        {
          "name": "stdout",
          "output_type": "stream",
          "text": [
            "[Sanity] step 1325: gen mean=-0.3464, std=0.6853, probe_RMSE=0.047425\n"
          ]
        },
        {
          "name": "stderr",
          "output_type": "stream",
          "text": [
            "\n",
            "\u001b[A\n",
            "\u001b[A\n",
            "\u001b[A"
          ]
        },
        {
          "name": "stdout",
          "output_type": "stream",
          "text": [
            "[Sanity] step 1330: gen mean=-0.3540, std=0.6817, probe_RMSE=0.048185\n"
          ]
        },
        {
          "name": "stderr",
          "output_type": "stream",
          "text": [
            "\n",
            "\u001b[A\n",
            "\u001b[A"
          ]
        },
        {
          "name": "stdout",
          "output_type": "stream",
          "text": [
            "[Sanity] step 1335: gen mean=-0.3579, std=0.6856, probe_RMSE=0.039387\n"
          ]
        },
        {
          "name": "stderr",
          "output_type": "stream",
          "text": [
            "\n",
            "\u001b[A\n",
            "\u001b[A\n",
            "\u001b[A"
          ]
        },
        {
          "name": "stdout",
          "output_type": "stream",
          "text": [
            "[Sanity] step 1340: gen mean=-0.3633, std=0.6859, probe_RMSE=0.040078\n"
          ]
        },
        {
          "name": "stderr",
          "output_type": "stream",
          "text": [
            "\n",
            "\u001b[A\n",
            "\u001b[A"
          ]
        },
        {
          "name": "stdout",
          "output_type": "stream",
          "text": [
            "[Sanity] step 1345: gen mean=-0.3528, std=0.6861, probe_RMSE=0.045715\n"
          ]
        },
        {
          "name": "stderr",
          "output_type": "stream",
          "text": [
            "\n",
            "\u001b[A\n",
            "\u001b[A\n",
            "\n"
          ]
        },
        {
          "name": "stdout",
          "output_type": "stream",
          "text": [
            "[Sanity] step 1350: gen mean=-0.3541, std=0.6807, probe_RMSE=0.043328\n"
          ]
        },
        {
          "name": "stderr",
          "output_type": "stream",
          "text": [
            "iter:  90%|█████████ | 1353/1500 [06:50<00:13, 10.63it/s]\u001b[A\u001b[A\n",
            "\u001b[A\n",
            "\u001b[A"
          ]
        },
        {
          "name": "stdout",
          "output_type": "stream",
          "text": [
            "[Sanity] step 1355: gen mean=-0.3630, std=0.6725, probe_RMSE=0.042168\n"
          ]
        },
        {
          "name": "stderr",
          "output_type": "stream",
          "text": [
            "\n",
            "\u001b[A\n",
            "\u001b[A\n",
            "\u001b[A"
          ]
        },
        {
          "name": "stdout",
          "output_type": "stream",
          "text": [
            "[Sanity] step 1360: gen mean=-0.3747, std=0.6642, probe_RMSE=0.046864\n"
          ]
        },
        {
          "name": "stderr",
          "output_type": "stream",
          "text": [
            "\n",
            "\u001b[A\n",
            "\u001b[A"
          ]
        },
        {
          "name": "stdout",
          "output_type": "stream",
          "text": [
            "[Sanity] step 1365: gen mean=-0.3906, std=0.6469, probe_RMSE=0.048597\n"
          ]
        },
        {
          "name": "stderr",
          "output_type": "stream",
          "text": [
            "\n",
            "\u001b[A\n",
            "\u001b[A\n",
            "\u001b[A"
          ]
        },
        {
          "name": "stdout",
          "output_type": "stream",
          "text": [
            "[Sanity] step 1370: gen mean=-0.3984, std=0.6411, probe_RMSE=0.043325\n"
          ]
        },
        {
          "name": "stderr",
          "output_type": "stream",
          "text": [
            "\n",
            "\u001b[A\n",
            "\u001b[A"
          ]
        },
        {
          "name": "stdout",
          "output_type": "stream",
          "text": [
            "[Sanity] step 1375: gen mean=-0.4059, std=0.6262, probe_RMSE=0.044784\n"
          ]
        },
        {
          "name": "stderr",
          "output_type": "stream",
          "text": [
            "\n",
            "\u001b[A\n",
            "\u001b[A"
          ]
        },
        {
          "name": "stdout",
          "output_type": "stream",
          "text": [
            "[Sanity] step 1380: gen mean=-0.4139, std=0.6222, probe_RMSE=0.042024\n"
          ]
        },
        {
          "name": "stderr",
          "output_type": "stream",
          "text": [
            "\n",
            "\u001b[A\n",
            "\u001b[A\n",
            "\u001b[A"
          ]
        },
        {
          "name": "stdout",
          "output_type": "stream",
          "text": [
            "[Sanity] step 1385: gen mean=-0.3997, std=0.6440, probe_RMSE=0.049516\n"
          ]
        },
        {
          "name": "stderr",
          "output_type": "stream",
          "text": [
            "\n",
            "\u001b[A\n",
            "\u001b[A\n",
            "\n"
          ]
        },
        {
          "name": "stdout",
          "output_type": "stream",
          "text": [
            "[Sanity] step 1390: gen mean=-0.3812, std=0.6682, probe_RMSE=0.073121\n"
          ]
        },
        {
          "name": "stderr",
          "output_type": "stream",
          "text": [
            "iter:  93%|█████████▎| 1393/1500 [06:54<00:11,  9.60it/s]\u001b[A\u001b[A\n",
            "\u001b[A\n",
            "\u001b[A"
          ]
        },
        {
          "name": "stdout",
          "output_type": "stream",
          "text": [
            "[Sanity] step 1395: gen mean=-0.3375, std=0.7102, probe_RMSE=0.084796\n"
          ]
        },
        {
          "name": "stderr",
          "output_type": "stream",
          "text": [
            "\n",
            "\u001b[A\n",
            "\u001b[A\n",
            "\u001b[A"
          ]
        },
        {
          "name": "stdout",
          "output_type": "stream",
          "text": [
            "[Sanity] step 1400: gen mean=-0.3132, std=0.7386, probe_RMSE=0.070268\n"
          ]
        },
        {
          "name": "stderr",
          "output_type": "stream",
          "text": [
            "\n",
            "\u001b[A\n",
            "\u001b[A\n",
            "\u001b[A\n",
            "\n"
          ]
        },
        {
          "name": "stdout",
          "output_type": "stream",
          "text": [
            "[Sanity] step 1405: gen mean=-0.2957, std=0.7519, probe_RMSE=0.072496\n"
          ]
        },
        {
          "name": "stderr",
          "output_type": "stream",
          "text": [
            "iter:  94%|█████████▍| 1408/1500 [06:55<00:09, 10.05it/s]\u001b[A\u001b[A\n",
            "\u001b[A\n",
            "\u001b[A"
          ]
        },
        {
          "name": "stdout",
          "output_type": "stream",
          "text": [
            "[Sanity] step 1410: gen mean=-0.3088, std=0.7376, probe_RMSE=0.083822\n"
          ]
        },
        {
          "name": "stderr",
          "output_type": "stream",
          "text": [
            "\n",
            "\u001b[A\n",
            "\u001b[A\n",
            "\u001b[A\n",
            "\n"
          ]
        },
        {
          "name": "stdout",
          "output_type": "stream",
          "text": [
            "[Sanity] step 1415: gen mean=-0.3323, std=0.7248, probe_RMSE=0.066963\n"
          ]
        },
        {
          "name": "stderr",
          "output_type": "stream",
          "text": [
            "iter:  95%|█████████▍| 1418/1500 [06:56<00:08,  9.72it/s]\u001b[A\u001b[A\n",
            "\u001b[A\n",
            "\u001b[A\n",
            "\u001b[A"
          ]
        },
        {
          "name": "stdout",
          "output_type": "stream",
          "text": [
            "[Sanity] step 1420: gen mean=-0.3292, std=0.7146, probe_RMSE=0.070277\n"
          ]
        },
        {
          "name": "stderr",
          "output_type": "stream",
          "text": [
            "\n",
            "\u001b[A\n",
            "\u001b[A\n",
            "\u001b[A\n",
            "\n"
          ]
        },
        {
          "name": "stdout",
          "output_type": "stream",
          "text": [
            "[Sanity] step 1425: gen mean=-0.3345, std=0.7150, probe_RMSE=0.044673\n"
          ]
        },
        {
          "name": "stderr",
          "output_type": "stream",
          "text": [
            "iter:  95%|█████████▌| 1428/1500 [06:57<00:07, 10.27it/s]\u001b[A\u001b[A\n",
            "\u001b[A\n",
            "\u001b[A"
          ]
        },
        {
          "name": "stdout",
          "output_type": "stream",
          "text": [
            "[Sanity] step 1430: gen mean=-0.3497, std=0.7055, probe_RMSE=0.045269\n"
          ]
        },
        {
          "name": "stderr",
          "output_type": "stream",
          "text": [
            "\n",
            "\u001b[A\n",
            "\u001b[A\n",
            "\u001b[A"
          ]
        },
        {
          "name": "stdout",
          "output_type": "stream",
          "text": [
            "[Sanity] step 1435: gen mean=-0.3429, std=0.7071, probe_RMSE=0.043207\n"
          ]
        },
        {
          "name": "stderr",
          "output_type": "stream",
          "text": [
            "\n",
            "\u001b[A\n",
            "\u001b[A"
          ]
        },
        {
          "name": "stdout",
          "output_type": "stream",
          "text": [
            "[Sanity] step 1440: gen mean=-0.3375, std=0.7196, probe_RMSE=0.045628\n"
          ]
        },
        {
          "name": "stderr",
          "output_type": "stream",
          "text": [
            "\n",
            "\u001b[A\n",
            "\u001b[A\n",
            "\u001b[A\n",
            "\u001b[A"
          ]
        },
        {
          "name": "stdout",
          "output_type": "stream",
          "text": [
            "[Sanity] step 1445: gen mean=-0.3336, std=0.7171, probe_RMSE=0.041504\n"
          ]
        },
        {
          "name": "stderr",
          "output_type": "stream",
          "text": [
            "\n",
            "\u001b[A\n",
            "\u001b[A\n",
            "\u001b[A\n",
            "\u001b[A\n",
            "\u001b[A"
          ]
        },
        {
          "name": "stdout",
          "output_type": "stream",
          "text": [
            "[Sanity] step 1450: gen mean=-0.3473, std=0.7015, probe_RMSE=0.042242\n"
          ]
        },
        {
          "name": "stderr",
          "output_type": "stream",
          "text": [
            "\n",
            "\u001b[A\n",
            "\u001b[A\n",
            "\u001b[A\n",
            "\u001b[A"
          ]
        },
        {
          "name": "stdout",
          "output_type": "stream",
          "text": [
            "[Sanity] step 1455: gen mean=-0.3394, std=0.7045, probe_RMSE=0.044811\n"
          ]
        },
        {
          "name": "stderr",
          "output_type": "stream",
          "text": [
            "\n",
            "\u001b[A\n",
            "\u001b[A\n",
            "\u001b[A\n",
            "\u001b[A\n",
            "\u001b[A"
          ]
        },
        {
          "name": "stdout",
          "output_type": "stream",
          "text": [
            "[Sanity] step 1460: gen mean=-0.3400, std=0.6925, probe_RMSE=0.043720\n"
          ]
        },
        {
          "name": "stderr",
          "output_type": "stream",
          "text": [
            "\n",
            "\u001b[A\n",
            "\u001b[A\n",
            "\u001b[A\n",
            "\n"
          ]
        },
        {
          "name": "stdout",
          "output_type": "stream",
          "text": [
            "[Sanity] step 1465: gen mean=-0.3559, std=0.6784, probe_RMSE=0.048410\n"
          ]
        },
        {
          "name": "stderr",
          "output_type": "stream",
          "text": [
            "iter:  98%|█████████▊| 1468/1500 [07:01<00:03,  9.51it/s]\u001b[A\u001b[A\n",
            "\u001b[A\n",
            "\u001b[A\n",
            "\u001b[A"
          ]
        },
        {
          "name": "stdout",
          "output_type": "stream",
          "text": [
            "[Sanity] step 1470: gen mean=-0.3779, std=0.6534, probe_RMSE=0.056477\n"
          ]
        },
        {
          "name": "stderr",
          "output_type": "stream",
          "text": [
            "\n",
            "\u001b[A\n",
            "\u001b[A\n",
            "\u001b[A\n",
            "\u001b[A\n",
            "\n"
          ]
        },
        {
          "name": "stdout",
          "output_type": "stream",
          "text": [
            "[Sanity] step 1475: gen mean=-0.3954, std=0.6402, probe_RMSE=0.045218\n"
          ]
        },
        {
          "name": "stderr",
          "output_type": "stream",
          "text": [
            "iter:  99%|█████████▊| 1478/1500 [07:02<00:02,  9.60it/s]\u001b[A\u001b[A\n",
            "\u001b[A\n",
            "\u001b[A\n",
            "\u001b[A\n",
            "\n"
          ]
        },
        {
          "name": "stdout",
          "output_type": "stream",
          "text": [
            "[Sanity] step 1480: gen mean=-0.4073, std=0.6282, probe_RMSE=0.039323\n"
          ]
        },
        {
          "name": "stderr",
          "output_type": "stream",
          "text": [
            "iter:  99%|█████████▉| 1483/1500 [07:03<00:01,  9.72it/s]\u001b[A\u001b[A\n",
            "\u001b[A\n",
            "\u001b[A\n",
            "\n"
          ]
        },
        {
          "name": "stdout",
          "output_type": "stream",
          "text": [
            "[Sanity] step 1485: gen mean=-0.4146, std=0.6249, probe_RMSE=0.039283\n"
          ]
        },
        {
          "name": "stderr",
          "output_type": "stream",
          "text": [
            "iter:  99%|█████████▉| 1488/1500 [07:04<00:01,  9.69it/s]\u001b[A\u001b[A\n",
            "\u001b[A\n",
            "\u001b[A\n",
            "\u001b[A\n",
            "\u001b[A"
          ]
        },
        {
          "name": "stdout",
          "output_type": "stream",
          "text": [
            "[Sanity] step 1490: gen mean=-0.4222, std=0.6184, probe_RMSE=0.046576\n"
          ]
        },
        {
          "name": "stderr",
          "output_type": "stream",
          "text": [
            "\n",
            "\u001b[A\n",
            "\u001b[A\n",
            "\u001b[A"
          ]
        },
        {
          "name": "stdout",
          "output_type": "stream",
          "text": [
            "[Sanity] step 1495: gen mean=-0.4104, std=0.6340, probe_RMSE=0.041090\n"
          ]
        },
        {
          "name": "stderr",
          "output_type": "stream",
          "text": [
            "\n",
            "\u001b[A\n",
            "\u001b[A\n",
            "\u001b[A\n",
            "config:  67%|██████▋   | 2/3 [10:30<05:34, 334.77s/it]"
          ]
        },
        {
          "name": "stdout",
          "output_type": "stream",
          "text": [
            "[Sanity] Steps with non-zero G gradients: 1500/1500\n"
          ]
        },
        {
          "name": "stderr",
          "output_type": "stream",
          "text": []
        },
        {
          "name": "stdout",
          "output_type": "stream",
          "text": [
            "Generator trainable params: 4088\n",
            "Discriminator trainable params: 6273\n"
          ]
        },
        {
          "name": "stderr",
          "output_type": "stream",
          "text": [
            "\n",
            "\u001b[A\n",
            "\u001b[A"
          ]
        },
        {
          "name": "stdout",
          "output_type": "stream",
          "text": [
            "[Sanity] D logits at start: real=0.311, fake=0.245\n",
            "[Sanity] step 0: gen mean=-0.0176, std=0.4904, probe_RMSE=0.043958\n"
          ]
        },
        {
          "name": "stderr",
          "output_type": "stream",
          "text": [
            "\n",
            "\u001b[A\n",
            "\u001b[A\n",
            "\u001b[A"
          ]
        },
        {
          "name": "stdout",
          "output_type": "stream",
          "text": [
            "[Sanity] step 5: gen mean=-0.1114, std=0.5288, probe_RMSE=0.184111\n"
          ]
        },
        {
          "name": "stderr",
          "output_type": "stream",
          "text": [
            "\n",
            "\u001b[A\n",
            "\u001b[A\n",
            "\u001b[A"
          ]
        },
        {
          "name": "stdout",
          "output_type": "stream",
          "text": [
            "[Sanity] step 10: gen mean=-0.1835, std=0.5670, probe_RMSE=0.166020\n"
          ]
        },
        {
          "name": "stderr",
          "output_type": "stream",
          "text": [
            "\n",
            "\u001b[A\n",
            "\u001b[A"
          ]
        },
        {
          "name": "stdout",
          "output_type": "stream",
          "text": [
            "[Sanity] step 15: gen mean=-0.2276, std=0.5826, probe_RMSE=0.196348\n"
          ]
        },
        {
          "name": "stderr",
          "output_type": "stream",
          "text": [
            "\n",
            "\u001b[A\n",
            "\u001b[A\n",
            "\u001b[A"
          ]
        },
        {
          "name": "stdout",
          "output_type": "stream",
          "text": [
            "[Sanity] step 20: gen mean=-0.2474, std=0.6079, probe_RMSE=0.156494\n"
          ]
        },
        {
          "name": "stderr",
          "output_type": "stream",
          "text": [
            "\n",
            "\u001b[A\n",
            "\u001b[A"
          ]
        },
        {
          "name": "stdout",
          "output_type": "stream",
          "text": [
            "[Sanity] step 25: gen mean=-0.1907, std=0.6675, probe_RMSE=0.177238\n"
          ]
        },
        {
          "name": "stderr",
          "output_type": "stream",
          "text": [
            "\n",
            "\u001b[A\n",
            "\u001b[A\n",
            "\u001b[A"
          ]
        },
        {
          "name": "stdout",
          "output_type": "stream",
          "text": [
            "[Sanity] step 30: gen mean=-0.1461, std=0.6907, probe_RMSE=0.152877\n"
          ]
        },
        {
          "name": "stderr",
          "output_type": "stream",
          "text": [
            "\n",
            "\u001b[A\n",
            "\u001b[A"
          ]
        },
        {
          "name": "stdout",
          "output_type": "stream",
          "text": [
            "[Sanity] step 35: gen mean=-0.1029, std=0.7054, probe_RMSE=0.130932\n"
          ]
        },
        {
          "name": "stderr",
          "output_type": "stream",
          "text": [
            "\n",
            "\u001b[A\n",
            "\u001b[A\n",
            "\u001b[A"
          ]
        },
        {
          "name": "stdout",
          "output_type": "stream",
          "text": [
            "[Sanity] step 40: gen mean=-0.1197, std=0.7302, probe_RMSE=0.129956\n"
          ]
        },
        {
          "name": "stderr",
          "output_type": "stream",
          "text": [
            "\n",
            "\u001b[A\n",
            "\u001b[A"
          ]
        },
        {
          "name": "stdout",
          "output_type": "stream",
          "text": [
            "[Sanity] step 45: gen mean=-0.1273, std=0.7612, probe_RMSE=0.098783\n"
          ]
        },
        {
          "name": "stderr",
          "output_type": "stream",
          "text": [
            "\n",
            "\u001b[A\n",
            "\u001b[A\n",
            "\u001b[A"
          ]
        },
        {
          "name": "stdout",
          "output_type": "stream",
          "text": [
            "[Sanity] step 50: gen mean=-0.1359, std=0.7490, probe_RMSE=0.115697\n"
          ]
        },
        {
          "name": "stderr",
          "output_type": "stream",
          "text": [
            "\n",
            "\u001b[A\n",
            "\u001b[A"
          ]
        },
        {
          "name": "stdout",
          "output_type": "stream",
          "text": [
            "[Sanity] step 55: gen mean=-0.1395, std=0.7524, probe_RMSE=0.085027\n"
          ]
        },
        {
          "name": "stderr",
          "output_type": "stream",
          "text": [
            "\n",
            "\u001b[A\n",
            "\u001b[A\n",
            "\u001b[A"
          ]
        },
        {
          "name": "stdout",
          "output_type": "stream",
          "text": [
            "[Sanity] step 60: gen mean=-0.1974, std=0.7047, probe_RMSE=0.092954\n"
          ]
        },
        {
          "name": "stderr",
          "output_type": "stream",
          "text": [
            "\n",
            "\u001b[A\n",
            "\u001b[A"
          ]
        },
        {
          "name": "stdout",
          "output_type": "stream",
          "text": [
            "[Sanity] step 65: gen mean=-0.2650, std=0.6850, probe_RMSE=0.140701\n"
          ]
        },
        {
          "name": "stderr",
          "output_type": "stream",
          "text": [
            "\n",
            "\u001b[A\n",
            "\u001b[A\n",
            "\u001b[A"
          ]
        },
        {
          "name": "stdout",
          "output_type": "stream",
          "text": [
            "[Sanity] step 70: gen mean=-0.3602, std=0.6233, probe_RMSE=0.106376\n"
          ]
        },
        {
          "name": "stderr",
          "output_type": "stream",
          "text": [
            "\n",
            "\u001b[A\n",
            "\u001b[A"
          ]
        },
        {
          "name": "stdout",
          "output_type": "stream",
          "text": [
            "[Sanity] step 75: gen mean=-0.3964, std=0.5939, probe_RMSE=0.125339\n"
          ]
        },
        {
          "name": "stderr",
          "output_type": "stream",
          "text": [
            "\n",
            "\u001b[A\n",
            "\u001b[A\n",
            "\u001b[A"
          ]
        },
        {
          "name": "stdout",
          "output_type": "stream",
          "text": [
            "[Sanity] step 80: gen mean=-0.4416, std=0.5259, probe_RMSE=0.108273\n"
          ]
        },
        {
          "name": "stderr",
          "output_type": "stream",
          "text": [
            "\n",
            "\u001b[A\n",
            "\u001b[A"
          ]
        },
        {
          "name": "stdout",
          "output_type": "stream",
          "text": [
            "[Sanity] step 85: gen mean=-0.4733, std=0.5225, probe_RMSE=0.107383\n"
          ]
        },
        {
          "name": "stderr",
          "output_type": "stream",
          "text": [
            "\n",
            "\u001b[A\n",
            "\u001b[A\n",
            "\u001b[A"
          ]
        },
        {
          "name": "stdout",
          "output_type": "stream",
          "text": [
            "[Sanity] step 90: gen mean=-0.4395, std=0.5235, probe_RMSE=0.110142\n"
          ]
        },
        {
          "name": "stderr",
          "output_type": "stream",
          "text": [
            "\n",
            "\u001b[A\n",
            "\u001b[A"
          ]
        },
        {
          "name": "stdout",
          "output_type": "stream",
          "text": [
            "[Sanity] step 95: gen mean=-0.3899, std=0.5838, probe_RMSE=0.121921\n"
          ]
        },
        {
          "name": "stderr",
          "output_type": "stream",
          "text": [
            "\n",
            "\u001b[A\n",
            "\u001b[A\n",
            "\u001b[A"
          ]
        },
        {
          "name": "stdout",
          "output_type": "stream",
          "text": [
            "[Sanity] step 100: gen mean=-0.3434, std=0.6316, probe_RMSE=0.131463\n"
          ]
        },
        {
          "name": "stderr",
          "output_type": "stream",
          "text": [
            "\n",
            "\u001b[A\n",
            "\u001b[A"
          ]
        },
        {
          "name": "stdout",
          "output_type": "stream",
          "text": [
            "[Sanity] step 105: gen mean=-0.2923, std=0.6584, probe_RMSE=0.140468\n"
          ]
        },
        {
          "name": "stderr",
          "output_type": "stream",
          "text": [
            "\n",
            "\u001b[A\n",
            "\u001b[A\n",
            "\u001b[A"
          ]
        },
        {
          "name": "stdout",
          "output_type": "stream",
          "text": [
            "[Sanity] step 110: gen mean=-0.2465, std=0.6714, probe_RMSE=0.117085\n"
          ]
        },
        {
          "name": "stderr",
          "output_type": "stream",
          "text": [
            "\n",
            "\u001b[A\n",
            "\u001b[A"
          ]
        },
        {
          "name": "stdout",
          "output_type": "stream",
          "text": [
            "[Sanity] step 115: gen mean=-0.2302, std=0.6642, probe_RMSE=0.105405\n"
          ]
        },
        {
          "name": "stderr",
          "output_type": "stream",
          "text": [
            "\n",
            "\u001b[A\n",
            "\u001b[A\n",
            "\u001b[A"
          ]
        },
        {
          "name": "stdout",
          "output_type": "stream",
          "text": [
            "[Sanity] step 120: gen mean=-0.2026, std=0.6831, probe_RMSE=0.104335\n"
          ]
        },
        {
          "name": "stderr",
          "output_type": "stream",
          "text": [
            "\n",
            "\u001b[A\n",
            "\u001b[A"
          ]
        },
        {
          "name": "stdout",
          "output_type": "stream",
          "text": [
            "[Sanity] step 125: gen mean=-0.1619, std=0.6793, probe_RMSE=0.100100\n"
          ]
        },
        {
          "name": "stderr",
          "output_type": "stream",
          "text": [
            "\n",
            "\u001b[A\n",
            "\u001b[A\n",
            "\u001b[A"
          ]
        },
        {
          "name": "stdout",
          "output_type": "stream",
          "text": [
            "[Sanity] step 130: gen mean=-0.1604, std=0.6750, probe_RMSE=0.096905\n"
          ]
        },
        {
          "name": "stderr",
          "output_type": "stream",
          "text": [
            "\n",
            "\u001b[A\n",
            "\u001b[A"
          ]
        },
        {
          "name": "stdout",
          "output_type": "stream",
          "text": [
            "[Sanity] step 135: gen mean=-0.1230, std=0.6834, probe_RMSE=0.082221\n"
          ]
        },
        {
          "name": "stderr",
          "output_type": "stream",
          "text": [
            "\n",
            "\u001b[A\n",
            "\u001b[A\n",
            "\u001b[A"
          ]
        },
        {
          "name": "stdout",
          "output_type": "stream",
          "text": [
            "[Sanity] step 140: gen mean=-0.0943, std=0.6818, probe_RMSE=0.088839\n"
          ]
        },
        {
          "name": "stderr",
          "output_type": "stream",
          "text": [
            "\n",
            "\u001b[A\n",
            "\u001b[A"
          ]
        },
        {
          "name": "stdout",
          "output_type": "stream",
          "text": [
            "[Sanity] step 145: gen mean=-0.0686, std=0.6921, probe_RMSE=0.089779\n"
          ]
        },
        {
          "name": "stderr",
          "output_type": "stream",
          "text": [
            "\n",
            "\u001b[A\n",
            "\u001b[A\n",
            "\u001b[A"
          ]
        },
        {
          "name": "stdout",
          "output_type": "stream",
          "text": [
            "[Sanity] step 150: gen mean=-0.0677, std=0.6924, probe_RMSE=0.083879\n"
          ]
        },
        {
          "name": "stderr",
          "output_type": "stream",
          "text": [
            "\n",
            "\u001b[A\n",
            "\u001b[A\n",
            "\n"
          ]
        },
        {
          "name": "stdout",
          "output_type": "stream",
          "text": [
            "[Sanity] step 155: gen mean=-0.0875, std=0.6882, probe_RMSE=0.081899\n"
          ]
        },
        {
          "name": "stderr",
          "output_type": "stream",
          "text": [
            "iter:  11%|█         | 159/1500 [00:13<01:40, 13.28it/s]\u001b[A\u001b[A\n",
            "\u001b[A\n",
            "\u001b[A"
          ]
        },
        {
          "name": "stdout",
          "output_type": "stream",
          "text": [
            "[Sanity] step 160: gen mean=-0.1046, std=0.7008, probe_RMSE=0.098474\n"
          ]
        },
        {
          "name": "stderr",
          "output_type": "stream",
          "text": [
            "\n",
            "\u001b[A\n",
            "\u001b[A"
          ]
        },
        {
          "name": "stdout",
          "output_type": "stream",
          "text": [
            "[Sanity] step 165: gen mean=-0.1426, std=0.6880, probe_RMSE=0.077883\n"
          ]
        },
        {
          "name": "stderr",
          "output_type": "stream",
          "text": [
            "\n",
            "\u001b[A\n",
            "\u001b[A\n",
            "\u001b[A"
          ]
        },
        {
          "name": "stdout",
          "output_type": "stream",
          "text": [
            "[Sanity] step 170: gen mean=-0.1797, std=0.6853, probe_RMSE=0.082071\n"
          ]
        },
        {
          "name": "stderr",
          "output_type": "stream",
          "text": [
            "\n",
            "\u001b[A\n",
            "\u001b[A"
          ]
        },
        {
          "name": "stdout",
          "output_type": "stream",
          "text": [
            "[Sanity] step 175: gen mean=-0.2259, std=0.6535, probe_RMSE=0.105302\n"
          ]
        },
        {
          "name": "stderr",
          "output_type": "stream",
          "text": [
            "\n",
            "\u001b[A\n",
            "\u001b[A\n",
            "\u001b[A"
          ]
        },
        {
          "name": "stdout",
          "output_type": "stream",
          "text": [
            "[Sanity] step 180: gen mean=-0.2710, std=0.6425, probe_RMSE=0.109364\n"
          ]
        },
        {
          "name": "stderr",
          "output_type": "stream",
          "text": [
            "\n",
            "\u001b[A\n",
            "\u001b[A"
          ]
        },
        {
          "name": "stdout",
          "output_type": "stream",
          "text": [
            "[Sanity] step 185: gen mean=-0.2805, std=0.6296, probe_RMSE=0.102435\n"
          ]
        },
        {
          "name": "stderr",
          "output_type": "stream",
          "text": [
            "\n",
            "\u001b[A\n",
            "\u001b[A\n",
            "\u001b[A"
          ]
        },
        {
          "name": "stdout",
          "output_type": "stream",
          "text": [
            "[Sanity] step 190: gen mean=-0.2928, std=0.6396, probe_RMSE=0.093189\n"
          ]
        },
        {
          "name": "stderr",
          "output_type": "stream",
          "text": [
            "\n",
            "\u001b[A\n",
            "\u001b[A"
          ]
        },
        {
          "name": "stdout",
          "output_type": "stream",
          "text": [
            "[Sanity] step 195: gen mean=-0.3085, std=0.6593, probe_RMSE=0.107030\n"
          ]
        },
        {
          "name": "stderr",
          "output_type": "stream",
          "text": [
            "\n",
            "\u001b[A\n",
            "\u001b[A\n",
            "\u001b[A"
          ]
        },
        {
          "name": "stdout",
          "output_type": "stream",
          "text": [
            "[Sanity] step 200: gen mean=-0.2756, std=0.6717, probe_RMSE=0.091888\n"
          ]
        },
        {
          "name": "stderr",
          "output_type": "stream",
          "text": [
            "\n",
            "\u001b[A\n",
            "\u001b[A"
          ]
        },
        {
          "name": "stdout",
          "output_type": "stream",
          "text": [
            "[Sanity] step 205: gen mean=-0.2813, std=0.6671, probe_RMSE=0.105606\n"
          ]
        },
        {
          "name": "stderr",
          "output_type": "stream",
          "text": [
            "\n",
            "\u001b[A\n",
            "\u001b[A\n",
            "\u001b[A"
          ]
        },
        {
          "name": "stdout",
          "output_type": "stream",
          "text": [
            "[Sanity] step 210: gen mean=-0.3138, std=0.6675, probe_RMSE=0.074909\n"
          ]
        },
        {
          "name": "stderr",
          "output_type": "stream",
          "text": [
            "\n",
            "\u001b[A\n",
            "\u001b[A"
          ]
        },
        {
          "name": "stdout",
          "output_type": "stream",
          "text": [
            "[Sanity] step 215: gen mean=-0.3246, std=0.6619, probe_RMSE=0.076751\n"
          ]
        },
        {
          "name": "stderr",
          "output_type": "stream",
          "text": [
            "\n",
            "\u001b[A\n",
            "\u001b[A\n",
            "\u001b[A"
          ]
        },
        {
          "name": "stdout",
          "output_type": "stream",
          "text": [
            "[Sanity] step 220: gen mean=-0.3372, std=0.6514, probe_RMSE=0.061568\n"
          ]
        },
        {
          "name": "stderr",
          "output_type": "stream",
          "text": [
            "\n",
            "\u001b[A\n",
            "\u001b[A"
          ]
        },
        {
          "name": "stdout",
          "output_type": "stream",
          "text": [
            "[Sanity] step 225: gen mean=-0.3416, std=0.6483, probe_RMSE=0.070062\n"
          ]
        },
        {
          "name": "stderr",
          "output_type": "stream",
          "text": [
            "\n",
            "\u001b[A\n",
            "\u001b[A\n",
            "\u001b[A"
          ]
        },
        {
          "name": "stdout",
          "output_type": "stream",
          "text": [
            "[Sanity] step 230: gen mean=-0.3335, std=0.6412, probe_RMSE=0.054394\n"
          ]
        },
        {
          "name": "stderr",
          "output_type": "stream",
          "text": [
            "\n",
            "\u001b[A\n",
            "\u001b[A"
          ]
        },
        {
          "name": "stdout",
          "output_type": "stream",
          "text": [
            "[Sanity] step 235: gen mean=-0.3162, std=0.6437, probe_RMSE=0.061057\n"
          ]
        },
        {
          "name": "stderr",
          "output_type": "stream",
          "text": [
            "\n",
            "\u001b[A\n",
            "\u001b[A\n",
            "\u001b[A"
          ]
        },
        {
          "name": "stdout",
          "output_type": "stream",
          "text": [
            "[Sanity] step 240: gen mean=-0.2981, std=0.6463, probe_RMSE=0.058740\n"
          ]
        },
        {
          "name": "stderr",
          "output_type": "stream",
          "text": [
            "\n",
            "\u001b[A\n",
            "\u001b[A"
          ]
        },
        {
          "name": "stdout",
          "output_type": "stream",
          "text": [
            "[Sanity] step 245: gen mean=-0.3271, std=0.6220, probe_RMSE=0.069396\n"
          ]
        },
        {
          "name": "stderr",
          "output_type": "stream",
          "text": [
            "\n",
            "\u001b[A\n",
            "\u001b[A\n",
            "\u001b[A"
          ]
        },
        {
          "name": "stdout",
          "output_type": "stream",
          "text": [
            "[Sanity] step 250: gen mean=-0.3770, std=0.5877, probe_RMSE=0.079791\n"
          ]
        },
        {
          "name": "stderr",
          "output_type": "stream",
          "text": [
            "\n",
            "\u001b[A\n",
            "\u001b[A"
          ]
        },
        {
          "name": "stdout",
          "output_type": "stream",
          "text": [
            "[Sanity] step 255: gen mean=-0.4344, std=0.5470, probe_RMSE=0.082864\n"
          ]
        },
        {
          "name": "stderr",
          "output_type": "stream",
          "text": [
            "\n",
            "\u001b[A\n",
            "\u001b[A\n",
            "\u001b[A"
          ]
        },
        {
          "name": "stdout",
          "output_type": "stream",
          "text": [
            "[Sanity] step 260: gen mean=-0.4626, std=0.5367, probe_RMSE=0.048242\n"
          ]
        },
        {
          "name": "stderr",
          "output_type": "stream",
          "text": [
            "\n",
            "\u001b[A\n",
            "\u001b[A"
          ]
        },
        {
          "name": "stdout",
          "output_type": "stream",
          "text": [
            "[Sanity] step 265: gen mean=-0.4440, std=0.5431, probe_RMSE=0.038965\n"
          ]
        },
        {
          "name": "stderr",
          "output_type": "stream",
          "text": [
            "\n",
            "\u001b[A\n",
            "\u001b[A\n",
            "\u001b[A"
          ]
        },
        {
          "name": "stdout",
          "output_type": "stream",
          "text": [
            "[Sanity] step 270: gen mean=-0.4024, std=0.5816, probe_RMSE=0.075658\n"
          ]
        },
        {
          "name": "stderr",
          "output_type": "stream",
          "text": [
            "\n",
            "\u001b[A\n",
            "\u001b[A"
          ]
        },
        {
          "name": "stdout",
          "output_type": "stream",
          "text": [
            "[Sanity] step 275: gen mean=-0.3538, std=0.6182, probe_RMSE=0.096313\n"
          ]
        },
        {
          "name": "stderr",
          "output_type": "stream",
          "text": [
            "\n",
            "\u001b[A\n",
            "\u001b[A\n",
            "\u001b[A"
          ]
        },
        {
          "name": "stdout",
          "output_type": "stream",
          "text": [
            "[Sanity] step 280: gen mean=-0.3535, std=0.6308, probe_RMSE=0.061392\n"
          ]
        },
        {
          "name": "stderr",
          "output_type": "stream",
          "text": [
            "\n",
            "\u001b[A\n",
            "\u001b[A"
          ]
        },
        {
          "name": "stdout",
          "output_type": "stream",
          "text": [
            "[Sanity] step 285: gen mean=-0.3327, std=0.6492, probe_RMSE=0.061722\n"
          ]
        },
        {
          "name": "stderr",
          "output_type": "stream",
          "text": [
            "\n",
            "\u001b[A\n",
            "\u001b[A\n",
            "\u001b[A"
          ]
        },
        {
          "name": "stdout",
          "output_type": "stream",
          "text": [
            "[Sanity] step 290: gen mean=-0.3354, std=0.6386, probe_RMSE=0.054612\n"
          ]
        },
        {
          "name": "stderr",
          "output_type": "stream",
          "text": [
            "\n",
            "\u001b[A\n",
            "\u001b[A"
          ]
        },
        {
          "name": "stdout",
          "output_type": "stream",
          "text": [
            "[Sanity] step 295: gen mean=-0.3381, std=0.6237, probe_RMSE=0.053255\n"
          ]
        },
        {
          "name": "stderr",
          "output_type": "stream",
          "text": [
            "\n",
            "\u001b[A\n",
            "\u001b[A\n",
            "\u001b[A"
          ]
        },
        {
          "name": "stdout",
          "output_type": "stream",
          "text": [
            "[Sanity] step 300: gen mean=-0.3146, std=0.6566, probe_RMSE=0.050256\n"
          ]
        },
        {
          "name": "stderr",
          "output_type": "stream",
          "text": [
            "\n",
            "\u001b[A\n",
            "\u001b[A"
          ]
        },
        {
          "name": "stdout",
          "output_type": "stream",
          "text": [
            "[Sanity] step 305: gen mean=-0.3010, std=0.6630, probe_RMSE=0.047172\n"
          ]
        },
        {
          "name": "stderr",
          "output_type": "stream",
          "text": [
            "\n",
            "\u001b[A\n",
            "\u001b[A\n",
            "\u001b[A"
          ]
        },
        {
          "name": "stdout",
          "output_type": "stream",
          "text": [
            "[Sanity] step 310: gen mean=-0.3302, std=0.6642, probe_RMSE=0.048201\n"
          ]
        },
        {
          "name": "stderr",
          "output_type": "stream",
          "text": [
            "\n",
            "\u001b[A\n",
            "\u001b[A"
          ]
        },
        {
          "name": "stdout",
          "output_type": "stream",
          "text": [
            "[Sanity] step 315: gen mean=-0.3216, std=0.6573, probe_RMSE=0.040400\n"
          ]
        },
        {
          "name": "stderr",
          "output_type": "stream",
          "text": [
            "\n",
            "\u001b[A\n",
            "\u001b[A\n",
            "\u001b[A"
          ]
        },
        {
          "name": "stdout",
          "output_type": "stream",
          "text": [
            "[Sanity] step 320: gen mean=-0.3392, std=0.6426, probe_RMSE=0.041765\n"
          ]
        },
        {
          "name": "stderr",
          "output_type": "stream",
          "text": [
            "\n",
            "\u001b[A\n",
            "\u001b[A"
          ]
        },
        {
          "name": "stdout",
          "output_type": "stream",
          "text": [
            "[Sanity] step 325: gen mean=-0.3415, std=0.6430, probe_RMSE=0.038178\n"
          ]
        },
        {
          "name": "stderr",
          "output_type": "stream",
          "text": [
            "\n",
            "\u001b[A\n",
            "\u001b[A\n",
            "\u001b[A"
          ]
        },
        {
          "name": "stdout",
          "output_type": "stream",
          "text": [
            "[Sanity] step 330: gen mean=-0.3514, std=0.6308, probe_RMSE=0.033577\n"
          ]
        },
        {
          "name": "stderr",
          "output_type": "stream",
          "text": [
            "\n",
            "\u001b[A\n",
            "\u001b[A"
          ]
        },
        {
          "name": "stdout",
          "output_type": "stream",
          "text": [
            "[Sanity] step 335: gen mean=-0.3527, std=0.6348, probe_RMSE=0.028767\n"
          ]
        },
        {
          "name": "stderr",
          "output_type": "stream",
          "text": [
            "\n",
            "\u001b[A\n",
            "\u001b[A\n",
            "\n"
          ]
        },
        {
          "name": "stdout",
          "output_type": "stream",
          "text": [
            "[Sanity] step 340: gen mean=-0.3577, std=0.6281, probe_RMSE=0.030709\n"
          ]
        },
        {
          "name": "stderr",
          "output_type": "stream",
          "text": [
            "iter:  23%|██▎       | 343/1500 [00:28<01:41, 11.40it/s]\u001b[A\u001b[A\n",
            "\u001b[A\n",
            "\u001b[A"
          ]
        },
        {
          "name": "stdout",
          "output_type": "stream",
          "text": [
            "[Sanity] step 345: gen mean=-0.3446, std=0.6301, probe_RMSE=0.033605\n"
          ]
        },
        {
          "name": "stderr",
          "output_type": "stream",
          "text": [
            "\n",
            "\u001b[A\n",
            "\u001b[A\n",
            "\u001b[A"
          ]
        },
        {
          "name": "stdout",
          "output_type": "stream",
          "text": [
            "[Sanity] step 350: gen mean=-0.3263, std=0.6225, probe_RMSE=0.036415\n"
          ]
        },
        {
          "name": "stderr",
          "output_type": "stream",
          "text": [
            "\n",
            "\u001b[A\n",
            "\u001b[A"
          ]
        },
        {
          "name": "stdout",
          "output_type": "stream",
          "text": [
            "[Sanity] step 355: gen mean=-0.3375, std=0.6202, probe_RMSE=0.037750\n"
          ]
        },
        {
          "name": "stderr",
          "output_type": "stream",
          "text": [
            "\n",
            "\u001b[A\n",
            "\u001b[A\n",
            "\u001b[A"
          ]
        },
        {
          "name": "stdout",
          "output_type": "stream",
          "text": [
            "[Sanity] step 360: gen mean=-0.3389, std=0.6142, probe_RMSE=0.034340\n"
          ]
        },
        {
          "name": "stderr",
          "output_type": "stream",
          "text": [
            "\n",
            "\u001b[A\n",
            "\u001b[A"
          ]
        },
        {
          "name": "stdout",
          "output_type": "stream",
          "text": [
            "[Sanity] step 365: gen mean=-0.3335, std=0.6171, probe_RMSE=0.036196\n"
          ]
        },
        {
          "name": "stderr",
          "output_type": "stream",
          "text": [
            "\n",
            "\u001b[A\n",
            "\u001b[A\n",
            "\u001b[A"
          ]
        },
        {
          "name": "stdout",
          "output_type": "stream",
          "text": [
            "[Sanity] step 370: gen mean=-0.3373, std=0.6072, probe_RMSE=0.040798\n"
          ]
        },
        {
          "name": "stderr",
          "output_type": "stream",
          "text": [
            "\n",
            "\u001b[A\n",
            "\u001b[A"
          ]
        },
        {
          "name": "stdout",
          "output_type": "stream",
          "text": [
            "[Sanity] step 375: gen mean=-0.3072, std=0.6257, probe_RMSE=0.045982\n"
          ]
        },
        {
          "name": "stderr",
          "output_type": "stream",
          "text": [
            "\n",
            "\u001b[A\n",
            "\u001b[A\n",
            "\u001b[A"
          ]
        },
        {
          "name": "stdout",
          "output_type": "stream",
          "text": [
            "[Sanity] step 380: gen mean=-0.2942, std=0.6345, probe_RMSE=0.042829\n"
          ]
        },
        {
          "name": "stderr",
          "output_type": "stream",
          "text": [
            "\n",
            "\u001b[A\n",
            "\u001b[A"
          ]
        },
        {
          "name": "stdout",
          "output_type": "stream",
          "text": [
            "[Sanity] step 385: gen mean=-0.2560, std=0.6610, probe_RMSE=0.069020\n"
          ]
        },
        {
          "name": "stderr",
          "output_type": "stream",
          "text": [
            "\n",
            "\u001b[A\n",
            "\u001b[A\n",
            "\u001b[A"
          ]
        },
        {
          "name": "stdout",
          "output_type": "stream",
          "text": [
            "[Sanity] step 390: gen mean=-0.2366, std=0.6800, probe_RMSE=0.062731\n"
          ]
        },
        {
          "name": "stderr",
          "output_type": "stream",
          "text": [
            "\n",
            "\u001b[A\n",
            "\u001b[A"
          ]
        },
        {
          "name": "stdout",
          "output_type": "stream",
          "text": [
            "[Sanity] step 395: gen mean=-0.2308, std=0.6891, probe_RMSE=0.050052\n"
          ]
        },
        {
          "name": "stderr",
          "output_type": "stream",
          "text": [
            "\n",
            "\u001b[A\n",
            "\u001b[A\n",
            "\u001b[A"
          ]
        },
        {
          "name": "stdout",
          "output_type": "stream",
          "text": [
            "[Sanity] step 400: gen mean=-0.2792, std=0.6452, probe_RMSE=0.075891\n"
          ]
        },
        {
          "name": "stderr",
          "output_type": "stream",
          "text": [
            "\n",
            "\u001b[A\n",
            "\u001b[A"
          ]
        },
        {
          "name": "stdout",
          "output_type": "stream",
          "text": [
            "[Sanity] step 405: gen mean=-0.3057, std=0.6418, probe_RMSE=0.051498\n"
          ]
        },
        {
          "name": "stderr",
          "output_type": "stream",
          "text": [
            "\n",
            "\u001b[A\n",
            "\u001b[A\n",
            "\u001b[A"
          ]
        },
        {
          "name": "stdout",
          "output_type": "stream",
          "text": [
            "[Sanity] step 410: gen mean=-0.3503, std=0.6169, probe_RMSE=0.060111\n"
          ]
        },
        {
          "name": "stderr",
          "output_type": "stream",
          "text": [
            "\n",
            "\u001b[A\n",
            "\u001b[A"
          ]
        },
        {
          "name": "stdout",
          "output_type": "stream",
          "text": [
            "[Sanity] step 415: gen mean=-0.3718, std=0.5944, probe_RMSE=0.049180\n"
          ]
        },
        {
          "name": "stderr",
          "output_type": "stream",
          "text": [
            "\n",
            "\u001b[A\n",
            "\u001b[A\n",
            "\u001b[A"
          ]
        },
        {
          "name": "stdout",
          "output_type": "stream",
          "text": [
            "[Sanity] step 420: gen mean=-0.3766, std=0.5926, probe_RMSE=0.037958\n"
          ]
        },
        {
          "name": "stderr",
          "output_type": "stream",
          "text": [
            "\n",
            "\u001b[A\n",
            "\u001b[A"
          ]
        },
        {
          "name": "stdout",
          "output_type": "stream",
          "text": [
            "[Sanity] step 425: gen mean=-0.4020, std=0.5836, probe_RMSE=0.041485\n"
          ]
        },
        {
          "name": "stderr",
          "output_type": "stream",
          "text": [
            "\n",
            "\u001b[A\n",
            "\u001b[A\n",
            "\u001b[A"
          ]
        },
        {
          "name": "stdout",
          "output_type": "stream",
          "text": [
            "[Sanity] step 430: gen mean=-0.4024, std=0.5891, probe_RMSE=0.036285\n"
          ]
        },
        {
          "name": "stderr",
          "output_type": "stream",
          "text": [
            "\n",
            "\u001b[A\n",
            "\u001b[A"
          ]
        },
        {
          "name": "stdout",
          "output_type": "stream",
          "text": [
            "[Sanity] step 435: gen mean=-0.3683, std=0.6152, probe_RMSE=0.064067\n"
          ]
        },
        {
          "name": "stderr",
          "output_type": "stream",
          "text": [
            "\n",
            "\u001b[A\n",
            "\u001b[A\n",
            "\u001b[A"
          ]
        },
        {
          "name": "stdout",
          "output_type": "stream",
          "text": [
            "[Sanity] step 440: gen mean=-0.3611, std=0.6135, probe_RMSE=0.061627\n"
          ]
        },
        {
          "name": "stderr",
          "output_type": "stream",
          "text": [
            "\n",
            "\u001b[A\n",
            "\u001b[A"
          ]
        },
        {
          "name": "stdout",
          "output_type": "stream",
          "text": [
            "[Sanity] step 445: gen mean=-0.3528, std=0.6238, probe_RMSE=0.044628\n"
          ]
        },
        {
          "name": "stderr",
          "output_type": "stream",
          "text": [
            "\n",
            "\u001b[A\n",
            "\u001b[A\n",
            "\u001b[A"
          ]
        },
        {
          "name": "stdout",
          "output_type": "stream",
          "text": [
            "[Sanity] step 450: gen mean=-0.3289, std=0.6515, probe_RMSE=0.056598\n"
          ]
        },
        {
          "name": "stderr",
          "output_type": "stream",
          "text": [
            "\n",
            "\u001b[A\n",
            "\u001b[A"
          ]
        },
        {
          "name": "stdout",
          "output_type": "stream",
          "text": [
            "[Sanity] step 455: gen mean=-0.3261, std=0.6535, probe_RMSE=0.044641\n"
          ]
        },
        {
          "name": "stderr",
          "output_type": "stream",
          "text": [
            "\n",
            "\u001b[A\n",
            "\u001b[A\n",
            "\u001b[A"
          ]
        },
        {
          "name": "stdout",
          "output_type": "stream",
          "text": [
            "[Sanity] step 460: gen mean=-0.3128, std=0.6622, probe_RMSE=0.057104\n"
          ]
        },
        {
          "name": "stderr",
          "output_type": "stream",
          "text": [
            "\n",
            "\u001b[A\n",
            "\u001b[A"
          ]
        },
        {
          "name": "stdout",
          "output_type": "stream",
          "text": [
            "[Sanity] step 465: gen mean=-0.3120, std=0.6627, probe_RMSE=0.051523\n"
          ]
        },
        {
          "name": "stderr",
          "output_type": "stream",
          "text": [
            "\n",
            "\u001b[A\n",
            "\u001b[A\n",
            "\u001b[A"
          ]
        },
        {
          "name": "stdout",
          "output_type": "stream",
          "text": [
            "[Sanity] step 470: gen mean=-0.2702, std=0.7035, probe_RMSE=0.071928\n"
          ]
        },
        {
          "name": "stderr",
          "output_type": "stream",
          "text": [
            "\n",
            "\u001b[A\n",
            "\u001b[A"
          ]
        },
        {
          "name": "stdout",
          "output_type": "stream",
          "text": [
            "[Sanity] step 475: gen mean=-0.2433, std=0.7077, probe_RMSE=0.051341\n"
          ]
        },
        {
          "name": "stderr",
          "output_type": "stream",
          "text": [
            "\n",
            "\u001b[A\n",
            "\u001b[A\n",
            "\u001b[A"
          ]
        },
        {
          "name": "stdout",
          "output_type": "stream",
          "text": [
            "[Sanity] step 480: gen mean=-0.2397, std=0.7082, probe_RMSE=0.059363\n"
          ]
        },
        {
          "name": "stderr",
          "output_type": "stream",
          "text": [
            "\n",
            "\u001b[A\n",
            "\u001b[A"
          ]
        },
        {
          "name": "stdout",
          "output_type": "stream",
          "text": [
            "[Sanity] step 485: gen mean=-0.2611, std=0.7021, probe_RMSE=0.056678\n"
          ]
        },
        {
          "name": "stderr",
          "output_type": "stream",
          "text": [
            "\n",
            "\u001b[A\n",
            "\u001b[A\n",
            "\u001b[A"
          ]
        },
        {
          "name": "stdout",
          "output_type": "stream",
          "text": [
            "[Sanity] step 490: gen mean=-0.2843, std=0.6789, probe_RMSE=0.052323\n"
          ]
        },
        {
          "name": "stderr",
          "output_type": "stream",
          "text": [
            "\n",
            "\u001b[A\n",
            "\u001b[A"
          ]
        },
        {
          "name": "stdout",
          "output_type": "stream",
          "text": [
            "[Sanity] step 495: gen mean=-0.3171, std=0.6723, probe_RMSE=0.056028\n"
          ]
        },
        {
          "name": "stderr",
          "output_type": "stream",
          "text": [
            "\n",
            "\u001b[A\n",
            "\u001b[A\n",
            "\u001b[A"
          ]
        },
        {
          "name": "stdout",
          "output_type": "stream",
          "text": [
            "[Sanity] step 500: gen mean=-0.3364, std=0.6481, probe_RMSE=0.047222\n"
          ]
        },
        {
          "name": "stderr",
          "output_type": "stream",
          "text": [
            "\n",
            "\u001b[A\n",
            "\u001b[A\n",
            "\n"
          ]
        },
        {
          "name": "stdout",
          "output_type": "stream",
          "text": [
            "[Sanity] step 505: gen mean=-0.3645, std=0.6208, probe_RMSE=0.066726\n"
          ]
        },
        {
          "name": "stderr",
          "output_type": "stream",
          "text": [
            "iter:  34%|███▍      | 509/1500 [00:41<01:17, 12.73it/s]\u001b[A\u001b[A\n",
            "\u001b[A\n",
            "\u001b[A"
          ]
        },
        {
          "name": "stdout",
          "output_type": "stream",
          "text": [
            "[Sanity] step 510: gen mean=-0.4340, std=0.5644, probe_RMSE=0.079242\n"
          ]
        },
        {
          "name": "stderr",
          "output_type": "stream",
          "text": [
            "\n",
            "\u001b[A\n",
            "\u001b[A"
          ]
        },
        {
          "name": "stdout",
          "output_type": "stream",
          "text": [
            "[Sanity] step 515: gen mean=-0.4736, std=0.5345, probe_RMSE=0.061074\n"
          ]
        },
        {
          "name": "stderr",
          "output_type": "stream",
          "text": [
            "\n",
            "\u001b[A\n",
            "\u001b[A\n",
            "\u001b[A"
          ]
        },
        {
          "name": "stdout",
          "output_type": "stream",
          "text": [
            "[Sanity] step 520: gen mean=-0.4996, std=0.5220, probe_RMSE=0.041753\n"
          ]
        },
        {
          "name": "stderr",
          "output_type": "stream",
          "text": [
            "\n",
            "\u001b[A\n",
            "\u001b[A"
          ]
        },
        {
          "name": "stdout",
          "output_type": "stream",
          "text": [
            "[Sanity] step 525: gen mean=-0.5114, std=0.5075, probe_RMSE=0.030368\n"
          ]
        },
        {
          "name": "stderr",
          "output_type": "stream",
          "text": [
            "\n",
            "\u001b[A\n",
            "\u001b[A\n",
            "\u001b[A"
          ]
        },
        {
          "name": "stdout",
          "output_type": "stream",
          "text": [
            "[Sanity] step 530: gen mean=-0.4955, std=0.5203, probe_RMSE=0.031592\n"
          ]
        },
        {
          "name": "stderr",
          "output_type": "stream",
          "text": [
            "\n",
            "\u001b[A\n",
            "\u001b[A"
          ]
        },
        {
          "name": "stdout",
          "output_type": "stream",
          "text": [
            "[Sanity] step 535: gen mean=-0.4745, std=0.5537, probe_RMSE=0.063594\n"
          ]
        },
        {
          "name": "stderr",
          "output_type": "stream",
          "text": [
            "\n",
            "\u001b[A\n",
            "\u001b[A\n",
            "\u001b[A"
          ]
        },
        {
          "name": "stdout",
          "output_type": "stream",
          "text": [
            "[Sanity] step 540: gen mean=-0.4208, std=0.6052, probe_RMSE=0.108256\n"
          ]
        },
        {
          "name": "stderr",
          "output_type": "stream",
          "text": [
            "\n",
            "\u001b[A\n",
            "\u001b[A"
          ]
        },
        {
          "name": "stdout",
          "output_type": "stream",
          "text": [
            "[Sanity] step 545: gen mean=-0.3450, std=0.6904, probe_RMSE=0.110645\n"
          ]
        },
        {
          "name": "stderr",
          "output_type": "stream",
          "text": [
            "\n",
            "\u001b[A\n",
            "\u001b[A\n",
            "\u001b[A"
          ]
        },
        {
          "name": "stdout",
          "output_type": "stream",
          "text": [
            "[Sanity] step 550: gen mean=-0.2643, std=0.7390, probe_RMSE=0.107321\n"
          ]
        },
        {
          "name": "stderr",
          "output_type": "stream",
          "text": [
            "\n",
            "\u001b[A\n",
            "\u001b[A"
          ]
        },
        {
          "name": "stdout",
          "output_type": "stream",
          "text": [
            "[Sanity] step 555: gen mean=-0.2527, std=0.7427, probe_RMSE=0.052987\n"
          ]
        },
        {
          "name": "stderr",
          "output_type": "stream",
          "text": [
            "\n",
            "\u001b[A\n",
            "\u001b[A\n",
            "\u001b[A"
          ]
        },
        {
          "name": "stdout",
          "output_type": "stream",
          "text": [
            "[Sanity] step 560: gen mean=-0.2619, std=0.7312, probe_RMSE=0.055082\n"
          ]
        },
        {
          "name": "stderr",
          "output_type": "stream",
          "text": [
            "\n",
            "\u001b[A\n",
            "\u001b[A\n",
            "\n"
          ]
        },
        {
          "name": "stdout",
          "output_type": "stream",
          "text": [
            "[Sanity] step 565: gen mean=-0.2972, std=0.7186, probe_RMSE=0.071115\n"
          ]
        },
        {
          "name": "stderr",
          "output_type": "stream",
          "text": [
            "iter:  38%|███▊      | 569/1500 [00:46<01:10, 13.14it/s]\u001b[A\u001b[A\n",
            "\u001b[A\n",
            "\u001b[A"
          ]
        },
        {
          "name": "stdout",
          "output_type": "stream",
          "text": [
            "[Sanity] step 570: gen mean=-0.3229, std=0.6870, probe_RMSE=0.052477\n"
          ]
        },
        {
          "name": "stderr",
          "output_type": "stream",
          "text": [
            "\n",
            "\u001b[A\n",
            "\u001b[A"
          ]
        },
        {
          "name": "stdout",
          "output_type": "stream",
          "text": [
            "[Sanity] step 575: gen mean=-0.3542, std=0.6535, probe_RMSE=0.083277\n"
          ]
        },
        {
          "name": "stderr",
          "output_type": "stream",
          "text": [
            "\n",
            "\u001b[A\n",
            "\u001b[A\n",
            "\u001b[A"
          ]
        },
        {
          "name": "stdout",
          "output_type": "stream",
          "text": [
            "[Sanity] step 580: gen mean=-0.3766, std=0.6292, probe_RMSE=0.041130\n"
          ]
        },
        {
          "name": "stderr",
          "output_type": "stream",
          "text": [
            "\n",
            "\u001b[A\n",
            "\u001b[A"
          ]
        },
        {
          "name": "stdout",
          "output_type": "stream",
          "text": [
            "[Sanity] step 585: gen mean=-0.3916, std=0.6158, probe_RMSE=0.047473\n"
          ]
        },
        {
          "name": "stderr",
          "output_type": "stream",
          "text": [
            "\n",
            "\u001b[A\n",
            "\u001b[A\n",
            "\u001b[A"
          ]
        },
        {
          "name": "stdout",
          "output_type": "stream",
          "text": [
            "[Sanity] step 590: gen mean=-0.4043, std=0.5973, probe_RMSE=0.041083\n"
          ]
        },
        {
          "name": "stderr",
          "output_type": "stream",
          "text": [
            "\n",
            "\u001b[A\n",
            "\u001b[A"
          ]
        },
        {
          "name": "stdout",
          "output_type": "stream",
          "text": [
            "[Sanity] step 595: gen mean=-0.3776, std=0.5946, probe_RMSE=0.048943\n"
          ]
        },
        {
          "name": "stderr",
          "output_type": "stream",
          "text": [
            "\n",
            "\u001b[A\n",
            "\u001b[A"
          ]
        },
        {
          "name": "stdout",
          "output_type": "stream",
          "text": [
            "[Sanity] step 600: gen mean=-0.3740, std=0.5996, probe_RMSE=0.049583\n"
          ]
        },
        {
          "name": "stderr",
          "output_type": "stream",
          "text": [
            "\n",
            "\u001b[A\n",
            "\u001b[A\n",
            "\u001b[A"
          ]
        },
        {
          "name": "stdout",
          "output_type": "stream",
          "text": [
            "[Sanity] step 605: gen mean=-0.3516, std=0.5928, probe_RMSE=0.043357\n"
          ]
        },
        {
          "name": "stderr",
          "output_type": "stream",
          "text": [
            "\n",
            "\u001b[A\n",
            "\u001b[A\n",
            "\u001b[A"
          ]
        },
        {
          "name": "stdout",
          "output_type": "stream",
          "text": [
            "[Sanity] step 610: gen mean=-0.3483, std=0.5992, probe_RMSE=0.035323\n"
          ]
        },
        {
          "name": "stderr",
          "output_type": "stream",
          "text": [
            "\n",
            "\u001b[A\n",
            "\u001b[A"
          ]
        },
        {
          "name": "stdout",
          "output_type": "stream",
          "text": [
            "[Sanity] step 615: gen mean=-0.3458, std=0.5902, probe_RMSE=0.030977\n"
          ]
        },
        {
          "name": "stderr",
          "output_type": "stream",
          "text": [
            "\n",
            "\u001b[A\n",
            "\u001b[A\n",
            "\u001b[A"
          ]
        },
        {
          "name": "stdout",
          "output_type": "stream",
          "text": [
            "[Sanity] step 620: gen mean=-0.3591, std=0.5920, probe_RMSE=0.033317\n"
          ]
        },
        {
          "name": "stderr",
          "output_type": "stream",
          "text": [
            "\n",
            "\u001b[A\n",
            "\u001b[A"
          ]
        },
        {
          "name": "stdout",
          "output_type": "stream",
          "text": [
            "[Sanity] step 625: gen mean=-0.3621, std=0.6000, probe_RMSE=0.030730\n"
          ]
        },
        {
          "name": "stderr",
          "output_type": "stream",
          "text": [
            "\n",
            "\u001b[A\n",
            "\u001b[A\n",
            "\u001b[A"
          ]
        },
        {
          "name": "stdout",
          "output_type": "stream",
          "text": [
            "[Sanity] step 630: gen mean=-0.3643, std=0.5955, probe_RMSE=0.037405\n"
          ]
        },
        {
          "name": "stderr",
          "output_type": "stream",
          "text": [
            "\n",
            "\u001b[A\n",
            "\u001b[A"
          ]
        },
        {
          "name": "stdout",
          "output_type": "stream",
          "text": [
            "[Sanity] step 635: gen mean=-0.3694, std=0.5996, probe_RMSE=0.040081\n"
          ]
        },
        {
          "name": "stderr",
          "output_type": "stream",
          "text": [
            "\n",
            "\u001b[A\n",
            "\u001b[A\n",
            "\u001b[A"
          ]
        },
        {
          "name": "stdout",
          "output_type": "stream",
          "text": [
            "[Sanity] step 640: gen mean=-0.3608, std=0.6056, probe_RMSE=0.049865\n"
          ]
        },
        {
          "name": "stderr",
          "output_type": "stream",
          "text": [
            "\n",
            "\u001b[A\n",
            "\u001b[A"
          ]
        },
        {
          "name": "stdout",
          "output_type": "stream",
          "text": [
            "[Sanity] step 645: gen mean=-0.3316, std=0.6295, probe_RMSE=0.045379\n"
          ]
        },
        {
          "name": "stderr",
          "output_type": "stream",
          "text": [
            "\n",
            "\u001b[A\n",
            "\u001b[A\n",
            "\u001b[A"
          ]
        },
        {
          "name": "stdout",
          "output_type": "stream",
          "text": [
            "[Sanity] step 650: gen mean=-0.3404, std=0.6367, probe_RMSE=0.035415\n"
          ]
        },
        {
          "name": "stderr",
          "output_type": "stream",
          "text": [
            "\n",
            "\u001b[A\n",
            "\u001b[A\n",
            "\n"
          ]
        },
        {
          "name": "stdout",
          "output_type": "stream",
          "text": [
            "[Sanity] step 655: gen mean=-0.3562, std=0.6222, probe_RMSE=0.030065\n"
          ]
        },
        {
          "name": "stderr",
          "output_type": "stream",
          "text": [
            "iter:  44%|████▍     | 659/1500 [00:53<01:03, 13.15it/s]\u001b[A\u001b[A\n",
            "\u001b[A\n",
            "\u001b[A"
          ]
        },
        {
          "name": "stdout",
          "output_type": "stream",
          "text": [
            "[Sanity] step 660: gen mean=-0.3592, std=0.6316, probe_RMSE=0.031536\n"
          ]
        },
        {
          "name": "stderr",
          "output_type": "stream",
          "text": [
            "\n",
            "\u001b[A\n",
            "\u001b[A"
          ]
        },
        {
          "name": "stdout",
          "output_type": "stream",
          "text": [
            "[Sanity] step 665: gen mean=-0.3645, std=0.6308, probe_RMSE=0.031212\n"
          ]
        },
        {
          "name": "stderr",
          "output_type": "stream",
          "text": [
            "\n",
            "\u001b[A\n",
            "\u001b[A\n",
            "\u001b[A"
          ]
        },
        {
          "name": "stdout",
          "output_type": "stream",
          "text": [
            "[Sanity] step 670: gen mean=-0.3457, std=0.6410, probe_RMSE=0.050242\n"
          ]
        },
        {
          "name": "stderr",
          "output_type": "stream",
          "text": [
            "\n",
            "\u001b[A\n",
            "\u001b[A"
          ]
        },
        {
          "name": "stdout",
          "output_type": "stream",
          "text": [
            "[Sanity] step 675: gen mean=-0.3193, std=0.6677, probe_RMSE=0.049985\n"
          ]
        },
        {
          "name": "stderr",
          "output_type": "stream",
          "text": [
            "\n",
            "\u001b[A\n",
            "\u001b[A\n",
            "\u001b[A"
          ]
        },
        {
          "name": "stdout",
          "output_type": "stream",
          "text": [
            "[Sanity] step 680: gen mean=-0.2894, std=0.6907, probe_RMSE=0.063451\n"
          ]
        },
        {
          "name": "stderr",
          "output_type": "stream",
          "text": [
            "\n",
            "\u001b[A\n",
            "\u001b[A"
          ]
        },
        {
          "name": "stdout",
          "output_type": "stream",
          "text": [
            "[Sanity] step 685: gen mean=-0.2617, std=0.6994, probe_RMSE=0.077021\n"
          ]
        },
        {
          "name": "stderr",
          "output_type": "stream",
          "text": [
            "\n",
            "\u001b[A\n",
            "\u001b[A\n",
            "\u001b[A"
          ]
        },
        {
          "name": "stdout",
          "output_type": "stream",
          "text": [
            "[Sanity] step 690: gen mean=-0.2695, std=0.6911, probe_RMSE=0.067291\n"
          ]
        },
        {
          "name": "stderr",
          "output_type": "stream",
          "text": [
            "\n",
            "\u001b[A\n",
            "\u001b[A"
          ]
        },
        {
          "name": "stdout",
          "output_type": "stream",
          "text": [
            "[Sanity] step 695: gen mean=-0.2844, std=0.6926, probe_RMSE=0.051393\n"
          ]
        },
        {
          "name": "stderr",
          "output_type": "stream",
          "text": [
            "\n",
            "\u001b[A\n",
            "\u001b[A\n",
            "\u001b[A"
          ]
        },
        {
          "name": "stdout",
          "output_type": "stream",
          "text": [
            "[Sanity] step 700: gen mean=-0.3217, std=0.6538, probe_RMSE=0.082479\n"
          ]
        },
        {
          "name": "stderr",
          "output_type": "stream",
          "text": [
            "\n",
            "\u001b[A\n",
            "\u001b[A"
          ]
        },
        {
          "name": "stdout",
          "output_type": "stream",
          "text": [
            "[Sanity] step 705: gen mean=-0.3893, std=0.5993, probe_RMSE=0.094588\n"
          ]
        },
        {
          "name": "stderr",
          "output_type": "stream",
          "text": [
            "\n",
            "\u001b[A\n",
            "\u001b[A\n",
            "\u001b[A"
          ]
        },
        {
          "name": "stdout",
          "output_type": "stream",
          "text": [
            "[Sanity] step 710: gen mean=-0.4491, std=0.5508, probe_RMSE=0.084839\n"
          ]
        },
        {
          "name": "stderr",
          "output_type": "stream",
          "text": [
            "\n",
            "\u001b[A\n",
            "\u001b[A"
          ]
        },
        {
          "name": "stdout",
          "output_type": "stream",
          "text": [
            "[Sanity] step 715: gen mean=-0.4860, std=0.5334, probe_RMSE=0.046146\n"
          ]
        },
        {
          "name": "stderr",
          "output_type": "stream",
          "text": [
            "\n",
            "\u001b[A\n",
            "\u001b[A\n",
            "\u001b[A"
          ]
        },
        {
          "name": "stdout",
          "output_type": "stream",
          "text": [
            "[Sanity] step 720: gen mean=-0.4789, std=0.5323, probe_RMSE=0.036008\n"
          ]
        },
        {
          "name": "stderr",
          "output_type": "stream",
          "text": [
            "\n",
            "\u001b[A\n",
            "\u001b[A"
          ]
        },
        {
          "name": "stdout",
          "output_type": "stream",
          "text": [
            "[Sanity] step 725: gen mean=-0.4403, std=0.5598, probe_RMSE=0.054319\n"
          ]
        },
        {
          "name": "stderr",
          "output_type": "stream",
          "text": [
            "\n",
            "\u001b[A\n",
            "\u001b[A\n",
            "\u001b[A"
          ]
        },
        {
          "name": "stdout",
          "output_type": "stream",
          "text": [
            "[Sanity] step 730: gen mean=-0.3894, std=0.6079, probe_RMSE=0.098830\n"
          ]
        },
        {
          "name": "stderr",
          "output_type": "stream",
          "text": [
            "\n",
            "\u001b[A\n",
            "\u001b[A\n",
            "\n"
          ]
        },
        {
          "name": "stdout",
          "output_type": "stream",
          "text": [
            "[Sanity] step 735: gen mean=-0.3346, std=0.6525, probe_RMSE=0.082228\n"
          ]
        },
        {
          "name": "stderr",
          "output_type": "stream",
          "text": [
            "iter:  49%|████▉     | 739/1500 [00:59<00:58, 12.98it/s]\u001b[A\u001b[A\n",
            "\u001b[A\n",
            "\u001b[A"
          ]
        },
        {
          "name": "stdout",
          "output_type": "stream",
          "text": [
            "[Sanity] step 740: gen mean=-0.2927, std=0.6610, probe_RMSE=0.065819\n"
          ]
        },
        {
          "name": "stderr",
          "output_type": "stream",
          "text": [
            "\n",
            "\u001b[A\n",
            "\u001b[A"
          ]
        },
        {
          "name": "stdout",
          "output_type": "stream",
          "text": [
            "[Sanity] step 745: gen mean=-0.2384, std=0.7043, probe_RMSE=0.082672\n"
          ]
        },
        {
          "name": "stderr",
          "output_type": "stream",
          "text": [
            "\n",
            "\u001b[A\n",
            "\u001b[A\n",
            "\u001b[A"
          ]
        },
        {
          "name": "stdout",
          "output_type": "stream",
          "text": [
            "[Sanity] step 750: gen mean=-0.2063, std=0.7149, probe_RMSE=0.059847\n"
          ]
        },
        {
          "name": "stderr",
          "output_type": "stream",
          "text": [
            "\n",
            "\u001b[A\n",
            "\u001b[A"
          ]
        },
        {
          "name": "stdout",
          "output_type": "stream",
          "text": [
            "[Sanity] step 755: gen mean=-0.1982, std=0.7268, probe_RMSE=0.053902\n"
          ]
        },
        {
          "name": "stderr",
          "output_type": "stream",
          "text": [
            "\n",
            "\u001b[A\n",
            "\u001b[A\n",
            "\u001b[A"
          ]
        },
        {
          "name": "stdout",
          "output_type": "stream",
          "text": [
            "[Sanity] step 760: gen mean=-0.2485, std=0.6972, probe_RMSE=0.064035\n"
          ]
        },
        {
          "name": "stderr",
          "output_type": "stream",
          "text": [
            "\n",
            "\u001b[A\n",
            "\u001b[A"
          ]
        },
        {
          "name": "stdout",
          "output_type": "stream",
          "text": [
            "[Sanity] step 765: gen mean=-0.2897, std=0.6796, probe_RMSE=0.083498\n"
          ]
        },
        {
          "name": "stderr",
          "output_type": "stream",
          "text": [
            "\n",
            "\u001b[A\n",
            "\u001b[A\n",
            "\u001b[A"
          ]
        },
        {
          "name": "stdout",
          "output_type": "stream",
          "text": [
            "[Sanity] step 770: gen mean=-0.3337, std=0.6296, probe_RMSE=0.071721\n"
          ]
        },
        {
          "name": "stderr",
          "output_type": "stream",
          "text": [
            "\n",
            "\u001b[A\n",
            "\u001b[A"
          ]
        },
        {
          "name": "stdout",
          "output_type": "stream",
          "text": [
            "[Sanity] step 775: gen mean=-0.3773, std=0.5981, probe_RMSE=0.056996\n"
          ]
        },
        {
          "name": "stderr",
          "output_type": "stream",
          "text": [
            "\n",
            "\u001b[A\n",
            "\u001b[A\n",
            "\u001b[A"
          ]
        },
        {
          "name": "stdout",
          "output_type": "stream",
          "text": [
            "[Sanity] step 780: gen mean=-0.3884, std=0.5990, probe_RMSE=0.028508\n"
          ]
        },
        {
          "name": "stderr",
          "output_type": "stream",
          "text": [
            "\n",
            "\u001b[A\n",
            "\u001b[A"
          ]
        },
        {
          "name": "stdout",
          "output_type": "stream",
          "text": [
            "[Sanity] step 785: gen mean=-0.3626, std=0.6160, probe_RMSE=0.060705\n"
          ]
        },
        {
          "name": "stderr",
          "output_type": "stream",
          "text": [
            "\n",
            "\u001b[A\n",
            "\u001b[A\n",
            "\u001b[A"
          ]
        },
        {
          "name": "stdout",
          "output_type": "stream",
          "text": [
            "[Sanity] step 790: gen mean=-0.3019, std=0.6697, probe_RMSE=0.081172\n"
          ]
        },
        {
          "name": "stderr",
          "output_type": "stream",
          "text": [
            "\n",
            "\u001b[A\n",
            "\u001b[A"
          ]
        },
        {
          "name": "stdout",
          "output_type": "stream",
          "text": [
            "[Sanity] step 795: gen mean=-0.2891, std=0.6810, probe_RMSE=0.058602\n"
          ]
        },
        {
          "name": "stderr",
          "output_type": "stream",
          "text": [
            "\n",
            "\u001b[A\n",
            "\u001b[A\n",
            "\u001b[A"
          ]
        },
        {
          "name": "stdout",
          "output_type": "stream",
          "text": [
            "[Sanity] step 800: gen mean=-0.2838, std=0.6879, probe_RMSE=0.052950\n"
          ]
        },
        {
          "name": "stderr",
          "output_type": "stream",
          "text": [
            "\n",
            "\u001b[A\n",
            "\u001b[A"
          ]
        },
        {
          "name": "stdout",
          "output_type": "stream",
          "text": [
            "[Sanity] step 805: gen mean=-0.2934, std=0.6930, probe_RMSE=0.062537\n"
          ]
        },
        {
          "name": "stderr",
          "output_type": "stream",
          "text": [
            "\n",
            "\u001b[A\n",
            "\u001b[A\n",
            "\u001b[A"
          ]
        },
        {
          "name": "stdout",
          "output_type": "stream",
          "text": [
            "[Sanity] step 810: gen mean=-0.3070, std=0.6922, probe_RMSE=0.068563\n"
          ]
        },
        {
          "name": "stderr",
          "output_type": "stream",
          "text": [
            "\n",
            "\u001b[A\n",
            "\u001b[A"
          ]
        },
        {
          "name": "stdout",
          "output_type": "stream",
          "text": [
            "[Sanity] step 815: gen mean=-0.3083, std=0.6995, probe_RMSE=0.067991\n"
          ]
        },
        {
          "name": "stderr",
          "output_type": "stream",
          "text": [
            "\n",
            "\u001b[A\n",
            "\u001b[A\n",
            "\u001b[A"
          ]
        },
        {
          "name": "stdout",
          "output_type": "stream",
          "text": [
            "[Sanity] step 820: gen mean=-0.3106, std=0.7066, probe_RMSE=0.069176\n"
          ]
        },
        {
          "name": "stderr",
          "output_type": "stream",
          "text": [
            "\n",
            "\u001b[A\n",
            "\u001b[A"
          ]
        },
        {
          "name": "stdout",
          "output_type": "stream",
          "text": [
            "[Sanity] step 825: gen mean=-0.3176, std=0.6951, probe_RMSE=0.062618\n"
          ]
        },
        {
          "name": "stderr",
          "output_type": "stream",
          "text": [
            "\n",
            "\u001b[A\n",
            "\u001b[A\n",
            "\u001b[A"
          ]
        },
        {
          "name": "stdout",
          "output_type": "stream",
          "text": [
            "[Sanity] step 830: gen mean=-0.3005, std=0.7134, probe_RMSE=0.053209\n"
          ]
        },
        {
          "name": "stderr",
          "output_type": "stream",
          "text": [
            "\n",
            "\u001b[A\n",
            "\u001b[A"
          ]
        },
        {
          "name": "stdout",
          "output_type": "stream",
          "text": [
            "[Sanity] step 835: gen mean=-0.3194, std=0.7118, probe_RMSE=0.049880\n"
          ]
        },
        {
          "name": "stderr",
          "output_type": "stream",
          "text": [
            "\n",
            "\u001b[A\n",
            "\u001b[A\n",
            "\u001b[A"
          ]
        },
        {
          "name": "stdout",
          "output_type": "stream",
          "text": [
            "[Sanity] step 840: gen mean=-0.3123, std=0.7074, probe_RMSE=0.051059\n"
          ]
        },
        {
          "name": "stderr",
          "output_type": "stream",
          "text": [
            "\n",
            "\u001b[A\n",
            "\u001b[A"
          ]
        },
        {
          "name": "stdout",
          "output_type": "stream",
          "text": [
            "[Sanity] step 845: gen mean=-0.3255, std=0.6831, probe_RMSE=0.048925\n"
          ]
        },
        {
          "name": "stderr",
          "output_type": "stream",
          "text": [
            "\n",
            "\u001b[A\n",
            "\u001b[A\n",
            "\u001b[A"
          ]
        },
        {
          "name": "stdout",
          "output_type": "stream",
          "text": [
            "[Sanity] step 850: gen mean=-0.3463, std=0.6754, probe_RMSE=0.049756\n"
          ]
        },
        {
          "name": "stderr",
          "output_type": "stream",
          "text": [
            "\n",
            "\u001b[A\n",
            "\u001b[A"
          ]
        },
        {
          "name": "stdout",
          "output_type": "stream",
          "text": [
            "[Sanity] step 855: gen mean=-0.3493, std=0.6610, probe_RMSE=0.046031\n"
          ]
        },
        {
          "name": "stderr",
          "output_type": "stream",
          "text": [
            "\n",
            "\u001b[A\n",
            "\u001b[A\n",
            "\u001b[A"
          ]
        },
        {
          "name": "stdout",
          "output_type": "stream",
          "text": [
            "[Sanity] step 860: gen mean=-0.3879, std=0.6411, probe_RMSE=0.055024\n"
          ]
        },
        {
          "name": "stderr",
          "output_type": "stream",
          "text": [
            "\n",
            "\u001b[A\n",
            "\u001b[A"
          ]
        },
        {
          "name": "stdout",
          "output_type": "stream",
          "text": [
            "[Sanity] step 865: gen mean=-0.4026, std=0.6311, probe_RMSE=0.041901\n"
          ]
        },
        {
          "name": "stderr",
          "output_type": "stream",
          "text": [
            "\n",
            "\u001b[A\n",
            "\u001b[A\n",
            "\u001b[A"
          ]
        },
        {
          "name": "stdout",
          "output_type": "stream",
          "text": [
            "[Sanity] step 870: gen mean=-0.4282, std=0.6263, probe_RMSE=0.037665\n"
          ]
        },
        {
          "name": "stderr",
          "output_type": "stream",
          "text": [
            "\n",
            "\u001b[A\n",
            "\u001b[A"
          ]
        },
        {
          "name": "stdout",
          "output_type": "stream",
          "text": [
            "[Sanity] step 875: gen mean=-0.4297, std=0.6197, probe_RMSE=0.040389\n"
          ]
        },
        {
          "name": "stderr",
          "output_type": "stream",
          "text": [
            "\n",
            "\u001b[A\n",
            "\u001b[A\n",
            "\u001b[A"
          ]
        },
        {
          "name": "stdout",
          "output_type": "stream",
          "text": [
            "[Sanity] step 880: gen mean=-0.4484, std=0.5976, probe_RMSE=0.036864\n"
          ]
        },
        {
          "name": "stderr",
          "output_type": "stream",
          "text": [
            "\n",
            "\u001b[A\n",
            "\u001b[A"
          ]
        },
        {
          "name": "stdout",
          "output_type": "stream",
          "text": [
            "[Sanity] step 885: gen mean=-0.4420, std=0.6119, probe_RMSE=0.043485\n"
          ]
        },
        {
          "name": "stderr",
          "output_type": "stream",
          "text": [
            "\n",
            "\u001b[A\n",
            "\u001b[A\n",
            "\u001b[A"
          ]
        },
        {
          "name": "stdout",
          "output_type": "stream",
          "text": [
            "[Sanity] step 890: gen mean=-0.4092, std=0.6259, probe_RMSE=0.067822\n"
          ]
        },
        {
          "name": "stderr",
          "output_type": "stream",
          "text": [
            "\n",
            "\u001b[A\n",
            "\u001b[A"
          ]
        },
        {
          "name": "stdout",
          "output_type": "stream",
          "text": [
            "[Sanity] step 895: gen mean=-0.3597, std=0.6641, probe_RMSE=0.094637\n"
          ]
        },
        {
          "name": "stderr",
          "output_type": "stream",
          "text": [
            "\n",
            "\u001b[A\n",
            "\u001b[A\n",
            "\u001b[A"
          ]
        },
        {
          "name": "stdout",
          "output_type": "stream",
          "text": [
            "[Sanity] step 900: gen mean=-0.3078, std=0.6832, probe_RMSE=0.069662\n"
          ]
        },
        {
          "name": "stderr",
          "output_type": "stream",
          "text": [
            "\n",
            "\u001b[A\n",
            "\u001b[A"
          ]
        },
        {
          "name": "stdout",
          "output_type": "stream",
          "text": [
            "[Sanity] step 905: gen mean=-0.2835, std=0.6940, probe_RMSE=0.074254\n"
          ]
        },
        {
          "name": "stderr",
          "output_type": "stream",
          "text": [
            "\n",
            "\u001b[A\n",
            "\u001b[A\n",
            "\u001b[A"
          ]
        },
        {
          "name": "stdout",
          "output_type": "stream",
          "text": [
            "[Sanity] step 910: gen mean=-0.2513, std=0.7102, probe_RMSE=0.061554\n"
          ]
        },
        {
          "name": "stderr",
          "output_type": "stream",
          "text": [
            "\n",
            "\u001b[A\n",
            "\u001b[A"
          ]
        },
        {
          "name": "stdout",
          "output_type": "stream",
          "text": [
            "[Sanity] step 915: gen mean=-0.2439, std=0.7042, probe_RMSE=0.050044\n"
          ]
        },
        {
          "name": "stderr",
          "output_type": "stream",
          "text": [
            "\n",
            "\u001b[A\n",
            "\u001b[A\n",
            "\u001b[A"
          ]
        },
        {
          "name": "stdout",
          "output_type": "stream",
          "text": [
            "[Sanity] step 920: gen mean=-0.2741, std=0.6877, probe_RMSE=0.060839\n"
          ]
        },
        {
          "name": "stderr",
          "output_type": "stream",
          "text": [
            "\n",
            "\u001b[A\n",
            "\u001b[A"
          ]
        },
        {
          "name": "stdout",
          "output_type": "stream",
          "text": [
            "[Sanity] step 925: gen mean=-0.3541, std=0.5913, probe_RMSE=0.145626\n"
          ]
        },
        {
          "name": "stderr",
          "output_type": "stream",
          "text": [
            "\n",
            "\u001b[A\n",
            "\u001b[A\n",
            "\u001b[A"
          ]
        },
        {
          "name": "stdout",
          "output_type": "stream",
          "text": [
            "[Sanity] step 930: gen mean=-0.4178, std=0.5529, probe_RMSE=0.074165\n"
          ]
        },
        {
          "name": "stderr",
          "output_type": "stream",
          "text": [
            "\n",
            "\u001b[A\n",
            "\u001b[A"
          ]
        },
        {
          "name": "stdout",
          "output_type": "stream",
          "text": [
            "[Sanity] step 935: gen mean=-0.4418, std=0.5489, probe_RMSE=0.030797\n"
          ]
        },
        {
          "name": "stderr",
          "output_type": "stream",
          "text": [
            "\n",
            "\u001b[A\n",
            "\u001b[A\n",
            "\u001b[A"
          ]
        },
        {
          "name": "stdout",
          "output_type": "stream",
          "text": [
            "[Sanity] step 940: gen mean=-0.4559, std=0.5451, probe_RMSE=0.029969\n"
          ]
        },
        {
          "name": "stderr",
          "output_type": "stream",
          "text": [
            "\n",
            "\u001b[A\n",
            "\u001b[A"
          ]
        },
        {
          "name": "stdout",
          "output_type": "stream",
          "text": [
            "[Sanity] step 945: gen mean=-0.4535, std=0.5612, probe_RMSE=0.036769\n"
          ]
        },
        {
          "name": "stderr",
          "output_type": "stream",
          "text": [
            "\n",
            "\u001b[A\n",
            "\u001b[A\n",
            "\u001b[A"
          ]
        },
        {
          "name": "stdout",
          "output_type": "stream",
          "text": [
            "[Sanity] step 950: gen mean=-0.4232, std=0.5819, probe_RMSE=0.062716\n"
          ]
        },
        {
          "name": "stderr",
          "output_type": "stream",
          "text": [
            "\n",
            "\u001b[A\n",
            "\u001b[A"
          ]
        },
        {
          "name": "stdout",
          "output_type": "stream",
          "text": [
            "[Sanity] step 955: gen mean=-0.3691, std=0.6344, probe_RMSE=0.082135\n"
          ]
        },
        {
          "name": "stderr",
          "output_type": "stream",
          "text": [
            "\n",
            "\u001b[A\n",
            "\u001b[A\n",
            "\u001b[A"
          ]
        },
        {
          "name": "stdout",
          "output_type": "stream",
          "text": [
            "[Sanity] step 960: gen mean=-0.3024, std=0.7027, probe_RMSE=0.117622\n"
          ]
        },
        {
          "name": "stderr",
          "output_type": "stream",
          "text": [
            "\n",
            "\u001b[A\n",
            "\u001b[A"
          ]
        },
        {
          "name": "stdout",
          "output_type": "stream",
          "text": [
            "[Sanity] step 965: gen mean=-0.2685, std=0.7262, probe_RMSE=0.055501\n"
          ]
        },
        {
          "name": "stderr",
          "output_type": "stream",
          "text": [
            "\n",
            "\u001b[A\n",
            "\u001b[A\n",
            "\u001b[A"
          ]
        },
        {
          "name": "stdout",
          "output_type": "stream",
          "text": [
            "[Sanity] step 970: gen mean=-0.2550, std=0.7405, probe_RMSE=0.043838\n"
          ]
        },
        {
          "name": "stderr",
          "output_type": "stream",
          "text": [
            "\n",
            "\u001b[A\n",
            "\u001b[A"
          ]
        },
        {
          "name": "stdout",
          "output_type": "stream",
          "text": [
            "[Sanity] step 975: gen mean=-0.2865, std=0.7304, probe_RMSE=0.057915\n"
          ]
        },
        {
          "name": "stderr",
          "output_type": "stream",
          "text": [
            "\n",
            "\u001b[A\n",
            "\u001b[A\n",
            "\u001b[A"
          ]
        },
        {
          "name": "stdout",
          "output_type": "stream",
          "text": [
            "[Sanity] step 980: gen mean=-0.3071, std=0.7001, probe_RMSE=0.046012\n"
          ]
        },
        {
          "name": "stderr",
          "output_type": "stream",
          "text": [
            "\n",
            "\u001b[A\n",
            "\u001b[A"
          ]
        },
        {
          "name": "stdout",
          "output_type": "stream",
          "text": [
            "[Sanity] step 985: gen mean=-0.3475, std=0.6599, probe_RMSE=0.073210\n"
          ]
        },
        {
          "name": "stderr",
          "output_type": "stream",
          "text": [
            "\n",
            "\u001b[A\n",
            "\u001b[A\n",
            "\u001b[A"
          ]
        },
        {
          "name": "stdout",
          "output_type": "stream",
          "text": [
            "[Sanity] step 990: gen mean=-0.3770, std=0.6231, probe_RMSE=0.053093\n"
          ]
        },
        {
          "name": "stderr",
          "output_type": "stream",
          "text": [
            "\n",
            "\u001b[A\n",
            "\u001b[A"
          ]
        },
        {
          "name": "stdout",
          "output_type": "stream",
          "text": [
            "[Sanity] step 995: gen mean=-0.4127, std=0.6172, probe_RMSE=0.043975\n"
          ]
        },
        {
          "name": "stderr",
          "output_type": "stream",
          "text": [
            "\n",
            "\u001b[A\n",
            "\u001b[A\n",
            "\u001b[A"
          ]
        },
        {
          "name": "stdout",
          "output_type": "stream",
          "text": [
            "[Sanity] step 1000: gen mean=-0.4337, std=0.5951, probe_RMSE=0.046032\n"
          ]
        },
        {
          "name": "stderr",
          "output_type": "stream",
          "text": [
            "\n",
            "\u001b[A\n",
            "\u001b[A"
          ]
        },
        {
          "name": "stdout",
          "output_type": "stream",
          "text": [
            "[Sanity] step 1005: gen mean=-0.4550, std=0.5705, probe_RMSE=0.034119\n"
          ]
        },
        {
          "name": "stderr",
          "output_type": "stream",
          "text": [
            "\n",
            "\u001b[A\n",
            "\u001b[A\n",
            "\u001b[A"
          ]
        },
        {
          "name": "stdout",
          "output_type": "stream",
          "text": [
            "[Sanity] step 1010: gen mean=-0.4701, std=0.5626, probe_RMSE=0.035519\n"
          ]
        },
        {
          "name": "stderr",
          "output_type": "stream",
          "text": [
            "\n",
            "\u001b[A\n",
            "\u001b[A"
          ]
        },
        {
          "name": "stdout",
          "output_type": "stream",
          "text": [
            "[Sanity] step 1015: gen mean=-0.4911, std=0.5440, probe_RMSE=0.024593\n"
          ]
        },
        {
          "name": "stderr",
          "output_type": "stream",
          "text": [
            "\n",
            "\u001b[A\n",
            "\u001b[A\n",
            "\u001b[A"
          ]
        },
        {
          "name": "stdout",
          "output_type": "stream",
          "text": [
            "[Sanity] step 1020: gen mean=-0.4758, std=0.5514, probe_RMSE=0.031759\n"
          ]
        },
        {
          "name": "stderr",
          "output_type": "stream",
          "text": [
            "\n",
            "\u001b[A\n",
            "\u001b[A"
          ]
        },
        {
          "name": "stdout",
          "output_type": "stream",
          "text": [
            "[Sanity] step 1025: gen mean=-0.4552, std=0.5606, probe_RMSE=0.033091\n"
          ]
        },
        {
          "name": "stderr",
          "output_type": "stream",
          "text": [
            "\n",
            "\u001b[A\n",
            "\u001b[A\n",
            "\u001b[A"
          ]
        },
        {
          "name": "stdout",
          "output_type": "stream",
          "text": [
            "[Sanity] step 1030: gen mean=-0.4489, std=0.5618, probe_RMSE=0.037431\n"
          ]
        },
        {
          "name": "stderr",
          "output_type": "stream",
          "text": [
            "\n",
            "\u001b[A\n",
            "\u001b[A"
          ]
        },
        {
          "name": "stdout",
          "output_type": "stream",
          "text": [
            "[Sanity] step 1035: gen mean=-0.4231, std=0.5826, probe_RMSE=0.038394\n"
          ]
        },
        {
          "name": "stderr",
          "output_type": "stream",
          "text": [
            "\n",
            "\u001b[A\n",
            "\u001b[A\n",
            "\u001b[A"
          ]
        },
        {
          "name": "stdout",
          "output_type": "stream",
          "text": [
            "[Sanity] step 1040: gen mean=-0.3957, std=0.6010, probe_RMSE=0.047948\n"
          ]
        },
        {
          "name": "stderr",
          "output_type": "stream",
          "text": [
            "\n",
            "\u001b[A\n",
            "\u001b[A"
          ]
        },
        {
          "name": "stdout",
          "output_type": "stream",
          "text": [
            "[Sanity] step 1045: gen mean=-0.3621, std=0.6209, probe_RMSE=0.059281\n"
          ]
        },
        {
          "name": "stderr",
          "output_type": "stream",
          "text": [
            "\n",
            "\u001b[A\n",
            "\u001b[A\n",
            "\u001b[A"
          ]
        },
        {
          "name": "stdout",
          "output_type": "stream",
          "text": [
            "[Sanity] step 1050: gen mean=-0.3187, std=0.6531, probe_RMSE=0.077546\n"
          ]
        },
        {
          "name": "stderr",
          "output_type": "stream",
          "text": [
            "\n",
            "\u001b[A\n",
            "\u001b[A"
          ]
        },
        {
          "name": "stdout",
          "output_type": "stream",
          "text": [
            "[Sanity] step 1055: gen mean=-0.2830, std=0.6747, probe_RMSE=0.062247\n"
          ]
        },
        {
          "name": "stderr",
          "output_type": "stream",
          "text": [
            "\n",
            "\u001b[A\n",
            "\u001b[A\n",
            "\u001b[A"
          ]
        },
        {
          "name": "stdout",
          "output_type": "stream",
          "text": [
            "[Sanity] step 1060: gen mean=-0.2513, std=0.6927, probe_RMSE=0.051589\n"
          ]
        },
        {
          "name": "stderr",
          "output_type": "stream",
          "text": [
            "\n",
            "\u001b[A\n",
            "\u001b[A\n",
            "\n"
          ]
        },
        {
          "name": "stdout",
          "output_type": "stream",
          "text": [
            "[Sanity] step 1065: gen mean=-0.2755, std=0.6720, probe_RMSE=0.055734\n"
          ]
        },
        {
          "name": "stderr",
          "output_type": "stream",
          "text": [
            "iter:  71%|███████▏  | 1069/1500 [01:26<00:32, 13.09it/s]\u001b[A\u001b[A\n",
            "\u001b[A\n",
            "\u001b[A"
          ]
        },
        {
          "name": "stdout",
          "output_type": "stream",
          "text": [
            "[Sanity] step 1070: gen mean=-0.3011, std=0.6573, probe_RMSE=0.058334\n"
          ]
        },
        {
          "name": "stderr",
          "output_type": "stream",
          "text": [
            "\n",
            "\u001b[A\n",
            "\u001b[A"
          ]
        },
        {
          "name": "stdout",
          "output_type": "stream",
          "text": [
            "[Sanity] step 1075: gen mean=-0.3397, std=0.6418, probe_RMSE=0.059064\n"
          ]
        },
        {
          "name": "stderr",
          "output_type": "stream",
          "text": [
            "\n",
            "\u001b[A\n",
            "\u001b[A\n",
            "\u001b[A"
          ]
        },
        {
          "name": "stdout",
          "output_type": "stream",
          "text": [
            "[Sanity] step 1080: gen mean=-0.3661, std=0.6286, probe_RMSE=0.048084\n"
          ]
        },
        {
          "name": "stderr",
          "output_type": "stream",
          "text": [
            "\n",
            "\u001b[A\n",
            "\u001b[A"
          ]
        },
        {
          "name": "stdout",
          "output_type": "stream",
          "text": [
            "[Sanity] step 1085: gen mean=-0.3804, std=0.6240, probe_RMSE=0.040342\n"
          ]
        },
        {
          "name": "stderr",
          "output_type": "stream",
          "text": [
            "\n",
            "\u001b[A\n",
            "\u001b[A\n",
            "\u001b[A"
          ]
        },
        {
          "name": "stdout",
          "output_type": "stream",
          "text": [
            "[Sanity] step 1090: gen mean=-0.3975, std=0.6171, probe_RMSE=0.042831\n"
          ]
        },
        {
          "name": "stderr",
          "output_type": "stream",
          "text": [
            "\n",
            "\u001b[A\n",
            "\u001b[A"
          ]
        },
        {
          "name": "stdout",
          "output_type": "stream",
          "text": [
            "[Sanity] step 1095: gen mean=-0.4101, std=0.6181, probe_RMSE=0.039000\n"
          ]
        },
        {
          "name": "stderr",
          "output_type": "stream",
          "text": [
            "\n",
            "\u001b[A\n",
            "\u001b[A\n",
            "\u001b[A"
          ]
        },
        {
          "name": "stdout",
          "output_type": "stream",
          "text": [
            "[Sanity] step 1100: gen mean=-0.4249, std=0.6150, probe_RMSE=0.036396\n"
          ]
        },
        {
          "name": "stderr",
          "output_type": "stream",
          "text": [
            "\n",
            "\u001b[A\n",
            "\u001b[A"
          ]
        },
        {
          "name": "stdout",
          "output_type": "stream",
          "text": [
            "[Sanity] step 1105: gen mean=-0.4248, std=0.6238, probe_RMSE=0.030080\n"
          ]
        },
        {
          "name": "stderr",
          "output_type": "stream",
          "text": [
            "\n",
            "\u001b[A\n",
            "\u001b[A\n",
            "\u001b[A"
          ]
        },
        {
          "name": "stdout",
          "output_type": "stream",
          "text": [
            "[Sanity] step 1110: gen mean=-0.4038, std=0.6458, probe_RMSE=0.045456\n"
          ]
        },
        {
          "name": "stderr",
          "output_type": "stream",
          "text": [
            "\n",
            "\u001b[A\n",
            "\u001b[A"
          ]
        },
        {
          "name": "stdout",
          "output_type": "stream",
          "text": [
            "[Sanity] step 1115: gen mean=-0.3729, std=0.6744, probe_RMSE=0.054202\n"
          ]
        },
        {
          "name": "stderr",
          "output_type": "stream",
          "text": [
            "\n",
            "\u001b[A\n",
            "\u001b[A\n",
            "\u001b[A"
          ]
        },
        {
          "name": "stdout",
          "output_type": "stream",
          "text": [
            "[Sanity] step 1120: gen mean=-0.3363, std=0.7012, probe_RMSE=0.066013\n"
          ]
        },
        {
          "name": "stderr",
          "output_type": "stream",
          "text": [
            "\n",
            "\u001b[A\n",
            "\u001b[A"
          ]
        },
        {
          "name": "stdout",
          "output_type": "stream",
          "text": [
            "[Sanity] step 1125: gen mean=-0.3170, std=0.7310, probe_RMSE=0.065795\n"
          ]
        },
        {
          "name": "stderr",
          "output_type": "stream",
          "text": [
            "\n",
            "\u001b[A\n",
            "\u001b[A\n",
            "\u001b[A"
          ]
        },
        {
          "name": "stdout",
          "output_type": "stream",
          "text": [
            "[Sanity] step 1130: gen mean=-0.2779, std=0.7513, probe_RMSE=0.060143\n"
          ]
        },
        {
          "name": "stderr",
          "output_type": "stream",
          "text": [
            "\n",
            "\u001b[A\n",
            "\u001b[A"
          ]
        },
        {
          "name": "stdout",
          "output_type": "stream",
          "text": [
            "[Sanity] step 1135: gen mean=-0.2895, std=0.7459, probe_RMSE=0.057474\n"
          ]
        },
        {
          "name": "stderr",
          "output_type": "stream",
          "text": [
            "\n",
            "\u001b[A\n",
            "\u001b[A\n",
            "\u001b[A"
          ]
        },
        {
          "name": "stdout",
          "output_type": "stream",
          "text": [
            "[Sanity] step 1140: gen mean=-0.2920, std=0.7292, probe_RMSE=0.062540\n"
          ]
        },
        {
          "name": "stderr",
          "output_type": "stream",
          "text": [
            "\n",
            "\u001b[A\n",
            "\u001b[A"
          ]
        },
        {
          "name": "stdout",
          "output_type": "stream",
          "text": [
            "[Sanity] step 1145: gen mean=-0.2937, std=0.7204, probe_RMSE=0.060807\n"
          ]
        },
        {
          "name": "stderr",
          "output_type": "stream",
          "text": [
            "\n",
            "\u001b[A\n",
            "\u001b[A\n",
            "\u001b[A"
          ]
        },
        {
          "name": "stdout",
          "output_type": "stream",
          "text": [
            "[Sanity] step 1150: gen mean=-0.3004, std=0.7101, probe_RMSE=0.059205\n"
          ]
        },
        {
          "name": "stderr",
          "output_type": "stream",
          "text": [
            "\n",
            "\u001b[A\n",
            "\u001b[A"
          ]
        },
        {
          "name": "stdout",
          "output_type": "stream",
          "text": [
            "[Sanity] step 1155: gen mean=-0.3215, std=0.6978, probe_RMSE=0.052934\n"
          ]
        },
        {
          "name": "stderr",
          "output_type": "stream",
          "text": [
            "\n",
            "\u001b[A\n",
            "\u001b[A\n",
            "\u001b[A"
          ]
        },
        {
          "name": "stdout",
          "output_type": "stream",
          "text": [
            "[Sanity] step 1160: gen mean=-0.3454, std=0.6800, probe_RMSE=0.053882\n"
          ]
        },
        {
          "name": "stderr",
          "output_type": "stream",
          "text": [
            "\n",
            "\u001b[A\n",
            "\u001b[A"
          ]
        },
        {
          "name": "stdout",
          "output_type": "stream",
          "text": [
            "[Sanity] step 1165: gen mean=-0.3641, std=0.6667, probe_RMSE=0.044869\n"
          ]
        },
        {
          "name": "stderr",
          "output_type": "stream",
          "text": [
            "\n",
            "\u001b[A\n",
            "\u001b[A\n",
            "\u001b[A"
          ]
        },
        {
          "name": "stdout",
          "output_type": "stream",
          "text": [
            "[Sanity] step 1170: gen mean=-0.3639, std=0.6714, probe_RMSE=0.033009\n"
          ]
        },
        {
          "name": "stderr",
          "output_type": "stream",
          "text": [
            "\n",
            "\u001b[A\n",
            "\u001b[A"
          ]
        },
        {
          "name": "stdout",
          "output_type": "stream",
          "text": [
            "[Sanity] step 1175: gen mean=-0.3691, std=0.6640, probe_RMSE=0.025578\n"
          ]
        },
        {
          "name": "stderr",
          "output_type": "stream",
          "text": [
            "\n",
            "\u001b[A\n",
            "\u001b[A\n",
            "\u001b[A"
          ]
        },
        {
          "name": "stdout",
          "output_type": "stream",
          "text": [
            "[Sanity] step 1180: gen mean=-0.3720, std=0.6662, probe_RMSE=0.027513\n"
          ]
        },
        {
          "name": "stderr",
          "output_type": "stream",
          "text": [
            "\n",
            "\u001b[A\n",
            "\u001b[A"
          ]
        },
        {
          "name": "stdout",
          "output_type": "stream",
          "text": [
            "[Sanity] step 1185: gen mean=-0.3679, std=0.6741, probe_RMSE=0.034547\n"
          ]
        },
        {
          "name": "stderr",
          "output_type": "stream",
          "text": [
            "\n",
            "\u001b[A\n",
            "\u001b[A\n",
            "\u001b[A"
          ]
        },
        {
          "name": "stdout",
          "output_type": "stream",
          "text": [
            "[Sanity] step 1190: gen mean=-0.3706, std=0.6704, probe_RMSE=0.048221\n"
          ]
        },
        {
          "name": "stderr",
          "output_type": "stream",
          "text": [
            "\n",
            "\u001b[A\n",
            "\u001b[A"
          ]
        },
        {
          "name": "stdout",
          "output_type": "stream",
          "text": [
            "[Sanity] step 1195: gen mean=-0.3620, std=0.6796, probe_RMSE=0.036683\n"
          ]
        },
        {
          "name": "stderr",
          "output_type": "stream",
          "text": [
            "\n",
            "\u001b[A\n",
            "\u001b[A\n",
            "\u001b[A"
          ]
        },
        {
          "name": "stdout",
          "output_type": "stream",
          "text": [
            "[Sanity] step 1200: gen mean=-0.3515, std=0.6898, probe_RMSE=0.044234\n"
          ]
        },
        {
          "name": "stderr",
          "output_type": "stream",
          "text": [
            "\n",
            "\u001b[A\n",
            "\u001b[A"
          ]
        },
        {
          "name": "stdout",
          "output_type": "stream",
          "text": [
            "[Sanity] step 1205: gen mean=-0.3312, std=0.6994, probe_RMSE=0.055301\n"
          ]
        },
        {
          "name": "stderr",
          "output_type": "stream",
          "text": [
            "\n",
            "\u001b[A\n",
            "\u001b[A\n",
            "\u001b[A"
          ]
        },
        {
          "name": "stdout",
          "output_type": "stream",
          "text": [
            "[Sanity] step 1210: gen mean=-0.3149, std=0.7043, probe_RMSE=0.052275\n"
          ]
        },
        {
          "name": "stderr",
          "output_type": "stream",
          "text": [
            "\n",
            "\u001b[A\n",
            "\u001b[A"
          ]
        },
        {
          "name": "stdout",
          "output_type": "stream",
          "text": [
            "[Sanity] step 1215: gen mean=-0.3016, std=0.7226, probe_RMSE=0.055924\n"
          ]
        },
        {
          "name": "stderr",
          "output_type": "stream",
          "text": [
            "\n",
            "\u001b[A\n",
            "\u001b[A\n",
            "\u001b[A"
          ]
        },
        {
          "name": "stdout",
          "output_type": "stream",
          "text": [
            "[Sanity] step 1220: gen mean=-0.2779, std=0.7314, probe_RMSE=0.054785\n"
          ]
        },
        {
          "name": "stderr",
          "output_type": "stream",
          "text": [
            "\n",
            "\u001b[A\n",
            "\u001b[A"
          ]
        },
        {
          "name": "stdout",
          "output_type": "stream",
          "text": [
            "[Sanity] step 1225: gen mean=-0.2804, std=0.7502, probe_RMSE=0.050471\n"
          ]
        },
        {
          "name": "stderr",
          "output_type": "stream",
          "text": [
            "\n",
            "\u001b[A\n",
            "\u001b[A\n",
            "\u001b[A"
          ]
        },
        {
          "name": "stdout",
          "output_type": "stream",
          "text": [
            "[Sanity] step 1230: gen mean=-0.2670, std=0.7472, probe_RMSE=0.052733\n"
          ]
        },
        {
          "name": "stderr",
          "output_type": "stream",
          "text": [
            "\n",
            "\u001b[A\n",
            "\u001b[A"
          ]
        },
        {
          "name": "stdout",
          "output_type": "stream",
          "text": [
            "[Sanity] step 1235: gen mean=-0.2902, std=0.7318, probe_RMSE=0.049265\n"
          ]
        },
        {
          "name": "stderr",
          "output_type": "stream",
          "text": [
            "\n",
            "\u001b[A\n",
            "\u001b[A\n",
            "\u001b[A"
          ]
        },
        {
          "name": "stdout",
          "output_type": "stream",
          "text": [
            "[Sanity] step 1240: gen mean=-0.2901, std=0.7290, probe_RMSE=0.045531\n"
          ]
        },
        {
          "name": "stderr",
          "output_type": "stream",
          "text": [
            "\n",
            "\u001b[A\n",
            "\u001b[A"
          ]
        },
        {
          "name": "stdout",
          "output_type": "stream",
          "text": [
            "[Sanity] step 1245: gen mean=-0.3448, std=0.6760, probe_RMSE=0.094547\n"
          ]
        },
        {
          "name": "stderr",
          "output_type": "stream",
          "text": [
            "\n",
            "\u001b[A\n",
            "\u001b[A\n",
            "\u001b[A"
          ]
        },
        {
          "name": "stdout",
          "output_type": "stream",
          "text": [
            "[Sanity] step 1250: gen mean=-0.3740, std=0.6409, probe_RMSE=0.055885\n"
          ]
        },
        {
          "name": "stderr",
          "output_type": "stream",
          "text": [
            "\n",
            "\u001b[A\n",
            "\u001b[A"
          ]
        },
        {
          "name": "stdout",
          "output_type": "stream",
          "text": [
            "[Sanity] step 1255: gen mean=-0.4020, std=0.6218, probe_RMSE=0.049951\n"
          ]
        },
        {
          "name": "stderr",
          "output_type": "stream",
          "text": [
            "\n",
            "\u001b[A\n",
            "\u001b[A\n",
            "\u001b[A"
          ]
        },
        {
          "name": "stdout",
          "output_type": "stream",
          "text": [
            "[Sanity] step 1260: gen mean=-0.4357, std=0.5959, probe_RMSE=0.044510\n"
          ]
        },
        {
          "name": "stderr",
          "output_type": "stream",
          "text": [
            "\n",
            "\u001b[A\n",
            "\u001b[A"
          ]
        },
        {
          "name": "stdout",
          "output_type": "stream",
          "text": [
            "[Sanity] step 1265: gen mean=-0.4420, std=0.5953, probe_RMSE=0.032184\n"
          ]
        },
        {
          "name": "stderr",
          "output_type": "stream",
          "text": [
            "\n",
            "\u001b[A\n",
            "\u001b[A\n",
            "\u001b[A"
          ]
        },
        {
          "name": "stdout",
          "output_type": "stream",
          "text": [
            "[Sanity] step 1270: gen mean=-0.4216, std=0.6101, probe_RMSE=0.046922\n"
          ]
        },
        {
          "name": "stderr",
          "output_type": "stream",
          "text": [
            "\n",
            "\u001b[A\n",
            "\u001b[A"
          ]
        },
        {
          "name": "stdout",
          "output_type": "stream",
          "text": [
            "[Sanity] step 1275: gen mean=-0.4044, std=0.6325, probe_RMSE=0.047092\n"
          ]
        },
        {
          "name": "stderr",
          "output_type": "stream",
          "text": [
            "\n",
            "\u001b[A\n",
            "\u001b[A\n",
            "\u001b[A"
          ]
        },
        {
          "name": "stdout",
          "output_type": "stream",
          "text": [
            "[Sanity] step 1280: gen mean=-0.3861, std=0.6460, probe_RMSE=0.033987\n"
          ]
        },
        {
          "name": "stderr",
          "output_type": "stream",
          "text": [
            "\n",
            "\u001b[A\n",
            "\u001b[A"
          ]
        },
        {
          "name": "stdout",
          "output_type": "stream",
          "text": [
            "[Sanity] step 1285: gen mean=-0.3809, std=0.6567, probe_RMSE=0.032422\n"
          ]
        },
        {
          "name": "stderr",
          "output_type": "stream",
          "text": [
            "\n",
            "\u001b[A\n",
            "\u001b[A\n",
            "\u001b[A"
          ]
        },
        {
          "name": "stdout",
          "output_type": "stream",
          "text": [
            "[Sanity] step 1290: gen mean=-0.3723, std=0.6620, probe_RMSE=0.040468\n"
          ]
        },
        {
          "name": "stderr",
          "output_type": "stream",
          "text": [
            "\n",
            "\u001b[A\n",
            "\u001b[A"
          ]
        },
        {
          "name": "stdout",
          "output_type": "stream",
          "text": [
            "[Sanity] step 1295: gen mean=-0.3586, std=0.6661, probe_RMSE=0.028711\n"
          ]
        },
        {
          "name": "stderr",
          "output_type": "stream",
          "text": [
            "\n",
            "\u001b[A\n",
            "\u001b[A\n",
            "\u001b[A"
          ]
        },
        {
          "name": "stdout",
          "output_type": "stream",
          "text": [
            "[Sanity] step 1300: gen mean=-0.3748, std=0.6622, probe_RMSE=0.029085\n"
          ]
        },
        {
          "name": "stderr",
          "output_type": "stream",
          "text": [
            "\n",
            "\u001b[A\n",
            "\u001b[A"
          ]
        },
        {
          "name": "stdout",
          "output_type": "stream",
          "text": [
            "[Sanity] step 1305: gen mean=-0.3863, std=0.6421, probe_RMSE=0.033144\n"
          ]
        },
        {
          "name": "stderr",
          "output_type": "stream",
          "text": [
            "\n",
            "\u001b[A\n",
            "\u001b[A\n",
            "\u001b[A"
          ]
        },
        {
          "name": "stdout",
          "output_type": "stream",
          "text": [
            "[Sanity] step 1310: gen mean=-0.3916, std=0.6412, probe_RMSE=0.031285\n"
          ]
        },
        {
          "name": "stderr",
          "output_type": "stream",
          "text": [
            "\n",
            "\u001b[A\n",
            "\u001b[A"
          ]
        },
        {
          "name": "stdout",
          "output_type": "stream",
          "text": [
            "[Sanity] step 1315: gen mean=-0.4043, std=0.6301, probe_RMSE=0.033043\n"
          ]
        },
        {
          "name": "stderr",
          "output_type": "stream",
          "text": [
            "\n",
            "\u001b[A\n",
            "\u001b[A\n",
            "\u001b[A"
          ]
        },
        {
          "name": "stdout",
          "output_type": "stream",
          "text": [
            "[Sanity] step 1320: gen mean=-0.4192, std=0.6175, probe_RMSE=0.036252\n"
          ]
        },
        {
          "name": "stderr",
          "output_type": "stream",
          "text": [
            "\n",
            "\u001b[A\n",
            "\u001b[A"
          ]
        },
        {
          "name": "stdout",
          "output_type": "stream",
          "text": [
            "[Sanity] step 1325: gen mean=-0.4237, std=0.6132, probe_RMSE=0.032473\n"
          ]
        },
        {
          "name": "stderr",
          "output_type": "stream",
          "text": [
            "\n",
            "\u001b[A\n",
            "\u001b[A\n",
            "\u001b[A"
          ]
        },
        {
          "name": "stdout",
          "output_type": "stream",
          "text": [
            "[Sanity] step 1330: gen mean=-0.3958, std=0.6336, probe_RMSE=0.057194\n"
          ]
        },
        {
          "name": "stderr",
          "output_type": "stream",
          "text": [
            "\n",
            "\u001b[A\n",
            "\u001b[A"
          ]
        },
        {
          "name": "stdout",
          "output_type": "stream",
          "text": [
            "[Sanity] step 1335: gen mean=-0.3705, std=0.6460, probe_RMSE=0.045496\n"
          ]
        },
        {
          "name": "stderr",
          "output_type": "stream",
          "text": [
            "\n",
            "\u001b[A\n",
            "\u001b[A\n",
            "\u001b[A"
          ]
        },
        {
          "name": "stdout",
          "output_type": "stream",
          "text": [
            "[Sanity] step 1340: gen mean=-0.3346, std=0.6835, probe_RMSE=0.069671\n"
          ]
        },
        {
          "name": "stderr",
          "output_type": "stream",
          "text": [
            "\n",
            "\u001b[A\n",
            "\u001b[A"
          ]
        },
        {
          "name": "stdout",
          "output_type": "stream",
          "text": [
            "[Sanity] step 1345: gen mean=-0.2938, std=0.7020, probe_RMSE=0.068629\n"
          ]
        },
        {
          "name": "stderr",
          "output_type": "stream",
          "text": [
            "\n",
            "\u001b[A\n",
            "\u001b[A\n",
            "\u001b[A"
          ]
        },
        {
          "name": "stdout",
          "output_type": "stream",
          "text": [
            "[Sanity] step 1350: gen mean=-0.2615, std=0.7201, probe_RMSE=0.070447\n"
          ]
        },
        {
          "name": "stderr",
          "output_type": "stream",
          "text": [
            "\n",
            "\u001b[A\n",
            "\u001b[A"
          ]
        },
        {
          "name": "stdout",
          "output_type": "stream",
          "text": [
            "[Sanity] step 1355: gen mean=-0.2503, std=0.7326, probe_RMSE=0.051774\n"
          ]
        },
        {
          "name": "stderr",
          "output_type": "stream",
          "text": [
            "\n",
            "\u001b[A\n",
            "\u001b[A\n",
            "\u001b[A"
          ]
        },
        {
          "name": "stdout",
          "output_type": "stream",
          "text": [
            "[Sanity] step 1360: gen mean=-0.2592, std=0.7143, probe_RMSE=0.052346\n"
          ]
        },
        {
          "name": "stderr",
          "output_type": "stream",
          "text": [
            "\n",
            "\u001b[A\n",
            "\u001b[A"
          ]
        },
        {
          "name": "stdout",
          "output_type": "stream",
          "text": [
            "[Sanity] step 1365: gen mean=-0.2772, std=0.7070, probe_RMSE=0.046163\n"
          ]
        },
        {
          "name": "stderr",
          "output_type": "stream",
          "text": [
            "\n",
            "\u001b[A\n",
            "\u001b[A\n",
            "\u001b[A"
          ]
        },
        {
          "name": "stdout",
          "output_type": "stream",
          "text": [
            "[Sanity] step 1370: gen mean=-0.2812, std=0.7034, probe_RMSE=0.039233\n"
          ]
        },
        {
          "name": "stderr",
          "output_type": "stream",
          "text": [
            "\n",
            "\u001b[A\n",
            "\u001b[A"
          ]
        },
        {
          "name": "stdout",
          "output_type": "stream",
          "text": [
            "[Sanity] step 1375: gen mean=-0.3091, std=0.6899, probe_RMSE=0.055512\n"
          ]
        },
        {
          "name": "stderr",
          "output_type": "stream",
          "text": [
            "\n",
            "\u001b[A\n",
            "\u001b[A\n",
            "\u001b[A"
          ]
        },
        {
          "name": "stdout",
          "output_type": "stream",
          "text": [
            "[Sanity] step 1380: gen mean=-0.3291, std=0.6787, probe_RMSE=0.045006\n"
          ]
        },
        {
          "name": "stderr",
          "output_type": "stream",
          "text": [
            "\n",
            "\u001b[A\n",
            "\u001b[A"
          ]
        },
        {
          "name": "stdout",
          "output_type": "stream",
          "text": [
            "[Sanity] step 1385: gen mean=-0.3456, std=0.6759, probe_RMSE=0.044056\n"
          ]
        },
        {
          "name": "stderr",
          "output_type": "stream",
          "text": [
            "\n",
            "\u001b[A\n",
            "\u001b[A\n",
            "\u001b[A"
          ]
        },
        {
          "name": "stdout",
          "output_type": "stream",
          "text": [
            "[Sanity] step 1390: gen mean=-0.3777, std=0.6582, probe_RMSE=0.038792\n"
          ]
        },
        {
          "name": "stderr",
          "output_type": "stream",
          "text": [
            "\n",
            "\u001b[A\n",
            "\u001b[A"
          ]
        },
        {
          "name": "stdout",
          "output_type": "stream",
          "text": [
            "[Sanity] step 1395: gen mean=-0.3937, std=0.6477, probe_RMSE=0.041513\n"
          ]
        },
        {
          "name": "stderr",
          "output_type": "stream",
          "text": [
            "\n",
            "\u001b[A\n",
            "\u001b[A\n",
            "\u001b[A"
          ]
        },
        {
          "name": "stdout",
          "output_type": "stream",
          "text": [
            "[Sanity] step 1400: gen mean=-0.3976, std=0.6331, probe_RMSE=0.031550\n"
          ]
        },
        {
          "name": "stderr",
          "output_type": "stream",
          "text": [
            "\n",
            "\u001b[A\n",
            "\u001b[A"
          ]
        },
        {
          "name": "stdout",
          "output_type": "stream",
          "text": [
            "[Sanity] step 1405: gen mean=-0.3998, std=0.6390, probe_RMSE=0.030119\n"
          ]
        },
        {
          "name": "stderr",
          "output_type": "stream",
          "text": [
            "\n",
            "\u001b[A\n",
            "\u001b[A\n",
            "\u001b[A"
          ]
        },
        {
          "name": "stdout",
          "output_type": "stream",
          "text": [
            "[Sanity] step 1410: gen mean=-0.3854, std=0.6566, probe_RMSE=0.046672\n"
          ]
        },
        {
          "name": "stderr",
          "output_type": "stream",
          "text": [
            "\n",
            "\u001b[A\n",
            "\u001b[A"
          ]
        },
        {
          "name": "stdout",
          "output_type": "stream",
          "text": [
            "[Sanity] step 1415: gen mean=-0.3519, std=0.6747, probe_RMSE=0.051649\n"
          ]
        },
        {
          "name": "stderr",
          "output_type": "stream",
          "text": [
            "\n",
            "\u001b[A\n",
            "\u001b[A\n",
            "\u001b[A"
          ]
        },
        {
          "name": "stdout",
          "output_type": "stream",
          "text": [
            "[Sanity] step 1420: gen mean=-0.3312, std=0.6824, probe_RMSE=0.046227\n"
          ]
        },
        {
          "name": "stderr",
          "output_type": "stream",
          "text": [
            "\n",
            "\u001b[A\n",
            "\u001b[A"
          ]
        },
        {
          "name": "stdout",
          "output_type": "stream",
          "text": [
            "[Sanity] step 1425: gen mean=-0.3130, std=0.6869, probe_RMSE=0.042455\n"
          ]
        },
        {
          "name": "stderr",
          "output_type": "stream",
          "text": [
            "\n",
            "\u001b[A\n",
            "\u001b[A\n",
            "\u001b[A"
          ]
        },
        {
          "name": "stdout",
          "output_type": "stream",
          "text": [
            "[Sanity] step 1430: gen mean=-0.3053, std=0.6860, probe_RMSE=0.036355\n"
          ]
        },
        {
          "name": "stderr",
          "output_type": "stream",
          "text": [
            "\n",
            "\u001b[A\n",
            "\u001b[A"
          ]
        },
        {
          "name": "stdout",
          "output_type": "stream",
          "text": [
            "[Sanity] step 1435: gen mean=-0.2913, std=0.6830, probe_RMSE=0.044635\n"
          ]
        },
        {
          "name": "stderr",
          "output_type": "stream",
          "text": [
            "\n",
            "\u001b[A\n",
            "\u001b[A\n",
            "\u001b[A"
          ]
        },
        {
          "name": "stdout",
          "output_type": "stream",
          "text": [
            "[Sanity] step 1440: gen mean=-0.3032, std=0.6559, probe_RMSE=0.053656\n"
          ]
        },
        {
          "name": "stderr",
          "output_type": "stream",
          "text": [
            "\n",
            "\u001b[A\n",
            "\u001b[A"
          ]
        },
        {
          "name": "stdout",
          "output_type": "stream",
          "text": [
            "[Sanity] step 1445: gen mean=-0.3363, std=0.6381, probe_RMSE=0.047775\n"
          ]
        },
        {
          "name": "stderr",
          "output_type": "stream",
          "text": [
            "\n",
            "\u001b[A\n",
            "\u001b[A\n",
            "\u001b[A"
          ]
        },
        {
          "name": "stdout",
          "output_type": "stream",
          "text": [
            "[Sanity] step 1450: gen mean=-0.3600, std=0.6115, probe_RMSE=0.049295\n"
          ]
        },
        {
          "name": "stderr",
          "output_type": "stream",
          "text": [
            "\n",
            "\u001b[A\n",
            "\u001b[A"
          ]
        },
        {
          "name": "stdout",
          "output_type": "stream",
          "text": [
            "[Sanity] step 1455: gen mean=-0.3721, std=0.6013, probe_RMSE=0.047841\n"
          ]
        },
        {
          "name": "stderr",
          "output_type": "stream",
          "text": [
            "\n",
            "\u001b[A\n",
            "\u001b[A\n",
            "\u001b[A"
          ]
        },
        {
          "name": "stdout",
          "output_type": "stream",
          "text": [
            "[Sanity] step 1460: gen mean=-0.3969, std=0.5957, probe_RMSE=0.039729\n"
          ]
        },
        {
          "name": "stderr",
          "output_type": "stream",
          "text": [
            "\n",
            "\u001b[A\n",
            "\u001b[A"
          ]
        },
        {
          "name": "stdout",
          "output_type": "stream",
          "text": [
            "[Sanity] step 1465: gen mean=-0.3926, std=0.6032, probe_RMSE=0.038287\n"
          ]
        },
        {
          "name": "stderr",
          "output_type": "stream",
          "text": [
            "\n",
            "\u001b[A\n",
            "\u001b[A\n",
            "\u001b[A"
          ]
        },
        {
          "name": "stdout",
          "output_type": "stream",
          "text": [
            "[Sanity] step 1470: gen mean=-0.3792, std=0.6300, probe_RMSE=0.057445\n"
          ]
        },
        {
          "name": "stderr",
          "output_type": "stream",
          "text": [
            "\n",
            "\u001b[A\n",
            "\u001b[A"
          ]
        },
        {
          "name": "stdout",
          "output_type": "stream",
          "text": [
            "[Sanity] step 1475: gen mean=-0.3506, std=0.6576, probe_RMSE=0.055244\n"
          ]
        },
        {
          "name": "stderr",
          "output_type": "stream",
          "text": [
            "\n",
            "\u001b[A\n",
            "\u001b[A\n",
            "\u001b[A"
          ]
        },
        {
          "name": "stdout",
          "output_type": "stream",
          "text": [
            "[Sanity] step 1480: gen mean=-0.3637, std=0.6554, probe_RMSE=0.036422\n"
          ]
        },
        {
          "name": "stderr",
          "output_type": "stream",
          "text": [
            "\n",
            "\u001b[A\n",
            "\u001b[A"
          ]
        },
        {
          "name": "stdout",
          "output_type": "stream",
          "text": [
            "[Sanity] step 1485: gen mean=-0.3578, std=0.6637, probe_RMSE=0.040611\n"
          ]
        },
        {
          "name": "stderr",
          "output_type": "stream",
          "text": [
            "\n",
            "\u001b[A\n",
            "\u001b[A\n",
            "\n"
          ]
        },
        {
          "name": "stdout",
          "output_type": "stream",
          "text": [
            "[Sanity] step 1490: gen mean=-0.3380, std=0.6879, probe_RMSE=0.052637\n"
          ]
        },
        {
          "name": "stderr",
          "output_type": "stream",
          "text": [
            "iter: 100%|█████████▉| 1493/1500 [02:01<00:00, 11.41it/s]\u001b[A\u001b[A\n",
            "\u001b[A\n",
            "\u001b[A"
          ]
        },
        {
          "name": "stdout",
          "output_type": "stream",
          "text": [
            "[Sanity] step 1495: gen mean=-0.3227, std=0.6988, probe_RMSE=0.047653\n"
          ]
        },
        {
          "name": "stderr",
          "output_type": "stream",
          "text": [
            "\n",
            "\u001b[A\n",
            "                                                      "
          ]
        },
        {
          "name": "stdout",
          "output_type": "stream",
          "text": [
            "[Sanity] Steps with non-zero G gradients: 1500/1500\n"
          ]
        },
        {
          "name": "stderr",
          "output_type": "stream",
          "text": [
            "\r"
          ]
        }
      ],
      "source": [
        "path = \"./ideal_merlin_1/\"\n",
        "if os.path.isdir(path):\n",
        "    shutil.rmtree(path)\n",
        "os.makedirs(path, exist_ok=True)\n",
        "\n",
        "for config_num, config in enumerate(tqdm(config_grid, desc=\"config\", position=0, leave=False)):\n",
        "    config_path = os.path.join(path, f\"config_{config_num}\")\n",
        "    if os.path.isdir(config_path):\n",
        "        continue\n",
        "    os.makedirs(config_path, exist_ok=True)\n",
        "\n",
        "    with open(os.path.join(config_path, \"config.json\"), \"w\") as f:\n",
        "        f.write(json.dumps(config))\n",
        "\n",
        "    gen_arch = config[\"arch\"]\n",
        "    noise_dim = config[\"noise_dim\"]\n",
        "    input_state = config[\"input_state\"]\n",
        "    pnr = config[\"pnr\"]\n",
        "    gen_count = config[\"gen_count\"]\n",
        "\n",
        "    run_num = 0\n",
        "    for _ in tqdm(range(1000), desc=\"run\", position=1, leave=False):\n",
        "        if run_num == runs:\n",
        "            break\n",
        "        run_num += 1\n",
        "\n",
        "        save_path = os.path.join(config_path, f\"run_{run_num}\")\n",
        "        os.makedirs(save_path, exist_ok=True)\n",
        "        try:\n",
        "            qgan = QGAN(\n",
        "                image_size,\n",
        "                gen_count,\n",
        "                gen_arch,\n",
        "                input_state,      # kept for signature; Merlin ignores\n",
        "                noise_dim,\n",
        "                batch_size,\n",
        "                pnr,\n",
        "                lossy,\n",
        "            )\n",
        "            D_loss_progress, G_loss_progress, G_params_progress, fake_data_progress = qgan.fit(\n",
        "                tqdm(dataloader, desc=\"iter\", position=2, leave=False),\n",
        "                lrD,\n",
        "                opt_params,\n",
        "                silent=True,\n",
        "            )\n",
        "\n",
        "            # Save results (same filenames as original, new parent dir)\n",
        "            # fake_progress: take per-step batch means (64-dim)\n",
        "            fake_rows = []\n",
        "            for step_array in fake_data_progress:\n",
        "                # step_array: (B, 64)\n",
        "                arr = np.array(step_array)\n",
        "                if arr.ndim == 2 and arr.shape[1] == 64:\n",
        "                    fake_rows.append(arr.mean(axis=0))\n",
        "                else:\n",
        "                    fake_rows.append(np.zeros(64, dtype=np.float32))\n",
        "            fake_rows = np.vstack(fake_rows)\n",
        "            np.savetxt(os.path.join(save_path, \"fake_progress.csv\"), fake_rows, delimiter=\",\")\n",
        "\n",
        "            np.savetxt(\n",
        "                os.path.join(save_path, \"loss_progress.csv\"),\n",
        "                np.array([D_loss_progress, G_loss_progress]).T,\n",
        "                delimiter=\",\",\n",
        "                header=\"D_loss, G_loss\",\n",
        "            )\n",
        "\n",
        "            # Save generator parameter snapshots\n",
        "            # store as object array to avoid huge files\n",
        "            G_params_array = np.array(G_params_progress, dtype=object)\n",
        "            np.save(os.path.join(save_path, \"G_params_progress.npy\"), G_params_array)\n",
        "\n",
        "        except Exception as exc:\n",
        "            print(\"[Merlin-QGAN] Error:\", exc)\n",
        "            shutil.rmtree(save_path)\n",
        "            run_num -= 1\n",
        "\n",
        "if __name__ == \"__main__\":\n",
        "    pass"
      ]
    },
    {
      "cell_type": "code",
      "execution_count": 10,
      "metadata": {},
      "outputs": [],
      "source": [
        "from torchvision.transforms.functional import pil_to_tensor\n",
        "import matplotlib.pyplot as plt\n",
        "from PIL import ImageEnhance, Image\n",
        "import re\n",
        "import numpy as np\n",
        "import os"
      ]
    },
    {
      "cell_type": "code",
      "execution_count": 56,
      "metadata": {},
      "outputs": [
        {
          "data": {
            "image/png": "[encoded data removed]",
            "text/plain": [
              "<Figure size 600x600 with 25 Axes>"
            ]
          },
          "metadata": {},
          "output_type": "display_data"
        }
      ],
      "source": [
        "dataset = DigitsDataset(\n",
        "    csv_file=\"D:\\helpers\\optdigits_csv (1).csv\",\n",
        "    label=0,\n",
        "    transform=transforms.Compose([transforms.ToTensor()]),\n",
        ")\n",
        "sampler = RandomSampler(dataset, replacement=True, num_samples=25)\n",
        "dataloader = torch.utils.data.DataLoader(\n",
        "    dataset, batch_size=1, drop_last=True, sampler=sampler\n",
        ")\n",
        "\n",
        "ax = plt.figure(figsize=(6, 6))\n",
        "for index, image in enumerate(iter(dataloader)):\n",
        "    plt.subplot(5, 5, index +   1)\n",
        "    plt.imshow(image[0][0][0], cmap=\"gray\")\n",
        "    plt.axis(\"off\")"
      ]
    },
    {
      "cell_type": "code",
      "execution_count": 133,
      "metadata": {},
      "outputs": [],
      "source": [
        "def get_archstring(arch):\n",
        "    return \"\".join([re.sub(r'[0-9]|\\]|\\[', '', s) for s in arch.copy()])\n",
        "\n",
        "architectures = [\n",
        "        [\"var\", \"enc[2]\", \"var\"],\n",
        "        [\"var\", \"var\", \"enc[2]\", \"var\", \"var\"],\n",
        "        [\"var\", \"enc[1]\", \"var\", \"enc[3]\", \"var\"],\n",
        "        [\"var\", \"var\", \"enc[1]\", \"var\", \"var\", \"enc[3]\", \"var\", \"var\"],\n",
        "        [\"var\", \"enc[0]\", \"var\", \"enc[2]\", \"var\", \"enc[4]\", \"var\"],\n",
        "        [\"var\", \"enc[1]\", \"var\", \"enc[3]\", \"var\", \"enc[5]\", \"var\", \"enc[7]\", \"var\"],\n",
        "]\n",
        "archstrings = [get_archstring(s) for s in architectures]"
      ]
    },
    {
      "cell_type": "code",
      "execution_count": 134,
      "metadata": {},
      "outputs": [],
      "source": [
        "def plot_loss(loss_in, ax):\n",
        "    \n",
        "    arr = np.asarray(loss_in)\n",
        "    ax.clear()\n",
        "\n",
        "    if arr.size == 0:\n",
        "        ax.text(0.5, 0.5, \"No loss data\", ha=\"center\", va=\"center\", transform=ax.transAxes)\n",
        "        ax.set_title(\"Loss Evolution\"); ax.set_xlabel(\"Iteration\"); ax.set_ylabel(\"Loss Value\")\n",
        "        return\n",
        "\n",
        "    if arr.ndim == 2:  # (steps,2)\n",
        "        D = arr[:, 0] / 2.0\n",
        "        G = arr[:, 1]\n",
        "        ax.plot(D, label=\"D Loss\")\n",
        "        ax.plot(G, label=\"G Loss\")\n",
        "    elif arr.ndim == 3:  # (runs,steps,2)\n",
        "        D = arr[:, :, 0] / 2.0\n",
        "        G = arr[:, :, 1]\n",
        "        ax.plot(D.T, alpha=0.15, lw=1)\n",
        "        ax.plot(G.T, alpha=0.15, lw=1)\n",
        "        ax.plot(D.mean(axis=0), label=\"D Loss (mean)\", lw=2)\n",
        "        ax.plot(G.mean(axis=0), label=\"G Loss (mean)\", lw=2)\n",
        "    else:\n",
        "        ax.text(0.5, 0.5, f\"Unexpected loss shape: {arr.shape}\", ha=\"center\", va=\"center\", transform=ax.transAxes)\n",
        "\n",
        "    ax.set_title(\"Loss Evolution\")\n",
        "    ax.set_xlabel(\"Iteration\"); ax.set_ylabel(\"Loss Value\"); ax.legend()"
      ]
    },
    {
      "cell_type": "code",
      "execution_count": 135,
      "metadata": {},
      "outputs": [],
      "source": [
        "def _autocontrast_row(v, eps=1e-6, tol=5e-3):\n",
        "    x = np.asarray(v, dtype=np.float32)\n",
        "    x = np.nan_to_num(x, nan=0.0, posinf=1.0, neginf=0.0)\n",
        "    # light squash if clearly outside [0,1]\n",
        "    if x.min() < 0.0 or x.max() > 1.0:\n",
        "        x = 1.0 / (1.0 + np.exp(-x))\n",
        "    x_min, x_max = float(x.min()), float(x.max())\n",
        "    span = x_max - x_min\n",
        "    if span >= tol:\n",
        "        y = (x - x_min) / max(span, eps)\n",
        "    else:\n",
        "        xc  = x - x.mean()\n",
        "        std = float(xc.std())\n",
        "        y   = (xc / max(std, eps)) * 0.15 + 0.5\n",
        "    return np.clip(y, 0.0, 1.0)\n",
        "\n",
        "def _autocontrast_rows(arr):\n",
        "    if arr.size == 0: return arr\n",
        "    return np.stack([_autocontrast_row(r) for r in np.asarray(arr)], axis=0)\n",
        "\n",
        "def _render_from_fake(fake_arr, axes):\n",
        "    if fake_arr is None or fake_arr.size == 0 or len(axes) == 0:\n",
        "        for ax in axes: ax.axis(\"off\")\n",
        "        return\n",
        "    arr = np.asarray(fake_arr)\n",
        "    if arr.ndim != 2:\n",
        "        arr = arr.reshape(-1, arr.shape[-1])\n",
        "    steps, pixels = arr.shape\n",
        "    k = len(axes)\n",
        "    idxs = np.linspace(max(1, steps // 3), steps, num=k, endpoint=True, dtype=int) - 1\n",
        "    idxs = np.clip(np.unique(idxs), 0, steps - 1)\n",
        "    if len(idxs) < k:\n",
        "        idxs = np.pad(idxs, (0, k - len(idxs)), mode=\"edge\")\n",
        "    for ax, t in zip(axes, idxs):\n",
        "        img = _autocontrast_row(arr[t])\n",
        "        img8 = np.clip(img * 255.0, 0, 255).astype(np.uint8).reshape(8, 8)\n",
        "        ax.imshow(img8, cmap=\"gray\"); ax.axis(\"off\")"
      ]
    },
    {
      "cell_type": "code",
      "execution_count": 137,
      "metadata": {},
      "outputs": [],
      "source": [
        "\n",
        "\n",
        "def plot_progress(fake_runs, axes):\n",
        " \n",
        "    arr = np.asarray(fake_runs)\n",
        "\n",
        "    # clear axes\n",
        "    for ax in axes:\n",
        "        ax.clear()\n",
        "        ax.axis(\"off\")\n",
        "\n",
        "    if arr.size == 0 or len(axes) == 0:\n",
        "        return\n",
        "\n",
        "    # unify to (runs, steps, pixels)\n",
        "    if arr.ndim == 2:          # single run\n",
        "        arr = arr[None, ...]   # -> (1, steps, pixels)\n",
        "    elif arr.ndim != 3:\n",
        "        axes[0].text(0.5, 0.5, f\"Unexpected shape: {arr.shape}\",\n",
        "                     ha=\"center\", va=\"center\", transform=axes[0].transAxes)\n",
        "        return\n",
        "\n",
        "    runs, steps, pixels = arr.shape\n",
        "\n",
        "    \n",
        "    if steps >= 4:\n",
        "        chunks = [arr[:, i::4, :] for i in range(4)]              # list of (runs, ceil(steps/4), pixels)\n",
        "        fake_mean = np.mean(np.mean(np.array(chunks), axis=0), axis=0)  # -> (ceil(steps/4), pixels)\n",
        "    else:\n",
        "        fake_mean = arr.mean(axis=0)  # (steps, pixels)\n",
        "\n",
        "    steps2 = fake_mean.shape[0]\n",
        "    k = len(axes)\n",
        "\n",
        "    \n",
        "    idxs = np.linspace(1, steps2, num=k, endpoint=True, dtype=int) - 1\n",
        "    idxs = np.clip(np.unique(idxs), 0, steps2 - 1)\n",
        "    if len(idxs) < k:  # pad if uniq collapsed\n",
        "        idxs = np.pad(idxs, (0, k - len(idxs)), mode=\"edge\")\n",
        "\n",
        "    for ax, t in zip(axes, idxs):\n",
        "        img = _autocontrast_row(fake_mean[t])  # (pixels,) in [0,1]\n",
        "        img8 = np.clip(img * 255.0, 0, 255).astype(np.uint8).reshape(8, 8)\n",
        "        ax.imshow(img8, cmap=\"gray\")\n",
        "        ax.set_title(f\"Iter {t}\", fontsize=10)\n",
        "        ax.axis(\"off\")\n",
        "\n",
        "    # row title\n",
        "    axes[0].text(0.0, 1.10, \"Image Evolution\",\n",
        "                 transform=axes[0].transAxes, ha=\"left\", va=\"bottom\", fontsize=12)\n",
        "\n",
        "\n"
      ]
    },
    {
      "cell_type": "code",
      "execution_count": 138,
      "metadata": {},
      "outputs": [],
      "source": [
        "def plot_results(params_runs, config, axes, best_run=None):\n",
        "    \n",
        "    if not axes:\n",
        "        return\n",
        "    for ax in axes:\n",
        "        ax.clear(); ax.axis(\"off\")\n",
        "\n",
        "    if not params_runs:\n",
        "        axes[0].set_title(\"Generated Images\", fontsize=14, pad=10)\n",
        "        return\n",
        "\n",
        "    qgan = QGAN(\n",
        "        image_size=8,\n",
        "        gen_count=config[\"gen_count\"],\n",
        "        gen_arch=config[\"arch\"],\n",
        "        input_state=pcvl.BasicState(config[\"input_state\"]),\n",
        "        noise_dim=config[\"noise_dim\"],\n",
        "        batch_size=4,\n",
        "        pnr=config[\"pnr\"],\n",
        "        lossy=False,\n",
        "    )\n",
        "    qgan.G.eval()\n",
        "\n",
        "    def _apply_params_to_G(vec):\n",
        "        if hasattr(qgan.G, \"update_var_params\"):\n",
        "            qgan.G.update_var_params(vec)\n",
        "            return True\n",
        "        # Try to push into each sublayer.theta if lengths match\n",
        "        if hasattr(qgan.G, \"layers\"):\n",
        "            thetas = [getattr(L, \"theta\", None) for L in qgan.G.layers]\n",
        "            flat_thetas = [t.view(-1) for t in thetas if isinstance(t, torch.Tensor)]\n",
        "            total = sum(t.numel() for t in flat_thetas)\n",
        "            v = torch.as_tensor(vec, dtype=torch.float32, device=qgan.device)\n",
        "            if v.numel() == total:\n",
        "                offset = 0\n",
        "                for t in thetas:\n",
        "                    if isinstance(t, torch.Tensor):\n",
        "                        n = t.numel()\n",
        "                        t.data.copy_(v[offset:offset+n].view_as(t))\n",
        "                        offset += n\n",
        "                return True\n",
        "        return False\n",
        "\n",
        "    # --- Generate samples for each run\n",
        "    device = qgan.device\n",
        "    num_axes = len(axes)\n",
        "    final_results = []  # list of (num_axes, 64)\n",
        "    for params in params_runs:\n",
        "        p = np.asarray(params)\n",
        "        p = p[-1] if p.ndim == 2 else p  # last snapshot if (T,P)\n",
        "\n",
        "        _apply_params_to_G(p)\n",
        "\n",
        "        # New noise per axis for diversity\n",
        "        z = torch.randn(num_axes, qgan.latent_dim, device=device)\n",
        "        with torch.no_grad():\n",
        "            # G returns (-1,1); map to [0,1] for display\n",
        "            out = qgan.G(z)                                # (N, 64) in (-1,1)\n",
        "            out01 = ((out + 1.0) * 0.5).clamp(0.0, 1.0)    # [0,1]\n",
        "            final_results.append(out01.cpu().numpy())\n",
        "\n",
        "    final_arr = np.stack(final_results, axis=0)  # (runs, num_axes, 64)\n",
        "\n",
        "    # --- Choose what to show per axis\n",
        "    rng = np.random.default_rng()\n",
        "    for i, ax in enumerate(axes):\n",
        "        if best_run is not None and 0 <= best_run < final_arr.shape[0]:\n",
        "            run_idx = best_run\n",
        "        else:\n",
        "            # pick a different run per axis (no averaging → more variety)\n",
        "            run_idx = rng.integers(0, final_arr.shape[0])\n",
        "        image_flat = final_arr[run_idx, i, :]  # (64,)\n",
        "        img = (np.clip(image_flat, 0.0, 1.0) * 255.0).astype(np.uint8).reshape(8, 8)\n",
        "        ax.imshow(img, cmap=\"gray\", vmin=0, vmax=255)\n",
        "        ax.axis(\"off\")\n",
        "\n",
        "    axes[0].set_title(\"Generated Images\", fontsize=14, pad=10)\n"
      ]
    },
    {
      "cell_type": "code",
      "execution_count": 120,
      "metadata": {},
      "outputs": [],
      "source": [
        "from numpy.random import default_rng"
      ]
    },
    {
      "cell_type": "code",
      "execution_count": 139,
      "metadata": {},
      "outputs": [
        {
          "name": "stdout",
          "output_type": "stream",
          "text": [
            "varencvar\n"
          ]
        },
        {
          "data": {
            "image/png": "[encoded data removed]",
            "text/plain": [
              "<Figure size 1500x400 with 11 Axes>"
            ]
          },
          "metadata": {},
          "output_type": "display_data"
        },
        {
          "name": "stdout",
          "output_type": "stream",
          "text": [
            "varvarencvarvar\n"
          ]
        },
        {
          "data": {
            "image/png": "[encoded data removed]",
            "text/plain": [
              "<Figure size 1500x400 with 11 Axes>"
            ]
          },
          "metadata": {},
          "output_type": "display_data"
        },
        {
          "name": "stdout",
          "output_type": "stream",
          "text": [
            "varencvarencvar\n"
          ]
        },
        {
          "data": {
            "image/png": "[encoded data removed]",
            "text/plain": [
              "<Figure size 1500x400 with 11 Axes>"
            ]
          },
          "metadata": {},
          "output_type": "display_data"
        },
        {
          "name": "stdout",
          "output_type": "stream",
          "text": [
            "varvarencvarvarencvarvar\n",
            "varencvarencvarencvar\n",
            "varencvarencvarencvarencvar\n"
          ]
        }
      ],
      "source": [
        "#RUN = 1  # fixed\n",
        "\n",
        "for archstring in archstrings:\n",
        "    print(archstring)\n",
        "    for config_num in range(3):\n",
        "        config_path = os.path.join(path, f\"config_{config_num}\")\n",
        "        with open(os.path.join(config_path, \"config.json\")) as c:\n",
        "            config = json.load(c)\n",
        "\n",
        "        if get_archstring(config[\"arch\"]) != archstring:\n",
        "            continue\n",
        "\n",
        "        full_path   = os.path.join(path, f\"config_{config_num}\", f\"run_{RUN}\")\n",
        "        loss_file   = os.path.join(full_path, \"loss_progress.csv\")\n",
        "        fake_file   = os.path.join(full_path, \"fake_progress.csv\")\n",
        "        params_file = os.path.join(full_path, \"G_params_progress.csv\")\n",
        "\n",
        "        loss_data   = np.loadtxt(loss_file, delimiter=\",\", skiprows=1) if os.path.exists(loss_file) else np.empty((0,))\n",
        "        fake_data   = np.loadtxt(fake_file, delimiter=\",\")            if os.path.exists(fake_file) else np.empty((0,))\n",
        "        params_data = np.loadtxt(params_file, delimiter=\",\")          if os.path.exists(params_file) else None\n",
        "\n",
        "        fig = plt.figure(figsize=(15, 4))\n",
        "        gs = fig.add_gridspec(2, 12)\n",
        "        loss_ax   = fig.add_subplot(gs[:, :5])\n",
        "        prog_axes = [fig.add_subplot(gs[0, 5+i]) for i in range(5)]\n",
        "        res_axes  = [fig.add_subplot(gs[1, 5+i]) for i in range(5)]\n",
        "\n",
        "        # loss: pass 2D if single run; otherwise stack if you ever add more runs\n",
        "        plot_loss(loss_data, loss_ax)\n",
        "\n",
        "        # progress: expects 2D (steps,pixels) or 3D; we have 2D for run=1\n",
        "        plot_progress(fake_data, prog_axes)\n",
        "\n",
        "        # generated images\n",
        "        params_list = [params_data] if params_data is not None else []\n",
        "        plot_results(params_list, config, res_axes, best_run=0 if params_list else None)\n",
        "\n",
        "        n_params = (params_data.shape[-1]) if params_data is not None else 0\n",
        "        configinfo = (\n",
        "            f\"Input={pcvl.BasicState(config['input_state'])}, PNR={config['pnr']}\\n\"\n",
        "            f\"Subgenerators={config['gen_count']}, Params={n_params}\"\n",
        "        )\n",
        "        loss_ax.text(\n",
        "            x=0.995, y=1.04, s=configinfo, ha=\"right\",\n",
        "            bbox=dict(boxstyle='square, pad=0.2', facecolor='white', alpha=0.5),\n",
        "            transform=loss_ax.transAxes, fontsize=12\n",
        "        )\n",
        "\n",
        "        plt.subplots_adjust(hspace=0.4)\n",
        "\n",
        "    plt.show()\n",
        "\n"
      ]
    },
    {
      "cell_type": "code",
      "execution_count": 140,
      "metadata": {},
      "outputs": [
        {
          "name": "stdout",
          "output_type": "stream",
          "text": [
            "varencvar\n"
          ]
        },
        {
          "data": {
            "image/png": "[encoded data removed]",
            "text/plain": [
              "<Figure size 1500x400 with 11 Axes>"
            ]
          },
          "metadata": {},
          "output_type": "display_data"
        },
        {
          "name": "stdout",
          "output_type": "stream",
          "text": [
            "varvarencvarvar\n"
          ]
        },
        {
          "data": {
            "image/png": "[encoded data removed]",
            "text/plain": [
              "<Figure size 1500x400 with 11 Axes>"
            ]
          },
          "metadata": {},
          "output_type": "display_data"
        },
        {
          "name": "stdout",
          "output_type": "stream",
          "text": [
            "varencvarencvar\n"
          ]
        },
        {
          "data": {
            "image/png": "[encoded data removed]",
            "text/plain": [
              "<Figure size 1500x400 with 11 Axes>"
            ]
          },
          "metadata": {},
          "output_type": "display_data"
        },
        {
          "name": "stdout",
          "output_type": "stream",
          "text": [
            "varvarencvarvarencvarvar\n",
            "varencvarencvarencvar\n",
            "varencvarencvarencvarencvar\n"
          ]
        }
      ],
      "source": [
        "RUN = 1  # fixed\n",
        "\n",
        "for archstring in archstrings:\n",
        "    print(archstring)\n",
        "    for config_num in range(3):\n",
        "        config_path = os.path.join(path, f\"config_{config_num}\")\n",
        "        with open(os.path.join(config_path, \"config.json\")) as c:\n",
        "            config = json.load(c)\n",
        "\n",
        "        if get_archstring(config[\"arch\"]) != archstring:\n",
        "            continue\n",
        "\n",
        "        full_path   = os.path.join(path, f\"config_{config_num}\", f\"run_{RUN}\")\n",
        "        loss_file   = os.path.join(full_path, \"loss_progress.csv\")\n",
        "        fake_file   = os.path.join(full_path, \"fake_progress.csv\")\n",
        "        params_file = os.path.join(full_path, \"G_params_progress.csv\")\n",
        "\n",
        "        # --- load (single run) ---\n",
        "        loss_data   = np.loadtxt(loss_file, delimiter=\",\", skiprows=1) if os.path.exists(loss_file) else np.empty((0, 2))\n",
        "        fake_data   = np.loadtxt(fake_file, delimiter=\",\")            if os.path.exists(fake_file) else np.empty((0, 64))\n",
        "        params_data = np.loadtxt(params_file, delimiter=\",\")          if os.path.exists(params_file) else None\n",
        "\n",
        "        # --- normalize shapes defensively ---\n",
        "        if loss_data.ndim == 1 and loss_data.size >= 2:\n",
        "            loss_data = loss_data[None, :]  # (1,2)\n",
        "\n",
        "        if fake_data.ndim == 1:\n",
        "            fake_data = fake_data[None, :]\n",
        "        # force to 64 pixels (8x8) when possible\n",
        "        if fake_data.size and fake_data.shape[1] != 64 and (fake_data.size % 64 == 0):\n",
        "            steps = fake_data.shape[0]\n",
        "            fake_data = fake_data.reshape(steps, -1)[:, :64]\n",
        "\n",
        "        if params_data is not None and params_data.ndim == 1:\n",
        "            params_data = params_data[None, :]  # (1,P)\n",
        "\n",
        "        # --- figure & axes ---\n",
        "        fig = plt.figure(figsize=(15, 4))\n",
        "        gs = fig.add_gridspec(2, 12)\n",
        "        loss_ax   = fig.add_subplot(gs[:, :5])\n",
        "        prog_axes = [fig.add_subplot(gs[0, 5+i]) for i in range(5)]\n",
        "        res_axes  = [fig.add_subplot(gs[1, 5+i]) for i in range(5)]\n",
        "\n",
        "        # loss: pass 2D for single run\n",
        "        plot_loss(loss_data, loss_ax)\n",
        "\n",
        "        # progress: auto-contrast frames before plotting so they aren't black\n",
        "        ac_fake = _autocontrast_rows(fake_data) if fake_data.size else fake_data\n",
        "        plot_progress(ac_fake, prog_axes)\n",
        "\n",
        "        # generated images:\n",
        "        params_list = [params_data] if params_data is not None else []\n",
        "        if params_list and params_list[0] is not None and params_list[0].size:\n",
        "            # try your original plot_results first (if it regenerates from params)\n",
        "            try:\n",
        "                plot_results(params_list, config, res_axes, best_run=0)\n",
        "            except Exception:\n",
        "                # fallback to saved fakes if regeneration fails\n",
        "                _render_from_fake(ac_fake, res_axes)\n",
        "        else:\n",
        "            # no params saved (Params=0) -> show saved fakes (auto-contrasted)\n",
        "            _render_from_fake(ac_fake, res_axes)\n",
        "\n",
        "        n_params = (params_data.shape[-1]) if params_data is not None else 0\n",
        "        configinfo = (\n",
        "            f\"Input={pcvl.BasicState(config['input_state'])}, PNR={config['pnr']}\\n\"\n",
        "            f\"Subgenerators={config['gen_count']}, Params={n_params}\"\n",
        "        )\n",
        "        loss_ax.text(\n",
        "            x=0.995, y=1.04, s=configinfo, ha=\"right\",\n",
        "            bbox=dict(boxstyle='square, pad=0.2', facecolor='white', alpha=0.5),\n",
        "            transform=loss_ax.transAxes, fontsize=12\n",
        "        )\n",
        "\n",
        "        plt.subplots_adjust(hspace=0.4)\n",
        "\n",
        "    plt.show()"
      ]
    },
    {
      "cell_type": "code",
      "execution_count": 109,
      "metadata": {},
      "outputs": [],
      "source": [
        "def plot_loss(loss_data, ax):\n",
        "    D_loss = loss_data[:, 0] / 2\n",
        "    G_loss = loss_data[:, 1]\n",
        "    ax.plot(D_loss, label=\"D Loss\")\n",
        "    ax.plot(G_loss, label=\"G Loss\")\n",
        "    ax.set_title(\"Loss Evolution\")\n",
        "    ax.set_xlabel(\"Iteration\")\n",
        "    ax.set_ylabel(\"Loss Value\")\n",
        "    ax.legend()"
      ]
    }
  ],
  "metadata": {
    "colab": {
      "provenance": []
    },
    "kernelspec": {
      "display_name": "Python 3",
      "name": "python3"
    },
    "language_info": {
      "codemirror_mode": {
        "name": "ipython",
        "version": 3
      },
      "file_extension": ".py",
      "mimetype": "text/x-python",
      "name": "python",
      "nbconvert_exporter": "python",
      "pygments_lexer": "ipython3",
      "version": "3.11.9"
    }
  },
  "nbformat": 4,
  "nbformat_minor": 0
}
